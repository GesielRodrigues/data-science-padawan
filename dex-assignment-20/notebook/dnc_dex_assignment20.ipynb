{
  "nbformat": 4,
  "nbformat_minor": 0,
  "metadata": {
    "colab": {
      "name": "dnc_dex_assignment20.ipynb",
      "provenance": [],
      "collapsed_sections": []
    },
    "kernelspec": {
      "name": "python3",
      "display_name": "Python 3"
    },
    "language_info": {
      "name": "python"
    },
    "accelerator": "GPU",
    "gpuClass": "standard"
  },
  "cells": [
    {
      "cell_type": "markdown",
      "source": [
        "# **[DNC] ASSIGNMENT 20 - CLASSIFICAÇÃO E RECOMENDAÇÃO**"
      ],
      "metadata": {
        "id": "EhG0TSD8hauI"
      }
    },
    {
      "cell_type": "markdown",
      "source": [
        "### **CONTEXTO:**\n",
        "\n",
        "O CEO da Amazon contratou um time de cientistas de dados\n",
        "para trabalhar em diferentes vertentes da empresa, e você\n",
        "ficou encarregado de fazer um sistema de recomendação para\n",
        "os clientes Amazon.\n",
        "\n",
        "Para isso, te deram acesso à uma base de\n",
        "dados não muito estruturada em **Json**: um arquivo de\n",
        "metadata com informações dos produtos e outro com as\n",
        "avaliações."
      ],
      "metadata": {
        "id": "MVXS-CYAhlge"
      }
    },
    {
      "cell_type": "markdown",
      "source": [
        "### **PROJETO:**\n",
        "O CEO deseja que seu algoritmo de recomendação seja exclusivamente em cima de avaliações verificadas (`verified=True`).\n",
        "\n",
        "Contudo, há uma base sem classificação a qual o CEO faz questão de que seja\n",
        "adicionada no sistema de recomendação (valores com missing value na coluna `verified`). Para isso, você precisará **classificar se estas avaliações são verificadas ou não**, e no caso positivo, adicioná-los no sistema de recomendação.\n",
        "\n",
        "Adicionalmente, o CEO também deseja saber de possíveis associações e/ou correlações nesta base de dados que você vai trabalhar.\n",
        "\n",
        "Desta forma, eis o que você deve fazer neste projeto:\n",
        "\n",
        "*   Carregar, limpar e fazer análises exploratórias no banco de dados fornecido;\n",
        "*   Classificar a base sem informação para incluir as observações\n",
        "das avaliações verificadas no sistema de recomendação;\n",
        "*   Desenvolver e entregar um sistema de recomendação, com\n",
        "exemplos de aplicação."
      ],
      "metadata": {
        "id": "P10cw6s6iQai"
      }
    },
    {
      "cell_type": "markdown",
      "source": [
        "# 1 - Importando as Bibliotecas"
      ],
      "metadata": {
        "id": "lXK5BhC6ValN"
      }
    },
    {
      "cell_type": "code",
      "metadata": {
        "id": "gpvdmxBgCW6J"
      },
      "source": [
        "import pandas as pd\n",
        "import numpy as np\n",
        "import random\n",
        "import matplotlib.pyplot as plt\n",
        "import seaborn as sns\n",
        "\n",
        "from sklearn.model_selection import train_test_split\n",
        "from sklearn.model_selection import GridSearchCV\n",
        "\n",
        "from sklearn.tree import DecisionTreeClassifier\n",
        "from sklearn.ensemble import RandomForestClassifier\n",
        "from sklearn.ensemble import GradientBoostingClassifier\n",
        "from xgboost import XGBClassifier\n",
        "\n",
        "from sklearn.metrics import accuracy_score, f1_score, recall_score, precision_score\n",
        "from sklearn.metrics.pairwise import cosine_similarity"
      ],
      "execution_count": 109,
      "outputs": []
    },
    {
      "cell_type": "code",
      "source": [
        "# Setando alguns parâmetros de leitura do pandas\n",
        "pd.set_option('display.max_columns', None)\n",
        "pd.set_option('display.precision', 3)\n",
        "\n",
        "# Setando alguns parámetros de exibição dos plots\n",
        "sns.set_theme(\n",
        "    context='talk', style='ticks', font_scale=0.8,\n",
        "    rc={\n",
        "        'figure.figsize': (12,8),\n",
        "        'axes.grid': True,\n",
        "        'grid.alpha': .2,\n",
        "        'axes.labelpad': 15,\n",
        "    }\n",
        ")"
      ],
      "metadata": {
        "id": "BCKr-XkdYV-c"
      },
      "execution_count": 2,
      "outputs": []
    },
    {
      "cell_type": "markdown",
      "source": [
        "# 2 - Carregando os dados"
      ],
      "metadata": {
        "id": "hA4JNXbIVcHl"
      }
    },
    {
      "cell_type": "markdown",
      "source": [
        "### 2.1 Download dos datasets do Google Drive"
      ],
      "metadata": {
        "id": "xOTYmzIdjPus"
      }
    },
    {
      "cell_type": "code",
      "source": [
        "!gdown --id '1RSFSKQx5dep63ds5ecD4Zgd-JBhtM-CZ'\n",
        "!gdown --id '18sYnyi1w-k7IWiY4dgpYZNRXwxO2oWYO'"
      ],
      "metadata": {
        "colab": {
          "base_uri": "https://localhost:8080/"
        },
        "id": "3n4akykzU03z",
        "outputId": "d484cfbc-a7d9-4d76-87b8-829e4d28c76c"
      },
      "execution_count": 3,
      "outputs": [
        {
          "output_type": "stream",
          "name": "stdout",
          "text": [
            "/usr/local/lib/python3.7/dist-packages/gdown/cli.py:131: FutureWarning: Option `--id` was deprecated in version 4.3.1 and will be removed in 5.0. You don't need to pass it anymore to use a file ID.\n",
            "  category=FutureWarning,\n",
            "Downloading...\n",
            "From: https://drive.google.com/uc?id=1RSFSKQx5dep63ds5ecD4Zgd-JBhtM-CZ\n",
            "To: /content/meta_Video_Games.json\n",
            "100% 243M/243M [00:02<00:00, 120MB/s]\n",
            "/usr/local/lib/python3.7/dist-packages/gdown/cli.py:131: FutureWarning: Option `--id` was deprecated in version 4.3.1 and will be removed in 5.0. You don't need to pass it anymore to use a file ID.\n",
            "  category=FutureWarning,\n",
            "Downloading...\n",
            "From: https://drive.google.com/uc?id=18sYnyi1w-k7IWiY4dgpYZNRXwxO2oWYO\n",
            "To: /content/Video_Games_sample.json\n",
            "100% 278M/278M [00:01<00:00, 154MB/s]\n"
          ]
        }
      ]
    },
    {
      "cell_type": "markdown",
      "source": [
        "### 2.2 Leitura dos datasets"
      ],
      "metadata": {
        "id": "haSHSp7xftrv"
      }
    },
    {
      "cell_type": "code",
      "source": [
        "# Carregando os datasets\n",
        "df_reviews = pd.read_json('/content/Video_Games_sample.json', lines=True)\n",
        "df_metadados = pd.read_json('/content/meta_Video_Games.json', lines=True)"
      ],
      "metadata": {
        "id": "UbrS69qZfbXf"
      },
      "execution_count": 4,
      "outputs": []
    },
    {
      "cell_type": "code",
      "source": [
        "df_reviews.shape"
      ],
      "metadata": {
        "colab": {
          "base_uri": "https://localhost:8080/"
        },
        "id": "Haur69c9hY3f",
        "outputId": "57afbdad-49a7-4562-b461-1e8655ed44b6"
      },
      "execution_count": 5,
      "outputs": [
        {
          "output_type": "execute_result",
          "data": {
            "text/plain": [
              "(453562, 12)"
            ]
          },
          "metadata": {},
          "execution_count": 5
        }
      ]
    },
    {
      "cell_type": "code",
      "source": [
        "df_reviews.info()"
      ],
      "metadata": {
        "colab": {
          "base_uri": "https://localhost:8080/"
        },
        "id": "HHIGcsMEWOYM",
        "outputId": "422cdfa4-0517-429f-c54e-18af2ef6aab2"
      },
      "execution_count": 6,
      "outputs": [
        {
          "output_type": "stream",
          "name": "stdout",
          "text": [
            "<class 'pandas.core.frame.DataFrame'>\n",
            "RangeIndex: 453562 entries, 0 to 453561\n",
            "Data columns (total 12 columns):\n",
            " #   Column          Non-Null Count   Dtype  \n",
            "---  ------          --------------   -----  \n",
            " 0   overall         453562 non-null  int64  \n",
            " 1   reviewTime      453562 non-null  object \n",
            " 2   reviewerID      453562 non-null  object \n",
            " 3   asin            453562 non-null  object \n",
            " 4   style           318160 non-null  object \n",
            " 5   reviewerName    453511 non-null  object \n",
            " 6   reviewText      453217 non-null  object \n",
            " 7   summary         453396 non-null  object \n",
            " 8   unixReviewTime  453562 non-null  int64  \n",
            " 9   verified        384546 non-null  float64\n",
            " 10  vote            57123 non-null   object \n",
            " 11  image           4651 non-null    object \n",
            "dtypes: float64(1), int64(2), object(9)\n",
            "memory usage: 41.5+ MB\n"
          ]
        }
      ]
    },
    {
      "cell_type": "code",
      "source": [
        "df_reviews.head(2)"
      ],
      "metadata": {
        "colab": {
          "base_uri": "https://localhost:8080/",
          "height": 208
        },
        "id": "pHcR3_rGhP8E",
        "outputId": "bca718cc-8a44-4ae4-ab2c-001965d1aff9"
      },
      "execution_count": 7,
      "outputs": [
        {
          "output_type": "execute_result",
          "data": {
            "text/plain": [
              "   overall  reviewTime      reviewerID        asin  \\\n",
              "0        1  01 2, 2018  A16FEXIKAPT24U  B00000JRSB   \n",
              "1        5  01 2, 2018  A3ISBEPYLY8IMO  B00000JRSB   \n",
              "\n",
              "                        style    reviewerName  \\\n",
              "0  {'Format:': ' Video Game'}  Nicholas Sabin   \n",
              "1  {'Format:': ' Video Game'}           Jimmy   \n",
              "\n",
              "                                          reviewText  \\\n",
              "0            Game disc was cracked thats pretty lame   \n",
              "1  Received this in perfect condition. Great rese...   \n",
              "\n",
              "                                             summary  unixReviewTime  \\\n",
              "0                            Game disc 1 was cracked      1514851200   \n",
              "1  Received this in perfect condition. Great rese...      1514851200   \n",
              "\n",
              "   verified vote image  \n",
              "0       NaN  NaN   NaN  \n",
              "1       1.0  NaN   NaN  "
            ],
            "text/html": [
              "\n",
              "  <div id=\"df-16fd6f91-64ef-4896-b38d-7bb0a8d419bd\">\n",
              "    <div class=\"colab-df-container\">\n",
              "      <div>\n",
              "<style scoped>\n",
              "    .dataframe tbody tr th:only-of-type {\n",
              "        vertical-align: middle;\n",
              "    }\n",
              "\n",
              "    .dataframe tbody tr th {\n",
              "        vertical-align: top;\n",
              "    }\n",
              "\n",
              "    .dataframe thead th {\n",
              "        text-align: right;\n",
              "    }\n",
              "</style>\n",
              "<table border=\"1\" class=\"dataframe\">\n",
              "  <thead>\n",
              "    <tr style=\"text-align: right;\">\n",
              "      <th></th>\n",
              "      <th>overall</th>\n",
              "      <th>reviewTime</th>\n",
              "      <th>reviewerID</th>\n",
              "      <th>asin</th>\n",
              "      <th>style</th>\n",
              "      <th>reviewerName</th>\n",
              "      <th>reviewText</th>\n",
              "      <th>summary</th>\n",
              "      <th>unixReviewTime</th>\n",
              "      <th>verified</th>\n",
              "      <th>vote</th>\n",
              "      <th>image</th>\n",
              "    </tr>\n",
              "  </thead>\n",
              "  <tbody>\n",
              "    <tr>\n",
              "      <th>0</th>\n",
              "      <td>1</td>\n",
              "      <td>01 2, 2018</td>\n",
              "      <td>A16FEXIKAPT24U</td>\n",
              "      <td>B00000JRSB</td>\n",
              "      <td>{'Format:': ' Video Game'}</td>\n",
              "      <td>Nicholas Sabin</td>\n",
              "      <td>Game disc was cracked thats pretty lame</td>\n",
              "      <td>Game disc 1 was cracked</td>\n",
              "      <td>1514851200</td>\n",
              "      <td>NaN</td>\n",
              "      <td>NaN</td>\n",
              "      <td>NaN</td>\n",
              "    </tr>\n",
              "    <tr>\n",
              "      <th>1</th>\n",
              "      <td>5</td>\n",
              "      <td>01 2, 2018</td>\n",
              "      <td>A3ISBEPYLY8IMO</td>\n",
              "      <td>B00000JRSB</td>\n",
              "      <td>{'Format:': ' Video Game'}</td>\n",
              "      <td>Jimmy</td>\n",
              "      <td>Received this in perfect condition. Great rese...</td>\n",
              "      <td>Received this in perfect condition. Great rese...</td>\n",
              "      <td>1514851200</td>\n",
              "      <td>1.0</td>\n",
              "      <td>NaN</td>\n",
              "      <td>NaN</td>\n",
              "    </tr>\n",
              "  </tbody>\n",
              "</table>\n",
              "</div>\n",
              "      <button class=\"colab-df-convert\" onclick=\"convertToInteractive('df-16fd6f91-64ef-4896-b38d-7bb0a8d419bd')\"\n",
              "              title=\"Convert this dataframe to an interactive table.\"\n",
              "              style=\"display:none;\">\n",
              "        \n",
              "  <svg xmlns=\"http://www.w3.org/2000/svg\" height=\"24px\"viewBox=\"0 0 24 24\"\n",
              "       width=\"24px\">\n",
              "    <path d=\"M0 0h24v24H0V0z\" fill=\"none\"/>\n",
              "    <path d=\"M18.56 5.44l.94 2.06.94-2.06 2.06-.94-2.06-.94-.94-2.06-.94 2.06-2.06.94zm-11 1L8.5 8.5l.94-2.06 2.06-.94-2.06-.94L8.5 2.5l-.94 2.06-2.06.94zm10 10l.94 2.06.94-2.06 2.06-.94-2.06-.94-.94-2.06-.94 2.06-2.06.94z\"/><path d=\"M17.41 7.96l-1.37-1.37c-.4-.4-.92-.59-1.43-.59-.52 0-1.04.2-1.43.59L10.3 9.45l-7.72 7.72c-.78.78-.78 2.05 0 2.83L4 21.41c.39.39.9.59 1.41.59.51 0 1.02-.2 1.41-.59l7.78-7.78 2.81-2.81c.8-.78.8-2.07 0-2.86zM5.41 20L4 18.59l7.72-7.72 1.47 1.35L5.41 20z\"/>\n",
              "  </svg>\n",
              "      </button>\n",
              "      \n",
              "  <style>\n",
              "    .colab-df-container {\n",
              "      display:flex;\n",
              "      flex-wrap:wrap;\n",
              "      gap: 12px;\n",
              "    }\n",
              "\n",
              "    .colab-df-convert {\n",
              "      background-color: #E8F0FE;\n",
              "      border: none;\n",
              "      border-radius: 50%;\n",
              "      cursor: pointer;\n",
              "      display: none;\n",
              "      fill: #1967D2;\n",
              "      height: 32px;\n",
              "      padding: 0 0 0 0;\n",
              "      width: 32px;\n",
              "    }\n",
              "\n",
              "    .colab-df-convert:hover {\n",
              "      background-color: #E2EBFA;\n",
              "      box-shadow: 0px 1px 2px rgba(60, 64, 67, 0.3), 0px 1px 3px 1px rgba(60, 64, 67, 0.15);\n",
              "      fill: #174EA6;\n",
              "    }\n",
              "\n",
              "    [theme=dark] .colab-df-convert {\n",
              "      background-color: #3B4455;\n",
              "      fill: #D2E3FC;\n",
              "    }\n",
              "\n",
              "    [theme=dark] .colab-df-convert:hover {\n",
              "      background-color: #434B5C;\n",
              "      box-shadow: 0px 1px 3px 1px rgba(0, 0, 0, 0.15);\n",
              "      filter: drop-shadow(0px 1px 2px rgba(0, 0, 0, 0.3));\n",
              "      fill: #FFFFFF;\n",
              "    }\n",
              "  </style>\n",
              "\n",
              "      <script>\n",
              "        const buttonEl =\n",
              "          document.querySelector('#df-16fd6f91-64ef-4896-b38d-7bb0a8d419bd button.colab-df-convert');\n",
              "        buttonEl.style.display =\n",
              "          google.colab.kernel.accessAllowed ? 'block' : 'none';\n",
              "\n",
              "        async function convertToInteractive(key) {\n",
              "          const element = document.querySelector('#df-16fd6f91-64ef-4896-b38d-7bb0a8d419bd');\n",
              "          const dataTable =\n",
              "            await google.colab.kernel.invokeFunction('convertToInteractive',\n",
              "                                                     [key], {});\n",
              "          if (!dataTable) return;\n",
              "\n",
              "          const docLinkHtml = 'Like what you see? Visit the ' +\n",
              "            '<a target=\"_blank\" href=https://colab.research.google.com/notebooks/data_table.ipynb>data table notebook</a>'\n",
              "            + ' to learn more about interactive tables.';\n",
              "          element.innerHTML = '';\n",
              "          dataTable['output_type'] = 'display_data';\n",
              "          await google.colab.output.renderOutput(dataTable, element);\n",
              "          const docLink = document.createElement('div');\n",
              "          docLink.innerHTML = docLinkHtml;\n",
              "          element.appendChild(docLink);\n",
              "        }\n",
              "      </script>\n",
              "    </div>\n",
              "  </div>\n",
              "  "
            ]
          },
          "metadata": {},
          "execution_count": 7
        }
      ]
    },
    {
      "cell_type": "code",
      "source": [
        "df_metadados.shape"
      ],
      "metadata": {
        "colab": {
          "base_uri": "https://localhost:8080/"
        },
        "id": "ecYvQC94WMSl",
        "outputId": "8d9e3f91-e770-44ab-cd30-779e2f8ee0dc"
      },
      "execution_count": 8,
      "outputs": [
        {
          "output_type": "execute_result",
          "data": {
            "text/plain": [
              "(84819, 19)"
            ]
          },
          "metadata": {},
          "execution_count": 8
        }
      ]
    },
    {
      "cell_type": "code",
      "source": [
        "df_metadados.info()"
      ],
      "metadata": {
        "colab": {
          "base_uri": "https://localhost:8080/"
        },
        "id": "cJ4HaGuoWRQS",
        "outputId": "32b8fa67-d3a5-4780-f231-47832743ad7b"
      },
      "execution_count": 9,
      "outputs": [
        {
          "output_type": "stream",
          "name": "stdout",
          "text": [
            "<class 'pandas.core.frame.DataFrame'>\n",
            "RangeIndex: 84819 entries, 0 to 84818\n",
            "Data columns (total 19 columns):\n",
            " #   Column           Non-Null Count  Dtype \n",
            "---  ------           --------------  ----- \n",
            " 0   category         84819 non-null  object\n",
            " 1   tech1            84819 non-null  object\n",
            " 2   description      84819 non-null  object\n",
            " 3   fit              84819 non-null  object\n",
            " 4   title            84819 non-null  object\n",
            " 5   also_buy         84819 non-null  object\n",
            " 6   tech2            84819 non-null  object\n",
            " 7   brand            84819 non-null  object\n",
            " 8   feature          84819 non-null  object\n",
            " 9   rank             84819 non-null  object\n",
            " 10  also_view        84819 non-null  object\n",
            " 11  main_cat         84819 non-null  object\n",
            " 12  similar_item     84819 non-null  object\n",
            " 13  date             84819 non-null  object\n",
            " 14  price            84819 non-null  object\n",
            " 15  asin             84819 non-null  object\n",
            " 16  imageURL         84819 non-null  object\n",
            " 17  imageURLHighRes  84819 non-null  object\n",
            " 18  details          84712 non-null  object\n",
            "dtypes: object(19)\n",
            "memory usage: 12.3+ MB\n"
          ]
        }
      ]
    },
    {
      "cell_type": "code",
      "source": [
        "df_metadados.head(2)"
      ],
      "metadata": {
        "colab": {
          "base_uri": "https://localhost:8080/",
          "height": 367
        },
        "id": "J99IDKsjhRXU",
        "outputId": "0518ff13-32ee-4a12-ab45-b1974c1fe511"
      },
      "execution_count": 10,
      "outputs": [
        {
          "output_type": "execute_result",
          "data": {
            "text/plain": [
              "                                            category tech1  \\\n",
              "0                           [Video Games, PC, Games]         \n",
              "1  [Video Games, Xbox 360, Games, </span></span><...         \n",
              "\n",
              "           description fit                                              title  \\\n",
              "0                   []                             Reversi Sensory Challenger   \n",
              "1  [Brand new sealed!]      Medal of Honor: Warfighter - Includes Battlefi...   \n",
              "\n",
              "       also_buy tech2                   brand feature  \\\n",
              "0            []          Fidelity Electronics      []   \n",
              "1  [B00PADROYW]        by\\n    \\n    EA Games      []   \n",
              "\n",
              "                                                rank  \\\n",
              "0  [>#2,623,937 in Toys &amp; Games (See Top 100 ...   \n",
              "1  [>#67,231 in Video Games (See Top 100 in Video...   \n",
              "\n",
              "                                           also_view          main_cat  \\\n",
              "0                                                 []  Toys &amp; Games   \n",
              "1  [B0050SY5BM, B072NQJCW5, B000TI836G, B002SRSQ7...       Video Games   \n",
              "\n",
              "  similar_item date                                              price  \\\n",
              "0                                                                        \n",
              "1                    \\n\\t\\t\\t\\t\\t\\t\\t\\t\\t\\t\\t\\t<span class=\"vertica...   \n",
              "\n",
              "         asin                                           imageURL  \\\n",
              "0  0042000742  [https://images-na.ssl-images-amazon.com/image...   \n",
              "1  0078764343  [https://images-na.ssl-images-amazon.com/image...   \n",
              "\n",
              "                                     imageURLHighRes details  \n",
              "0  [https://images-na.ssl-images-amazon.com/image...     NaN  \n",
              "1  [https://images-na.ssl-images-amazon.com/image...     NaN  "
            ],
            "text/html": [
              "\n",
              "  <div id=\"df-1317ca02-447d-47a2-b84a-e20dc3e4ebb9\">\n",
              "    <div class=\"colab-df-container\">\n",
              "      <div>\n",
              "<style scoped>\n",
              "    .dataframe tbody tr th:only-of-type {\n",
              "        vertical-align: middle;\n",
              "    }\n",
              "\n",
              "    .dataframe tbody tr th {\n",
              "        vertical-align: top;\n",
              "    }\n",
              "\n",
              "    .dataframe thead th {\n",
              "        text-align: right;\n",
              "    }\n",
              "</style>\n",
              "<table border=\"1\" class=\"dataframe\">\n",
              "  <thead>\n",
              "    <tr style=\"text-align: right;\">\n",
              "      <th></th>\n",
              "      <th>category</th>\n",
              "      <th>tech1</th>\n",
              "      <th>description</th>\n",
              "      <th>fit</th>\n",
              "      <th>title</th>\n",
              "      <th>also_buy</th>\n",
              "      <th>tech2</th>\n",
              "      <th>brand</th>\n",
              "      <th>feature</th>\n",
              "      <th>rank</th>\n",
              "      <th>also_view</th>\n",
              "      <th>main_cat</th>\n",
              "      <th>similar_item</th>\n",
              "      <th>date</th>\n",
              "      <th>price</th>\n",
              "      <th>asin</th>\n",
              "      <th>imageURL</th>\n",
              "      <th>imageURLHighRes</th>\n",
              "      <th>details</th>\n",
              "    </tr>\n",
              "  </thead>\n",
              "  <tbody>\n",
              "    <tr>\n",
              "      <th>0</th>\n",
              "      <td>[Video Games, PC, Games]</td>\n",
              "      <td></td>\n",
              "      <td>[]</td>\n",
              "      <td></td>\n",
              "      <td>Reversi Sensory Challenger</td>\n",
              "      <td>[]</td>\n",
              "      <td></td>\n",
              "      <td>Fidelity Electronics</td>\n",
              "      <td>[]</td>\n",
              "      <td>[&gt;#2,623,937 in Toys &amp;amp; Games (See Top 100 ...</td>\n",
              "      <td>[]</td>\n",
              "      <td>Toys &amp;amp; Games</td>\n",
              "      <td></td>\n",
              "      <td></td>\n",
              "      <td></td>\n",
              "      <td>0042000742</td>\n",
              "      <td>[https://images-na.ssl-images-amazon.com/image...</td>\n",
              "      <td>[https://images-na.ssl-images-amazon.com/image...</td>\n",
              "      <td>NaN</td>\n",
              "    </tr>\n",
              "    <tr>\n",
              "      <th>1</th>\n",
              "      <td>[Video Games, Xbox 360, Games, &lt;/span&gt;&lt;/span&gt;&lt;...</td>\n",
              "      <td></td>\n",
              "      <td>[Brand new sealed!]</td>\n",
              "      <td></td>\n",
              "      <td>Medal of Honor: Warfighter - Includes Battlefi...</td>\n",
              "      <td>[B00PADROYW]</td>\n",
              "      <td></td>\n",
              "      <td>by\\n    \\n    EA Games</td>\n",
              "      <td>[]</td>\n",
              "      <td>[&gt;#67,231 in Video Games (See Top 100 in Video...</td>\n",
              "      <td>[B0050SY5BM, B072NQJCW5, B000TI836G, B002SRSQ7...</td>\n",
              "      <td>Video Games</td>\n",
              "      <td></td>\n",
              "      <td></td>\n",
              "      <td>\\n\\t\\t\\t\\t\\t\\t\\t\\t\\t\\t\\t\\t&lt;span class=\"vertica...</td>\n",
              "      <td>0078764343</td>\n",
              "      <td>[https://images-na.ssl-images-amazon.com/image...</td>\n",
              "      <td>[https://images-na.ssl-images-amazon.com/image...</td>\n",
              "      <td>NaN</td>\n",
              "    </tr>\n",
              "  </tbody>\n",
              "</table>\n",
              "</div>\n",
              "      <button class=\"colab-df-convert\" onclick=\"convertToInteractive('df-1317ca02-447d-47a2-b84a-e20dc3e4ebb9')\"\n",
              "              title=\"Convert this dataframe to an interactive table.\"\n",
              "              style=\"display:none;\">\n",
              "        \n",
              "  <svg xmlns=\"http://www.w3.org/2000/svg\" height=\"24px\"viewBox=\"0 0 24 24\"\n",
              "       width=\"24px\">\n",
              "    <path d=\"M0 0h24v24H0V0z\" fill=\"none\"/>\n",
              "    <path d=\"M18.56 5.44l.94 2.06.94-2.06 2.06-.94-2.06-.94-.94-2.06-.94 2.06-2.06.94zm-11 1L8.5 8.5l.94-2.06 2.06-.94-2.06-.94L8.5 2.5l-.94 2.06-2.06.94zm10 10l.94 2.06.94-2.06 2.06-.94-2.06-.94-.94-2.06-.94 2.06-2.06.94z\"/><path d=\"M17.41 7.96l-1.37-1.37c-.4-.4-.92-.59-1.43-.59-.52 0-1.04.2-1.43.59L10.3 9.45l-7.72 7.72c-.78.78-.78 2.05 0 2.83L4 21.41c.39.39.9.59 1.41.59.51 0 1.02-.2 1.41-.59l7.78-7.78 2.81-2.81c.8-.78.8-2.07 0-2.86zM5.41 20L4 18.59l7.72-7.72 1.47 1.35L5.41 20z\"/>\n",
              "  </svg>\n",
              "      </button>\n",
              "      \n",
              "  <style>\n",
              "    .colab-df-container {\n",
              "      display:flex;\n",
              "      flex-wrap:wrap;\n",
              "      gap: 12px;\n",
              "    }\n",
              "\n",
              "    .colab-df-convert {\n",
              "      background-color: #E8F0FE;\n",
              "      border: none;\n",
              "      border-radius: 50%;\n",
              "      cursor: pointer;\n",
              "      display: none;\n",
              "      fill: #1967D2;\n",
              "      height: 32px;\n",
              "      padding: 0 0 0 0;\n",
              "      width: 32px;\n",
              "    }\n",
              "\n",
              "    .colab-df-convert:hover {\n",
              "      background-color: #E2EBFA;\n",
              "      box-shadow: 0px 1px 2px rgba(60, 64, 67, 0.3), 0px 1px 3px 1px rgba(60, 64, 67, 0.15);\n",
              "      fill: #174EA6;\n",
              "    }\n",
              "\n",
              "    [theme=dark] .colab-df-convert {\n",
              "      background-color: #3B4455;\n",
              "      fill: #D2E3FC;\n",
              "    }\n",
              "\n",
              "    [theme=dark] .colab-df-convert:hover {\n",
              "      background-color: #434B5C;\n",
              "      box-shadow: 0px 1px 3px 1px rgba(0, 0, 0, 0.15);\n",
              "      filter: drop-shadow(0px 1px 2px rgba(0, 0, 0, 0.3));\n",
              "      fill: #FFFFFF;\n",
              "    }\n",
              "  </style>\n",
              "\n",
              "      <script>\n",
              "        const buttonEl =\n",
              "          document.querySelector('#df-1317ca02-447d-47a2-b84a-e20dc3e4ebb9 button.colab-df-convert');\n",
              "        buttonEl.style.display =\n",
              "          google.colab.kernel.accessAllowed ? 'block' : 'none';\n",
              "\n",
              "        async function convertToInteractive(key) {\n",
              "          const element = document.querySelector('#df-1317ca02-447d-47a2-b84a-e20dc3e4ebb9');\n",
              "          const dataTable =\n",
              "            await google.colab.kernel.invokeFunction('convertToInteractive',\n",
              "                                                     [key], {});\n",
              "          if (!dataTable) return;\n",
              "\n",
              "          const docLinkHtml = 'Like what you see? Visit the ' +\n",
              "            '<a target=\"_blank\" href=https://colab.research.google.com/notebooks/data_table.ipynb>data table notebook</a>'\n",
              "            + ' to learn more about interactive tables.';\n",
              "          element.innerHTML = '';\n",
              "          dataTable['output_type'] = 'display_data';\n",
              "          await google.colab.output.renderOutput(dataTable, element);\n",
              "          const docLink = document.createElement('div');\n",
              "          docLink.innerHTML = docLinkHtml;\n",
              "          element.appendChild(docLink);\n",
              "        }\n",
              "      </script>\n",
              "    </div>\n",
              "  </div>\n",
              "  "
            ]
          },
          "metadata": {},
          "execution_count": 10
        }
      ]
    },
    {
      "cell_type": "markdown",
      "source": [
        "# 3 - Data Cleaning"
      ],
      "metadata": {
        "id": "q9rX41OFVkc2"
      }
    },
    {
      "cell_type": "markdown",
      "source": [
        "### 3.1 - Dataset com os dados de Reviews"
      ],
      "metadata": {
        "id": "u8RO1AWbl0Kr"
      }
    },
    {
      "cell_type": "code",
      "source": [
        "df_reviews.head(1)"
      ],
      "metadata": {
        "colab": {
          "base_uri": "https://localhost:8080/",
          "height": 142
        },
        "id": "EejyDaYqoCqu",
        "outputId": "a08d0ef5-43a0-4a9d-e39e-2ae194b6b701"
      },
      "execution_count": 11,
      "outputs": [
        {
          "output_type": "execute_result",
          "data": {
            "text/plain": [
              "   overall  reviewTime      reviewerID        asin  \\\n",
              "0        1  01 2, 2018  A16FEXIKAPT24U  B00000JRSB   \n",
              "\n",
              "                        style    reviewerName  \\\n",
              "0  {'Format:': ' Video Game'}  Nicholas Sabin   \n",
              "\n",
              "                                reviewText                  summary  \\\n",
              "0  Game disc was cracked thats pretty lame  Game disc 1 was cracked   \n",
              "\n",
              "   unixReviewTime  verified vote image  \n",
              "0      1514851200       NaN  NaN   NaN  "
            ],
            "text/html": [
              "\n",
              "  <div id=\"df-498ddb78-f5e5-404c-8e94-a3d525227d83\">\n",
              "    <div class=\"colab-df-container\">\n",
              "      <div>\n",
              "<style scoped>\n",
              "    .dataframe tbody tr th:only-of-type {\n",
              "        vertical-align: middle;\n",
              "    }\n",
              "\n",
              "    .dataframe tbody tr th {\n",
              "        vertical-align: top;\n",
              "    }\n",
              "\n",
              "    .dataframe thead th {\n",
              "        text-align: right;\n",
              "    }\n",
              "</style>\n",
              "<table border=\"1\" class=\"dataframe\">\n",
              "  <thead>\n",
              "    <tr style=\"text-align: right;\">\n",
              "      <th></th>\n",
              "      <th>overall</th>\n",
              "      <th>reviewTime</th>\n",
              "      <th>reviewerID</th>\n",
              "      <th>asin</th>\n",
              "      <th>style</th>\n",
              "      <th>reviewerName</th>\n",
              "      <th>reviewText</th>\n",
              "      <th>summary</th>\n",
              "      <th>unixReviewTime</th>\n",
              "      <th>verified</th>\n",
              "      <th>vote</th>\n",
              "      <th>image</th>\n",
              "    </tr>\n",
              "  </thead>\n",
              "  <tbody>\n",
              "    <tr>\n",
              "      <th>0</th>\n",
              "      <td>1</td>\n",
              "      <td>01 2, 2018</td>\n",
              "      <td>A16FEXIKAPT24U</td>\n",
              "      <td>B00000JRSB</td>\n",
              "      <td>{'Format:': ' Video Game'}</td>\n",
              "      <td>Nicholas Sabin</td>\n",
              "      <td>Game disc was cracked thats pretty lame</td>\n",
              "      <td>Game disc 1 was cracked</td>\n",
              "      <td>1514851200</td>\n",
              "      <td>NaN</td>\n",
              "      <td>NaN</td>\n",
              "      <td>NaN</td>\n",
              "    </tr>\n",
              "  </tbody>\n",
              "</table>\n",
              "</div>\n",
              "      <button class=\"colab-df-convert\" onclick=\"convertToInteractive('df-498ddb78-f5e5-404c-8e94-a3d525227d83')\"\n",
              "              title=\"Convert this dataframe to an interactive table.\"\n",
              "              style=\"display:none;\">\n",
              "        \n",
              "  <svg xmlns=\"http://www.w3.org/2000/svg\" height=\"24px\"viewBox=\"0 0 24 24\"\n",
              "       width=\"24px\">\n",
              "    <path d=\"M0 0h24v24H0V0z\" fill=\"none\"/>\n",
              "    <path d=\"M18.56 5.44l.94 2.06.94-2.06 2.06-.94-2.06-.94-.94-2.06-.94 2.06-2.06.94zm-11 1L8.5 8.5l.94-2.06 2.06-.94-2.06-.94L8.5 2.5l-.94 2.06-2.06.94zm10 10l.94 2.06.94-2.06 2.06-.94-2.06-.94-.94-2.06-.94 2.06-2.06.94z\"/><path d=\"M17.41 7.96l-1.37-1.37c-.4-.4-.92-.59-1.43-.59-.52 0-1.04.2-1.43.59L10.3 9.45l-7.72 7.72c-.78.78-.78 2.05 0 2.83L4 21.41c.39.39.9.59 1.41.59.51 0 1.02-.2 1.41-.59l7.78-7.78 2.81-2.81c.8-.78.8-2.07 0-2.86zM5.41 20L4 18.59l7.72-7.72 1.47 1.35L5.41 20z\"/>\n",
              "  </svg>\n",
              "      </button>\n",
              "      \n",
              "  <style>\n",
              "    .colab-df-container {\n",
              "      display:flex;\n",
              "      flex-wrap:wrap;\n",
              "      gap: 12px;\n",
              "    }\n",
              "\n",
              "    .colab-df-convert {\n",
              "      background-color: #E8F0FE;\n",
              "      border: none;\n",
              "      border-radius: 50%;\n",
              "      cursor: pointer;\n",
              "      display: none;\n",
              "      fill: #1967D2;\n",
              "      height: 32px;\n",
              "      padding: 0 0 0 0;\n",
              "      width: 32px;\n",
              "    }\n",
              "\n",
              "    .colab-df-convert:hover {\n",
              "      background-color: #E2EBFA;\n",
              "      box-shadow: 0px 1px 2px rgba(60, 64, 67, 0.3), 0px 1px 3px 1px rgba(60, 64, 67, 0.15);\n",
              "      fill: #174EA6;\n",
              "    }\n",
              "\n",
              "    [theme=dark] .colab-df-convert {\n",
              "      background-color: #3B4455;\n",
              "      fill: #D2E3FC;\n",
              "    }\n",
              "\n",
              "    [theme=dark] .colab-df-convert:hover {\n",
              "      background-color: #434B5C;\n",
              "      box-shadow: 0px 1px 3px 1px rgba(0, 0, 0, 0.15);\n",
              "      filter: drop-shadow(0px 1px 2px rgba(0, 0, 0, 0.3));\n",
              "      fill: #FFFFFF;\n",
              "    }\n",
              "  </style>\n",
              "\n",
              "      <script>\n",
              "        const buttonEl =\n",
              "          document.querySelector('#df-498ddb78-f5e5-404c-8e94-a3d525227d83 button.colab-df-convert');\n",
              "        buttonEl.style.display =\n",
              "          google.colab.kernel.accessAllowed ? 'block' : 'none';\n",
              "\n",
              "        async function convertToInteractive(key) {\n",
              "          const element = document.querySelector('#df-498ddb78-f5e5-404c-8e94-a3d525227d83');\n",
              "          const dataTable =\n",
              "            await google.colab.kernel.invokeFunction('convertToInteractive',\n",
              "                                                     [key], {});\n",
              "          if (!dataTable) return;\n",
              "\n",
              "          const docLinkHtml = 'Like what you see? Visit the ' +\n",
              "            '<a target=\"_blank\" href=https://colab.research.google.com/notebooks/data_table.ipynb>data table notebook</a>'\n",
              "            + ' to learn more about interactive tables.';\n",
              "          element.innerHTML = '';\n",
              "          dataTable['output_type'] = 'display_data';\n",
              "          await google.colab.output.renderOutput(dataTable, element);\n",
              "          const docLink = document.createElement('div');\n",
              "          docLink.innerHTML = docLinkHtml;\n",
              "          element.appendChild(docLink);\n",
              "        }\n",
              "      </script>\n",
              "    </div>\n",
              "  </div>\n",
              "  "
            ]
          },
          "metadata": {},
          "execution_count": 11
        }
      ]
    },
    {
      "cell_type": "code",
      "source": [
        "# Formatando reviewTime\n",
        "df_reviews['reviewTime'] = pd.to_datetime(df_reviews['reviewTime'], format='%m %d, %Y')"
      ],
      "metadata": {
        "id": "tv8AIvEKf02d"
      },
      "execution_count": 12,
      "outputs": []
    },
    {
      "cell_type": "code",
      "source": [
        "# Formatando style\n",
        "df_reviews['style'] = pd.json_normalize(df_reviews['style'])['Format:']"
      ],
      "metadata": {
        "id": "E2QdfUwMoGxs"
      },
      "execution_count": 13,
      "outputs": []
    },
    {
      "cell_type": "markdown",
      "source": [
        "Verificação do percentual de nulos"
      ],
      "metadata": {
        "id": "r9ENXVu--xnx"
      }
    },
    {
      "cell_type": "code",
      "source": [
        "(df_reviews.isna().sum() / df_reviews.shape[0]).map(\"{:.2%}\".format)"
      ],
      "metadata": {
        "colab": {
          "base_uri": "https://localhost:8080/"
        },
        "id": "FzVkAyBRok0f",
        "outputId": "d3fa401c-70d7-423e-c25d-c6f3a8191b71"
      },
      "execution_count": 14,
      "outputs": [
        {
          "output_type": "execute_result",
          "data": {
            "text/plain": [
              "overall            0.00%\n",
              "reviewTime         0.00%\n",
              "reviewerID         0.00%\n",
              "asin               0.00%\n",
              "style             68.25%\n",
              "reviewerName       0.01%\n",
              "reviewText         0.08%\n",
              "summary            0.04%\n",
              "unixReviewTime     0.00%\n",
              "verified          15.22%\n",
              "vote              87.41%\n",
              "image             98.97%\n",
              "dtype: object"
            ]
          },
          "metadata": {},
          "execution_count": 14
        }
      ]
    },
    {
      "cell_type": "markdown",
      "source": [
        "O campo **style** possui uma grande quantidade de valores nulos, porém, primeiro vou fazer uma análise para ver se ela possui informações que úteis antes de descartá-la por completo."
      ],
      "metadata": {
        "id": "G6RS64Ci-2WI"
      }
    },
    {
      "cell_type": "code",
      "source": [
        "df_reviews['style'].unique()"
      ],
      "metadata": {
        "colab": {
          "base_uri": "https://localhost:8080/"
        },
        "id": "C6zpgnR2rsIl",
        "outputId": "32254b37-a885-40c6-ba89-f0558b2c7cae"
      },
      "execution_count": 15,
      "outputs": [
        {
          "output_type": "execute_result",
          "data": {
            "text/plain": [
              "array([' Video Game', nan, ' Console', ' Electronics', ' Card',\n",
              "       ' Online Game Code', ' Misc.', ' DVD-ROM', ' Software Download',\n",
              "       ' Computer Game', ' Personal Computers'], dtype=object)"
            ]
          },
          "metadata": {},
          "execution_count": 15
        }
      ]
    },
    {
      "cell_type": "code",
      "source": [
        "(df_reviews['style'].value_counts(dropna=False) / df_reviews.shape[0]).map(\"{:.2%}\".format)"
      ],
      "metadata": {
        "colab": {
          "base_uri": "https://localhost:8080/"
        },
        "id": "B6PeaDKnso0l",
        "outputId": "93695aba-796e-4cce-e1bb-7624104479ed"
      },
      "execution_count": 16,
      "outputs": [
        {
          "output_type": "execute_result",
          "data": {
            "text/plain": [
              "NaN                    68.25%\n",
              " Video Game            27.48%\n",
              " Computer Game          1.68%\n",
              " DVD-ROM                0.72%\n",
              " Online Game Code       0.56%\n",
              " Software Download      0.49%\n",
              " Personal Computers     0.38%\n",
              " Card                   0.35%\n",
              " Console                0.05%\n",
              " Electronics            0.04%\n",
              " Misc.                  0.00%\n",
              "Name: style, dtype: object"
            ]
          },
          "metadata": {},
          "execution_count": 16
        }
      ]
    },
    {
      "cell_type": "markdown",
      "source": [
        "Farei agora uma análise do campo **vote**, outro campo com grande quantidade de nulos."
      ],
      "metadata": {
        "id": "GvpnmcRf-6BV"
      }
    },
    {
      "cell_type": "code",
      "source": [
        "(df_reviews['vote'].value_counts(dropna=False) / df_reviews.shape[0]).map(\"{:.2%}\".format).head(10)"
      ],
      "metadata": {
        "colab": {
          "base_uri": "https://localhost:8080/"
        },
        "id": "-f5pxBRx8bsd",
        "outputId": "d8478005-a7f0-4a79-9cd1-7c570c4eacab"
      },
      "execution_count": 17,
      "outputs": [
        {
          "output_type": "execute_result",
          "data": {
            "text/plain": [
              "NaN    87.41%\n",
              "2       3.89%\n",
              "3       1.98%\n",
              "4       1.21%\n",
              "5       0.87%\n",
              "6       0.63%\n",
              "7       0.50%\n",
              "8       0.43%\n",
              "9       0.36%\n",
              "10      0.31%\n",
              "Name: vote, dtype: object"
            ]
          },
          "metadata": {},
          "execution_count": 17
        }
      ]
    },
    {
      "cell_type": "markdown",
      "source": [
        "Na coluna **style**, fora os valores nulos, quase sua totalidade tem o valor 'Video Game'.\n",
        "\n",
        "Na coluna **vote** existe uma distribuição um pouco melhor, porém a quantidade de nulos é muito alta.\n",
        "\n",
        "Sendo assim, irei excluir essas coluna por entender que não irão agregar na análise.\n",
        "\n",
        "E também irei excluir a coluna **image** que, além de conter muitos nulos, não iremos trabalhar com imagens nesse projeto.\n"
      ],
      "metadata": {
        "id": "gTxleCU1zmhp"
      }
    },
    {
      "cell_type": "code",
      "source": [
        "df_reviews.drop(columns=['vote', 'image', 'style'], inplace=True)"
      ],
      "metadata": {
        "id": "qDKD0JeSzzTf"
      },
      "execution_count": 18,
      "outputs": []
    },
    {
      "cell_type": "markdown",
      "source": [
        "Farei a remoção de linhas duplicadas"
      ],
      "metadata": {
        "id": "vnpQO0lY8_ui"
      }
    },
    {
      "cell_type": "code",
      "source": [
        "print(f'{df_reviews.duplicated().sum()} linhas duplicadas')\n",
        "\n",
        "linhas_before_drop = df_reviews.shape[0]\n",
        "\n",
        "df_reviews.drop_duplicates(inplace=True)\n",
        "\n",
        "print(\"Foram removidas {} linhas\".format(linhas_before_drop - df_reviews.shape[0]))"
      ],
      "metadata": {
        "colab": {
          "base_uri": "https://localhost:8080/"
        },
        "id": "gtDEljo-z87S",
        "outputId": "bc1a9d18-30cb-4300-8c30-78dd25f9935a"
      },
      "execution_count": 19,
      "outputs": [
        {
          "output_type": "stream",
          "name": "stdout",
          "text": [
            "17525 linhas duplicadas\n",
            "Foram removidas 17525 linhas\n"
          ]
        }
      ]
    },
    {
      "cell_type": "markdown",
      "source": [
        "Agora o dataset de reviews ficou da seguinte forma:"
      ],
      "metadata": {
        "id": "ErvyVm1ZzvPw"
      }
    },
    {
      "cell_type": "code",
      "source": [
        "df_reviews.shape"
      ],
      "metadata": {
        "colab": {
          "base_uri": "https://localhost:8080/"
        },
        "id": "UVo1Y3z8z1Fo",
        "outputId": "09e532c0-87ff-42c9-8b47-65fc50764e02"
      },
      "execution_count": 20,
      "outputs": [
        {
          "output_type": "execute_result",
          "data": {
            "text/plain": [
              "(436037, 9)"
            ]
          },
          "metadata": {},
          "execution_count": 20
        }
      ]
    },
    {
      "cell_type": "code",
      "source": [
        "df_reviews.head(3)"
      ],
      "metadata": {
        "colab": {
          "base_uri": "https://localhost:8080/",
          "height": 240
        },
        "id": "tXT7naSq9ZQa",
        "outputId": "fdcbbb4b-b58d-4e27-c61c-a41ae0fd682a"
      },
      "execution_count": 21,
      "outputs": [
        {
          "output_type": "execute_result",
          "data": {
            "text/plain": [
              "   overall reviewTime      reviewerID        asin     reviewerName  \\\n",
              "0        1 2018-01-02  A16FEXIKAPT24U  B00000JRSB   Nicholas Sabin   \n",
              "1        5 2018-01-02  A3ISBEPYLY8IMO  B00000JRSB            Jimmy   \n",
              "2        5 2017-12-21  A1RIUB1PZWLOVZ  B00000JRSB  Amazon Customer   \n",
              "\n",
              "                                          reviewText  \\\n",
              "0            Game disc was cracked thats pretty lame   \n",
              "1  Received this in perfect condition. Great rese...   \n",
              "2  I had a hard time finding this game locally or...   \n",
              "\n",
              "                                             summary  unixReviewTime  verified  \n",
              "0                            Game disc 1 was cracked      1514851200       NaN  \n",
              "1  Received this in perfect condition. Great rese...      1514851200       1.0  \n",
              "2               I am very pleased with this purchase      1513814400       1.0  "
            ],
            "text/html": [
              "\n",
              "  <div id=\"df-a2b6d794-ffd4-41c8-8922-826859fa85ac\">\n",
              "    <div class=\"colab-df-container\">\n",
              "      <div>\n",
              "<style scoped>\n",
              "    .dataframe tbody tr th:only-of-type {\n",
              "        vertical-align: middle;\n",
              "    }\n",
              "\n",
              "    .dataframe tbody tr th {\n",
              "        vertical-align: top;\n",
              "    }\n",
              "\n",
              "    .dataframe thead th {\n",
              "        text-align: right;\n",
              "    }\n",
              "</style>\n",
              "<table border=\"1\" class=\"dataframe\">\n",
              "  <thead>\n",
              "    <tr style=\"text-align: right;\">\n",
              "      <th></th>\n",
              "      <th>overall</th>\n",
              "      <th>reviewTime</th>\n",
              "      <th>reviewerID</th>\n",
              "      <th>asin</th>\n",
              "      <th>reviewerName</th>\n",
              "      <th>reviewText</th>\n",
              "      <th>summary</th>\n",
              "      <th>unixReviewTime</th>\n",
              "      <th>verified</th>\n",
              "    </tr>\n",
              "  </thead>\n",
              "  <tbody>\n",
              "    <tr>\n",
              "      <th>0</th>\n",
              "      <td>1</td>\n",
              "      <td>2018-01-02</td>\n",
              "      <td>A16FEXIKAPT24U</td>\n",
              "      <td>B00000JRSB</td>\n",
              "      <td>Nicholas Sabin</td>\n",
              "      <td>Game disc was cracked thats pretty lame</td>\n",
              "      <td>Game disc 1 was cracked</td>\n",
              "      <td>1514851200</td>\n",
              "      <td>NaN</td>\n",
              "    </tr>\n",
              "    <tr>\n",
              "      <th>1</th>\n",
              "      <td>5</td>\n",
              "      <td>2018-01-02</td>\n",
              "      <td>A3ISBEPYLY8IMO</td>\n",
              "      <td>B00000JRSB</td>\n",
              "      <td>Jimmy</td>\n",
              "      <td>Received this in perfect condition. Great rese...</td>\n",
              "      <td>Received this in perfect condition. Great rese...</td>\n",
              "      <td>1514851200</td>\n",
              "      <td>1.0</td>\n",
              "    </tr>\n",
              "    <tr>\n",
              "      <th>2</th>\n",
              "      <td>5</td>\n",
              "      <td>2017-12-21</td>\n",
              "      <td>A1RIUB1PZWLOVZ</td>\n",
              "      <td>B00000JRSB</td>\n",
              "      <td>Amazon Customer</td>\n",
              "      <td>I had a hard time finding this game locally or...</td>\n",
              "      <td>I am very pleased with this purchase</td>\n",
              "      <td>1513814400</td>\n",
              "      <td>1.0</td>\n",
              "    </tr>\n",
              "  </tbody>\n",
              "</table>\n",
              "</div>\n",
              "      <button class=\"colab-df-convert\" onclick=\"convertToInteractive('df-a2b6d794-ffd4-41c8-8922-826859fa85ac')\"\n",
              "              title=\"Convert this dataframe to an interactive table.\"\n",
              "              style=\"display:none;\">\n",
              "        \n",
              "  <svg xmlns=\"http://www.w3.org/2000/svg\" height=\"24px\"viewBox=\"0 0 24 24\"\n",
              "       width=\"24px\">\n",
              "    <path d=\"M0 0h24v24H0V0z\" fill=\"none\"/>\n",
              "    <path d=\"M18.56 5.44l.94 2.06.94-2.06 2.06-.94-2.06-.94-.94-2.06-.94 2.06-2.06.94zm-11 1L8.5 8.5l.94-2.06 2.06-.94-2.06-.94L8.5 2.5l-.94 2.06-2.06.94zm10 10l.94 2.06.94-2.06 2.06-.94-2.06-.94-.94-2.06-.94 2.06-2.06.94z\"/><path d=\"M17.41 7.96l-1.37-1.37c-.4-.4-.92-.59-1.43-.59-.52 0-1.04.2-1.43.59L10.3 9.45l-7.72 7.72c-.78.78-.78 2.05 0 2.83L4 21.41c.39.39.9.59 1.41.59.51 0 1.02-.2 1.41-.59l7.78-7.78 2.81-2.81c.8-.78.8-2.07 0-2.86zM5.41 20L4 18.59l7.72-7.72 1.47 1.35L5.41 20z\"/>\n",
              "  </svg>\n",
              "      </button>\n",
              "      \n",
              "  <style>\n",
              "    .colab-df-container {\n",
              "      display:flex;\n",
              "      flex-wrap:wrap;\n",
              "      gap: 12px;\n",
              "    }\n",
              "\n",
              "    .colab-df-convert {\n",
              "      background-color: #E8F0FE;\n",
              "      border: none;\n",
              "      border-radius: 50%;\n",
              "      cursor: pointer;\n",
              "      display: none;\n",
              "      fill: #1967D2;\n",
              "      height: 32px;\n",
              "      padding: 0 0 0 0;\n",
              "      width: 32px;\n",
              "    }\n",
              "\n",
              "    .colab-df-convert:hover {\n",
              "      background-color: #E2EBFA;\n",
              "      box-shadow: 0px 1px 2px rgba(60, 64, 67, 0.3), 0px 1px 3px 1px rgba(60, 64, 67, 0.15);\n",
              "      fill: #174EA6;\n",
              "    }\n",
              "\n",
              "    [theme=dark] .colab-df-convert {\n",
              "      background-color: #3B4455;\n",
              "      fill: #D2E3FC;\n",
              "    }\n",
              "\n",
              "    [theme=dark] .colab-df-convert:hover {\n",
              "      background-color: #434B5C;\n",
              "      box-shadow: 0px 1px 3px 1px rgba(0, 0, 0, 0.15);\n",
              "      filter: drop-shadow(0px 1px 2px rgba(0, 0, 0, 0.3));\n",
              "      fill: #FFFFFF;\n",
              "    }\n",
              "  </style>\n",
              "\n",
              "      <script>\n",
              "        const buttonEl =\n",
              "          document.querySelector('#df-a2b6d794-ffd4-41c8-8922-826859fa85ac button.colab-df-convert');\n",
              "        buttonEl.style.display =\n",
              "          google.colab.kernel.accessAllowed ? 'block' : 'none';\n",
              "\n",
              "        async function convertToInteractive(key) {\n",
              "          const element = document.querySelector('#df-a2b6d794-ffd4-41c8-8922-826859fa85ac');\n",
              "          const dataTable =\n",
              "            await google.colab.kernel.invokeFunction('convertToInteractive',\n",
              "                                                     [key], {});\n",
              "          if (!dataTable) return;\n",
              "\n",
              "          const docLinkHtml = 'Like what you see? Visit the ' +\n",
              "            '<a target=\"_blank\" href=https://colab.research.google.com/notebooks/data_table.ipynb>data table notebook</a>'\n",
              "            + ' to learn more about interactive tables.';\n",
              "          element.innerHTML = '';\n",
              "          dataTable['output_type'] = 'display_data';\n",
              "          await google.colab.output.renderOutput(dataTable, element);\n",
              "          const docLink = document.createElement('div');\n",
              "          docLink.innerHTML = docLinkHtml;\n",
              "          element.appendChild(docLink);\n",
              "        }\n",
              "      </script>\n",
              "    </div>\n",
              "  </div>\n",
              "  "
            ]
          },
          "metadata": {},
          "execution_count": 21
        }
      ]
    },
    {
      "cell_type": "markdown",
      "source": [
        "### 3.2 - Dataset com os Metadados"
      ],
      "metadata": {
        "id": "jT-T_7hr9eSS"
      }
    },
    {
      "cell_type": "code",
      "source": [
        "df_metadados.head(1)"
      ],
      "metadata": {
        "colab": {
          "base_uri": "https://localhost:8080/",
          "height": 214
        },
        "id": "DecRlPbj9f1c",
        "outputId": "63599ad2-c94c-43fd-f2e1-a25634cb34fd"
      },
      "execution_count": 22,
      "outputs": [
        {
          "output_type": "execute_result",
          "data": {
            "text/plain": [
              "                   category tech1 description fit                       title  \\\n",
              "0  [Video Games, PC, Games]                []      Reversi Sensory Challenger   \n",
              "\n",
              "  also_buy tech2                 brand feature  \\\n",
              "0       []        Fidelity Electronics      []   \n",
              "\n",
              "                                                rank also_view  \\\n",
              "0  [>#2,623,937 in Toys &amp; Games (See Top 100 ...        []   \n",
              "\n",
              "           main_cat similar_item date price        asin  \\\n",
              "0  Toys &amp; Games                          0042000742   \n",
              "\n",
              "                                            imageURL  \\\n",
              "0  [https://images-na.ssl-images-amazon.com/image...   \n",
              "\n",
              "                                     imageURLHighRes details  \n",
              "0  [https://images-na.ssl-images-amazon.com/image...     NaN  "
            ],
            "text/html": [
              "\n",
              "  <div id=\"df-3eb18a04-e795-4896-8bc9-94183376b4c1\">\n",
              "    <div class=\"colab-df-container\">\n",
              "      <div>\n",
              "<style scoped>\n",
              "    .dataframe tbody tr th:only-of-type {\n",
              "        vertical-align: middle;\n",
              "    }\n",
              "\n",
              "    .dataframe tbody tr th {\n",
              "        vertical-align: top;\n",
              "    }\n",
              "\n",
              "    .dataframe thead th {\n",
              "        text-align: right;\n",
              "    }\n",
              "</style>\n",
              "<table border=\"1\" class=\"dataframe\">\n",
              "  <thead>\n",
              "    <tr style=\"text-align: right;\">\n",
              "      <th></th>\n",
              "      <th>category</th>\n",
              "      <th>tech1</th>\n",
              "      <th>description</th>\n",
              "      <th>fit</th>\n",
              "      <th>title</th>\n",
              "      <th>also_buy</th>\n",
              "      <th>tech2</th>\n",
              "      <th>brand</th>\n",
              "      <th>feature</th>\n",
              "      <th>rank</th>\n",
              "      <th>also_view</th>\n",
              "      <th>main_cat</th>\n",
              "      <th>similar_item</th>\n",
              "      <th>date</th>\n",
              "      <th>price</th>\n",
              "      <th>asin</th>\n",
              "      <th>imageURL</th>\n",
              "      <th>imageURLHighRes</th>\n",
              "      <th>details</th>\n",
              "    </tr>\n",
              "  </thead>\n",
              "  <tbody>\n",
              "    <tr>\n",
              "      <th>0</th>\n",
              "      <td>[Video Games, PC, Games]</td>\n",
              "      <td></td>\n",
              "      <td>[]</td>\n",
              "      <td></td>\n",
              "      <td>Reversi Sensory Challenger</td>\n",
              "      <td>[]</td>\n",
              "      <td></td>\n",
              "      <td>Fidelity Electronics</td>\n",
              "      <td>[]</td>\n",
              "      <td>[&gt;#2,623,937 in Toys &amp;amp; Games (See Top 100 ...</td>\n",
              "      <td>[]</td>\n",
              "      <td>Toys &amp;amp; Games</td>\n",
              "      <td></td>\n",
              "      <td></td>\n",
              "      <td></td>\n",
              "      <td>0042000742</td>\n",
              "      <td>[https://images-na.ssl-images-amazon.com/image...</td>\n",
              "      <td>[https://images-na.ssl-images-amazon.com/image...</td>\n",
              "      <td>NaN</td>\n",
              "    </tr>\n",
              "  </tbody>\n",
              "</table>\n",
              "</div>\n",
              "      <button class=\"colab-df-convert\" onclick=\"convertToInteractive('df-3eb18a04-e795-4896-8bc9-94183376b4c1')\"\n",
              "              title=\"Convert this dataframe to an interactive table.\"\n",
              "              style=\"display:none;\">\n",
              "        \n",
              "  <svg xmlns=\"http://www.w3.org/2000/svg\" height=\"24px\"viewBox=\"0 0 24 24\"\n",
              "       width=\"24px\">\n",
              "    <path d=\"M0 0h24v24H0V0z\" fill=\"none\"/>\n",
              "    <path d=\"M18.56 5.44l.94 2.06.94-2.06 2.06-.94-2.06-.94-.94-2.06-.94 2.06-2.06.94zm-11 1L8.5 8.5l.94-2.06 2.06-.94-2.06-.94L8.5 2.5l-.94 2.06-2.06.94zm10 10l.94 2.06.94-2.06 2.06-.94-2.06-.94-.94-2.06-.94 2.06-2.06.94z\"/><path d=\"M17.41 7.96l-1.37-1.37c-.4-.4-.92-.59-1.43-.59-.52 0-1.04.2-1.43.59L10.3 9.45l-7.72 7.72c-.78.78-.78 2.05 0 2.83L4 21.41c.39.39.9.59 1.41.59.51 0 1.02-.2 1.41-.59l7.78-7.78 2.81-2.81c.8-.78.8-2.07 0-2.86zM5.41 20L4 18.59l7.72-7.72 1.47 1.35L5.41 20z\"/>\n",
              "  </svg>\n",
              "      </button>\n",
              "      \n",
              "  <style>\n",
              "    .colab-df-container {\n",
              "      display:flex;\n",
              "      flex-wrap:wrap;\n",
              "      gap: 12px;\n",
              "    }\n",
              "\n",
              "    .colab-df-convert {\n",
              "      background-color: #E8F0FE;\n",
              "      border: none;\n",
              "      border-radius: 50%;\n",
              "      cursor: pointer;\n",
              "      display: none;\n",
              "      fill: #1967D2;\n",
              "      height: 32px;\n",
              "      padding: 0 0 0 0;\n",
              "      width: 32px;\n",
              "    }\n",
              "\n",
              "    .colab-df-convert:hover {\n",
              "      background-color: #E2EBFA;\n",
              "      box-shadow: 0px 1px 2px rgba(60, 64, 67, 0.3), 0px 1px 3px 1px rgba(60, 64, 67, 0.15);\n",
              "      fill: #174EA6;\n",
              "    }\n",
              "\n",
              "    [theme=dark] .colab-df-convert {\n",
              "      background-color: #3B4455;\n",
              "      fill: #D2E3FC;\n",
              "    }\n",
              "\n",
              "    [theme=dark] .colab-df-convert:hover {\n",
              "      background-color: #434B5C;\n",
              "      box-shadow: 0px 1px 3px 1px rgba(0, 0, 0, 0.15);\n",
              "      filter: drop-shadow(0px 1px 2px rgba(0, 0, 0, 0.3));\n",
              "      fill: #FFFFFF;\n",
              "    }\n",
              "  </style>\n",
              "\n",
              "      <script>\n",
              "        const buttonEl =\n",
              "          document.querySelector('#df-3eb18a04-e795-4896-8bc9-94183376b4c1 button.colab-df-convert');\n",
              "        buttonEl.style.display =\n",
              "          google.colab.kernel.accessAllowed ? 'block' : 'none';\n",
              "\n",
              "        async function convertToInteractive(key) {\n",
              "          const element = document.querySelector('#df-3eb18a04-e795-4896-8bc9-94183376b4c1');\n",
              "          const dataTable =\n",
              "            await google.colab.kernel.invokeFunction('convertToInteractive',\n",
              "                                                     [key], {});\n",
              "          if (!dataTable) return;\n",
              "\n",
              "          const docLinkHtml = 'Like what you see? Visit the ' +\n",
              "            '<a target=\"_blank\" href=https://colab.research.google.com/notebooks/data_table.ipynb>data table notebook</a>'\n",
              "            + ' to learn more about interactive tables.';\n",
              "          element.innerHTML = '';\n",
              "          dataTable['output_type'] = 'display_data';\n",
              "          await google.colab.output.renderOutput(dataTable, element);\n",
              "          const docLink = document.createElement('div');\n",
              "          docLink.innerHTML = docLinkHtml;\n",
              "          element.appendChild(docLink);\n",
              "        }\n",
              "      </script>\n",
              "    </div>\n",
              "  </div>\n",
              "  "
            ]
          },
          "metadata": {},
          "execution_count": 22
        }
      ]
    },
    {
      "cell_type": "markdown",
      "source": [
        "Em uma análise prévia, identifiquei que os metadados contém informações de vários itens.\n",
        "\n",
        "Portanto, irei filtra apenas os **asin** dos itens que tenham review (que estão no df_reviews), pois não precisarei dos demais itens para esta análise."
      ],
      "metadata": {
        "id": "FH0a2CrfTkn4"
      }
    },
    {
      "cell_type": "code",
      "source": [
        "itens_reviewds = list(df_reviews['asin'].unique())"
      ],
      "metadata": {
        "id": "i5h4UzSMhXz8"
      },
      "execution_count": 23,
      "outputs": []
    },
    {
      "cell_type": "code",
      "source": [
        "df_metadados = df_metadados[df_metadados['asin'].isin(itens_reviewds)]"
      ],
      "metadata": {
        "id": "i9_3qw5nhLt3"
      },
      "execution_count": 24,
      "outputs": []
    },
    {
      "cell_type": "markdown",
      "source": [
        "Percentual de Nulos"
      ],
      "metadata": {
        "id": "8n0nr3Ur_LXR"
      }
    },
    {
      "cell_type": "code",
      "source": [
        "(df_metadados.isna().sum() / df_metadados.shape[0]).map(\"{:.2%}\".format)"
      ],
      "metadata": {
        "colab": {
          "base_uri": "https://localhost:8080/"
        },
        "id": "QfDU3nWS_I-r",
        "outputId": "8596ea25-552f-4b33-b8e9-3048e390b5f7"
      },
      "execution_count": 25,
      "outputs": [
        {
          "output_type": "execute_result",
          "data": {
            "text/plain": [
              "category           0.00%\n",
              "tech1              0.00%\n",
              "description        0.00%\n",
              "fit                0.00%\n",
              "title              0.00%\n",
              "also_buy           0.00%\n",
              "tech2              0.00%\n",
              "brand              0.00%\n",
              "feature            0.00%\n",
              "rank               0.00%\n",
              "also_view          0.00%\n",
              "main_cat           0.00%\n",
              "similar_item       0.00%\n",
              "date               0.00%\n",
              "price              0.00%\n",
              "asin               0.00%\n",
              "imageURL           0.00%\n",
              "imageURLHighRes    0.00%\n",
              "details            0.00%\n",
              "dtype: object"
            ]
          },
          "metadata": {},
          "execution_count": 25
        }
      ]
    },
    {
      "cell_type": "markdown",
      "source": [
        "Percentual de Nulos está zero, mas percebo que existem varios valores **[ ]** e valores em branco.\n",
        "\n",
        "Vou fazer a **substituição** de **[ ]** e dos **valores em branco** por **np.nan** para depois refazer a contagem dos nulos."
      ],
      "metadata": {
        "id": "60GgzBdQ_Quk"
      }
    },
    {
      "cell_type": "code",
      "source": [
        "def replace_vazios(x):\n",
        "  if x == []:\n",
        "    return np.nan\n",
        "  else:\n",
        "    return x\n",
        "\n",
        "\n",
        "for c in df_metadados.columns:\n",
        "  df_metadados[c] = df_metadados.apply(lambda x : replace_vazios(x[c]), axis=1)\n",
        "\n",
        "df_metadados.replace('', np.nan, inplace=True)"
      ],
      "metadata": {
        "id": "C1jsM7K7CZ-b"
      },
      "execution_count": 26,
      "outputs": []
    },
    {
      "cell_type": "code",
      "source": [
        "(df_metadados.isna().sum() / df_metadados.shape[0]).map(\"{:.2%}\".format)"
      ],
      "metadata": {
        "colab": {
          "base_uri": "https://localhost:8080/"
        },
        "id": "EvGgXDkP-hji",
        "outputId": "0160b49c-27f7-47b0-9d8e-2fe721ab0ee7"
      },
      "execution_count": 27,
      "outputs": [
        {
          "output_type": "execute_result",
          "data": {
            "text/plain": [
              "category             0.00%\n",
              "tech1               88.09%\n",
              "description          7.58%\n",
              "fit                100.00%\n",
              "title                0.00%\n",
              "also_buy            15.52%\n",
              "tech2               96.39%\n",
              "brand                0.00%\n",
              "feature              4.69%\n",
              "rank                 0.72%\n",
              "also_view            2.89%\n",
              "main_cat             0.00%\n",
              "similar_item        99.28%\n",
              "date                76.90%\n",
              "price               12.64%\n",
              "asin                 0.00%\n",
              "imageURL             6.14%\n",
              "imageURLHighRes      6.14%\n",
              "details              0.00%\n",
              "dtype: object"
            ]
          },
          "metadata": {},
          "execution_count": 27
        }
      ]
    },
    {
      "cell_type": "markdown",
      "source": [
        "Nesse dataset irei adotar o critério de descartar aquelas colunas que tenham mais de 70% de valores nulos.\n",
        "\n",
        "Sendo assim, irei excluir as colunas: **tech1, fit, tech2, similar_item, date**\n",
        "\n",
        "E vou excluir também as colunas: **imageURL e imageURLHighRes** pois não vamos trabalhar com imagens nesse projeto.\n"
      ],
      "metadata": {
        "id": "Mqk-7GGlQGGK"
      }
    },
    {
      "cell_type": "code",
      "source": [
        "df_metadados.drop(columns=['tech1', 'fit', 'tech2', 'similar_item', 'date', 'imageURL', 'imageURLHighRes'], inplace=True)"
      ],
      "metadata": {
        "id": "ylLt2AoGQdWn"
      },
      "execution_count": 28,
      "outputs": []
    },
    {
      "cell_type": "markdown",
      "source": [
        "Agora vou analisar os campos que restaram."
      ],
      "metadata": {
        "id": "b73L8k4gQvKF"
      }
    },
    {
      "cell_type": "code",
      "source": [
        "df_metadados.columns"
      ],
      "metadata": {
        "colab": {
          "base_uri": "https://localhost:8080/"
        },
        "id": "g1wcEsNaU7ss",
        "outputId": "99b653f5-d02e-4aa2-98d8-1e41031d0a58"
      },
      "execution_count": 29,
      "outputs": [
        {
          "output_type": "execute_result",
          "data": {
            "text/plain": [
              "Index(['category', 'description', 'title', 'also_buy', 'brand', 'feature',\n",
              "       'rank', 'also_view', 'main_cat', 'price', 'asin', 'details'],\n",
              "      dtype='object')"
            ]
          },
          "metadata": {},
          "execution_count": 29
        }
      ]
    },
    {
      "cell_type": "markdown",
      "source": [
        "Coluna ***category***"
      ],
      "metadata": {
        "id": "5cFkwXiGGIgN"
      }
    },
    {
      "cell_type": "code",
      "source": [
        "df_metadados['category']"
      ],
      "metadata": {
        "colab": {
          "base_uri": "https://localhost:8080/"
        },
        "id": "eyIU05qe_Ua0",
        "outputId": "e632e7f9-fdfc-474a-fb34-b410c59ba5c1"
      },
      "execution_count": 30,
      "outputs": [
        {
          "output_type": "execute_result",
          "data": {
            "text/plain": [
              "399      [Video Games, Retro Gaming &amp; Microconsoles...\n",
              "6758     [Video Games, Retro Gaming &amp; Microconsoles...\n",
              "6779     [Video Games, Retro Gaming & Microconsoles, Pl...\n",
              "6975     [Video Games, Retro Gaming & Microconsoles, Ga...\n",
              "7244     [Video Games, Retro Gaming &amp; Microconsoles...\n",
              "                               ...                        \n",
              "84373    [Video Games, PlayStation 4, Digital Games & D...\n",
              "84386    [Video Games, PlayStation 4, Games, </span></s...\n",
              "84506    [Video Games, PlayStation 4, Accessories, Batt...\n",
              "84561            [Video Games, Wii, </span></span></span>]\n",
              "84610             [Video Games, PC, Accessories, Headsets]\n",
              "Name: category, Length: 277, dtype: object"
            ]
          },
          "metadata": {},
          "execution_count": 30
        }
      ]
    },
    {
      "cell_type": "markdown",
      "source": [
        "Category aparenta ter um padrão, é uma lista que contém:\n",
        "\n",
        "1.   categoria principal\n",
        "1.   plataforma (console, pc e etc.) \n",
        "1.   categoria mais específica \n",
        "\n",
        "A categoria principal já tem um campo específico que é o **main_cat**.\n",
        "\n",
        "Portanto, desse campo vou tentar extrair dois valores: a **plataforma** e a **categoria especifica**.\n",
        "\n"
      ],
      "metadata": {
        "id": "jDTCTVK3JFlZ"
      }
    },
    {
      "cell_type": "code",
      "source": [
        "def category_extract(c, index):\n",
        "  if type(c) == list:\n",
        "    try:\n",
        "      return c[index]\n",
        "    except:\n",
        "      return np.nan\n",
        "\n",
        "\n",
        "df_metadados['plataform'] = df_metadados['category'].apply(lambda x : category_extract(x, 1))\n",
        "df_metadados['category'] = df_metadados['category'].apply(lambda x : category_extract(x, 2))"
      ],
      "metadata": {
        "id": "yAeZnWcmJnov"
      },
      "execution_count": 31,
      "outputs": []
    },
    {
      "cell_type": "code",
      "source": [
        "df_metadados['plataform'] = df_metadados['plataform'].replace('Retro Gaming &amp; Microconsoles', 'Retro Gaming').replace('Retro Gaming & Microconsoles', 'Retro Gaming')"
      ],
      "metadata": {
        "id": "-7KH5FduqL53"
      },
      "execution_count": 32,
      "outputs": []
    },
    {
      "cell_type": "code",
      "source": [
        "df_metadados['plataform'].value_counts()"
      ],
      "metadata": {
        "colab": {
          "base_uri": "https://localhost:8080/"
        },
        "id": "WFmcKnFofaP0",
        "outputId": "9cbe63f1-8489-43ee-cc94-fbbc6ddd35f1"
      },
      "execution_count": 33,
      "outputs": [
        {
          "output_type": "execute_result",
          "data": {
            "text/plain": [
              "PC                    64\n",
              "PlayStation 4         43\n",
              "PlayStation 3         28\n",
              "Xbox 360              28\n",
              "Kids & Family         27\n",
              "Retro Gaming          24\n",
              "Xbox One              24\n",
              "Wii                   15\n",
              "Nintendo 3DS & 2DS     9\n",
              "Nintendo DS            5\n",
              "Accessories            3\n",
              "Wii U                  3\n",
              "PlayStation Vita       2\n",
              "Mac                    1\n",
              "Digital Games          1\n",
              "Name: plataform, dtype: int64"
            ]
          },
          "metadata": {},
          "execution_count": 33
        }
      ]
    },
    {
      "cell_type": "code",
      "source": [
        "df_metadados['category'].value_counts()"
      ],
      "metadata": {
        "colab": {
          "base_uri": "https://localhost:8080/"
        },
        "id": "ghwyWN_ifWlW",
        "outputId": "dd3b1829-6c52-401a-fb3e-5e4b803eb36b"
      },
      "execution_count": 34,
      "outputs": [
        {
          "output_type": "execute_result",
          "data": {
            "text/plain": [
              "Accessories                          112\n",
              "Games                                 66\n",
              "</span></span></span>                 25\n",
              "PlayStation 2                         11\n",
              "Wii                                    9\n",
              "Consoles                               9\n",
              "Nintendo 3DS                           9\n",
              "GameCube                               4\n",
              "Xbox                                   4\n",
              "Wii U                                  3\n",
              "PlayStation 4                          3\n",
              "Xbox 360                               2\n",
              "Interactive Gaming Figures             2\n",
              "PlayStation                            2\n",
              "Currency & Subscription Cards          2\n",
              "Game Boy Advance                       2\n",
              "Digital Games & DLC                    2\n",
              "Currency &amp; Subscription Cards      1\n",
              "PlayStation 3                          1\n",
              "PC                                     1\n",
              "NVIDIA SHIELD                          1\n",
              "Name: category, dtype: int64"
            ]
          },
          "metadata": {},
          "execution_count": 34
        }
      ]
    },
    {
      "cell_type": "markdown",
      "source": [
        "Irei substituir esse valor `</span></span></span>` por 'Outros' para fins de análise."
      ],
      "metadata": {
        "id": "NAx15Sf0f9CP"
      }
    },
    {
      "cell_type": "code",
      "source": [
        "df_metadados['category'] = df_metadados['category'].replace('</span></span></span>', 'Outros')"
      ],
      "metadata": {
        "id": "tIIjpgmAfkFi"
      },
      "execution_count": 35,
      "outputs": []
    },
    {
      "cell_type": "markdown",
      "source": [
        "Coluna ***description***         "
      ],
      "metadata": {
        "id": "gkxC15QdO8LD"
      }
    },
    {
      "cell_type": "code",
      "source": [
        "df_metadados['description']"
      ],
      "metadata": {
        "colab": {
          "base_uri": "https://localhost:8080/"
        },
        "id": "zssvpooKRg50",
        "outputId": "7376fa10-44ef-4192-e1c1-ca62836f3488"
      },
      "execution_count": 36,
      "outputs": [
        {
          "output_type": "execute_result",
          "data": {
            "text/plain": [
              "399      [Long recognized as role-playing games par exc...\n",
              "6758     [The explosions will light up your living room...\n",
              "6779                                [Grand Theft Auto III]\n",
              "6975     [Can Mario beat Donkey Kong? Is Pikachu toughe...\n",
              "7244     [Final Fantasy X finally enters a fully polygo...\n",
              "                               ...                        \n",
              "84373    [<div>Winner of more than 200 Game of the Year...\n",
              "84386    [<div>, From Santa Monica Studio and creative ...\n",
              "84506                                                  NaN\n",
              "84561    [The Pokemon GO Plus accessory can be used wit...\n",
              "84610    [<span class=\"a-text-bold\">BENGOO G9000 Headse...\n",
              "Name: description, Length: 277, dtype: object"
            ]
          },
          "metadata": {},
          "execution_count": 36
        }
      ]
    },
    {
      "cell_type": "code",
      "source": [
        "df_metadados['description'][84610]"
      ],
      "metadata": {
        "colab": {
          "base_uri": "https://localhost:8080/"
        },
        "id": "iWEnP8wJeNAT",
        "outputId": "568fde7f-f220-419f-db24-13bb11d7ee7f"
      },
      "execution_count": 37,
      "outputs": [
        {
          "output_type": "execute_result",
          "data": {
            "text/plain": [
              "['<span class=\"a-text-bold\">BENGOO G9000 Headset</span> is a primary kind of gaming headset for <span class=\"a-text-bold\"><span class=\"a-text-italic\"><u>PlayStation 4, Xbox one PC, Laptop and Mac</u></span></span> Games which brings you vivid sound field, sound clarity and sound shock feeling, capable of various games like Halo 5 Guardians, Metal Gear Solid, Call of Duty, Star Wars Battlefront, EA Sports UFC, Overwatch, World of Warcraft Legion, etc. Its super soft Over-ear pads is more comfortable for long time wear, and it is a great headphone especially perfect <span class=\"a-text-bold\">for gamer</span>!<br> &nbsp;<br> <span class=\"a-text-bold\"><span class=\"a-text-italic\"><u>Why you choose BENGOO gaming headset?</u></span></span><br> <span class=\"a-text-italic\">1.<u>Environmental friendly material</u></span>Earmuffs used with the new second-generation skin-friendly material, reduce heat sweat, more suitable for long wear.<br> <span class=\"a-text-italic\">2.<u>HIGH COMPATIBILITY</u></span>Work with 32-bit and 64-bit Win 7/Win8/Win8.1/Win 10/XP.<br> <span class=\"a-text-italic\">3.<u>Comfortable feeling</u></span>High grade wearable TPE, soft texture, delicate and comfortable touch,it has an elegant appearance.<br> <span class=\"a-text-italic\">4.<u>Practical Design</u></span>Decompressing belt make your headset has a better extensibility. Concise structure, light weight when playing games, high grade material let it keep strongly practicality Soft design tell you how is unbreakable.<br> <span class=\"a-text-italic\">5.<u>Easy install</u></span>Plug and play, 3.5mm plugs for mic and headset + USB plug for lights , more fully ensure the stability of the sound.<br> <span class=\"a-text-italic\">6.<u>LED LIGHT</u></span>Highlight the game atmosphere (USB interface only for power supply to LED lights).<br> &nbsp;<br> <span class=\"a-text-bold\"><span class=\"a-text-italic\"><u>Specification:</u></span></span><br> 1<u>Speaker size</u>: 40mm<br> 2<u>Sensivitity:</u> 105+/-3dB<br> 3<u>Frequency range</u>: 15 Hz-20KHz<br> 4<u>Microphone</u>: 6.0x 5.0mm<br> 5<u>Microphone sensitivity</u>: -38+/-3dB<br> 6<u>Directionality</u>: omni-directional<br> 7<u>Cable length</u>: 2.1M +/-0.15<br> 8<u>LED working voltage</u>: DC 5V +/- 5%<br> 9<u>Headset jack</u>: USB+3.5mm 4 Pin<br> 10<u>System support</u>: The 32-bit and 64-bit Win 7/Win8/Win8.1/Win 10/XP<br> &nbsp;<br> <span class=\"a-text-bold\"><span class=\"a-text-italic\"><u>Notes:</u></span></span><br> 1.Extra Microsoft adapter (<u>Not Included</u>) is needed when connect with old version Xbox One controller.<br> 2.1-to-2 3.5mm jack splitter cable (<u>Not Included)</u> is needed when you connect with PC if you want to use headphone and microphone at the same time.<br> 3.<u>The USB interface is only used for power supply to LED light to highlight the atmosphere of the game.</u><br> &nbsp;<br> <span class=\"a-text-bold\"><span class=\"a-text-italic\"><u>How to use it on PS4?</u></span></span><br> 1. Please test it with your cell-phone before apply the headset on your PS4, to make sure it works well.<br> 2. Insert the headset with 3.5mm jack plug into the Gamepad<br> 3. Then long press the PS4 button or enter the System Settings, there is a peripheral machines choose \"Adjust Sound and Devices\", \"Output to the headphones\", then change it to \"All audio\". If you have the audio on the \"All Audio\" setting you can, but if it\\'s set to \"Chat Audio\" you can only hear form the side with the mic.<br> &nbsp;<br> <span class=\"a-text-bold\"><span class=\"a-text-italic\"><u>Troubleshooting Methods:</u></span></span><br> Sound is too small or no sound<br> 1. Ensure that your audio devices work properly and sound switch has been turned on.<br> 2. Turn up the sound volume level, Ensure connecting the plug of headset to audio source correctly.<br> &nbsp;<br> <span class=\"a-text-bold\"><span class=\"a-text-italic\"><u>Package Contents:</u></span></span><br> 1 x BENGOO G9000 Gaming Headset<br> 1 x Operating Instruction']"
            ]
          },
          "metadata": {},
          "execution_count": 37
        }
      ]
    },
    {
      "cell_type": "markdown",
      "source": [
        "O campo ***description*** é uma descrição do item.\n",
        "\n",
        "Ele está dentro de uma lista, e contém algumas tags html no texto.\n",
        "\n",
        "Vou fazer um tratamento deixando apenas o texto, pode ser que fiquem algumas tags html, que se identificadas futuramente eu faço a remoção."
      ],
      "metadata": {
        "id": "rSBwPbH_-hqO"
      }
    },
    {
      "cell_type": "code",
      "source": [
        "# Retirar os valores de dentro dos colchetes\n",
        "df_metadados['description'] = df_metadados['description'].apply(lambda x: x[0] if type(x) == list else x)\n",
        "\n",
        "# Removendo tags html da descrição\n",
        "df_metadados['description'] = df_metadados['description'].apply(lambda x: x.replace('<div>', '') \\\n",
        "                                                                            .replace('<br>', '') \\\n",
        "                                                                            .replace('</br>', '') \\\n",
        "                                                                            .replace('<b>', '') \\\n",
        "                                                                            .replace('</b>', '') \\\n",
        "                                                                            .replace('<span class=\"a-text-bold\">', '') \\\n",
        "                                                                            .replace('<span class=\"a-text-italic\">', '')\n",
        "                                                                            .replace('</span>', '') \\\n",
        "                                                                            .replace('<u>', '') \\\n",
        "                                                                            .replace('</u>', '') \\\n",
        "                                                                            .replace('&nbsp;', '') \\\n",
        "                                                                            if type(x) != float else x)\n",
        "\n",
        "df_metadados['description']"
      ],
      "metadata": {
        "colab": {
          "base_uri": "https://localhost:8080/"
        },
        "id": "1A36mxTbXfME",
        "outputId": "79a8e6cd-f344-4bd1-90bc-695e139d54c9"
      },
      "execution_count": 38,
      "outputs": [
        {
          "output_type": "execute_result",
          "data": {
            "text/plain": [
              "399      Long recognized as role-playing games par exce...\n",
              "6758     The explosions will light up your living room....\n",
              "6779                                  Grand Theft Auto III\n",
              "6975     Can Mario beat Donkey Kong? Is Pikachu tougher...\n",
              "7244     Final Fantasy X finally enters a fully polygon...\n",
              "                               ...                        \n",
              "84373    Winner of more than 200 Game of the Year Award...\n",
              "84386                                                     \n",
              "84506                                                  NaN\n",
              "84561    The Pokemon GO Plus accessory can be used with...\n",
              "84610    BENGOO G9000 Headset is a primary kind of gami...\n",
              "Name: description, Length: 277, dtype: object"
            ]
          },
          "metadata": {},
          "execution_count": 38
        }
      ]
    },
    {
      "cell_type": "markdown",
      "source": [
        "Coluna ***title***"
      ],
      "metadata": {
        "id": "o3C87DuuVDUo"
      }
    },
    {
      "cell_type": "code",
      "source": [
        "df_metadados['title']"
      ],
      "metadata": {
        "colab": {
          "base_uri": "https://localhost:8080/"
        },
        "id": "qB8do6J5VENO",
        "outputId": "39436942-6082-46dc-8bfb-a5b9cb5dd3f0"
      },
      "execution_count": 39,
      "outputs": [
        {
          "output_type": "execute_result",
          "data": {
            "text/plain": [
              "399                                      Final Fantasy VII\n",
              "6758                                           Halo - Xbox\n",
              "6779                                  Grand Theft Auto III\n",
              "6975                                Super Smash Bros Melee\n",
              "7244                                       Final Fantasy X\n",
              "                               ...                        \n",
              "84373    The Elder Scrolls V: Skyrim Special Edition - ...\n",
              "84386                    God of War 4 - PS4 [Digital Code]\n",
              "84506    PS4 Controller Charger, Y Team Playstation 4 /...\n",
              "84561                             Nintendo Pokemon Go Plus\n",
              "84610    BENGOO G9000 Stereo Gaming Headset for PS4, PC...\n",
              "Name: title, Length: 277, dtype: object"
            ]
          },
          "metadata": {},
          "execution_count": 39
        }
      ]
    },
    {
      "cell_type": "markdown",
      "source": [
        "A principio title parece não precisar de nenhum tratamento.\n"
      ],
      "metadata": {
        "id": "fIAyAR1f_cGM"
      }
    },
    {
      "cell_type": "markdown",
      "source": [
        "Coluna ***also_buy*** e ***also_view***"
      ],
      "metadata": {
        "id": "WO_ZI6mOSYbT"
      }
    },
    {
      "cell_type": "code",
      "source": [
        "df_metadados['also_buy']"
      ],
      "metadata": {
        "colab": {
          "base_uri": "https://localhost:8080/"
        },
        "id": "mR_W8ChXRROm",
        "outputId": "9fd12125-ea97-4909-f925-e9989b8b454e"
      },
      "execution_count": 40,
      "outputs": [
        {
          "output_type": "execute_result",
          "data": {
            "text/plain": [
              "399      [B0000296O5, B00004Y57G, B00002R28C, B0045L3SN...\n",
              "6758     [B00008J7NZ, B00006IR20, B000FRU0NU, B00005RHQ...\n",
              "6779     [B0000696CZ, B0001VGFK2, B01L1P49OA, B00006BXB...\n",
              "6975     [B00009WAUD, B00006IJJI, B00005QEFF, B01LWA474...\n",
              "7244     [B00008URUA, B000F5IH2I, B000066TS5, B0009A4EV...\n",
              "                               ...                        \n",
              "84373    [B004RMK4BC, B004RMK4P8, B06XCTDL52, B00GAC1D2...\n",
              "84386    [B01H0TJM70, B07G9WK8GS, B072LXFN8X, B07DLTC77...\n",
              "84506    [B01LWVX2RG, B07GQ61M42, B0799976M1, B07FQ74V4...\n",
              "84561    [B07C7K7JGW, B07HNC7JB9, B07C75329M, B07C7L9D9...\n",
              "84610                                                  NaN\n",
              "Name: also_buy, Length: 277, dtype: object"
            ]
          },
          "metadata": {},
          "execution_count": 40
        }
      ]
    },
    {
      "cell_type": "code",
      "source": [
        "df_metadados['also_view']"
      ],
      "metadata": {
        "colab": {
          "base_uri": "https://localhost:8080/"
        },
        "id": "xlVzHXzrS9cg",
        "outputId": "e885db15-b49a-410b-b043-4be26627001c"
      },
      "execution_count": 41,
      "outputs": [
        {
          "output_type": "execute_result",
          "data": {
            "text/plain": [
              "399      [B00004Y57G, B00004TC6E, B00ZS80PC2, B0000296O...\n",
              "6758     [B0050SYY5E, B000FRU0NU, B00008J7NZ, B00006IR2...\n",
              "6779     [B0000696CZ, B0001VGFK2, B00006BXBV, B000KCX9M...\n",
              "6975     [B000094G2O, B00008KTX5, B00009WAUD, B0009XBYZ...\n",
              "7244     [B000066TS5, B000F5IH2I, B00008URUA, B00QU47SJ...\n",
              "                               ...                        \n",
              "84373    [B01J23D1W4, B01H0TJM70, B07L9NVPTY, B07BZZX97...\n",
              "84386    [B01H0TJM70, B01GW3PMGK, B072LXFN8X, B07G9WK8G...\n",
              "84506                                                  NaN\n",
              "84561    [B071K63M65, B06Y5BTX8L, B071R3P45V, B07C1MCH3...\n",
              "84610    [B076DWKD5B, B01MA5XZSG, B078RJGK35, B012DFI02...\n",
              "Name: also_view, Length: 277, dtype: object"
            ]
          },
          "metadata": {},
          "execution_count": 41
        }
      ]
    },
    {
      "cell_type": "markdown",
      "source": [
        "Colunas que contém os IDs (asin) de produtos Comprado/Visto juntos.\n",
        "\n",
        "Não irei manter essas informações no dataset final, já que iremos fazer um sistema de recomendação próprio."
      ],
      "metadata": {
        "id": "2rBR7NBW_x0d"
      }
    },
    {
      "cell_type": "markdown",
      "source": [
        "Coluna ***brand***"
      ],
      "metadata": {
        "id": "nAgQriGqSlTc"
      }
    },
    {
      "cell_type": "code",
      "source": [
        "df_metadados['brand']"
      ],
      "metadata": {
        "colab": {
          "base_uri": "https://localhost:8080/"
        },
        "id": "PV5FPF6TSm79",
        "outputId": "57e686a9-1ba1-4ac2-b4e9-c148c3c93601"
      },
      "execution_count": 42,
      "outputs": [
        {
          "output_type": "execute_result",
          "data": {
            "text/plain": [
              "399                    SquareSoft\n",
              "6758      by\\n    \\n    Microsoft\n",
              "6779                         Sony\n",
              "6975       by\\n    \\n    Nintendo\n",
              "7244     by\\n    \\n    SquareSoft\n",
              "                   ...           \n",
              "84373      by\\n    \\n    Bethesda\n",
              "84386          by\\n    \\n    SCEA\n",
              "84506                      Y Team\n",
              "84561      by\\n    \\n    Nintendo\n",
              "84610                      BENGOO\n",
              "Name: brand, Length: 277, dtype: object"
            ]
          },
          "metadata": {},
          "execution_count": 42
        }
      ]
    },
    {
      "cell_type": "markdown",
      "source": [
        "Marca do item, vou realizar um tratamento para deixar apenas o nome da marca."
      ],
      "metadata": {
        "id": "jBMzWTYYANsW"
      }
    },
    {
      "cell_type": "code",
      "source": [
        "import re\n",
        "\n",
        "# Removendo os caracteres especiais\n",
        "df_metadados['brand'] = df_metadados['brand'].apply(lambda x: re.sub(r\"[^a-zA-Z0-9]\",\" \", x))\n",
        "\n",
        "# Removendo o \"by\" e os espaços em branco\n",
        "df_metadados['brand'] = df_metadados['brand'].apply(lambda x: x.replace(\"by\",\"\").strip())\n",
        "\n",
        "df_metadados['brand']"
      ],
      "metadata": {
        "colab": {
          "base_uri": "https://localhost:8080/"
        },
        "id": "gfZMJF85jieH",
        "outputId": "cf80d578-b29f-4036-9709-d6ea19d52515"
      },
      "execution_count": 43,
      "outputs": [
        {
          "output_type": "execute_result",
          "data": {
            "text/plain": [
              "399      SquareSoft\n",
              "6758      Microsoft\n",
              "6779           Sony\n",
              "6975       Nintendo\n",
              "7244     SquareSoft\n",
              "            ...    \n",
              "84373      Bethesda\n",
              "84386          SCEA\n",
              "84506        Y Team\n",
              "84561      Nintendo\n",
              "84610        BENGOO\n",
              "Name: brand, Length: 277, dtype: object"
            ]
          },
          "metadata": {},
          "execution_count": 43
        }
      ]
    },
    {
      "cell_type": "code",
      "source": [
        "df_metadados['brand'].value_counts()"
      ],
      "metadata": {
        "colab": {
          "base_uri": "https://localhost:8080/"
        },
        "id": "uiHIqdQSm1gZ",
        "outputId": "4980461d-0377-44fa-a15a-2eb8774af302"
      },
      "execution_count": 44,
      "outputs": [
        {
          "output_type": "execute_result",
          "data": {
            "text/plain": [
              "Nintendo      38\n",
              "Sony          31\n",
              "Microsoft     27\n",
              "Ubisoft       18\n",
              "Logitech      15\n",
              "              ..\n",
              "UtechSmart     1\n",
              "AULA           1\n",
              "Zelotes        1\n",
              "Datel          1\n",
              "BENGOO         1\n",
              "Name: brand, Length: 71, dtype: int64"
            ]
          },
          "metadata": {},
          "execution_count": 44
        }
      ]
    },
    {
      "cell_type": "markdown",
      "source": [
        "Vou fazer um agrupamento das marcas com poucos itens em \"Outras\""
      ],
      "metadata": {
        "id": "v4l193Mom5r0"
      }
    },
    {
      "cell_type": "code",
      "source": [
        "top_10_marcas = list((df_metadados['brand'].value_counts() < 5).index)[:10]\n",
        "df_metadados['brand'] = df_metadados['brand'].apply(lambda x : x if x in top_10_marcas else 'Outras')\n",
        "\n",
        "df_metadados['brand'].value_counts()"
      ],
      "metadata": {
        "colab": {
          "base_uri": "https://localhost:8080/"
        },
        "id": "fKNDtXWenAvv",
        "outputId": "51978841-c476-4604-e1d4-3e6cb99abaf0"
      },
      "execution_count": 45,
      "outputs": [
        {
          "output_type": "execute_result",
          "data": {
            "text/plain": [
              "Outras             100\n",
              "Nintendo            38\n",
              "Sony                31\n",
              "Microsoft           27\n",
              "Ubisoft             18\n",
              "Logitech            15\n",
              "Electronic Arts     15\n",
              "Activision          11\n",
              "Razer               10\n",
              "SquareSoft           6\n",
              "Turtle Beach         6\n",
              "Name: brand, dtype: int64"
            ]
          },
          "metadata": {},
          "execution_count": 45
        }
      ]
    },
    {
      "cell_type": "markdown",
      "source": [
        "Coluna ***feature***"
      ],
      "metadata": {
        "id": "Zp3VhRfASs7m"
      }
    },
    {
      "cell_type": "code",
      "source": [
        "df_metadados['feature']"
      ],
      "metadata": {
        "colab": {
          "base_uri": "https://localhost:8080/"
        },
        "id": "nupgPk5pSt8_",
        "outputId": "97fa0bea-c40b-406e-944b-b58f3cfb64d7"
      },
      "execution_count": 46,
      "outputs": [
        {
          "output_type": "execute_result",
          "data": {
            "text/plain": [
              "399      [1 Player, RPG, 3 Disc Set, Excellent graphics...\n",
              "6758     [Control a character during massive firefights...\n",
              "6779                   [Sony Playstion 2 Grand Theft auto]\n",
              "6975     [Number of Players: Offline: 1-4 Players, Numb...\n",
              "7244     [Learn to summon aeons-old spirits of power to...\n",
              "                               ...                        \n",
              "84373    [Winner of more than 200 Game of the Year Awar...\n",
              "84386    [A New Beginning - His vengeance against the g...\n",
              "84506    [Sleek and Compact--This dual charger provides...\n",
              "84561    [The Pokmon GO Plus is a small device that let...\n",
              "84610    [MULTI-PLATFORM COMPATIBLESupport PlayStation ...\n",
              "Name: feature, Length: 277, dtype: object"
            ]
          },
          "metadata": {},
          "execution_count": 46
        }
      ]
    },
    {
      "cell_type": "markdown",
      "source": [
        "Descrição do item, vou remover o valor da lista, deixando apenas o texto no campo."
      ],
      "metadata": {
        "id": "KR6jq-tQAh_D"
      }
    },
    {
      "cell_type": "code",
      "source": [
        "# Retirar os valores de dentro dos colchetes\n",
        "df_metadados['feature'] = df_metadados['feature'].apply(lambda x: x[0] if type(x) == list else x)"
      ],
      "metadata": {
        "id": "gkRRl6YSAmip"
      },
      "execution_count": 47,
      "outputs": []
    },
    {
      "cell_type": "code",
      "source": [
        "df_metadados['feature']"
      ],
      "metadata": {
        "colab": {
          "base_uri": "https://localhost:8080/"
        },
        "id": "DlvNICWMAqar",
        "outputId": "708a0bde-79dc-41cc-ca17-f0c1f2299bf2"
      },
      "execution_count": 48,
      "outputs": [
        {
          "output_type": "execute_result",
          "data": {
            "text/plain": [
              "399                                               1 Player\n",
              "6758     Control a character during massive firefights ...\n",
              "6779                     Sony Playstion 2 Grand Theft auto\n",
              "6975               Number of Players: Offline: 1-4 Players\n",
              "7244     Learn to summon aeons-old spirits of power to ...\n",
              "                               ...                        \n",
              "84373    Winner of more than 200 Game of the Year Award...\n",
              "84386    A New Beginning - His vengeance against the go...\n",
              "84506    Sleek and Compact--This dual charger provides ...\n",
              "84561    The Pokmon GO Plus is a small device that lets...\n",
              "84610    MULTI-PLATFORM COMPATIBLESupport PlayStation 4...\n",
              "Name: feature, Length: 277, dtype: object"
            ]
          },
          "metadata": {},
          "execution_count": 48
        }
      ]
    },
    {
      "cell_type": "markdown",
      "source": [
        "Coluna ***rank***"
      ],
      "metadata": {
        "id": "1rJPE37mS15C"
      }
    },
    {
      "cell_type": "code",
      "source": [
        "df_metadados['rank']"
      ],
      "metadata": {
        "colab": {
          "base_uri": "https://localhost:8080/"
        },
        "id": "DcZyg6XeS2HS",
        "outputId": "7bb2978d-48dc-470c-85f1-08523bb89595"
      },
      "execution_count": 49,
      "outputs": [
        {
          "output_type": "execute_result",
          "data": {
            "text/plain": [
              "399      [>#5,076 in Video Games (See Top 100 in Video ...\n",
              "6758     [>#10,894 in Video Games (See Top 100 in Video...\n",
              "6779     [>#5,281 in Video Games (See Top 100 in Video ...\n",
              "6975     [>#1,590 in Video Games (See Top 100 in Video ...\n",
              "7244     [>#2,933 in Video Games (See Top 100 in Video ...\n",
              "                               ...                        \n",
              "84373    [>#21,926 in Video Games (See Top 100 in Video...\n",
              "84386    [>#10,661 in Video Games (See Top 100 in Video...\n",
              "84506    [>#57 in Electronics (See Top 100 in Electroni...\n",
              "84561    [>#388 in Video Games (See Top 100 in Video Ga...\n",
              "84610    [>#1 in Video Games > PlayStation 4 > Accessor...\n",
              "Name: rank, Length: 277, dtype: object"
            ]
          },
          "metadata": {},
          "execution_count": 49
        }
      ]
    },
    {
      "cell_type": "markdown",
      "source": [
        "Não vou utilizar esse campo, a informação que ele contém é muito confusa.\n",
        "E acredito que foge do escopo do projeto."
      ],
      "metadata": {
        "id": "QDLpxl9EAwXQ"
      }
    },
    {
      "cell_type": "markdown",
      "source": [
        "Coluna ***main_cat***"
      ],
      "metadata": {
        "id": "lFeswjJuTCDS"
      }
    },
    {
      "cell_type": "code",
      "source": [
        "df_metadados['main_cat']"
      ],
      "metadata": {
        "colab": {
          "base_uri": "https://localhost:8080/"
        },
        "id": "heODQDEXTDeS",
        "outputId": "f5a09678-956e-4a87-eb08-0165e44499ee"
      },
      "execution_count": 50,
      "outputs": [
        {
          "output_type": "execute_result",
          "data": {
            "text/plain": [
              "399          Video Games\n",
              "6758         Video Games\n",
              "6779         Video Games\n",
              "6975         Video Games\n",
              "7244         Video Games\n",
              "              ...       \n",
              "84373        Video Games\n",
              "84386        Video Games\n",
              "84506    All Electronics\n",
              "84561        Video Games\n",
              "84610          Computers\n",
              "Name: main_cat, Length: 277, dtype: object"
            ]
          },
          "metadata": {},
          "execution_count": 50
        }
      ]
    },
    {
      "cell_type": "markdown",
      "source": [
        "Categoria principal do item, conforme citado no tratamento da coluna category.\n",
        "\n",
        "Não será necessário nenhum tratamento extra."
      ],
      "metadata": {
        "id": "CGU2_ZtrBE5D"
      }
    },
    {
      "cell_type": "code",
      "source": [
        "df_metadados['main_cat'].unique()"
      ],
      "metadata": {
        "colab": {
          "base_uri": "https://localhost:8080/"
        },
        "id": "JqTzGVYafKyp",
        "outputId": "e160cdce-3156-4f6f-e7c0-6500eb168396"
      },
      "execution_count": 51,
      "outputs": [
        {
          "output_type": "execute_result",
          "data": {
            "text/plain": [
              "array(['Video Games', 'All Electronics', 'Computers', 'Sports & Outdoors',\n",
              "       'Amazon Home'], dtype=object)"
            ]
          },
          "metadata": {},
          "execution_count": 51
        }
      ]
    },
    {
      "cell_type": "markdown",
      "source": [
        "Coluna ***price***"
      ],
      "metadata": {
        "id": "uMQabTS-VSqr"
      }
    },
    {
      "cell_type": "code",
      "source": [
        "df_metadados['price']"
      ],
      "metadata": {
        "colab": {
          "base_uri": "https://localhost:8080/"
        },
        "id": "_7aNHKEjVXvt",
        "outputId": "52e29849-5f28-4858-a241-0d36f2349e27"
      },
      "execution_count": 52,
      "outputs": [
        {
          "output_type": "execute_result",
          "data": {
            "text/plain": [
              "399                                                $164.91\n",
              "6758     \\n\\t\\t                                        ...\n",
              "6779                                                 $6.66\n",
              "6975                                                   NaN\n",
              "7244     \\n\\t\\t                                        ...\n",
              "                               ...                        \n",
              "84373    \\n\\t\\t                                        ...\n",
              "84386    \\n\\t\\t                                        ...\n",
              "84506                                                $1.86\n",
              "84561    \\n\\t\\t                                        ...\n",
              "84610                                               $24.99\n",
              "Name: price, Length: 277, dtype: object"
            ]
          },
          "metadata": {},
          "execution_count": 52
        }
      ]
    },
    {
      "cell_type": "markdown",
      "source": [
        "Não utilizarei a coluna preço."
      ],
      "metadata": {
        "id": "Ciqb3L8cBqwW"
      }
    },
    {
      "cell_type": "markdown",
      "source": [
        "Coluna ***details***"
      ],
      "metadata": {
        "id": "Y4IN3CLpVZc9"
      }
    },
    {
      "cell_type": "code",
      "source": [
        "df_metadados['details']"
      ],
      "metadata": {
        "colab": {
          "base_uri": "https://localhost:8080/"
        },
        "id": "NNh58HsjVco4",
        "outputId": "cc722e0d-853b-4615-8af2-336a48c93877"
      },
      "execution_count": 53,
      "outputs": [
        {
          "output_type": "execute_result",
          "data": {
            "text/plain": [
              "399      {}\n",
              "6758     {}\n",
              "6779     {}\n",
              "6975     {}\n",
              "7244     {}\n",
              "         ..\n",
              "84373    {}\n",
              "84386    {}\n",
              "84506    {}\n",
              "84561    {}\n",
              "84610    {}\n",
              "Name: details, Length: 277, dtype: object"
            ]
          },
          "metadata": {},
          "execution_count": 53
        }
      ]
    },
    {
      "cell_type": "markdown",
      "source": [
        "Aparentava ser uma coluna totalmente preenchida, porém vemos que não tem informação alguma."
      ],
      "metadata": {
        "id": "vu_LB2tPB37F"
      }
    },
    {
      "cell_type": "markdown",
      "source": [
        "Após as análises, conforme explicado, vou excluir as colunas: **also_buy, rank, also_view , price e details**"
      ],
      "metadata": {
        "id": "btKIEJkeXF8q"
      }
    },
    {
      "cell_type": "code",
      "source": [
        "df_metadados.drop(columns=['also_buy', 'rank', 'also_view', 'price', 'details'], inplace=True)"
      ],
      "metadata": {
        "id": "Acm0P6DBXH3E"
      },
      "execution_count": 54,
      "outputs": []
    },
    {
      "cell_type": "markdown",
      "source": [
        "No final o dataset de metadados ficou da seguinte forma: "
      ],
      "metadata": {
        "id": "c7LvAwYNZhGU"
      }
    },
    {
      "cell_type": "code",
      "source": [
        "df_metadados.shape"
      ],
      "metadata": {
        "colab": {
          "base_uri": "https://localhost:8080/"
        },
        "id": "Wg9BPtQZCb6y",
        "outputId": "afaf25e3-9dbb-4ff2-d032-c7e3c08f9482"
      },
      "execution_count": 55,
      "outputs": [
        {
          "output_type": "execute_result",
          "data": {
            "text/plain": [
              "(277, 8)"
            ]
          },
          "metadata": {},
          "execution_count": 55
        }
      ]
    },
    {
      "cell_type": "code",
      "source": [
        "df_metadados.head(3)"
      ],
      "metadata": {
        "colab": {
          "base_uri": "https://localhost:8080/",
          "height": 240
        },
        "id": "HafkXJ6dZjyA",
        "outputId": "13d12172-84a8-4777-db6e-149aa892d85b"
      },
      "execution_count": 56,
      "outputs": [
        {
          "output_type": "execute_result",
          "data": {
            "text/plain": [
              "           category                                        description  \\\n",
              "399     PlayStation  Long recognized as role-playing games par exce...   \n",
              "6758           Xbox  The explosions will light up your living room....   \n",
              "6779  PlayStation 2                               Grand Theft Auto III   \n",
              "\n",
              "                     title       brand  \\\n",
              "399      Final Fantasy VII  SquareSoft   \n",
              "6758           Halo - Xbox   Microsoft   \n",
              "6779  Grand Theft Auto III        Sony   \n",
              "\n",
              "                                                feature     main_cat  \\\n",
              "399                                            1 Player  Video Games   \n",
              "6758  Control a character during massive firefights ...  Video Games   \n",
              "6779                  Sony Playstion 2 Grand Theft auto  Video Games   \n",
              "\n",
              "            asin     plataform  \n",
              "399   B00000JRSB  Retro Gaming  \n",
              "6758  B00005NZ1G  Retro Gaming  \n",
              "6779  B00005O0I2  Retro Gaming  "
            ],
            "text/html": [
              "\n",
              "  <div id=\"df-c3b459f5-5e5c-4470-ab72-c81c1671c42c\">\n",
              "    <div class=\"colab-df-container\">\n",
              "      <div>\n",
              "<style scoped>\n",
              "    .dataframe tbody tr th:only-of-type {\n",
              "        vertical-align: middle;\n",
              "    }\n",
              "\n",
              "    .dataframe tbody tr th {\n",
              "        vertical-align: top;\n",
              "    }\n",
              "\n",
              "    .dataframe thead th {\n",
              "        text-align: right;\n",
              "    }\n",
              "</style>\n",
              "<table border=\"1\" class=\"dataframe\">\n",
              "  <thead>\n",
              "    <tr style=\"text-align: right;\">\n",
              "      <th></th>\n",
              "      <th>category</th>\n",
              "      <th>description</th>\n",
              "      <th>title</th>\n",
              "      <th>brand</th>\n",
              "      <th>feature</th>\n",
              "      <th>main_cat</th>\n",
              "      <th>asin</th>\n",
              "      <th>plataform</th>\n",
              "    </tr>\n",
              "  </thead>\n",
              "  <tbody>\n",
              "    <tr>\n",
              "      <th>399</th>\n",
              "      <td>PlayStation</td>\n",
              "      <td>Long recognized as role-playing games par exce...</td>\n",
              "      <td>Final Fantasy VII</td>\n",
              "      <td>SquareSoft</td>\n",
              "      <td>1 Player</td>\n",
              "      <td>Video Games</td>\n",
              "      <td>B00000JRSB</td>\n",
              "      <td>Retro Gaming</td>\n",
              "    </tr>\n",
              "    <tr>\n",
              "      <th>6758</th>\n",
              "      <td>Xbox</td>\n",
              "      <td>The explosions will light up your living room....</td>\n",
              "      <td>Halo - Xbox</td>\n",
              "      <td>Microsoft</td>\n",
              "      <td>Control a character during massive firefights ...</td>\n",
              "      <td>Video Games</td>\n",
              "      <td>B00005NZ1G</td>\n",
              "      <td>Retro Gaming</td>\n",
              "    </tr>\n",
              "    <tr>\n",
              "      <th>6779</th>\n",
              "      <td>PlayStation 2</td>\n",
              "      <td>Grand Theft Auto III</td>\n",
              "      <td>Grand Theft Auto III</td>\n",
              "      <td>Sony</td>\n",
              "      <td>Sony Playstion 2 Grand Theft auto</td>\n",
              "      <td>Video Games</td>\n",
              "      <td>B00005O0I2</td>\n",
              "      <td>Retro Gaming</td>\n",
              "    </tr>\n",
              "  </tbody>\n",
              "</table>\n",
              "</div>\n",
              "      <button class=\"colab-df-convert\" onclick=\"convertToInteractive('df-c3b459f5-5e5c-4470-ab72-c81c1671c42c')\"\n",
              "              title=\"Convert this dataframe to an interactive table.\"\n",
              "              style=\"display:none;\">\n",
              "        \n",
              "  <svg xmlns=\"http://www.w3.org/2000/svg\" height=\"24px\"viewBox=\"0 0 24 24\"\n",
              "       width=\"24px\">\n",
              "    <path d=\"M0 0h24v24H0V0z\" fill=\"none\"/>\n",
              "    <path d=\"M18.56 5.44l.94 2.06.94-2.06 2.06-.94-2.06-.94-.94-2.06-.94 2.06-2.06.94zm-11 1L8.5 8.5l.94-2.06 2.06-.94-2.06-.94L8.5 2.5l-.94 2.06-2.06.94zm10 10l.94 2.06.94-2.06 2.06-.94-2.06-.94-.94-2.06-.94 2.06-2.06.94z\"/><path d=\"M17.41 7.96l-1.37-1.37c-.4-.4-.92-.59-1.43-.59-.52 0-1.04.2-1.43.59L10.3 9.45l-7.72 7.72c-.78.78-.78 2.05 0 2.83L4 21.41c.39.39.9.59 1.41.59.51 0 1.02-.2 1.41-.59l7.78-7.78 2.81-2.81c.8-.78.8-2.07 0-2.86zM5.41 20L4 18.59l7.72-7.72 1.47 1.35L5.41 20z\"/>\n",
              "  </svg>\n",
              "      </button>\n",
              "      \n",
              "  <style>\n",
              "    .colab-df-container {\n",
              "      display:flex;\n",
              "      flex-wrap:wrap;\n",
              "      gap: 12px;\n",
              "    }\n",
              "\n",
              "    .colab-df-convert {\n",
              "      background-color: #E8F0FE;\n",
              "      border: none;\n",
              "      border-radius: 50%;\n",
              "      cursor: pointer;\n",
              "      display: none;\n",
              "      fill: #1967D2;\n",
              "      height: 32px;\n",
              "      padding: 0 0 0 0;\n",
              "      width: 32px;\n",
              "    }\n",
              "\n",
              "    .colab-df-convert:hover {\n",
              "      background-color: #E2EBFA;\n",
              "      box-shadow: 0px 1px 2px rgba(60, 64, 67, 0.3), 0px 1px 3px 1px rgba(60, 64, 67, 0.15);\n",
              "      fill: #174EA6;\n",
              "    }\n",
              "\n",
              "    [theme=dark] .colab-df-convert {\n",
              "      background-color: #3B4455;\n",
              "      fill: #D2E3FC;\n",
              "    }\n",
              "\n",
              "    [theme=dark] .colab-df-convert:hover {\n",
              "      background-color: #434B5C;\n",
              "      box-shadow: 0px 1px 3px 1px rgba(0, 0, 0, 0.15);\n",
              "      filter: drop-shadow(0px 1px 2px rgba(0, 0, 0, 0.3));\n",
              "      fill: #FFFFFF;\n",
              "    }\n",
              "  </style>\n",
              "\n",
              "      <script>\n",
              "        const buttonEl =\n",
              "          document.querySelector('#df-c3b459f5-5e5c-4470-ab72-c81c1671c42c button.colab-df-convert');\n",
              "        buttonEl.style.display =\n",
              "          google.colab.kernel.accessAllowed ? 'block' : 'none';\n",
              "\n",
              "        async function convertToInteractive(key) {\n",
              "          const element = document.querySelector('#df-c3b459f5-5e5c-4470-ab72-c81c1671c42c');\n",
              "          const dataTable =\n",
              "            await google.colab.kernel.invokeFunction('convertToInteractive',\n",
              "                                                     [key], {});\n",
              "          if (!dataTable) return;\n",
              "\n",
              "          const docLinkHtml = 'Like what you see? Visit the ' +\n",
              "            '<a target=\"_blank\" href=https://colab.research.google.com/notebooks/data_table.ipynb>data table notebook</a>'\n",
              "            + ' to learn more about interactive tables.';\n",
              "          element.innerHTML = '';\n",
              "          dataTable['output_type'] = 'display_data';\n",
              "          await google.colab.output.renderOutput(dataTable, element);\n",
              "          const docLink = document.createElement('div');\n",
              "          docLink.innerHTML = docLinkHtml;\n",
              "          element.appendChild(docLink);\n",
              "        }\n",
              "      </script>\n",
              "    </div>\n",
              "  </div>\n",
              "  "
            ]
          },
          "metadata": {},
          "execution_count": 56
        }
      ]
    },
    {
      "cell_type": "markdown",
      "source": [
        "### 3.3 Junção dos datasets pelo asin (Código do Item)"
      ],
      "metadata": {
        "id": "WnmVM6bla6Wx"
      }
    },
    {
      "cell_type": "code",
      "source": [
        "df = pd.merge(df_reviews, df_metadados, how='left', on='asin')"
      ],
      "metadata": {
        "id": "OGP65sDla-9w"
      },
      "execution_count": 57,
      "outputs": []
    },
    {
      "cell_type": "code",
      "source": [
        "df.shape"
      ],
      "metadata": {
        "colab": {
          "base_uri": "https://localhost:8080/"
        },
        "id": "usGHCJMxCrxy",
        "outputId": "0c16a528-68fe-426b-cd92-8ec13dfb3982"
      },
      "execution_count": 58,
      "outputs": [
        {
          "output_type": "execute_result",
          "data": {
            "text/plain": [
              "(450424, 16)"
            ]
          },
          "metadata": {},
          "execution_count": 58
        }
      ]
    },
    {
      "cell_type": "code",
      "source": [
        "df.head(3)"
      ],
      "metadata": {
        "colab": {
          "base_uri": "https://localhost:8080/",
          "height": 468
        },
        "id": "HmIuuFT7CtCv",
        "outputId": "d2580691-cca9-43c4-d018-25ebc3d60f98"
      },
      "execution_count": 59,
      "outputs": [
        {
          "output_type": "execute_result",
          "data": {
            "text/plain": [
              "   overall reviewTime      reviewerID        asin    reviewerName  \\\n",
              "0        1 2018-01-02  A16FEXIKAPT24U  B00000JRSB  Nicholas Sabin   \n",
              "1        1 2018-01-02  A16FEXIKAPT24U  B00000JRSB  Nicholas Sabin   \n",
              "2        5 2018-01-02  A3ISBEPYLY8IMO  B00000JRSB           Jimmy   \n",
              "\n",
              "                                          reviewText  \\\n",
              "0            Game disc was cracked thats pretty lame   \n",
              "1            Game disc was cracked thats pretty lame   \n",
              "2  Received this in perfect condition. Great rese...   \n",
              "\n",
              "                                             summary  unixReviewTime  \\\n",
              "0                            Game disc 1 was cracked      1514851200   \n",
              "1                            Game disc 1 was cracked      1514851200   \n",
              "2  Received this in perfect condition. Great rese...      1514851200   \n",
              "\n",
              "   verified     category                                        description  \\\n",
              "0       NaN  PlayStation  Long recognized as role-playing games par exce...   \n",
              "1       NaN  PlayStation  Long recognized as role-playing games par exce...   \n",
              "2       1.0  PlayStation  Long recognized as role-playing games par exce...   \n",
              "\n",
              "               title       brand   feature     main_cat     plataform  \n",
              "0  Final Fantasy VII  SquareSoft  1 Player  Video Games  Retro Gaming  \n",
              "1  Final Fantasy VII  SquareSoft  1 Player  Video Games  Retro Gaming  \n",
              "2  Final Fantasy VII  SquareSoft  1 Player  Video Games  Retro Gaming  "
            ],
            "text/html": [
              "\n",
              "  <div id=\"df-aea754ef-86df-4af9-aae9-137e621c7d58\">\n",
              "    <div class=\"colab-df-container\">\n",
              "      <div>\n",
              "<style scoped>\n",
              "    .dataframe tbody tr th:only-of-type {\n",
              "        vertical-align: middle;\n",
              "    }\n",
              "\n",
              "    .dataframe tbody tr th {\n",
              "        vertical-align: top;\n",
              "    }\n",
              "\n",
              "    .dataframe thead th {\n",
              "        text-align: right;\n",
              "    }\n",
              "</style>\n",
              "<table border=\"1\" class=\"dataframe\">\n",
              "  <thead>\n",
              "    <tr style=\"text-align: right;\">\n",
              "      <th></th>\n",
              "      <th>overall</th>\n",
              "      <th>reviewTime</th>\n",
              "      <th>reviewerID</th>\n",
              "      <th>asin</th>\n",
              "      <th>reviewerName</th>\n",
              "      <th>reviewText</th>\n",
              "      <th>summary</th>\n",
              "      <th>unixReviewTime</th>\n",
              "      <th>verified</th>\n",
              "      <th>category</th>\n",
              "      <th>description</th>\n",
              "      <th>title</th>\n",
              "      <th>brand</th>\n",
              "      <th>feature</th>\n",
              "      <th>main_cat</th>\n",
              "      <th>plataform</th>\n",
              "    </tr>\n",
              "  </thead>\n",
              "  <tbody>\n",
              "    <tr>\n",
              "      <th>0</th>\n",
              "      <td>1</td>\n",
              "      <td>2018-01-02</td>\n",
              "      <td>A16FEXIKAPT24U</td>\n",
              "      <td>B00000JRSB</td>\n",
              "      <td>Nicholas Sabin</td>\n",
              "      <td>Game disc was cracked thats pretty lame</td>\n",
              "      <td>Game disc 1 was cracked</td>\n",
              "      <td>1514851200</td>\n",
              "      <td>NaN</td>\n",
              "      <td>PlayStation</td>\n",
              "      <td>Long recognized as role-playing games par exce...</td>\n",
              "      <td>Final Fantasy VII</td>\n",
              "      <td>SquareSoft</td>\n",
              "      <td>1 Player</td>\n",
              "      <td>Video Games</td>\n",
              "      <td>Retro Gaming</td>\n",
              "    </tr>\n",
              "    <tr>\n",
              "      <th>1</th>\n",
              "      <td>1</td>\n",
              "      <td>2018-01-02</td>\n",
              "      <td>A16FEXIKAPT24U</td>\n",
              "      <td>B00000JRSB</td>\n",
              "      <td>Nicholas Sabin</td>\n",
              "      <td>Game disc was cracked thats pretty lame</td>\n",
              "      <td>Game disc 1 was cracked</td>\n",
              "      <td>1514851200</td>\n",
              "      <td>NaN</td>\n",
              "      <td>PlayStation</td>\n",
              "      <td>Long recognized as role-playing games par exce...</td>\n",
              "      <td>Final Fantasy VII</td>\n",
              "      <td>SquareSoft</td>\n",
              "      <td>1 Player</td>\n",
              "      <td>Video Games</td>\n",
              "      <td>Retro Gaming</td>\n",
              "    </tr>\n",
              "    <tr>\n",
              "      <th>2</th>\n",
              "      <td>5</td>\n",
              "      <td>2018-01-02</td>\n",
              "      <td>A3ISBEPYLY8IMO</td>\n",
              "      <td>B00000JRSB</td>\n",
              "      <td>Jimmy</td>\n",
              "      <td>Received this in perfect condition. Great rese...</td>\n",
              "      <td>Received this in perfect condition. Great rese...</td>\n",
              "      <td>1514851200</td>\n",
              "      <td>1.0</td>\n",
              "      <td>PlayStation</td>\n",
              "      <td>Long recognized as role-playing games par exce...</td>\n",
              "      <td>Final Fantasy VII</td>\n",
              "      <td>SquareSoft</td>\n",
              "      <td>1 Player</td>\n",
              "      <td>Video Games</td>\n",
              "      <td>Retro Gaming</td>\n",
              "    </tr>\n",
              "  </tbody>\n",
              "</table>\n",
              "</div>\n",
              "      <button class=\"colab-df-convert\" onclick=\"convertToInteractive('df-aea754ef-86df-4af9-aae9-137e621c7d58')\"\n",
              "              title=\"Convert this dataframe to an interactive table.\"\n",
              "              style=\"display:none;\">\n",
              "        \n",
              "  <svg xmlns=\"http://www.w3.org/2000/svg\" height=\"24px\"viewBox=\"0 0 24 24\"\n",
              "       width=\"24px\">\n",
              "    <path d=\"M0 0h24v24H0V0z\" fill=\"none\"/>\n",
              "    <path d=\"M18.56 5.44l.94 2.06.94-2.06 2.06-.94-2.06-.94-.94-2.06-.94 2.06-2.06.94zm-11 1L8.5 8.5l.94-2.06 2.06-.94-2.06-.94L8.5 2.5l-.94 2.06-2.06.94zm10 10l.94 2.06.94-2.06 2.06-.94-2.06-.94-.94-2.06-.94 2.06-2.06.94z\"/><path d=\"M17.41 7.96l-1.37-1.37c-.4-.4-.92-.59-1.43-.59-.52 0-1.04.2-1.43.59L10.3 9.45l-7.72 7.72c-.78.78-.78 2.05 0 2.83L4 21.41c.39.39.9.59 1.41.59.51 0 1.02-.2 1.41-.59l7.78-7.78 2.81-2.81c.8-.78.8-2.07 0-2.86zM5.41 20L4 18.59l7.72-7.72 1.47 1.35L5.41 20z\"/>\n",
              "  </svg>\n",
              "      </button>\n",
              "      \n",
              "  <style>\n",
              "    .colab-df-container {\n",
              "      display:flex;\n",
              "      flex-wrap:wrap;\n",
              "      gap: 12px;\n",
              "    }\n",
              "\n",
              "    .colab-df-convert {\n",
              "      background-color: #E8F0FE;\n",
              "      border: none;\n",
              "      border-radius: 50%;\n",
              "      cursor: pointer;\n",
              "      display: none;\n",
              "      fill: #1967D2;\n",
              "      height: 32px;\n",
              "      padding: 0 0 0 0;\n",
              "      width: 32px;\n",
              "    }\n",
              "\n",
              "    .colab-df-convert:hover {\n",
              "      background-color: #E2EBFA;\n",
              "      box-shadow: 0px 1px 2px rgba(60, 64, 67, 0.3), 0px 1px 3px 1px rgba(60, 64, 67, 0.15);\n",
              "      fill: #174EA6;\n",
              "    }\n",
              "\n",
              "    [theme=dark] .colab-df-convert {\n",
              "      background-color: #3B4455;\n",
              "      fill: #D2E3FC;\n",
              "    }\n",
              "\n",
              "    [theme=dark] .colab-df-convert:hover {\n",
              "      background-color: #434B5C;\n",
              "      box-shadow: 0px 1px 3px 1px rgba(0, 0, 0, 0.15);\n",
              "      filter: drop-shadow(0px 1px 2px rgba(0, 0, 0, 0.3));\n",
              "      fill: #FFFFFF;\n",
              "    }\n",
              "  </style>\n",
              "\n",
              "      <script>\n",
              "        const buttonEl =\n",
              "          document.querySelector('#df-aea754ef-86df-4af9-aae9-137e621c7d58 button.colab-df-convert');\n",
              "        buttonEl.style.display =\n",
              "          google.colab.kernel.accessAllowed ? 'block' : 'none';\n",
              "\n",
              "        async function convertToInteractive(key) {\n",
              "          const element = document.querySelector('#df-aea754ef-86df-4af9-aae9-137e621c7d58');\n",
              "          const dataTable =\n",
              "            await google.colab.kernel.invokeFunction('convertToInteractive',\n",
              "                                                     [key], {});\n",
              "          if (!dataTable) return;\n",
              "\n",
              "          const docLinkHtml = 'Like what you see? Visit the ' +\n",
              "            '<a target=\"_blank\" href=https://colab.research.google.com/notebooks/data_table.ipynb>data table notebook</a>'\n",
              "            + ' to learn more about interactive tables.';\n",
              "          element.innerHTML = '';\n",
              "          dataTable['output_type'] = 'display_data';\n",
              "          await google.colab.output.renderOutput(dataTable, element);\n",
              "          const docLink = document.createElement('div');\n",
              "          docLink.innerHTML = docLinkHtml;\n",
              "          element.appendChild(docLink);\n",
              "        }\n",
              "      </script>\n",
              "    </div>\n",
              "  </div>\n",
              "  "
            ]
          },
          "metadata": {},
          "execution_count": 59
        }
      ]
    },
    {
      "cell_type": "markdown",
      "source": [
        "Vou reorganizar a ordem das colunas e também renomear algumas delas para deixar um padrão melhor no dataset"
      ],
      "metadata": {
        "id": "Cf--J9psOL4r"
      }
    },
    {
      "cell_type": "code",
      "source": [
        "df.columns"
      ],
      "metadata": {
        "colab": {
          "base_uri": "https://localhost:8080/"
        },
        "id": "0biF8o5wOWo5",
        "outputId": "f26eb513-e4dc-4b6c-d989-327428de4830"
      },
      "execution_count": 60,
      "outputs": [
        {
          "output_type": "execute_result",
          "data": {
            "text/plain": [
              "Index(['overall', 'reviewTime', 'reviewerID', 'asin', 'reviewerName',\n",
              "       'reviewText', 'summary', 'unixReviewTime', 'verified', 'category',\n",
              "       'description', 'title', 'brand', 'feature', 'main_cat', 'plataform'],\n",
              "      dtype='object')"
            ]
          },
          "metadata": {},
          "execution_count": 60
        }
      ]
    },
    {
      "cell_type": "code",
      "source": [
        "df = df.reindex(columns=['reviewTime', 'reviewerID', 'reviewerName', 'asin',\n",
        "                         'title', 'brand', 'main_cat', 'plataform', 'category',\n",
        "                         'description', 'summary', 'feature', 'unixReviewTime',\n",
        "                         'reviewText', 'verified', 'overall']) \\\n",
        "                         .rename(columns = {'main_cat':'main_category',\n",
        "                                            'category':'specific_category'})\n",
        "                         \n",
        "df.head(3)"
      ],
      "metadata": {
        "colab": {
          "base_uri": "https://localhost:8080/",
          "height": 468
        },
        "id": "s7-l3ZMUP09f",
        "outputId": "126c3d08-3cb3-49e6-e199-2a82e0ee3768"
      },
      "execution_count": 61,
      "outputs": [
        {
          "output_type": "execute_result",
          "data": {
            "text/plain": [
              "  reviewTime      reviewerID    reviewerName        asin              title  \\\n",
              "0 2018-01-02  A16FEXIKAPT24U  Nicholas Sabin  B00000JRSB  Final Fantasy VII   \n",
              "1 2018-01-02  A16FEXIKAPT24U  Nicholas Sabin  B00000JRSB  Final Fantasy VII   \n",
              "2 2018-01-02  A3ISBEPYLY8IMO           Jimmy  B00000JRSB  Final Fantasy VII   \n",
              "\n",
              "        brand main_category     plataform specific_category  \\\n",
              "0  SquareSoft   Video Games  Retro Gaming       PlayStation   \n",
              "1  SquareSoft   Video Games  Retro Gaming       PlayStation   \n",
              "2  SquareSoft   Video Games  Retro Gaming       PlayStation   \n",
              "\n",
              "                                         description  \\\n",
              "0  Long recognized as role-playing games par exce...   \n",
              "1  Long recognized as role-playing games par exce...   \n",
              "2  Long recognized as role-playing games par exce...   \n",
              "\n",
              "                                             summary   feature  \\\n",
              "0                            Game disc 1 was cracked  1 Player   \n",
              "1                            Game disc 1 was cracked  1 Player   \n",
              "2  Received this in perfect condition. Great rese...  1 Player   \n",
              "\n",
              "   unixReviewTime                                         reviewText  \\\n",
              "0      1514851200            Game disc was cracked thats pretty lame   \n",
              "1      1514851200            Game disc was cracked thats pretty lame   \n",
              "2      1514851200  Received this in perfect condition. Great rese...   \n",
              "\n",
              "   verified  overall  \n",
              "0       NaN        1  \n",
              "1       NaN        1  \n",
              "2       1.0        5  "
            ],
            "text/html": [
              "\n",
              "  <div id=\"df-2c869293-9f73-4052-b2ee-44f426d7af79\">\n",
              "    <div class=\"colab-df-container\">\n",
              "      <div>\n",
              "<style scoped>\n",
              "    .dataframe tbody tr th:only-of-type {\n",
              "        vertical-align: middle;\n",
              "    }\n",
              "\n",
              "    .dataframe tbody tr th {\n",
              "        vertical-align: top;\n",
              "    }\n",
              "\n",
              "    .dataframe thead th {\n",
              "        text-align: right;\n",
              "    }\n",
              "</style>\n",
              "<table border=\"1\" class=\"dataframe\">\n",
              "  <thead>\n",
              "    <tr style=\"text-align: right;\">\n",
              "      <th></th>\n",
              "      <th>reviewTime</th>\n",
              "      <th>reviewerID</th>\n",
              "      <th>reviewerName</th>\n",
              "      <th>asin</th>\n",
              "      <th>title</th>\n",
              "      <th>brand</th>\n",
              "      <th>main_category</th>\n",
              "      <th>plataform</th>\n",
              "      <th>specific_category</th>\n",
              "      <th>description</th>\n",
              "      <th>summary</th>\n",
              "      <th>feature</th>\n",
              "      <th>unixReviewTime</th>\n",
              "      <th>reviewText</th>\n",
              "      <th>verified</th>\n",
              "      <th>overall</th>\n",
              "    </tr>\n",
              "  </thead>\n",
              "  <tbody>\n",
              "    <tr>\n",
              "      <th>0</th>\n",
              "      <td>2018-01-02</td>\n",
              "      <td>A16FEXIKAPT24U</td>\n",
              "      <td>Nicholas Sabin</td>\n",
              "      <td>B00000JRSB</td>\n",
              "      <td>Final Fantasy VII</td>\n",
              "      <td>SquareSoft</td>\n",
              "      <td>Video Games</td>\n",
              "      <td>Retro Gaming</td>\n",
              "      <td>PlayStation</td>\n",
              "      <td>Long recognized as role-playing games par exce...</td>\n",
              "      <td>Game disc 1 was cracked</td>\n",
              "      <td>1 Player</td>\n",
              "      <td>1514851200</td>\n",
              "      <td>Game disc was cracked thats pretty lame</td>\n",
              "      <td>NaN</td>\n",
              "      <td>1</td>\n",
              "    </tr>\n",
              "    <tr>\n",
              "      <th>1</th>\n",
              "      <td>2018-01-02</td>\n",
              "      <td>A16FEXIKAPT24U</td>\n",
              "      <td>Nicholas Sabin</td>\n",
              "      <td>B00000JRSB</td>\n",
              "      <td>Final Fantasy VII</td>\n",
              "      <td>SquareSoft</td>\n",
              "      <td>Video Games</td>\n",
              "      <td>Retro Gaming</td>\n",
              "      <td>PlayStation</td>\n",
              "      <td>Long recognized as role-playing games par exce...</td>\n",
              "      <td>Game disc 1 was cracked</td>\n",
              "      <td>1 Player</td>\n",
              "      <td>1514851200</td>\n",
              "      <td>Game disc was cracked thats pretty lame</td>\n",
              "      <td>NaN</td>\n",
              "      <td>1</td>\n",
              "    </tr>\n",
              "    <tr>\n",
              "      <th>2</th>\n",
              "      <td>2018-01-02</td>\n",
              "      <td>A3ISBEPYLY8IMO</td>\n",
              "      <td>Jimmy</td>\n",
              "      <td>B00000JRSB</td>\n",
              "      <td>Final Fantasy VII</td>\n",
              "      <td>SquareSoft</td>\n",
              "      <td>Video Games</td>\n",
              "      <td>Retro Gaming</td>\n",
              "      <td>PlayStation</td>\n",
              "      <td>Long recognized as role-playing games par exce...</td>\n",
              "      <td>Received this in perfect condition. Great rese...</td>\n",
              "      <td>1 Player</td>\n",
              "      <td>1514851200</td>\n",
              "      <td>Received this in perfect condition. Great rese...</td>\n",
              "      <td>1.0</td>\n",
              "      <td>5</td>\n",
              "    </tr>\n",
              "  </tbody>\n",
              "</table>\n",
              "</div>\n",
              "      <button class=\"colab-df-convert\" onclick=\"convertToInteractive('df-2c869293-9f73-4052-b2ee-44f426d7af79')\"\n",
              "              title=\"Convert this dataframe to an interactive table.\"\n",
              "              style=\"display:none;\">\n",
              "        \n",
              "  <svg xmlns=\"http://www.w3.org/2000/svg\" height=\"24px\"viewBox=\"0 0 24 24\"\n",
              "       width=\"24px\">\n",
              "    <path d=\"M0 0h24v24H0V0z\" fill=\"none\"/>\n",
              "    <path d=\"M18.56 5.44l.94 2.06.94-2.06 2.06-.94-2.06-.94-.94-2.06-.94 2.06-2.06.94zm-11 1L8.5 8.5l.94-2.06 2.06-.94-2.06-.94L8.5 2.5l-.94 2.06-2.06.94zm10 10l.94 2.06.94-2.06 2.06-.94-2.06-.94-.94-2.06-.94 2.06-2.06.94z\"/><path d=\"M17.41 7.96l-1.37-1.37c-.4-.4-.92-.59-1.43-.59-.52 0-1.04.2-1.43.59L10.3 9.45l-7.72 7.72c-.78.78-.78 2.05 0 2.83L4 21.41c.39.39.9.59 1.41.59.51 0 1.02-.2 1.41-.59l7.78-7.78 2.81-2.81c.8-.78.8-2.07 0-2.86zM5.41 20L4 18.59l7.72-7.72 1.47 1.35L5.41 20z\"/>\n",
              "  </svg>\n",
              "      </button>\n",
              "      \n",
              "  <style>\n",
              "    .colab-df-container {\n",
              "      display:flex;\n",
              "      flex-wrap:wrap;\n",
              "      gap: 12px;\n",
              "    }\n",
              "\n",
              "    .colab-df-convert {\n",
              "      background-color: #E8F0FE;\n",
              "      border: none;\n",
              "      border-radius: 50%;\n",
              "      cursor: pointer;\n",
              "      display: none;\n",
              "      fill: #1967D2;\n",
              "      height: 32px;\n",
              "      padding: 0 0 0 0;\n",
              "      width: 32px;\n",
              "    }\n",
              "\n",
              "    .colab-df-convert:hover {\n",
              "      background-color: #E2EBFA;\n",
              "      box-shadow: 0px 1px 2px rgba(60, 64, 67, 0.3), 0px 1px 3px 1px rgba(60, 64, 67, 0.15);\n",
              "      fill: #174EA6;\n",
              "    }\n",
              "\n",
              "    [theme=dark] .colab-df-convert {\n",
              "      background-color: #3B4455;\n",
              "      fill: #D2E3FC;\n",
              "    }\n",
              "\n",
              "    [theme=dark] .colab-df-convert:hover {\n",
              "      background-color: #434B5C;\n",
              "      box-shadow: 0px 1px 3px 1px rgba(0, 0, 0, 0.15);\n",
              "      filter: drop-shadow(0px 1px 2px rgba(0, 0, 0, 0.3));\n",
              "      fill: #FFFFFF;\n",
              "    }\n",
              "  </style>\n",
              "\n",
              "      <script>\n",
              "        const buttonEl =\n",
              "          document.querySelector('#df-2c869293-9f73-4052-b2ee-44f426d7af79 button.colab-df-convert');\n",
              "        buttonEl.style.display =\n",
              "          google.colab.kernel.accessAllowed ? 'block' : 'none';\n",
              "\n",
              "        async function convertToInteractive(key) {\n",
              "          const element = document.querySelector('#df-2c869293-9f73-4052-b2ee-44f426d7af79');\n",
              "          const dataTable =\n",
              "            await google.colab.kernel.invokeFunction('convertToInteractive',\n",
              "                                                     [key], {});\n",
              "          if (!dataTable) return;\n",
              "\n",
              "          const docLinkHtml = 'Like what you see? Visit the ' +\n",
              "            '<a target=\"_blank\" href=https://colab.research.google.com/notebooks/data_table.ipynb>data table notebook</a>'\n",
              "            + ' to learn more about interactive tables.';\n",
              "          element.innerHTML = '';\n",
              "          dataTable['output_type'] = 'display_data';\n",
              "          await google.colab.output.renderOutput(dataTable, element);\n",
              "          const docLink = document.createElement('div');\n",
              "          docLink.innerHTML = docLinkHtml;\n",
              "          element.appendChild(docLink);\n",
              "        }\n",
              "      </script>\n",
              "    </div>\n",
              "  </div>\n",
              "  "
            ]
          },
          "metadata": {},
          "execution_count": 61
        }
      ]
    },
    {
      "cell_type": "markdown",
      "source": [
        "Verificar o percentual de Nulos do dataset final."
      ],
      "metadata": {
        "id": "aYmwJmrvbWOZ"
      }
    },
    {
      "cell_type": "code",
      "source": [
        "(df.isna().sum() / df.shape[0]).map(\"{:.2%}\".format)"
      ],
      "metadata": {
        "colab": {
          "base_uri": "https://localhost:8080/"
        },
        "outputId": "2b44056b-799f-4bb7-fdb0-d81d5edfb89d",
        "id": "NWRDCiaSbWOZ"
      },
      "execution_count": 62,
      "outputs": [
        {
          "output_type": "execute_result",
          "data": {
            "text/plain": [
              "reviewTime            0.00%\n",
              "reviewerID            0.00%\n",
              "reviewerName          0.01%\n",
              "asin                  0.00%\n",
              "title                 0.00%\n",
              "brand                 0.00%\n",
              "main_category         0.00%\n",
              "plataform             0.00%\n",
              "specific_category     2.92%\n",
              "description           8.70%\n",
              "summary               0.04%\n",
              "feature               5.38%\n",
              "unixReviewTime        0.00%\n",
              "reviewText            0.08%\n",
              "verified             15.69%\n",
              "overall               0.00%\n",
              "dtype: object"
            ]
          },
          "metadata": {},
          "execution_count": 62
        }
      ]
    },
    {
      "cell_type": "markdown",
      "source": [
        "O percentual de nulos é baixo, e sendo assim, vou optar por remover as linhas que tenham valores nulos já que o impacto será pequeno.\n",
        "\n",
        "Só não irei excluir os nulos da da variável **verified** pois faremos um algoritmo de classificação para preencher os dados faltantes desta coluna."
      ],
      "metadata": {
        "id": "O0fvGO64enpv"
      }
    },
    {
      "cell_type": "code",
      "source": [
        "df_cleaned = df.dropna(subset=['reviewerName', 'reviewText', 'summary', 'specific_category', 'description', 'feature'])"
      ],
      "metadata": {
        "id": "MGBnLUCzeGhA"
      },
      "execution_count": 63,
      "outputs": []
    },
    {
      "cell_type": "code",
      "source": [
        "(df_cleaned.isna().sum() / df_cleaned.shape[0]).map(\"{:.2%}\".format)"
      ],
      "metadata": {
        "colab": {
          "base_uri": "https://localhost:8080/"
        },
        "id": "jGaYOZtDefof",
        "outputId": "57464258-7592-4e69-bf0a-cdb5c0933151"
      },
      "execution_count": 64,
      "outputs": [
        {
          "output_type": "execute_result",
          "data": {
            "text/plain": [
              "reviewTime            0.00%\n",
              "reviewerID            0.00%\n",
              "reviewerName          0.00%\n",
              "asin                  0.00%\n",
              "title                 0.00%\n",
              "brand                 0.00%\n",
              "main_category         0.00%\n",
              "plataform             0.00%\n",
              "specific_category     0.00%\n",
              "description           0.00%\n",
              "summary               0.00%\n",
              "feature               0.00%\n",
              "unixReviewTime        0.00%\n",
              "reviewText            0.00%\n",
              "verified             15.73%\n",
              "overall               0.00%\n",
              "dtype: object"
            ]
          },
          "metadata": {},
          "execution_count": 64
        }
      ]
    },
    {
      "cell_type": "markdown",
      "source": [
        "Agora vou realizar uma análise no dataset final e depois selecionar as features para o modelo de classificação que usarei para classificar os valores faltantes do campo ***verified***."
      ],
      "metadata": {
        "id": "0Hk9qSd7bwQo"
      }
    },
    {
      "cell_type": "markdown",
      "source": [
        "# 4 - Análise Exploratória"
      ],
      "metadata": {
        "id": "cZUBzje_N4nv"
      }
    },
    {
      "cell_type": "code",
      "source": [
        "df_cleaned.head(2)"
      ],
      "metadata": {
        "colab": {
          "base_uri": "https://localhost:8080/",
          "height": 350
        },
        "id": "X_U6Br9ub2pH",
        "outputId": "3ce38695-ed86-4d4a-f9be-7fa2a50ff4d7"
      },
      "execution_count": 65,
      "outputs": [
        {
          "output_type": "execute_result",
          "data": {
            "text/plain": [
              "  reviewTime      reviewerID    reviewerName        asin              title  \\\n",
              "0 2018-01-02  A16FEXIKAPT24U  Nicholas Sabin  B00000JRSB  Final Fantasy VII   \n",
              "1 2018-01-02  A16FEXIKAPT24U  Nicholas Sabin  B00000JRSB  Final Fantasy VII   \n",
              "\n",
              "        brand main_category     plataform specific_category  \\\n",
              "0  SquareSoft   Video Games  Retro Gaming       PlayStation   \n",
              "1  SquareSoft   Video Games  Retro Gaming       PlayStation   \n",
              "\n",
              "                                         description                  summary  \\\n",
              "0  Long recognized as role-playing games par exce...  Game disc 1 was cracked   \n",
              "1  Long recognized as role-playing games par exce...  Game disc 1 was cracked   \n",
              "\n",
              "    feature  unixReviewTime                               reviewText  \\\n",
              "0  1 Player      1514851200  Game disc was cracked thats pretty lame   \n",
              "1  1 Player      1514851200  Game disc was cracked thats pretty lame   \n",
              "\n",
              "   verified  overall  \n",
              "0       NaN        1  \n",
              "1       NaN        1  "
            ],
            "text/html": [
              "\n",
              "  <div id=\"df-7710a925-594f-4860-9f73-cc5300b17db3\">\n",
              "    <div class=\"colab-df-container\">\n",
              "      <div>\n",
              "<style scoped>\n",
              "    .dataframe tbody tr th:only-of-type {\n",
              "        vertical-align: middle;\n",
              "    }\n",
              "\n",
              "    .dataframe tbody tr th {\n",
              "        vertical-align: top;\n",
              "    }\n",
              "\n",
              "    .dataframe thead th {\n",
              "        text-align: right;\n",
              "    }\n",
              "</style>\n",
              "<table border=\"1\" class=\"dataframe\">\n",
              "  <thead>\n",
              "    <tr style=\"text-align: right;\">\n",
              "      <th></th>\n",
              "      <th>reviewTime</th>\n",
              "      <th>reviewerID</th>\n",
              "      <th>reviewerName</th>\n",
              "      <th>asin</th>\n",
              "      <th>title</th>\n",
              "      <th>brand</th>\n",
              "      <th>main_category</th>\n",
              "      <th>plataform</th>\n",
              "      <th>specific_category</th>\n",
              "      <th>description</th>\n",
              "      <th>summary</th>\n",
              "      <th>feature</th>\n",
              "      <th>unixReviewTime</th>\n",
              "      <th>reviewText</th>\n",
              "      <th>verified</th>\n",
              "      <th>overall</th>\n",
              "    </tr>\n",
              "  </thead>\n",
              "  <tbody>\n",
              "    <tr>\n",
              "      <th>0</th>\n",
              "      <td>2018-01-02</td>\n",
              "      <td>A16FEXIKAPT24U</td>\n",
              "      <td>Nicholas Sabin</td>\n",
              "      <td>B00000JRSB</td>\n",
              "      <td>Final Fantasy VII</td>\n",
              "      <td>SquareSoft</td>\n",
              "      <td>Video Games</td>\n",
              "      <td>Retro Gaming</td>\n",
              "      <td>PlayStation</td>\n",
              "      <td>Long recognized as role-playing games par exce...</td>\n",
              "      <td>Game disc 1 was cracked</td>\n",
              "      <td>1 Player</td>\n",
              "      <td>1514851200</td>\n",
              "      <td>Game disc was cracked thats pretty lame</td>\n",
              "      <td>NaN</td>\n",
              "      <td>1</td>\n",
              "    </tr>\n",
              "    <tr>\n",
              "      <th>1</th>\n",
              "      <td>2018-01-02</td>\n",
              "      <td>A16FEXIKAPT24U</td>\n",
              "      <td>Nicholas Sabin</td>\n",
              "      <td>B00000JRSB</td>\n",
              "      <td>Final Fantasy VII</td>\n",
              "      <td>SquareSoft</td>\n",
              "      <td>Video Games</td>\n",
              "      <td>Retro Gaming</td>\n",
              "      <td>PlayStation</td>\n",
              "      <td>Long recognized as role-playing games par exce...</td>\n",
              "      <td>Game disc 1 was cracked</td>\n",
              "      <td>1 Player</td>\n",
              "      <td>1514851200</td>\n",
              "      <td>Game disc was cracked thats pretty lame</td>\n",
              "      <td>NaN</td>\n",
              "      <td>1</td>\n",
              "    </tr>\n",
              "  </tbody>\n",
              "</table>\n",
              "</div>\n",
              "      <button class=\"colab-df-convert\" onclick=\"convertToInteractive('df-7710a925-594f-4860-9f73-cc5300b17db3')\"\n",
              "              title=\"Convert this dataframe to an interactive table.\"\n",
              "              style=\"display:none;\">\n",
              "        \n",
              "  <svg xmlns=\"http://www.w3.org/2000/svg\" height=\"24px\"viewBox=\"0 0 24 24\"\n",
              "       width=\"24px\">\n",
              "    <path d=\"M0 0h24v24H0V0z\" fill=\"none\"/>\n",
              "    <path d=\"M18.56 5.44l.94 2.06.94-2.06 2.06-.94-2.06-.94-.94-2.06-.94 2.06-2.06.94zm-11 1L8.5 8.5l.94-2.06 2.06-.94-2.06-.94L8.5 2.5l-.94 2.06-2.06.94zm10 10l.94 2.06.94-2.06 2.06-.94-2.06-.94-.94-2.06-.94 2.06-2.06.94z\"/><path d=\"M17.41 7.96l-1.37-1.37c-.4-.4-.92-.59-1.43-.59-.52 0-1.04.2-1.43.59L10.3 9.45l-7.72 7.72c-.78.78-.78 2.05 0 2.83L4 21.41c.39.39.9.59 1.41.59.51 0 1.02-.2 1.41-.59l7.78-7.78 2.81-2.81c.8-.78.8-2.07 0-2.86zM5.41 20L4 18.59l7.72-7.72 1.47 1.35L5.41 20z\"/>\n",
              "  </svg>\n",
              "      </button>\n",
              "      \n",
              "  <style>\n",
              "    .colab-df-container {\n",
              "      display:flex;\n",
              "      flex-wrap:wrap;\n",
              "      gap: 12px;\n",
              "    }\n",
              "\n",
              "    .colab-df-convert {\n",
              "      background-color: #E8F0FE;\n",
              "      border: none;\n",
              "      border-radius: 50%;\n",
              "      cursor: pointer;\n",
              "      display: none;\n",
              "      fill: #1967D2;\n",
              "      height: 32px;\n",
              "      padding: 0 0 0 0;\n",
              "      width: 32px;\n",
              "    }\n",
              "\n",
              "    .colab-df-convert:hover {\n",
              "      background-color: #E2EBFA;\n",
              "      box-shadow: 0px 1px 2px rgba(60, 64, 67, 0.3), 0px 1px 3px 1px rgba(60, 64, 67, 0.15);\n",
              "      fill: #174EA6;\n",
              "    }\n",
              "\n",
              "    [theme=dark] .colab-df-convert {\n",
              "      background-color: #3B4455;\n",
              "      fill: #D2E3FC;\n",
              "    }\n",
              "\n",
              "    [theme=dark] .colab-df-convert:hover {\n",
              "      background-color: #434B5C;\n",
              "      box-shadow: 0px 1px 3px 1px rgba(0, 0, 0, 0.15);\n",
              "      filter: drop-shadow(0px 1px 2px rgba(0, 0, 0, 0.3));\n",
              "      fill: #FFFFFF;\n",
              "    }\n",
              "  </style>\n",
              "\n",
              "      <script>\n",
              "        const buttonEl =\n",
              "          document.querySelector('#df-7710a925-594f-4860-9f73-cc5300b17db3 button.colab-df-convert');\n",
              "        buttonEl.style.display =\n",
              "          google.colab.kernel.accessAllowed ? 'block' : 'none';\n",
              "\n",
              "        async function convertToInteractive(key) {\n",
              "          const element = document.querySelector('#df-7710a925-594f-4860-9f73-cc5300b17db3');\n",
              "          const dataTable =\n",
              "            await google.colab.kernel.invokeFunction('convertToInteractive',\n",
              "                                                     [key], {});\n",
              "          if (!dataTable) return;\n",
              "\n",
              "          const docLinkHtml = 'Like what you see? Visit the ' +\n",
              "            '<a target=\"_blank\" href=https://colab.research.google.com/notebooks/data_table.ipynb>data table notebook</a>'\n",
              "            + ' to learn more about interactive tables.';\n",
              "          element.innerHTML = '';\n",
              "          dataTable['output_type'] = 'display_data';\n",
              "          await google.colab.output.renderOutput(dataTable, element);\n",
              "          const docLink = document.createElement('div');\n",
              "          docLink.innerHTML = docLinkHtml;\n",
              "          element.appendChild(docLink);\n",
              "        }\n",
              "      </script>\n",
              "    </div>\n",
              "  </div>\n",
              "  "
            ]
          },
          "metadata": {},
          "execution_count": 65
        }
      ]
    },
    {
      "cell_type": "markdown",
      "source": [
        "A distribuição das verificações das avaliações"
      ],
      "metadata": {
        "id": "askM8lMkGQFn"
      }
    },
    {
      "cell_type": "code",
      "source": [
        "verifieds = df_cleaned['verified'].value_counts().reset_index()\n",
        "\n",
        "plt.title('Avaliações Verificadas')\n",
        "sns.barplot(x='index', y='verified', data=verifieds)\n",
        "plt.xlabel('Verificados')\n",
        "plt.ylabel('Quantidade')\n",
        "plt.show()"
      ],
      "metadata": {
        "colab": {
          "base_uri": "https://localhost:8080/",
          "height": 537
        },
        "outputId": "227264c9-42a6-403e-adff-5e7d2a9b7311",
        "id": "bmo9K2pZGQFo"
      },
      "execution_count": 106,
      "outputs": [
        {
          "output_type": "display_data",
          "data": {
            "text/plain": [
              "<Figure size 864x576 with 1 Axes>"
            ],
            "image/png": "[encoded data removed]"
          },
          "metadata": {}
        }
      ]
    },
    {
      "cell_type": "markdown",
      "source": [
        "A distribuição das notas dos reviews mostra que a grande maioria são notas máximas (5 estrelas)"
      ],
      "metadata": {
        "id": "ckan3iFASEx5"
      }
    },
    {
      "cell_type": "code",
      "source": [
        "reviews = df_cleaned['overall'].value_counts().reset_index()\n",
        "\n",
        "plt.title('Reviews')\n",
        "sns.barplot(x='index', y='overall', data=reviews)\n",
        "plt.xlabel('Notas')\n",
        "plt.ylabel('Quantidade')\n",
        "plt.show()"
      ],
      "metadata": {
        "colab": {
          "base_uri": "https://localhost:8080/",
          "height": 537
        },
        "id": "Tcp5UUfQOCJS",
        "outputId": "4de3d8ec-7f1f-4e46-e7b3-d2b9d75b46d4"
      },
      "execution_count": 66,
      "outputs": [
        {
          "output_type": "display_data",
          "data": {
            "text/plain": [
              "<Figure size 864x576 with 1 Axes>"
            ],
            "image/png": "[encoded data removed]"
          },
          "metadata": {}
        }
      ]
    },
    {
      "cell_type": "markdown",
      "source": [
        "Os 10 usuários que mais realizaram avaliações."
      ],
      "metadata": {
        "id": "Ezp-4znxZw-f"
      }
    },
    {
      "cell_type": "code",
      "source": [
        "top_10_users = df_cleaned['reviewerID'].value_counts()[:10].reset_index()\n",
        "\n",
        "plt.title('10 usuários com mais avaliações realizadas')\n",
        "sns.barplot(x='index', y='reviewerID', data=top_10_users)\n",
        "plt.xticks(rotation = 90)\n",
        "plt.xlabel('Qtd Users')\n",
        "plt.ylabel('Avaliações')\n",
        "plt.show()"
      ],
      "metadata": {
        "colab": {
          "base_uri": "https://localhost:8080/",
          "height": 658
        },
        "id": "gf_L2ImTSUhm",
        "outputId": "c8ee7492-7647-4b9d-aeb2-3ef3a98099da"
      },
      "execution_count": 67,
      "outputs": [
        {
          "output_type": "display_data",
          "data": {
            "text/plain": [
              "<Figure size 864x576 with 1 Axes>"
            ],
            "image/png": "[encoded data removed]"
          },
          "metadata": {}
        }
      ]
    },
    {
      "cell_type": "markdown",
      "source": [
        " Os 10 itens com o maior número de avaliações (não necessariamente positivas)"
      ],
      "metadata": {
        "id": "d0A0ELkoZ3AG"
      }
    },
    {
      "cell_type": "code",
      "source": [
        "top_10_items = df_cleaned['asin'].value_counts()[:10].reset_index()\n",
        "\n",
        "plt.title('10 itens com mais avaliações')\n",
        "sns.barplot(x='index', y='asin', data=top_10_items)\n",
        "plt.xticks(rotation = 90)\n",
        "plt.xlabel('Itens')\n",
        "plt.ylabel('Qtd Avaliações')\n",
        "plt.show()"
      ],
      "metadata": {
        "colab": {
          "base_uri": "https://localhost:8080/",
          "height": 619
        },
        "id": "ihfq3vgmZ2R4",
        "outputId": "dc179c55-5f19-4c71-93cb-8a7c89649013"
      },
      "execution_count": 68,
      "outputs": [
        {
          "output_type": "display_data",
          "data": {
            "text/plain": [
              "<Figure size 864x576 with 1 Axes>"
            ],
            "image/png": "[encoded data removed]"
          },
          "metadata": {}
        }
      ]
    },
    {
      "cell_type": "markdown",
      "source": [
        "A grande maioria dos itens são da categoria Video Game e bem abaixo temos PC em segundo lugar"
      ],
      "metadata": {
        "id": "bOR1rtYcasuL"
      }
    },
    {
      "cell_type": "code",
      "source": [
        "categories = df_cleaned['main_category'].value_counts().reset_index()\n",
        "\n",
        "plt.title('Categoria dos Itens')\n",
        "sns.barplot(x='index', y='main_category', data=categories)\n",
        "plt.xlabel('Categorias')\n",
        "plt.ylabel('Quantidade')\n",
        "plt.show()"
      ],
      "metadata": {
        "colab": {
          "base_uri": "https://localhost:8080/",
          "height": 537
        },
        "id": "TWu9LDr9b9qc",
        "outputId": "ccd1d8c1-809b-48af-85e9-84bb2c3761f3"
      },
      "execution_count": 69,
      "outputs": [
        {
          "output_type": "display_data",
          "data": {
            "text/plain": [
              "<Figure size 864x576 with 1 Axes>"
            ],
            "image/png": "[encoded data removed]"
          },
          "metadata": {}
        }
      ]
    },
    {
      "cell_type": "markdown",
      "source": [
        "A plataforma com maior número absoluto é PC.\n",
        "\n",
        "Mas como visto anteriormente, a categoria de maior peso são os Video-Games.\n",
        "\n",
        "Como tem vários modelos de video-games, eles juntos estão em maior número absolut."
      ],
      "metadata": {
        "id": "kJqhd8v2co1U"
      }
    },
    {
      "cell_type": "code",
      "source": [
        "plataforms = df_cleaned['plataform'].value_counts().reset_index()\n",
        "\n",
        "plt.title('Plataforma dos Itens')\n",
        "sns.barplot(x='plataform', y='index', data=plataforms)\n",
        "plt.xlabel('Quantidade')\n",
        "plt.ylabel('')\n",
        "plt.show()"
      ],
      "metadata": {
        "colab": {
          "base_uri": "https://localhost:8080/",
          "height": 537
        },
        "id": "eIE6aPS_cpBD",
        "outputId": "0bc20407-bb73-43f8-bc04-a3801c5ada9f"
      },
      "execution_count": 70,
      "outputs": [
        {
          "output_type": "display_data",
          "data": {
            "text/plain": [
              "<Figure size 864x576 with 1 Axes>"
            ],
            "image/png": "[encoded data removed]"
          },
          "metadata": {}
        }
      ]
    },
    {
      "cell_type": "markdown",
      "source": [
        "A maioria são Acessórios, seguido de Games e Outros"
      ],
      "metadata": {
        "id": "inQhWygIdw87"
      }
    },
    {
      "cell_type": "code",
      "source": [
        "consoles = df_cleaned['specific_category'].value_counts().reset_index()\n",
        "\n",
        "plt.title('Categoria Específica dos Itens')\n",
        "sns.barplot(x='specific_category', y='index', data=consoles)\n",
        "plt.xlabel('Quantidade')\n",
        "plt.ylabel('')\n",
        "plt.show()"
      ],
      "metadata": {
        "colab": {
          "base_uri": "https://localhost:8080/",
          "height": 538
        },
        "id": "wuagUDIxdxIR",
        "outputId": "8e235721-aa5d-488d-90c1-1dd187f1c463"
      },
      "execution_count": 71,
      "outputs": [
        {
          "output_type": "display_data",
          "data": {
            "text/plain": [
              "<Figure size 864x576 with 1 Axes>"
            ],
            "image/png": "[encoded data removed]"
          },
          "metadata": {}
        }
      ]
    },
    {
      "cell_type": "markdown",
      "source": [
        "Distribuição das marcas dos itens.\n",
        "\n",
        "Nintendo, Microsoft e Sony lideram."
      ],
      "metadata": {
        "id": "hLxYUiBjhJHq"
      }
    },
    {
      "cell_type": "code",
      "source": [
        "brands = df_cleaned['brand'].value_counts().reset_index()\n",
        "\n",
        "plt.title('Marca dos Itens')\n",
        "sns.barplot(x='brand', y='index', data=brands)\n",
        "plt.xlabel('Quantidade')\n",
        "plt.ylabel('')\n",
        "plt.show()"
      ],
      "metadata": {
        "colab": {
          "base_uri": "https://localhost:8080/",
          "height": 537
        },
        "id": "e3jBuyFwhJR2",
        "outputId": "b0bd9d58-abca-49b2-8174-f441d8badeb6"
      },
      "execution_count": 72,
      "outputs": [
        {
          "output_type": "display_data",
          "data": {
            "text/plain": [
              "<Figure size 864x576 with 1 Axes>"
            ],
            "image/png": "[encoded data removed]"
          },
          "metadata": {}
        }
      ]
    },
    {
      "cell_type": "markdown",
      "source": [
        "# 5 - Modeling - Classificação dos valores nulos no campo verified"
      ],
      "metadata": {
        "id": "ApLG7itQmMjp"
      }
    },
    {
      "cell_type": "markdown",
      "source": [
        "Vou rodar 3 modelos com a implementação padrão:\n",
        "\n",
        "1.   Decision Tree\n",
        "1.   Random Forest\n",
        "1.   Gradient Boosting\n",
        "1.   XGBoosting\n",
        "\n",
        "Após avaliar suas métricas, vou escolher o com melhor desempenho e realizar um tunning utilizando o GridSearchCV do Scikit Learn.\n",
        "\n",
        "Depois vou realizar a classificação dos campo verified nulos utilizando o modelo otimizado.\n",
        "\n",
        "\n"
      ],
      "metadata": {
        "id": "uFE2XmTRxfrr"
      }
    },
    {
      "cell_type": "code",
      "source": [
        "df_cleaned.shape"
      ],
      "metadata": {
        "colab": {
          "base_uri": "https://localhost:8080/"
        },
        "id": "bsly1KC5mSC9",
        "outputId": "67ae6b57-80b4-4a44-e556-a49beb993db6"
      },
      "execution_count": 73,
      "outputs": [
        {
          "output_type": "execute_result",
          "data": {
            "text/plain": [
              "(374973, 16)"
            ]
          },
          "metadata": {},
          "execution_count": 73
        }
      ]
    },
    {
      "cell_type": "code",
      "source": [
        "df_cleaned.head(2)"
      ],
      "metadata": {
        "colab": {
          "base_uri": "https://localhost:8080/",
          "height": 350
        },
        "id": "gynIdDLZd_lP",
        "outputId": "08e2e08c-ec25-4729-d483-8138169df515"
      },
      "execution_count": 74,
      "outputs": [
        {
          "output_type": "execute_result",
          "data": {
            "text/plain": [
              "  reviewTime      reviewerID    reviewerName        asin              title  \\\n",
              "0 2018-01-02  A16FEXIKAPT24U  Nicholas Sabin  B00000JRSB  Final Fantasy VII   \n",
              "1 2018-01-02  A16FEXIKAPT24U  Nicholas Sabin  B00000JRSB  Final Fantasy VII   \n",
              "\n",
              "        brand main_category     plataform specific_category  \\\n",
              "0  SquareSoft   Video Games  Retro Gaming       PlayStation   \n",
              "1  SquareSoft   Video Games  Retro Gaming       PlayStation   \n",
              "\n",
              "                                         description                  summary  \\\n",
              "0  Long recognized as role-playing games par exce...  Game disc 1 was cracked   \n",
              "1  Long recognized as role-playing games par exce...  Game disc 1 was cracked   \n",
              "\n",
              "    feature  unixReviewTime                               reviewText  \\\n",
              "0  1 Player      1514851200  Game disc was cracked thats pretty lame   \n",
              "1  1 Player      1514851200  Game disc was cracked thats pretty lame   \n",
              "\n",
              "   verified  overall  \n",
              "0       NaN        1  \n",
              "1       NaN        1  "
            ],
            "text/html": [
              "\n",
              "  <div id=\"df-130d1008-ff88-4095-afb8-0f7985e642bb\">\n",
              "    <div class=\"colab-df-container\">\n",
              "      <div>\n",
              "<style scoped>\n",
              "    .dataframe tbody tr th:only-of-type {\n",
              "        vertical-align: middle;\n",
              "    }\n",
              "\n",
              "    .dataframe tbody tr th {\n",
              "        vertical-align: top;\n",
              "    }\n",
              "\n",
              "    .dataframe thead th {\n",
              "        text-align: right;\n",
              "    }\n",
              "</style>\n",
              "<table border=\"1\" class=\"dataframe\">\n",
              "  <thead>\n",
              "    <tr style=\"text-align: right;\">\n",
              "      <th></th>\n",
              "      <th>reviewTime</th>\n",
              "      <th>reviewerID</th>\n",
              "      <th>reviewerName</th>\n",
              "      <th>asin</th>\n",
              "      <th>title</th>\n",
              "      <th>brand</th>\n",
              "      <th>main_category</th>\n",
              "      <th>plataform</th>\n",
              "      <th>specific_category</th>\n",
              "      <th>description</th>\n",
              "      <th>summary</th>\n",
              "      <th>feature</th>\n",
              "      <th>unixReviewTime</th>\n",
              "      <th>reviewText</th>\n",
              "      <th>verified</th>\n",
              "      <th>overall</th>\n",
              "    </tr>\n",
              "  </thead>\n",
              "  <tbody>\n",
              "    <tr>\n",
              "      <th>0</th>\n",
              "      <td>2018-01-02</td>\n",
              "      <td>A16FEXIKAPT24U</td>\n",
              "      <td>Nicholas Sabin</td>\n",
              "      <td>B00000JRSB</td>\n",
              "      <td>Final Fantasy VII</td>\n",
              "      <td>SquareSoft</td>\n",
              "      <td>Video Games</td>\n",
              "      <td>Retro Gaming</td>\n",
              "      <td>PlayStation</td>\n",
              "      <td>Long recognized as role-playing games par exce...</td>\n",
              "      <td>Game disc 1 was cracked</td>\n",
              "      <td>1 Player</td>\n",
              "      <td>1514851200</td>\n",
              "      <td>Game disc was cracked thats pretty lame</td>\n",
              "      <td>NaN</td>\n",
              "      <td>1</td>\n",
              "    </tr>\n",
              "    <tr>\n",
              "      <th>1</th>\n",
              "      <td>2018-01-02</td>\n",
              "      <td>A16FEXIKAPT24U</td>\n",
              "      <td>Nicholas Sabin</td>\n",
              "      <td>B00000JRSB</td>\n",
              "      <td>Final Fantasy VII</td>\n",
              "      <td>SquareSoft</td>\n",
              "      <td>Video Games</td>\n",
              "      <td>Retro Gaming</td>\n",
              "      <td>PlayStation</td>\n",
              "      <td>Long recognized as role-playing games par exce...</td>\n",
              "      <td>Game disc 1 was cracked</td>\n",
              "      <td>1 Player</td>\n",
              "      <td>1514851200</td>\n",
              "      <td>Game disc was cracked thats pretty lame</td>\n",
              "      <td>NaN</td>\n",
              "      <td>1</td>\n",
              "    </tr>\n",
              "  </tbody>\n",
              "</table>\n",
              "</div>\n",
              "      <button class=\"colab-df-convert\" onclick=\"convertToInteractive('df-130d1008-ff88-4095-afb8-0f7985e642bb')\"\n",
              "              title=\"Convert this dataframe to an interactive table.\"\n",
              "              style=\"display:none;\">\n",
              "        \n",
              "  <svg xmlns=\"http://www.w3.org/2000/svg\" height=\"24px\"viewBox=\"0 0 24 24\"\n",
              "       width=\"24px\">\n",
              "    <path d=\"M0 0h24v24H0V0z\" fill=\"none\"/>\n",
              "    <path d=\"M18.56 5.44l.94 2.06.94-2.06 2.06-.94-2.06-.94-.94-2.06-.94 2.06-2.06.94zm-11 1L8.5 8.5l.94-2.06 2.06-.94-2.06-.94L8.5 2.5l-.94 2.06-2.06.94zm10 10l.94 2.06.94-2.06 2.06-.94-2.06-.94-.94-2.06-.94 2.06-2.06.94z\"/><path d=\"M17.41 7.96l-1.37-1.37c-.4-.4-.92-.59-1.43-.59-.52 0-1.04.2-1.43.59L10.3 9.45l-7.72 7.72c-.78.78-.78 2.05 0 2.83L4 21.41c.39.39.9.59 1.41.59.51 0 1.02-.2 1.41-.59l7.78-7.78 2.81-2.81c.8-.78.8-2.07 0-2.86zM5.41 20L4 18.59l7.72-7.72 1.47 1.35L5.41 20z\"/>\n",
              "  </svg>\n",
              "      </button>\n",
              "      \n",
              "  <style>\n",
              "    .colab-df-container {\n",
              "      display:flex;\n",
              "      flex-wrap:wrap;\n",
              "      gap: 12px;\n",
              "    }\n",
              "\n",
              "    .colab-df-convert {\n",
              "      background-color: #E8F0FE;\n",
              "      border: none;\n",
              "      border-radius: 50%;\n",
              "      cursor: pointer;\n",
              "      display: none;\n",
              "      fill: #1967D2;\n",
              "      height: 32px;\n",
              "      padding: 0 0 0 0;\n",
              "      width: 32px;\n",
              "    }\n",
              "\n",
              "    .colab-df-convert:hover {\n",
              "      background-color: #E2EBFA;\n",
              "      box-shadow: 0px 1px 2px rgba(60, 64, 67, 0.3), 0px 1px 3px 1px rgba(60, 64, 67, 0.15);\n",
              "      fill: #174EA6;\n",
              "    }\n",
              "\n",
              "    [theme=dark] .colab-df-convert {\n",
              "      background-color: #3B4455;\n",
              "      fill: #D2E3FC;\n",
              "    }\n",
              "\n",
              "    [theme=dark] .colab-df-convert:hover {\n",
              "      background-color: #434B5C;\n",
              "      box-shadow: 0px 1px 3px 1px rgba(0, 0, 0, 0.15);\n",
              "      filter: drop-shadow(0px 1px 2px rgba(0, 0, 0, 0.3));\n",
              "      fill: #FFFFFF;\n",
              "    }\n",
              "  </style>\n",
              "\n",
              "      <script>\n",
              "        const buttonEl =\n",
              "          document.querySelector('#df-130d1008-ff88-4095-afb8-0f7985e642bb button.colab-df-convert');\n",
              "        buttonEl.style.display =\n",
              "          google.colab.kernel.accessAllowed ? 'block' : 'none';\n",
              "\n",
              "        async function convertToInteractive(key) {\n",
              "          const element = document.querySelector('#df-130d1008-ff88-4095-afb8-0f7985e642bb');\n",
              "          const dataTable =\n",
              "            await google.colab.kernel.invokeFunction('convertToInteractive',\n",
              "                                                     [key], {});\n",
              "          if (!dataTable) return;\n",
              "\n",
              "          const docLinkHtml = 'Like what you see? Visit the ' +\n",
              "            '<a target=\"_blank\" href=https://colab.research.google.com/notebooks/data_table.ipynb>data table notebook</a>'\n",
              "            + ' to learn more about interactive tables.';\n",
              "          element.innerHTML = '';\n",
              "          dataTable['output_type'] = 'display_data';\n",
              "          await google.colab.output.renderOutput(dataTable, element);\n",
              "          const docLink = document.createElement('div');\n",
              "          docLink.innerHTML = docLinkHtml;\n",
              "          element.appendChild(docLink);\n",
              "        }\n",
              "      </script>\n",
              "    </div>\n",
              "  </div>\n",
              "  "
            ]
          },
          "metadata": {},
          "execution_count": 74
        }
      ]
    },
    {
      "cell_type": "markdown",
      "source": [
        "**Selecionando as features**"
      ],
      "metadata": {
        "id": "_K7LsrJVkDst"
      }
    },
    {
      "cell_type": "code",
      "source": [
        "# Função para a seleção das fetures\n",
        "def feature_selection(df):\n",
        "  # Excluindo do X colunas que não entrarão no modelo e setando o y com os valores de verified.\n",
        "  X = df.drop(columns=['reviewTime', 'reviewerID', 'reviewerName', 'asin',\n",
        "                       'title', 'description', 'summary', 'feature', 'reviewText', 'verified'])\n",
        "  # Realizar o One Hot Encoding das variáveis categóricas\n",
        "  X = pd.get_dummies(X)\n",
        "  # Setando a variável verified como target\n",
        "  y = df['verified']\n",
        "  return X, y"
      ],
      "metadata": {
        "id": "RoXeQme0sZDP"
      },
      "execution_count": 75,
      "outputs": []
    },
    {
      "cell_type": "code",
      "source": [
        "# Separando os datasets\n",
        "# Filtrando para a modelagem apenas os dados que tem o campo verified preenchido\n",
        "# E deixando os que tem o campo nulo para a classificação\n",
        "df_model = df_cleaned[~df_cleaned['verified'].isna()]\n",
        "df_classification = df_cleaned[df_cleaned['verified'].isna()]"
      ],
      "metadata": {
        "id": "yf21DMdplWoW"
      },
      "execution_count": 76,
      "outputs": []
    },
    {
      "cell_type": "code",
      "execution_count": 77,
      "metadata": {
        "id": "PHVpbTNEmCTN"
      },
      "outputs": [],
      "source": [
        "X , y = feature_selection(df_model)"
      ]
    },
    {
      "cell_type": "code",
      "source": [
        "print(X.shape)\n",
        "print(y.shape)"
      ],
      "metadata": {
        "colab": {
          "base_uri": "https://localhost:8080/"
        },
        "id": "7WwCgk7k_M1m",
        "outputId": "753c3575-fb93-4fc1-cd4c-13ca017ead64"
      },
      "execution_count": 78,
      "outputs": [
        {
          "output_type": "stream",
          "name": "stdout",
          "text": [
            "(316006, 51)\n",
            "(316006,)\n"
          ]
        }
      ]
    },
    {
      "cell_type": "markdown",
      "source": [
        "**Listar para guardar os resultados dos modelos testados.**"
      ],
      "metadata": {
        "id": "HgsGwBa9m6PJ"
      }
    },
    {
      "cell_type": "code",
      "source": [
        "scores_list = []\n",
        "models_list = []"
      ],
      "metadata": {
        "id": "mEf7uSdxuEOJ"
      },
      "execution_count": 79,
      "outputs": []
    },
    {
      "cell_type": "markdown",
      "metadata": {
        "id": "feYfbA5eF4v8"
      },
      "source": [
        "**Train Test Split**"
      ]
    },
    {
      "cell_type": "code",
      "execution_count": 80,
      "metadata": {
        "id": "MNtdT2wDl-Jg"
      },
      "outputs": [],
      "source": [
        "X_train, X_test, y_train, y_test = train_test_split(X, y, test_size=0.20, random_state=42)"
      ]
    },
    {
      "cell_type": "code",
      "execution_count": 81,
      "metadata": {
        "colab": {
          "base_uri": "https://localhost:8080/"
        },
        "id": "k4I28YPWKkAF",
        "outputId": "b3b49152-d7aa-48f1-dba9-1c23b9796a0c"
      },
      "outputs": [
        {
          "output_type": "execute_result",
          "data": {
            "text/plain": [
              "((252804, 51), (63202, 51), (252804,), (63202,))"
            ]
          },
          "metadata": {},
          "execution_count": 81
        }
      ],
      "source": [
        "X_train.shape, X_test.shape, y_train.shape, y_test.shape"
      ]
    },
    {
      "cell_type": "markdown",
      "source": [
        "### 5.1 Decision Tree"
      ],
      "metadata": {
        "id": "6uOxLyNZi6Nw"
      }
    },
    {
      "cell_type": "code",
      "execution_count": 82,
      "metadata": {
        "colab": {
          "base_uri": "https://localhost:8080/"
        },
        "outputId": "b29e181e-d8d9-443f-ed16-76d2a6f65c50",
        "id": "tBYCMr1_jGLX"
      },
      "outputs": [
        {
          "output_type": "execute_result",
          "data": {
            "text/plain": [
              "DecisionTreeClassifier()"
            ]
          },
          "metadata": {},
          "execution_count": 82
        }
      ],
      "source": [
        "clf_DTC = DecisionTreeClassifier()\n",
        "clf_DTC.fit(X_train, y_train)"
      ]
    },
    {
      "cell_type": "code",
      "execution_count": 83,
      "metadata": {
        "colab": {
          "base_uri": "https://localhost:8080/"
        },
        "outputId": "b2b993bf-ad55-42d0-d935-8a9e4471c502",
        "id": "6V4NsbYPjGLY"
      },
      "outputs": [
        {
          "output_type": "stream",
          "name": "stdout",
          "text": [
            "Acurácia: 82.26%\n",
            "F-1 Score: 88.92%\n",
            "Recall: 88.53%\n",
            "Precision: 89.31%\n"
          ]
        }
      ],
      "source": [
        "y_pred_DTC = clf_DTC.predict(X_test)\n",
        "\n",
        "acuracia_DTC = accuracy_score(y_test, y_pred_DTC)\n",
        "f1_score_DTC = f1_score(y_test, y_pred_DTC)\n",
        "recall_DTC = recall_score(y_test, y_pred_DTC)\n",
        "precision_DTC = precision_score(y_test, y_pred_DTC)\n",
        "\n",
        "models_list.append('Decision Tree')\n",
        "scores_list.append({'acuracia': acuracia_DTC, 'f1-score': f1_score_DTC, 'recall': recall_DTC, 'precision': precision_DTC})\n",
        "\n",
        "print(f'Acurácia: {acuracia_DTC:.2%}')\n",
        "print(f'F-1 Score: {f1_score_DTC:.2%}')\n",
        "print(f'Recall: {recall_DTC:.2%}')\n",
        "print(f'Precision: {precision_DTC:.2%}')"
      ]
    },
    {
      "cell_type": "markdown",
      "source": [
        "### 5.2 Random Forest"
      ],
      "metadata": {
        "id": "bJYNTwyciPRT"
      }
    },
    {
      "cell_type": "code",
      "execution_count": 84,
      "metadata": {
        "colab": {
          "base_uri": "https://localhost:8080/"
        },
        "id": "qQwhJojkHgUF",
        "outputId": "90fb52c2-2866-444d-e0ad-aedd00953d98"
      },
      "outputs": [
        {
          "output_type": "execute_result",
          "data": {
            "text/plain": [
              "RandomForestClassifier()"
            ]
          },
          "metadata": {},
          "execution_count": 84
        }
      ],
      "source": [
        "clf_RFC = RandomForestClassifier()\n",
        "clf_RFC.fit(X_train, y_train)"
      ]
    },
    {
      "cell_type": "code",
      "execution_count": 85,
      "metadata": {
        "colab": {
          "base_uri": "https://localhost:8080/"
        },
        "id": "PmMXqgh3H_5u",
        "outputId": "862623a2-7852-46e7-8a81-5eb016bc9709"
      },
      "outputs": [
        {
          "output_type": "stream",
          "name": "stdout",
          "text": [
            "Acurácia: 83.87%\n",
            "F-1 Score: 90.10%\n",
            "Recall: 91.24%\n",
            "Precision: 88.98%\n"
          ]
        }
      ],
      "source": [
        "y_pred_RFC = clf_RFC.predict(X_test)\n",
        "\n",
        "acuracia_RF = accuracy_score(y_test, y_pred_RFC)\n",
        "f1_score_RF = f1_score(y_test, y_pred_RFC)\n",
        "recall_RF = recall_score(y_test, y_pred_RFC)\n",
        "precision_RF = precision_score(y_test, y_pred_RFC)\n",
        "\n",
        "models_list.append('RandomForest')\n",
        "scores_list.append({'acuracia': acuracia_RF, 'f1-score': f1_score_RF, 'recall': recall_RF, 'precision': precision_RF})\n",
        "\n",
        "print(f'Acurácia: {acuracia_RF:.2%}')\n",
        "print(f'F-1 Score: {f1_score_RF:.2%}')\n",
        "print(f'Recall: {recall_RF:.2%}')\n",
        "print(f'Precision: {precision_RF:.2%}')"
      ]
    },
    {
      "cell_type": "markdown",
      "source": [
        "### 5.3 Gradient Boosting"
      ],
      "metadata": {
        "id": "D9yYMMgxiS7U"
      }
    },
    {
      "cell_type": "code",
      "execution_count": 86,
      "metadata": {
        "colab": {
          "base_uri": "https://localhost:8080/"
        },
        "id": "jCiCdAc6JhXN",
        "outputId": "f468357a-3340-4a51-e91f-a9f2775e9d09"
      },
      "outputs": [
        {
          "output_type": "execute_result",
          "data": {
            "text/plain": [
              "GradientBoostingClassifier(n_estimators=250, subsample=1)"
            ]
          },
          "metadata": {},
          "execution_count": 86
        }
      ],
      "source": [
        "clf_Gb = GradientBoostingClassifier(n_estimators=250, subsample=1)\n",
        "clf_Gb.fit(X_train, y_train.ravel())"
      ]
    },
    {
      "cell_type": "code",
      "execution_count": 87,
      "metadata": {
        "colab": {
          "base_uri": "https://localhost:8080/"
        },
        "id": "JNWYYwhxJwg_",
        "outputId": "c0e85052-50c8-408f-cc83-d5524326c29e"
      },
      "outputs": [
        {
          "output_type": "stream",
          "name": "stdout",
          "text": [
            "Acurácia: 86.73%\n",
            "F-1 Score: 92.19%\n",
            "Recall: 97.39%\n",
            "Precision: 87.52%\n"
          ]
        }
      ],
      "source": [
        "y_pred_Gb = clf_Gb.predict(X_test)\n",
        "\n",
        "acuracia_Gb = accuracy_score(y_test, y_pred_Gb)\n",
        "f1_score_Gb = f1_score(y_test, y_pred_Gb)\n",
        "recall_Gb = recall_score(y_test, y_pred_Gb)\n",
        "precision_Gb = precision_score(y_test, y_pred_Gb)\n",
        "\n",
        "models_list.append('GradientBoosting')\n",
        "scores_list.append({'acuracia': acuracia_Gb, 'f1-score': f1_score_Gb, 'recall': recall_Gb, 'precision': precision_Gb})\n",
        "\n",
        "print(f'Acurácia: {acuracia_Gb:.2%}')\n",
        "print(f'F-1 Score: {f1_score_Gb:.2%}')\n",
        "print(f'Recall: {recall_Gb:.2%}')\n",
        "print(f'Precision: {precision_Gb:.2%}')"
      ]
    },
    {
      "cell_type": "markdown",
      "metadata": {
        "id": "wOaz_6cTJaCT"
      },
      "source": [
        "### 5.4 XGBoost"
      ]
    },
    {
      "cell_type": "code",
      "execution_count": 88,
      "metadata": {
        "colab": {
          "base_uri": "https://localhost:8080/"
        },
        "id": "jiz6H9O5JgrH",
        "outputId": "10a391ef-4cd3-4d54-ba92-ca7c7e244fba"
      },
      "outputs": [
        {
          "output_type": "execute_result",
          "data": {
            "text/plain": [
              "XGBClassifier(n_estimators=200)"
            ]
          },
          "metadata": {},
          "execution_count": 88
        }
      ],
      "source": [
        "clf_XGb = XGBClassifier(n_estimators=200)\n",
        "clf_XGb.fit(X_train, y_train.ravel())"
      ]
    },
    {
      "cell_type": "code",
      "execution_count": 89,
      "metadata": {
        "colab": {
          "base_uri": "https://localhost:8080/"
        },
        "id": "33HvBv49J8y-",
        "outputId": "60c7f0cd-59ba-4ff5-d71f-99e17cea49ba"
      },
      "outputs": [
        {
          "output_type": "stream",
          "name": "stdout",
          "text": [
            "Acurácia: 86.62%\n",
            "F-1 Score: 92.14%\n",
            "Recall: 97.52%\n",
            "Precision: 87.32%\n"
          ]
        }
      ],
      "source": [
        "y_pred_XGb = clf_XGb.predict(X_test)\n",
        "\n",
        "acuracia_XGb = accuracy_score(y_test, y_pred_XGb)\n",
        "f1_score_XGb = f1_score(y_test, y_pred_XGb)\n",
        "recall_XGb = recall_score(y_test, y_pred_XGb)\n",
        "precision_XGb = precision_score(y_test, y_pred_XGb)\n",
        "\n",
        "models_list.append('XGBoosting')\n",
        "scores_list.append({'acuracia': acuracia_XGb, 'f1-score': f1_score_XGb, 'recall': recall_XGb, 'precision': precision_XGb})\n",
        "\n",
        "print(f'Acurácia: {acuracia_XGb:.2%}')\n",
        "print(f'F-1 Score: {f1_score_XGb:.2%}')\n",
        "print(f'Recall: {recall_XGb:.2%}')\n",
        "print(f'Precision: {precision_XGb:.2%}')"
      ]
    },
    {
      "cell_type": "markdown",
      "metadata": {
        "id": "Pqng6JMlLtfp"
      },
      "source": [
        "### 5.5 Avaliação dos modelos"
      ]
    },
    {
      "cell_type": "markdown",
      "source": [
        "Todos os modelos tiveram uma performance boa.\n",
        "\n",
        "Vou utilizar como critério o ***F1-Score*** que é uma média harmônica entre ***precision*** e ***recall***.\n",
        "\n",
        "Sendo assim o modelo escolhido será o Gradient Boosting da biblioteca scikit-learn."
      ],
      "metadata": {
        "id": "7L14FbgByPqL"
      }
    },
    {
      "cell_type": "code",
      "execution_count": 90,
      "metadata": {
        "id": "7w2Cky6DLu4Q"
      },
      "outputs": [],
      "source": [
        "model_scores = pd.DataFrame(scores_list, index=models_list)"
      ]
    },
    {
      "cell_type": "code",
      "execution_count": 91,
      "metadata": {
        "colab": {
          "base_uri": "https://localhost:8080/",
          "height": 175
        },
        "id": "UEVZNyHqL0z2",
        "outputId": "0e636dce-e663-4023-f8f7-5ab96bf4b0b0"
      },
      "outputs": [
        {
          "output_type": "execute_result",
          "data": {
            "text/plain": [
              "                  acuracia  f1-score  recall  precision\n",
              "Decision Tree        0.823     0.889   0.885      0.893\n",
              "RandomForest         0.839     0.901   0.912      0.890\n",
              "GradientBoosting     0.867     0.922   0.974      0.875\n",
              "XGBoosting           0.866     0.921   0.975      0.873"
            ],
            "text/html": [
              "\n",
              "  <div id=\"df-d87231a5-a193-48f4-af0d-b7fe559febed\">\n",
              "    <div class=\"colab-df-container\">\n",
              "      <div>\n",
              "<style scoped>\n",
              "    .dataframe tbody tr th:only-of-type {\n",
              "        vertical-align: middle;\n",
              "    }\n",
              "\n",
              "    .dataframe tbody tr th {\n",
              "        vertical-align: top;\n",
              "    }\n",
              "\n",
              "    .dataframe thead th {\n",
              "        text-align: right;\n",
              "    }\n",
              "</style>\n",
              "<table border=\"1\" class=\"dataframe\">\n",
              "  <thead>\n",
              "    <tr style=\"text-align: right;\">\n",
              "      <th></th>\n",
              "      <th>acuracia</th>\n",
              "      <th>f1-score</th>\n",
              "      <th>recall</th>\n",
              "      <th>precision</th>\n",
              "    </tr>\n",
              "  </thead>\n",
              "  <tbody>\n",
              "    <tr>\n",
              "      <th>Decision Tree</th>\n",
              "      <td>0.823</td>\n",
              "      <td>0.889</td>\n",
              "      <td>0.885</td>\n",
              "      <td>0.893</td>\n",
              "    </tr>\n",
              "    <tr>\n",
              "      <th>RandomForest</th>\n",
              "      <td>0.839</td>\n",
              "      <td>0.901</td>\n",
              "      <td>0.912</td>\n",
              "      <td>0.890</td>\n",
              "    </tr>\n",
              "    <tr>\n",
              "      <th>GradientBoosting</th>\n",
              "      <td>0.867</td>\n",
              "      <td>0.922</td>\n",
              "      <td>0.974</td>\n",
              "      <td>0.875</td>\n",
              "    </tr>\n",
              "    <tr>\n",
              "      <th>XGBoosting</th>\n",
              "      <td>0.866</td>\n",
              "      <td>0.921</td>\n",
              "      <td>0.975</td>\n",
              "      <td>0.873</td>\n",
              "    </tr>\n",
              "  </tbody>\n",
              "</table>\n",
              "</div>\n",
              "      <button class=\"colab-df-convert\" onclick=\"convertToInteractive('df-d87231a5-a193-48f4-af0d-b7fe559febed')\"\n",
              "              title=\"Convert this dataframe to an interactive table.\"\n",
              "              style=\"display:none;\">\n",
              "        \n",
              "  <svg xmlns=\"http://www.w3.org/2000/svg\" height=\"24px\"viewBox=\"0 0 24 24\"\n",
              "       width=\"24px\">\n",
              "    <path d=\"M0 0h24v24H0V0z\" fill=\"none\"/>\n",
              "    <path d=\"M18.56 5.44l.94 2.06.94-2.06 2.06-.94-2.06-.94-.94-2.06-.94 2.06-2.06.94zm-11 1L8.5 8.5l.94-2.06 2.06-.94-2.06-.94L8.5 2.5l-.94 2.06-2.06.94zm10 10l.94 2.06.94-2.06 2.06-.94-2.06-.94-.94-2.06-.94 2.06-2.06.94z\"/><path d=\"M17.41 7.96l-1.37-1.37c-.4-.4-.92-.59-1.43-.59-.52 0-1.04.2-1.43.59L10.3 9.45l-7.72 7.72c-.78.78-.78 2.05 0 2.83L4 21.41c.39.39.9.59 1.41.59.51 0 1.02-.2 1.41-.59l7.78-7.78 2.81-2.81c.8-.78.8-2.07 0-2.86zM5.41 20L4 18.59l7.72-7.72 1.47 1.35L5.41 20z\"/>\n",
              "  </svg>\n",
              "      </button>\n",
              "      \n",
              "  <style>\n",
              "    .colab-df-container {\n",
              "      display:flex;\n",
              "      flex-wrap:wrap;\n",
              "      gap: 12px;\n",
              "    }\n",
              "\n",
              "    .colab-df-convert {\n",
              "      background-color: #E8F0FE;\n",
              "      border: none;\n",
              "      border-radius: 50%;\n",
              "      cursor: pointer;\n",
              "      display: none;\n",
              "      fill: #1967D2;\n",
              "      height: 32px;\n",
              "      padding: 0 0 0 0;\n",
              "      width: 32px;\n",
              "    }\n",
              "\n",
              "    .colab-df-convert:hover {\n",
              "      background-color: #E2EBFA;\n",
              "      box-shadow: 0px 1px 2px rgba(60, 64, 67, 0.3), 0px 1px 3px 1px rgba(60, 64, 67, 0.15);\n",
              "      fill: #174EA6;\n",
              "    }\n",
              "\n",
              "    [theme=dark] .colab-df-convert {\n",
              "      background-color: #3B4455;\n",
              "      fill: #D2E3FC;\n",
              "    }\n",
              "\n",
              "    [theme=dark] .colab-df-convert:hover {\n",
              "      background-color: #434B5C;\n",
              "      box-shadow: 0px 1px 3px 1px rgba(0, 0, 0, 0.15);\n",
              "      filter: drop-shadow(0px 1px 2px rgba(0, 0, 0, 0.3));\n",
              "      fill: #FFFFFF;\n",
              "    }\n",
              "  </style>\n",
              "\n",
              "      <script>\n",
              "        const buttonEl =\n",
              "          document.querySelector('#df-d87231a5-a193-48f4-af0d-b7fe559febed button.colab-df-convert');\n",
              "        buttonEl.style.display =\n",
              "          google.colab.kernel.accessAllowed ? 'block' : 'none';\n",
              "\n",
              "        async function convertToInteractive(key) {\n",
              "          const element = document.querySelector('#df-d87231a5-a193-48f4-af0d-b7fe559febed');\n",
              "          const dataTable =\n",
              "            await google.colab.kernel.invokeFunction('convertToInteractive',\n",
              "                                                     [key], {});\n",
              "          if (!dataTable) return;\n",
              "\n",
              "          const docLinkHtml = 'Like what you see? Visit the ' +\n",
              "            '<a target=\"_blank\" href=https://colab.research.google.com/notebooks/data_table.ipynb>data table notebook</a>'\n",
              "            + ' to learn more about interactive tables.';\n",
              "          element.innerHTML = '';\n",
              "          dataTable['output_type'] = 'display_data';\n",
              "          await google.colab.output.renderOutput(dataTable, element);\n",
              "          const docLink = document.createElement('div');\n",
              "          docLink.innerHTML = docLinkHtml;\n",
              "          element.appendChild(docLink);\n",
              "        }\n",
              "      </script>\n",
              "    </div>\n",
              "  </div>\n",
              "  "
            ]
          },
          "metadata": {},
          "execution_count": 91
        }
      ],
      "source": [
        "model_scores"
      ]
    },
    {
      "cell_type": "markdown",
      "source": [
        "### 5.6 Otimização do modelo"
      ],
      "metadata": {
        "id": "aCZkV6eIzAGy"
      }
    },
    {
      "cell_type": "code",
      "source": [
        "params = {\n",
        "    'n_estimators':[100, 250],\n",
        "    'learning_rate': [0.05, 0.1],\n",
        "    'max_depth':[3, 5, 8],\n",
        "    \"subsample\":[0.8, 1.0]\n",
        "    }"
      ],
      "metadata": {
        "id": "ne-yb2yczDFN"
      },
      "execution_count": null,
      "outputs": []
    },
    {
      "cell_type": "code",
      "execution_count": null,
      "metadata": {
        "id": "XQqANAPSsAxc",
        "colab": {
          "base_uri": "https://localhost:8080/"
        },
        "outputId": "51829949-8c42-4dbd-fffe-da95af6b9ef3"
      },
      "outputs": [
        {
          "output_type": "stream",
          "name": "stdout",
          "text": [
            "Fitting 5 folds for each of 24 candidates, totalling 120 fits\n"
          ]
        },
        {
          "output_type": "execute_result",
          "data": {
            "text/plain": [
              "GridSearchCV(estimator=GradientBoostingClassifier(), n_jobs=-1,\n",
              "             param_grid={'learning_rate': [0.05, 0.1], 'max_depth': [3, 5, 8],\n",
              "                         'n_estimators': [100, 250], 'subsample': [0.8, 1.0]},\n",
              "             scoring='f1', verbose=5)"
            ]
          },
          "metadata": {},
          "execution_count": 97
        }
      ],
      "source": [
        "clf = GridSearchCV(GradientBoostingClassifier(), \n",
        "                          param_grid=params, scoring='f1', n_jobs=-1, verbose=5)\n",
        "\n",
        "clf.fit(X_train, y_train)"
      ]
    },
    {
      "cell_type": "code",
      "source": [
        "clf.best_params_"
      ],
      "metadata": {
        "id": "2VEKV8lg3O8I",
        "colab": {
          "base_uri": "https://localhost:8080/"
        },
        "outputId": "e77c8182-72d6-4ae0-e813-9c6c5c75fe3b"
      },
      "execution_count": null,
      "outputs": [
        {
          "output_type": "execute_result",
          "data": {
            "text/plain": [
              "{'learning_rate': 0.05, 'max_depth': 8, 'n_estimators': 250, 'subsample': 0.8}"
            ]
          },
          "metadata": {},
          "execution_count": 98
        }
      ]
    },
    {
      "cell_type": "code",
      "source": [
        "# Best parameters\n",
        "clf = GradientBoostingClassifier(learning_rate=0.05, max_depth=8, n_estimators=250, subsample=0.8)\n",
        "clf.fit(X_train, y_train)"
      ],
      "metadata": {
        "colab": {
          "base_uri": "https://localhost:8080/"
        },
        "id": "6X7VZiSkmVYg",
        "outputId": "d493e616-ff41-4de7-aef2-13fd0aeefb12"
      },
      "execution_count": 94,
      "outputs": [
        {
          "output_type": "execute_result",
          "data": {
            "text/plain": [
              "GradientBoostingClassifier(learning_rate=0.05, max_depth=8, n_estimators=250,\n",
              "                           subsample=0.8)"
            ]
          },
          "metadata": {},
          "execution_count": 94
        }
      ]
    },
    {
      "cell_type": "code",
      "execution_count": 95,
      "metadata": {
        "id": "PkDuAATN1B8t"
      },
      "outputs": [],
      "source": [
        "y_pred = clf.predict(X_test)\n",
        "\n",
        "acuracia_bestGb = accuracy_score(y_test, y_pred)\n",
        "f1_score_bestGb  = f1_score(y_test, y_pred)\n",
        "recall_bestGb  = recall_score(y_test, y_pred)\n",
        "precision_bestGb  = precision_score(y_test, y_pred)\n",
        "\n",
        "models_list.append('Tunned Gradient Boosting')\n",
        "scores_list.append({'acuracia': acuracia_bestGb, 'f1-score': f1_score_bestGb, 'recall': recall_bestGb, 'precision': precision_bestGb})"
      ]
    },
    {
      "cell_type": "code",
      "execution_count": 96,
      "metadata": {
        "id": "ChZyC8YS2fE_",
        "colab": {
          "base_uri": "https://localhost:8080/",
          "height": 206
        },
        "outputId": "d19e9750-fd06-4f17-e437-f850e08984be"
      },
      "outputs": [
        {
          "output_type": "execute_result",
          "data": {
            "text/plain": [
              "                          acuracia  f1-score  recall  precision\n",
              "Decision Tree                0.823     0.889   0.885      0.893\n",
              "RandomForest                 0.839     0.901   0.912      0.890\n",
              "GradientBoosting             0.867     0.922   0.974      0.875\n",
              "XGBoosting                   0.866     0.921   0.975      0.873\n",
              "Tunned Gradient Boosting     0.872     0.924   0.972      0.881"
            ],
            "text/html": [
              "\n",
              "  <div id=\"df-3d5e15b2-f8b5-42d5-9170-9bf93026052b\">\n",
              "    <div class=\"colab-df-container\">\n",
              "      <div>\n",
              "<style scoped>\n",
              "    .dataframe tbody tr th:only-of-type {\n",
              "        vertical-align: middle;\n",
              "    }\n",
              "\n",
              "    .dataframe tbody tr th {\n",
              "        vertical-align: top;\n",
              "    }\n",
              "\n",
              "    .dataframe thead th {\n",
              "        text-align: right;\n",
              "    }\n",
              "</style>\n",
              "<table border=\"1\" class=\"dataframe\">\n",
              "  <thead>\n",
              "    <tr style=\"text-align: right;\">\n",
              "      <th></th>\n",
              "      <th>acuracia</th>\n",
              "      <th>f1-score</th>\n",
              "      <th>recall</th>\n",
              "      <th>precision</th>\n",
              "    </tr>\n",
              "  </thead>\n",
              "  <tbody>\n",
              "    <tr>\n",
              "      <th>Decision Tree</th>\n",
              "      <td>0.823</td>\n",
              "      <td>0.889</td>\n",
              "      <td>0.885</td>\n",
              "      <td>0.893</td>\n",
              "    </tr>\n",
              "    <tr>\n",
              "      <th>RandomForest</th>\n",
              "      <td>0.839</td>\n",
              "      <td>0.901</td>\n",
              "      <td>0.912</td>\n",
              "      <td>0.890</td>\n",
              "    </tr>\n",
              "    <tr>\n",
              "      <th>GradientBoosting</th>\n",
              "      <td>0.867</td>\n",
              "      <td>0.922</td>\n",
              "      <td>0.974</td>\n",
              "      <td>0.875</td>\n",
              "    </tr>\n",
              "    <tr>\n",
              "      <th>XGBoosting</th>\n",
              "      <td>0.866</td>\n",
              "      <td>0.921</td>\n",
              "      <td>0.975</td>\n",
              "      <td>0.873</td>\n",
              "    </tr>\n",
              "    <tr>\n",
              "      <th>Tunned Gradient Boosting</th>\n",
              "      <td>0.872</td>\n",
              "      <td>0.924</td>\n",
              "      <td>0.972</td>\n",
              "      <td>0.881</td>\n",
              "    </tr>\n",
              "  </tbody>\n",
              "</table>\n",
              "</div>\n",
              "      <button class=\"colab-df-convert\" onclick=\"convertToInteractive('df-3d5e15b2-f8b5-42d5-9170-9bf93026052b')\"\n",
              "              title=\"Convert this dataframe to an interactive table.\"\n",
              "              style=\"display:none;\">\n",
              "        \n",
              "  <svg xmlns=\"http://www.w3.org/2000/svg\" height=\"24px\"viewBox=\"0 0 24 24\"\n",
              "       width=\"24px\">\n",
              "    <path d=\"M0 0h24v24H0V0z\" fill=\"none\"/>\n",
              "    <path d=\"M18.56 5.44l.94 2.06.94-2.06 2.06-.94-2.06-.94-.94-2.06-.94 2.06-2.06.94zm-11 1L8.5 8.5l.94-2.06 2.06-.94-2.06-.94L8.5 2.5l-.94 2.06-2.06.94zm10 10l.94 2.06.94-2.06 2.06-.94-2.06-.94-.94-2.06-.94 2.06-2.06.94z\"/><path d=\"M17.41 7.96l-1.37-1.37c-.4-.4-.92-.59-1.43-.59-.52 0-1.04.2-1.43.59L10.3 9.45l-7.72 7.72c-.78.78-.78 2.05 0 2.83L4 21.41c.39.39.9.59 1.41.59.51 0 1.02-.2 1.41-.59l7.78-7.78 2.81-2.81c.8-.78.8-2.07 0-2.86zM5.41 20L4 18.59l7.72-7.72 1.47 1.35L5.41 20z\"/>\n",
              "  </svg>\n",
              "      </button>\n",
              "      \n",
              "  <style>\n",
              "    .colab-df-container {\n",
              "      display:flex;\n",
              "      flex-wrap:wrap;\n",
              "      gap: 12px;\n",
              "    }\n",
              "\n",
              "    .colab-df-convert {\n",
              "      background-color: #E8F0FE;\n",
              "      border: none;\n",
              "      border-radius: 50%;\n",
              "      cursor: pointer;\n",
              "      display: none;\n",
              "      fill: #1967D2;\n",
              "      height: 32px;\n",
              "      padding: 0 0 0 0;\n",
              "      width: 32px;\n",
              "    }\n",
              "\n",
              "    .colab-df-convert:hover {\n",
              "      background-color: #E2EBFA;\n",
              "      box-shadow: 0px 1px 2px rgba(60, 64, 67, 0.3), 0px 1px 3px 1px rgba(60, 64, 67, 0.15);\n",
              "      fill: #174EA6;\n",
              "    }\n",
              "\n",
              "    [theme=dark] .colab-df-convert {\n",
              "      background-color: #3B4455;\n",
              "      fill: #D2E3FC;\n",
              "    }\n",
              "\n",
              "    [theme=dark] .colab-df-convert:hover {\n",
              "      background-color: #434B5C;\n",
              "      box-shadow: 0px 1px 3px 1px rgba(0, 0, 0, 0.15);\n",
              "      filter: drop-shadow(0px 1px 2px rgba(0, 0, 0, 0.3));\n",
              "      fill: #FFFFFF;\n",
              "    }\n",
              "  </style>\n",
              "\n",
              "      <script>\n",
              "        const buttonEl =\n",
              "          document.querySelector('#df-3d5e15b2-f8b5-42d5-9170-9bf93026052b button.colab-df-convert');\n",
              "        buttonEl.style.display =\n",
              "          google.colab.kernel.accessAllowed ? 'block' : 'none';\n",
              "\n",
              "        async function convertToInteractive(key) {\n",
              "          const element = document.querySelector('#df-3d5e15b2-f8b5-42d5-9170-9bf93026052b');\n",
              "          const dataTable =\n",
              "            await google.colab.kernel.invokeFunction('convertToInteractive',\n",
              "                                                     [key], {});\n",
              "          if (!dataTable) return;\n",
              "\n",
              "          const docLinkHtml = 'Like what you see? Visit the ' +\n",
              "            '<a target=\"_blank\" href=https://colab.research.google.com/notebooks/data_table.ipynb>data table notebook</a>'\n",
              "            + ' to learn more about interactive tables.';\n",
              "          element.innerHTML = '';\n",
              "          dataTable['output_type'] = 'display_data';\n",
              "          await google.colab.output.renderOutput(dataTable, element);\n",
              "          const docLink = document.createElement('div');\n",
              "          docLink.innerHTML = docLinkHtml;\n",
              "          element.appendChild(docLink);\n",
              "        }\n",
              "      </script>\n",
              "    </div>\n",
              "  </div>\n",
              "  "
            ]
          },
          "metadata": {},
          "execution_count": 96
        }
      ],
      "source": [
        "model_scores = pd.DataFrame(scores_list, index=models_list)\n",
        "model_scores"
      ]
    },
    {
      "cell_type": "markdown",
      "source": [
        "### 5.7 Classificando os verifieds nulos"
      ],
      "metadata": {
        "id": "dCTrMh0Xmsp2"
      }
    },
    {
      "cell_type": "code",
      "source": [
        "X_classifier , y_nan = feature_selection(df_classification)"
      ],
      "metadata": {
        "id": "wMelNvQInFRr"
      },
      "execution_count": 97,
      "outputs": []
    },
    {
      "cell_type": "code",
      "source": [
        "X_classifier"
      ],
      "metadata": {
        "colab": {
          "base_uri": "https://localhost:8080/",
          "height": 505
        },
        "id": "msDVJ6z-ElmN",
        "outputId": "4a174f72-85f7-43d9-ca3a-ef02c611d2e4"
      },
      "execution_count": 100,
      "outputs": [
        {
          "output_type": "execute_result",
          "data": {
            "text/plain": [
              "        unixReviewTime  overall  brand_Activision  brand_Electronic Arts  \\\n",
              "0           1514851200        1                 0                      0   \n",
              "1           1514851200        1                 0                      0   \n",
              "24          1503878400        5                 0                      0   \n",
              "25          1503878400        5                 0                      0   \n",
              "26          1502150400        5                 0                      0   \n",
              "...                ...      ...               ...                    ...   \n",
              "450388      1534032000        4                 0                      0   \n",
              "450406      1538352000        5                 0                      0   \n",
              "450410      1538179200        5                 0                      0   \n",
              "450414      1538438400        1                 0                      0   \n",
              "450422      1538179200        1                 0                      0   \n",
              "\n",
              "        brand_Logitech  brand_Microsoft  brand_Nintendo  brand_Outras  \\\n",
              "0                    0                0               0             0   \n",
              "1                    0                0               0             0   \n",
              "24                   0                0               0             0   \n",
              "25                   0                0               0             0   \n",
              "26                   0                0               0             0   \n",
              "...                ...              ...             ...           ...   \n",
              "450388               0                0               0             1   \n",
              "450406               0                0               1             0   \n",
              "450410               0                0               1             0   \n",
              "450414               0                0               0             1   \n",
              "450422               0                0               0             1   \n",
              "\n",
              "        brand_Razer  brand_Sony  brand_SquareSoft  brand_Turtle Beach  \\\n",
              "0                 0           0                 1                   0   \n",
              "1                 0           0                 1                   0   \n",
              "24                0           0                 1                   0   \n",
              "25                0           0                 1                   0   \n",
              "26                0           0                 1                   0   \n",
              "...             ...         ...               ...                 ...   \n",
              "450388            0           0                 0                   0   \n",
              "450406            0           0                 0                   0   \n",
              "450410            0           0                 0                   0   \n",
              "450414            0           0                 0                   0   \n",
              "450422            0           0                 0                   0   \n",
              "\n",
              "        brand_Ubisoft  main_category_All Electronics  \\\n",
              "0                   0                              0   \n",
              "1                   0                              0   \n",
              "24                  0                              0   \n",
              "25                  0                              0   \n",
              "26                  0                              0   \n",
              "...               ...                            ...   \n",
              "450388              0                              0   \n",
              "450406              0                              0   \n",
              "450410              0                              0   \n",
              "450414              0                              0   \n",
              "450422              0                              0   \n",
              "\n",
              "        main_category_Amazon Home  main_category_Computers  \\\n",
              "0                               0                        0   \n",
              "1                               0                        0   \n",
              "24                              0                        0   \n",
              "25                              0                        0   \n",
              "26                              0                        0   \n",
              "...                           ...                      ...   \n",
              "450388                          0                        0   \n",
              "450406                          0                        0   \n",
              "450410                          0                        0   \n",
              "450414                          0                        1   \n",
              "450422                          0                        1   \n",
              "\n",
              "        main_category_Sports & Outdoors  main_category_Video Games  \\\n",
              "0                                     0                          1   \n",
              "1                                     0                          1   \n",
              "24                                    0                          1   \n",
              "25                                    0                          1   \n",
              "26                                    0                          1   \n",
              "...                                 ...                        ...   \n",
              "450388                                0                          1   \n",
              "450406                                0                          1   \n",
              "450410                                0                          1   \n",
              "450414                                0                          0   \n",
              "450422                                0                          0   \n",
              "\n",
              "        plataform_Accessories  plataform_Digital Games  \\\n",
              "0                           0                        0   \n",
              "1                           0                        0   \n",
              "24                          0                        0   \n",
              "25                          0                        0   \n",
              "26                          0                        0   \n",
              "...                       ...                      ...   \n",
              "450388                      0                        0   \n",
              "450406                      0                        0   \n",
              "450410                      0                        0   \n",
              "450414                      0                        0   \n",
              "450422                      0                        0   \n",
              "\n",
              "        plataform_Kids & Family  plataform_Nintendo 3DS & 2DS  \\\n",
              "0                             0                             0   \n",
              "1                             0                             0   \n",
              "24                            0                             0   \n",
              "25                            0                             0   \n",
              "26                            0                             0   \n",
              "...                         ...                           ...   \n",
              "450388                        0                             0   \n",
              "450406                        0                             0   \n",
              "450410                        0                             0   \n",
              "450414                        0                             0   \n",
              "450422                        0                             0   \n",
              "\n",
              "        plataform_Nintendo DS  plataform_PC  plataform_PlayStation 3  \\\n",
              "0                           0             0                        0   \n",
              "1                           0             0                        0   \n",
              "24                          0             0                        0   \n",
              "25                          0             0                        0   \n",
              "26                          0             0                        0   \n",
              "...                       ...           ...                      ...   \n",
              "450388                      0             0                        0   \n",
              "450406                      0             0                        0   \n",
              "450410                      0             0                        0   \n",
              "450414                      0             1                        0   \n",
              "450422                      0             1                        0   \n",
              "\n",
              "        plataform_PlayStation 4  plataform_PlayStation Vita  \\\n",
              "0                             0                           0   \n",
              "1                             0                           0   \n",
              "24                            0                           0   \n",
              "25                            0                           0   \n",
              "26                            0                           0   \n",
              "...                         ...                         ...   \n",
              "450388                        1                           0   \n",
              "450406                        0                           0   \n",
              "450410                        0                           0   \n",
              "450414                        0                           0   \n",
              "450422                        0                           0   \n",
              "\n",
              "        plataform_Retro Gaming  plataform_Wii  plataform_Wii U  \\\n",
              "0                            1              0                0   \n",
              "1                            1              0                0   \n",
              "24                           1              0                0   \n",
              "25                           1              0                0   \n",
              "26                           1              0                0   \n",
              "...                        ...            ...              ...   \n",
              "450388                       0              0                0   \n",
              "450406                       0              1                0   \n",
              "450410                       0              1                0   \n",
              "450414                       0              0                0   \n",
              "450422                       0              0                0   \n",
              "\n",
              "        plataform_Xbox 360  plataform_Xbox One  specific_category_Accessories  \\\n",
              "0                        0                   0                              0   \n",
              "1                        0                   0                              0   \n",
              "24                       0                   0                              0   \n",
              "25                       0                   0                              0   \n",
              "26                       0                   0                              0   \n",
              "...                    ...                 ...                            ...   \n",
              "450388                   0                   0                              0   \n",
              "450406                   0                   0                              0   \n",
              "450410                   0                   0                              0   \n",
              "450414                   0                   0                              1   \n",
              "450422                   0                   0                              1   \n",
              "\n",
              "        specific_category_Consoles  \\\n",
              "0                                0   \n",
              "1                                0   \n",
              "24                               0   \n",
              "25                               0   \n",
              "26                               0   \n",
              "...                            ...   \n",
              "450388                           0   \n",
              "450406                           0   \n",
              "450410                           0   \n",
              "450414                           0   \n",
              "450422                           0   \n",
              "\n",
              "        specific_category_Currency & Subscription Cards  \\\n",
              "0                                                     0   \n",
              "1                                                     0   \n",
              "24                                                    0   \n",
              "25                                                    0   \n",
              "26                                                    0   \n",
              "...                                                 ...   \n",
              "450388                                                0   \n",
              "450406                                                0   \n",
              "450410                                                0   \n",
              "450414                                                0   \n",
              "450422                                                0   \n",
              "\n",
              "        specific_category_Digital Games & DLC  \\\n",
              "0                                           0   \n",
              "1                                           0   \n",
              "24                                          0   \n",
              "25                                          0   \n",
              "26                                          0   \n",
              "...                                       ...   \n",
              "450388                                      1   \n",
              "450406                                      0   \n",
              "450410                                      0   \n",
              "450414                                      0   \n",
              "450422                                      0   \n",
              "\n",
              "        specific_category_Game Boy Advance  specific_category_GameCube  \\\n",
              "0                                        0                           0   \n",
              "1                                        0                           0   \n",
              "24                                       0                           0   \n",
              "25                                       0                           0   \n",
              "26                                       0                           0   \n",
              "...                                    ...                         ...   \n",
              "450388                                   0                           0   \n",
              "450406                                   0                           0   \n",
              "450410                                   0                           0   \n",
              "450414                                   0                           0   \n",
              "450422                                   0                           0   \n",
              "\n",
              "        specific_category_Games  specific_category_Interactive Gaming Figures  \\\n",
              "0                             0                                             0   \n",
              "1                             0                                             0   \n",
              "24                            0                                             0   \n",
              "25                            0                                             0   \n",
              "26                            0                                             0   \n",
              "...                         ...                                           ...   \n",
              "450388                        0                                             0   \n",
              "450406                        0                                             0   \n",
              "450410                        0                                             0   \n",
              "450414                        0                                             0   \n",
              "450422                        0                                             0   \n",
              "\n",
              "        specific_category_Nintendo 3DS  specific_category_Outros  \\\n",
              "0                                    0                         0   \n",
              "1                                    0                         0   \n",
              "24                                   0                         0   \n",
              "25                                   0                         0   \n",
              "26                                   0                         0   \n",
              "...                                ...                       ...   \n",
              "450388                               0                         0   \n",
              "450406                               0                         1   \n",
              "450410                               0                         1   \n",
              "450414                               0                         0   \n",
              "450422                               0                         0   \n",
              "\n",
              "        specific_category_PC  specific_category_PlayStation  \\\n",
              "0                          0                              1   \n",
              "1                          0                              1   \n",
              "24                         0                              1   \n",
              "25                         0                              1   \n",
              "26                         0                              1   \n",
              "...                      ...                            ...   \n",
              "450388                     0                              0   \n",
              "450406                     0                              0   \n",
              "450410                     0                              0   \n",
              "450414                     0                              0   \n",
              "450422                     0                              0   \n",
              "\n",
              "        specific_category_PlayStation 2  specific_category_PlayStation 3  \\\n",
              "0                                     0                                0   \n",
              "1                                     0                                0   \n",
              "24                                    0                                0   \n",
              "25                                    0                                0   \n",
              "26                                    0                                0   \n",
              "...                                 ...                              ...   \n",
              "450388                                0                                0   \n",
              "450406                                0                                0   \n",
              "450410                                0                                0   \n",
              "450414                                0                                0   \n",
              "450422                                0                                0   \n",
              "\n",
              "        specific_category_PlayStation 4  specific_category_Wii  \\\n",
              "0                                     0                      0   \n",
              "1                                     0                      0   \n",
              "24                                    0                      0   \n",
              "25                                    0                      0   \n",
              "26                                    0                      0   \n",
              "...                                 ...                    ...   \n",
              "450388                                0                      0   \n",
              "450406                                0                      0   \n",
              "450410                                0                      0   \n",
              "450414                                0                      0   \n",
              "450422                                0                      0   \n",
              "\n",
              "        specific_category_Wii U  specific_category_Xbox  \\\n",
              "0                             0                       0   \n",
              "1                             0                       0   \n",
              "24                            0                       0   \n",
              "25                            0                       0   \n",
              "26                            0                       0   \n",
              "...                         ...                     ...   \n",
              "450388                        0                       0   \n",
              "450406                        0                       0   \n",
              "450410                        0                       0   \n",
              "450414                        0                       0   \n",
              "450422                        0                       0   \n",
              "\n",
              "        specific_category_Xbox 360  \n",
              "0                                0  \n",
              "1                                0  \n",
              "24                               0  \n",
              "25                               0  \n",
              "26                               0  \n",
              "...                            ...  \n",
              "450388                           0  \n",
              "450406                           0  \n",
              "450410                           0  \n",
              "450414                           0  \n",
              "450422                           0  \n",
              "\n",
              "[58967 rows x 51 columns]"
            ],
            "text/html": [
              "\n",
              "  <div id=\"df-90987ba0-fbd7-48eb-82b0-d7ada5d59d08\">\n",
              "    <div class=\"colab-df-container\">\n",
              "      <div>\n",
              "<style scoped>\n",
              "    .dataframe tbody tr th:only-of-type {\n",
              "        vertical-align: middle;\n",
              "    }\n",
              "\n",
              "    .dataframe tbody tr th {\n",
              "        vertical-align: top;\n",
              "    }\n",
              "\n",
              "    .dataframe thead th {\n",
              "        text-align: right;\n",
              "    }\n",
              "</style>\n",
              "<table border=\"1\" class=\"dataframe\">\n",
              "  <thead>\n",
              "    <tr style=\"text-align: right;\">\n",
              "      <th></th>\n",
              "      <th>unixReviewTime</th>\n",
              "      <th>overall</th>\n",
              "      <th>brand_Activision</th>\n",
              "      <th>brand_Electronic Arts</th>\n",
              "      <th>brand_Logitech</th>\n",
              "      <th>brand_Microsoft</th>\n",
              "      <th>brand_Nintendo</th>\n",
              "      <th>brand_Outras</th>\n",
              "      <th>brand_Razer</th>\n",
              "      <th>brand_Sony</th>\n",
              "      <th>brand_SquareSoft</th>\n",
              "      <th>brand_Turtle Beach</th>\n",
              "      <th>brand_Ubisoft</th>\n",
              "      <th>main_category_All Electronics</th>\n",
              "      <th>main_category_Amazon Home</th>\n",
              "      <th>main_category_Computers</th>\n",
              "      <th>main_category_Sports &amp; Outdoors</th>\n",
              "      <th>main_category_Video Games</th>\n",
              "      <th>plataform_Accessories</th>\n",
              "      <th>plataform_Digital Games</th>\n",
              "      <th>plataform_Kids &amp; Family</th>\n",
              "      <th>plataform_Nintendo 3DS &amp; 2DS</th>\n",
              "      <th>plataform_Nintendo DS</th>\n",
              "      <th>plataform_PC</th>\n",
              "      <th>plataform_PlayStation 3</th>\n",
              "      <th>plataform_PlayStation 4</th>\n",
              "      <th>plataform_PlayStation Vita</th>\n",
              "      <th>plataform_Retro Gaming</th>\n",
              "      <th>plataform_Wii</th>\n",
              "      <th>plataform_Wii U</th>\n",
              "      <th>plataform_Xbox 360</th>\n",
              "      <th>plataform_Xbox One</th>\n",
              "      <th>specific_category_Accessories</th>\n",
              "      <th>specific_category_Consoles</th>\n",
              "      <th>specific_category_Currency &amp; Subscription Cards</th>\n",
              "      <th>specific_category_Digital Games &amp; DLC</th>\n",
              "      <th>specific_category_Game Boy Advance</th>\n",
              "      <th>specific_category_GameCube</th>\n",
              "      <th>specific_category_Games</th>\n",
              "      <th>specific_category_Interactive Gaming Figures</th>\n",
              "      <th>specific_category_Nintendo 3DS</th>\n",
              "      <th>specific_category_Outros</th>\n",
              "      <th>specific_category_PC</th>\n",
              "      <th>specific_category_PlayStation</th>\n",
              "      <th>specific_category_PlayStation 2</th>\n",
              "      <th>specific_category_PlayStation 3</th>\n",
              "      <th>specific_category_PlayStation 4</th>\n",
              "      <th>specific_category_Wii</th>\n",
              "      <th>specific_category_Wii U</th>\n",
              "      <th>specific_category_Xbox</th>\n",
              "      <th>specific_category_Xbox 360</th>\n",
              "    </tr>\n",
              "  </thead>\n",
              "  <tbody>\n",
              "    <tr>\n",
              "      <th>0</th>\n",
              "      <td>1514851200</td>\n",
              "      <td>1</td>\n",
              "      <td>0</td>\n",
              "      <td>0</td>\n",
              "      <td>0</td>\n",
              "      <td>0</td>\n",
              "      <td>0</td>\n",
              "      <td>0</td>\n",
              "      <td>0</td>\n",
              "      <td>0</td>\n",
              "      <td>1</td>\n",
              "      <td>0</td>\n",
              "      <td>0</td>\n",
              "      <td>0</td>\n",
              "      <td>0</td>\n",
              "      <td>0</td>\n",
              "      <td>0</td>\n",
              "      <td>1</td>\n",
              "      <td>0</td>\n",
              "      <td>0</td>\n",
              "      <td>0</td>\n",
              "      <td>0</td>\n",
              "      <td>0</td>\n",
              "      <td>0</td>\n",
              "      <td>0</td>\n",
              "      <td>0</td>\n",
              "      <td>0</td>\n",
              "      <td>1</td>\n",
              "      <td>0</td>\n",
              "      <td>0</td>\n",
              "      <td>0</td>\n",
              "      <td>0</td>\n",
              "      <td>0</td>\n",
              "      <td>0</td>\n",
              "      <td>0</td>\n",
              "      <td>0</td>\n",
              "      <td>0</td>\n",
              "      <td>0</td>\n",
              "      <td>0</td>\n",
              "      <td>0</td>\n",
              "      <td>0</td>\n",
              "      <td>0</td>\n",
              "      <td>0</td>\n",
              "      <td>1</td>\n",
              "      <td>0</td>\n",
              "      <td>0</td>\n",
              "      <td>0</td>\n",
              "      <td>0</td>\n",
              "      <td>0</td>\n",
              "      <td>0</td>\n",
              "      <td>0</td>\n",
              "    </tr>\n",
              "    <tr>\n",
              "      <th>1</th>\n",
              "      <td>1514851200</td>\n",
              "      <td>1</td>\n",
              "      <td>0</td>\n",
              "      <td>0</td>\n",
              "      <td>0</td>\n",
              "      <td>0</td>\n",
              "      <td>0</td>\n",
              "      <td>0</td>\n",
              "      <td>0</td>\n",
              "      <td>0</td>\n",
              "      <td>1</td>\n",
              "      <td>0</td>\n",
              "      <td>0</td>\n",
              "      <td>0</td>\n",
              "      <td>0</td>\n",
              "      <td>0</td>\n",
              "      <td>0</td>\n",
              "      <td>1</td>\n",
              "      <td>0</td>\n",
              "      <td>0</td>\n",
              "      <td>0</td>\n",
              "      <td>0</td>\n",
              "      <td>0</td>\n",
              "      <td>0</td>\n",
              "      <td>0</td>\n",
              "      <td>0</td>\n",
              "      <td>0</td>\n",
              "      <td>1</td>\n",
              "      <td>0</td>\n",
              "      <td>0</td>\n",
              "      <td>0</td>\n",
              "      <td>0</td>\n",
              "      <td>0</td>\n",
              "      <td>0</td>\n",
              "      <td>0</td>\n",
              "      <td>0</td>\n",
              "      <td>0</td>\n",
              "      <td>0</td>\n",
              "      <td>0</td>\n",
              "      <td>0</td>\n",
              "      <td>0</td>\n",
              "      <td>0</td>\n",
              "      <td>0</td>\n",
              "      <td>1</td>\n",
              "      <td>0</td>\n",
              "      <td>0</td>\n",
              "      <td>0</td>\n",
              "      <td>0</td>\n",
              "      <td>0</td>\n",
              "      <td>0</td>\n",
              "      <td>0</td>\n",
              "    </tr>\n",
              "    <tr>\n",
              "      <th>24</th>\n",
              "      <td>1503878400</td>\n",
              "      <td>5</td>\n",
              "      <td>0</td>\n",
              "      <td>0</td>\n",
              "      <td>0</td>\n",
              "      <td>0</td>\n",
              "      <td>0</td>\n",
              "      <td>0</td>\n",
              "      <td>0</td>\n",
              "      <td>0</td>\n",
              "      <td>1</td>\n",
              "      <td>0</td>\n",
              "      <td>0</td>\n",
              "      <td>0</td>\n",
              "      <td>0</td>\n",
              "      <td>0</td>\n",
              "      <td>0</td>\n",
              "      <td>1</td>\n",
              "      <td>0</td>\n",
              "      <td>0</td>\n",
              "      <td>0</td>\n",
              "      <td>0</td>\n",
              "      <td>0</td>\n",
              "      <td>0</td>\n",
              "      <td>0</td>\n",
              "      <td>0</td>\n",
              "      <td>0</td>\n",
              "      <td>1</td>\n",
              "      <td>0</td>\n",
              "      <td>0</td>\n",
              "      <td>0</td>\n",
              "      <td>0</td>\n",
              "      <td>0</td>\n",
              "      <td>0</td>\n",
              "      <td>0</td>\n",
              "      <td>0</td>\n",
              "      <td>0</td>\n",
              "      <td>0</td>\n",
              "      <td>0</td>\n",
              "      <td>0</td>\n",
              "      <td>0</td>\n",
              "      <td>0</td>\n",
              "      <td>0</td>\n",
              "      <td>1</td>\n",
              "      <td>0</td>\n",
              "      <td>0</td>\n",
              "      <td>0</td>\n",
              "      <td>0</td>\n",
              "      <td>0</td>\n",
              "      <td>0</td>\n",
              "      <td>0</td>\n",
              "    </tr>\n",
              "    <tr>\n",
              "      <th>25</th>\n",
              "      <td>1503878400</td>\n",
              "      <td>5</td>\n",
              "      <td>0</td>\n",
              "      <td>0</td>\n",
              "      <td>0</td>\n",
              "      <td>0</td>\n",
              "      <td>0</td>\n",
              "      <td>0</td>\n",
              "      <td>0</td>\n",
              "      <td>0</td>\n",
              "      <td>1</td>\n",
              "      <td>0</td>\n",
              "      <td>0</td>\n",
              "      <td>0</td>\n",
              "      <td>0</td>\n",
              "      <td>0</td>\n",
              "      <td>0</td>\n",
              "      <td>1</td>\n",
              "      <td>0</td>\n",
              "      <td>0</td>\n",
              "      <td>0</td>\n",
              "      <td>0</td>\n",
              "      <td>0</td>\n",
              "      <td>0</td>\n",
              "      <td>0</td>\n",
              "      <td>0</td>\n",
              "      <td>0</td>\n",
              "      <td>1</td>\n",
              "      <td>0</td>\n",
              "      <td>0</td>\n",
              "      <td>0</td>\n",
              "      <td>0</td>\n",
              "      <td>0</td>\n",
              "      <td>0</td>\n",
              "      <td>0</td>\n",
              "      <td>0</td>\n",
              "      <td>0</td>\n",
              "      <td>0</td>\n",
              "      <td>0</td>\n",
              "      <td>0</td>\n",
              "      <td>0</td>\n",
              "      <td>0</td>\n",
              "      <td>0</td>\n",
              "      <td>1</td>\n",
              "      <td>0</td>\n",
              "      <td>0</td>\n",
              "      <td>0</td>\n",
              "      <td>0</td>\n",
              "      <td>0</td>\n",
              "      <td>0</td>\n",
              "      <td>0</td>\n",
              "    </tr>\n",
              "    <tr>\n",
              "      <th>26</th>\n",
              "      <td>1502150400</td>\n",
              "      <td>5</td>\n",
              "      <td>0</td>\n",
              "      <td>0</td>\n",
              "      <td>0</td>\n",
              "      <td>0</td>\n",
              "      <td>0</td>\n",
              "      <td>0</td>\n",
              "      <td>0</td>\n",
              "      <td>0</td>\n",
              "      <td>1</td>\n",
              "      <td>0</td>\n",
              "      <td>0</td>\n",
              "      <td>0</td>\n",
              "      <td>0</td>\n",
              "      <td>0</td>\n",
              "      <td>0</td>\n",
              "      <td>1</td>\n",
              "      <td>0</td>\n",
              "      <td>0</td>\n",
              "      <td>0</td>\n",
              "      <td>0</td>\n",
              "      <td>0</td>\n",
              "      <td>0</td>\n",
              "      <td>0</td>\n",
              "      <td>0</td>\n",
              "      <td>0</td>\n",
              "      <td>1</td>\n",
              "      <td>0</td>\n",
              "      <td>0</td>\n",
              "      <td>0</td>\n",
              "      <td>0</td>\n",
              "      <td>0</td>\n",
              "      <td>0</td>\n",
              "      <td>0</td>\n",
              "      <td>0</td>\n",
              "      <td>0</td>\n",
              "      <td>0</td>\n",
              "      <td>0</td>\n",
              "      <td>0</td>\n",
              "      <td>0</td>\n",
              "      <td>0</td>\n",
              "      <td>0</td>\n",
              "      <td>1</td>\n",
              "      <td>0</td>\n",
              "      <td>0</td>\n",
              "      <td>0</td>\n",
              "      <td>0</td>\n",
              "      <td>0</td>\n",
              "      <td>0</td>\n",
              "      <td>0</td>\n",
              "    </tr>\n",
              "    <tr>\n",
              "      <th>...</th>\n",
              "      <td>...</td>\n",
              "      <td>...</td>\n",
              "      <td>...</td>\n",
              "      <td>...</td>\n",
              "      <td>...</td>\n",
              "      <td>...</td>\n",
              "      <td>...</td>\n",
              "      <td>...</td>\n",
              "      <td>...</td>\n",
              "      <td>...</td>\n",
              "      <td>...</td>\n",
              "      <td>...</td>\n",
              "      <td>...</td>\n",
              "      <td>...</td>\n",
              "      <td>...</td>\n",
              "      <td>...</td>\n",
              "      <td>...</td>\n",
              "      <td>...</td>\n",
              "      <td>...</td>\n",
              "      <td>...</td>\n",
              "      <td>...</td>\n",
              "      <td>...</td>\n",
              "      <td>...</td>\n",
              "      <td>...</td>\n",
              "      <td>...</td>\n",
              "      <td>...</td>\n",
              "      <td>...</td>\n",
              "      <td>...</td>\n",
              "      <td>...</td>\n",
              "      <td>...</td>\n",
              "      <td>...</td>\n",
              "      <td>...</td>\n",
              "      <td>...</td>\n",
              "      <td>...</td>\n",
              "      <td>...</td>\n",
              "      <td>...</td>\n",
              "      <td>...</td>\n",
              "      <td>...</td>\n",
              "      <td>...</td>\n",
              "      <td>...</td>\n",
              "      <td>...</td>\n",
              "      <td>...</td>\n",
              "      <td>...</td>\n",
              "      <td>...</td>\n",
              "      <td>...</td>\n",
              "      <td>...</td>\n",
              "      <td>...</td>\n",
              "      <td>...</td>\n",
              "      <td>...</td>\n",
              "      <td>...</td>\n",
              "      <td>...</td>\n",
              "    </tr>\n",
              "    <tr>\n",
              "      <th>450388</th>\n",
              "      <td>1534032000</td>\n",
              "      <td>4</td>\n",
              "      <td>0</td>\n",
              "      <td>0</td>\n",
              "      <td>0</td>\n",
              "      <td>0</td>\n",
              "      <td>0</td>\n",
              "      <td>1</td>\n",
              "      <td>0</td>\n",
              "      <td>0</td>\n",
              "      <td>0</td>\n",
              "      <td>0</td>\n",
              "      <td>0</td>\n",
              "      <td>0</td>\n",
              "      <td>0</td>\n",
              "      <td>0</td>\n",
              "      <td>0</td>\n",
              "      <td>1</td>\n",
              "      <td>0</td>\n",
              "      <td>0</td>\n",
              "      <td>0</td>\n",
              "      <td>0</td>\n",
              "      <td>0</td>\n",
              "      <td>0</td>\n",
              "      <td>0</td>\n",
              "      <td>1</td>\n",
              "      <td>0</td>\n",
              "      <td>0</td>\n",
              "      <td>0</td>\n",
              "      <td>0</td>\n",
              "      <td>0</td>\n",
              "      <td>0</td>\n",
              "      <td>0</td>\n",
              "      <td>0</td>\n",
              "      <td>0</td>\n",
              "      <td>1</td>\n",
              "      <td>0</td>\n",
              "      <td>0</td>\n",
              "      <td>0</td>\n",
              "      <td>0</td>\n",
              "      <td>0</td>\n",
              "      <td>0</td>\n",
              "      <td>0</td>\n",
              "      <td>0</td>\n",
              "      <td>0</td>\n",
              "      <td>0</td>\n",
              "      <td>0</td>\n",
              "      <td>0</td>\n",
              "      <td>0</td>\n",
              "      <td>0</td>\n",
              "      <td>0</td>\n",
              "    </tr>\n",
              "    <tr>\n",
              "      <th>450406</th>\n",
              "      <td>1538352000</td>\n",
              "      <td>5</td>\n",
              "      <td>0</td>\n",
              "      <td>0</td>\n",
              "      <td>0</td>\n",
              "      <td>0</td>\n",
              "      <td>1</td>\n",
              "      <td>0</td>\n",
              "      <td>0</td>\n",
              "      <td>0</td>\n",
              "      <td>0</td>\n",
              "      <td>0</td>\n",
              "      <td>0</td>\n",
              "      <td>0</td>\n",
              "      <td>0</td>\n",
              "      <td>0</td>\n",
              "      <td>0</td>\n",
              "      <td>1</td>\n",
              "      <td>0</td>\n",
              "      <td>0</td>\n",
              "      <td>0</td>\n",
              "      <td>0</td>\n",
              "      <td>0</td>\n",
              "      <td>0</td>\n",
              "      <td>0</td>\n",
              "      <td>0</td>\n",
              "      <td>0</td>\n",
              "      <td>0</td>\n",
              "      <td>1</td>\n",
              "      <td>0</td>\n",
              "      <td>0</td>\n",
              "      <td>0</td>\n",
              "      <td>0</td>\n",
              "      <td>0</td>\n",
              "      <td>0</td>\n",
              "      <td>0</td>\n",
              "      <td>0</td>\n",
              "      <td>0</td>\n",
              "      <td>0</td>\n",
              "      <td>0</td>\n",
              "      <td>0</td>\n",
              "      <td>1</td>\n",
              "      <td>0</td>\n",
              "      <td>0</td>\n",
              "      <td>0</td>\n",
              "      <td>0</td>\n",
              "      <td>0</td>\n",
              "      <td>0</td>\n",
              "      <td>0</td>\n",
              "      <td>0</td>\n",
              "      <td>0</td>\n",
              "    </tr>\n",
              "    <tr>\n",
              "      <th>450410</th>\n",
              "      <td>1538179200</td>\n",
              "      <td>5</td>\n",
              "      <td>0</td>\n",
              "      <td>0</td>\n",
              "      <td>0</td>\n",
              "      <td>0</td>\n",
              "      <td>1</td>\n",
              "      <td>0</td>\n",
              "      <td>0</td>\n",
              "      <td>0</td>\n",
              "      <td>0</td>\n",
              "      <td>0</td>\n",
              "      <td>0</td>\n",
              "      <td>0</td>\n",
              "      <td>0</td>\n",
              "      <td>0</td>\n",
              "      <td>0</td>\n",
              "      <td>1</td>\n",
              "      <td>0</td>\n",
              "      <td>0</td>\n",
              "      <td>0</td>\n",
              "      <td>0</td>\n",
              "      <td>0</td>\n",
              "      <td>0</td>\n",
              "      <td>0</td>\n",
              "      <td>0</td>\n",
              "      <td>0</td>\n",
              "      <td>0</td>\n",
              "      <td>1</td>\n",
              "      <td>0</td>\n",
              "      <td>0</td>\n",
              "      <td>0</td>\n",
              "      <td>0</td>\n",
              "      <td>0</td>\n",
              "      <td>0</td>\n",
              "      <td>0</td>\n",
              "      <td>0</td>\n",
              "      <td>0</td>\n",
              "      <td>0</td>\n",
              "      <td>0</td>\n",
              "      <td>0</td>\n",
              "      <td>1</td>\n",
              "      <td>0</td>\n",
              "      <td>0</td>\n",
              "      <td>0</td>\n",
              "      <td>0</td>\n",
              "      <td>0</td>\n",
              "      <td>0</td>\n",
              "      <td>0</td>\n",
              "      <td>0</td>\n",
              "      <td>0</td>\n",
              "    </tr>\n",
              "    <tr>\n",
              "      <th>450414</th>\n",
              "      <td>1538438400</td>\n",
              "      <td>1</td>\n",
              "      <td>0</td>\n",
              "      <td>0</td>\n",
              "      <td>0</td>\n",
              "      <td>0</td>\n",
              "      <td>0</td>\n",
              "      <td>1</td>\n",
              "      <td>0</td>\n",
              "      <td>0</td>\n",
              "      <td>0</td>\n",
              "      <td>0</td>\n",
              "      <td>0</td>\n",
              "      <td>0</td>\n",
              "      <td>0</td>\n",
              "      <td>1</td>\n",
              "      <td>0</td>\n",
              "      <td>0</td>\n",
              "      <td>0</td>\n",
              "      <td>0</td>\n",
              "      <td>0</td>\n",
              "      <td>0</td>\n",
              "      <td>0</td>\n",
              "      <td>1</td>\n",
              "      <td>0</td>\n",
              "      <td>0</td>\n",
              "      <td>0</td>\n",
              "      <td>0</td>\n",
              "      <td>0</td>\n",
              "      <td>0</td>\n",
              "      <td>0</td>\n",
              "      <td>0</td>\n",
              "      <td>1</td>\n",
              "      <td>0</td>\n",
              "      <td>0</td>\n",
              "      <td>0</td>\n",
              "      <td>0</td>\n",
              "      <td>0</td>\n",
              "      <td>0</td>\n",
              "      <td>0</td>\n",
              "      <td>0</td>\n",
              "      <td>0</td>\n",
              "      <td>0</td>\n",
              "      <td>0</td>\n",
              "      <td>0</td>\n",
              "      <td>0</td>\n",
              "      <td>0</td>\n",
              "      <td>0</td>\n",
              "      <td>0</td>\n",
              "      <td>0</td>\n",
              "      <td>0</td>\n",
              "    </tr>\n",
              "    <tr>\n",
              "      <th>450422</th>\n",
              "      <td>1538179200</td>\n",
              "      <td>1</td>\n",
              "      <td>0</td>\n",
              "      <td>0</td>\n",
              "      <td>0</td>\n",
              "      <td>0</td>\n",
              "      <td>0</td>\n",
              "      <td>1</td>\n",
              "      <td>0</td>\n",
              "      <td>0</td>\n",
              "      <td>0</td>\n",
              "      <td>0</td>\n",
              "      <td>0</td>\n",
              "      <td>0</td>\n",
              "      <td>0</td>\n",
              "      <td>1</td>\n",
              "      <td>0</td>\n",
              "      <td>0</td>\n",
              "      <td>0</td>\n",
              "      <td>0</td>\n",
              "      <td>0</td>\n",
              "      <td>0</td>\n",
              "      <td>0</td>\n",
              "      <td>1</td>\n",
              "      <td>0</td>\n",
              "      <td>0</td>\n",
              "      <td>0</td>\n",
              "      <td>0</td>\n",
              "      <td>0</td>\n",
              "      <td>0</td>\n",
              "      <td>0</td>\n",
              "      <td>0</td>\n",
              "      <td>1</td>\n",
              "      <td>0</td>\n",
              "      <td>0</td>\n",
              "      <td>0</td>\n",
              "      <td>0</td>\n",
              "      <td>0</td>\n",
              "      <td>0</td>\n",
              "      <td>0</td>\n",
              "      <td>0</td>\n",
              "      <td>0</td>\n",
              "      <td>0</td>\n",
              "      <td>0</td>\n",
              "      <td>0</td>\n",
              "      <td>0</td>\n",
              "      <td>0</td>\n",
              "      <td>0</td>\n",
              "      <td>0</td>\n",
              "      <td>0</td>\n",
              "      <td>0</td>\n",
              "    </tr>\n",
              "  </tbody>\n",
              "</table>\n",
              "<p>58967 rows × 51 columns</p>\n",
              "</div>\n",
              "      <button class=\"colab-df-convert\" onclick=\"convertToInteractive('df-90987ba0-fbd7-48eb-82b0-d7ada5d59d08')\"\n",
              "              title=\"Convert this dataframe to an interactive table.\"\n",
              "              style=\"display:none;\">\n",
              "        \n",
              "  <svg xmlns=\"http://www.w3.org/2000/svg\" height=\"24px\"viewBox=\"0 0 24 24\"\n",
              "       width=\"24px\">\n",
              "    <path d=\"M0 0h24v24H0V0z\" fill=\"none\"/>\n",
              "    <path d=\"M18.56 5.44l.94 2.06.94-2.06 2.06-.94-2.06-.94-.94-2.06-.94 2.06-2.06.94zm-11 1L8.5 8.5l.94-2.06 2.06-.94-2.06-.94L8.5 2.5l-.94 2.06-2.06.94zm10 10l.94 2.06.94-2.06 2.06-.94-2.06-.94-.94-2.06-.94 2.06-2.06.94z\"/><path d=\"M17.41 7.96l-1.37-1.37c-.4-.4-.92-.59-1.43-.59-.52 0-1.04.2-1.43.59L10.3 9.45l-7.72 7.72c-.78.78-.78 2.05 0 2.83L4 21.41c.39.39.9.59 1.41.59.51 0 1.02-.2 1.41-.59l7.78-7.78 2.81-2.81c.8-.78.8-2.07 0-2.86zM5.41 20L4 18.59l7.72-7.72 1.47 1.35L5.41 20z\"/>\n",
              "  </svg>\n",
              "      </button>\n",
              "      \n",
              "  <style>\n",
              "    .colab-df-container {\n",
              "      display:flex;\n",
              "      flex-wrap:wrap;\n",
              "      gap: 12px;\n",
              "    }\n",
              "\n",
              "    .colab-df-convert {\n",
              "      background-color: #E8F0FE;\n",
              "      border: none;\n",
              "      border-radius: 50%;\n",
              "      cursor: pointer;\n",
              "      display: none;\n",
              "      fill: #1967D2;\n",
              "      height: 32px;\n",
              "      padding: 0 0 0 0;\n",
              "      width: 32px;\n",
              "    }\n",
              "\n",
              "    .colab-df-convert:hover {\n",
              "      background-color: #E2EBFA;\n",
              "      box-shadow: 0px 1px 2px rgba(60, 64, 67, 0.3), 0px 1px 3px 1px rgba(60, 64, 67, 0.15);\n",
              "      fill: #174EA6;\n",
              "    }\n",
              "\n",
              "    [theme=dark] .colab-df-convert {\n",
              "      background-color: #3B4455;\n",
              "      fill: #D2E3FC;\n",
              "    }\n",
              "\n",
              "    [theme=dark] .colab-df-convert:hover {\n",
              "      background-color: #434B5C;\n",
              "      box-shadow: 0px 1px 3px 1px rgba(0, 0, 0, 0.15);\n",
              "      filter: drop-shadow(0px 1px 2px rgba(0, 0, 0, 0.3));\n",
              "      fill: #FFFFFF;\n",
              "    }\n",
              "  </style>\n",
              "\n",
              "      <script>\n",
              "        const buttonEl =\n",
              "          document.querySelector('#df-90987ba0-fbd7-48eb-82b0-d7ada5d59d08 button.colab-df-convert');\n",
              "        buttonEl.style.display =\n",
              "          google.colab.kernel.accessAllowed ? 'block' : 'none';\n",
              "\n",
              "        async function convertToInteractive(key) {\n",
              "          const element = document.querySelector('#df-90987ba0-fbd7-48eb-82b0-d7ada5d59d08');\n",
              "          const dataTable =\n",
              "            await google.colab.kernel.invokeFunction('convertToInteractive',\n",
              "                                                     [key], {});\n",
              "          if (!dataTable) return;\n",
              "\n",
              "          const docLinkHtml = 'Like what you see? Visit the ' +\n",
              "            '<a target=\"_blank\" href=https://colab.research.google.com/notebooks/data_table.ipynb>data table notebook</a>'\n",
              "            + ' to learn more about interactive tables.';\n",
              "          element.innerHTML = '';\n",
              "          dataTable['output_type'] = 'display_data';\n",
              "          await google.colab.output.renderOutput(dataTable, element);\n",
              "          const docLink = document.createElement('div');\n",
              "          docLink.innerHTML = docLinkHtml;\n",
              "          element.appendChild(docLink);\n",
              "        }\n",
              "      </script>\n",
              "    </div>\n",
              "  </div>\n",
              "  "
            ]
          },
          "metadata": {},
          "execution_count": 100
        }
      ]
    },
    {
      "cell_type": "code",
      "source": [
        "# Todos os valores são nulos, conforme esperado\n",
        "y_nan"
      ],
      "metadata": {
        "colab": {
          "base_uri": "https://localhost:8080/"
        },
        "id": "CVvCuUOQEfNa",
        "outputId": "20f730c4-4513-475b-8c81-a59b0afad787"
      },
      "execution_count": 98,
      "outputs": [
        {
          "output_type": "execute_result",
          "data": {
            "text/plain": [
              "0        NaN\n",
              "1        NaN\n",
              "24       NaN\n",
              "25       NaN\n",
              "26       NaN\n",
              "          ..\n",
              "450388   NaN\n",
              "450406   NaN\n",
              "450410   NaN\n",
              "450414   NaN\n",
              "450422   NaN\n",
              "Name: verified, Length: 58967, dtype: float64"
            ]
          },
          "metadata": {},
          "execution_count": 98
        }
      ]
    },
    {
      "cell_type": "code",
      "source": [
        "# Vou substituir a variável verified com os valores preditos pelo modelo.\n",
        "df_classification['verified'] = clf.predict(X_classifier)"
      ],
      "metadata": {
        "colab": {
          "base_uri": "https://localhost:8080/"
        },
        "id": "Si33HGMnEqqe",
        "outputId": "c6c1ee96-5514-46fd-9342-8ddd18fe7c25"
      },
      "execution_count": 101,
      "outputs": [
        {
          "output_type": "stream",
          "name": "stderr",
          "text": [
            "/usr/local/lib/python3.7/dist-packages/ipykernel_launcher.py:2: SettingWithCopyWarning: \n",
            "A value is trying to be set on a copy of a slice from a DataFrame.\n",
            "Try using .loc[row_indexer,col_indexer] = value instead\n",
            "\n",
            "See the caveats in the documentation: https://pandas.pydata.org/pandas-docs/stable/user_guide/indexing.html#returning-a-view-versus-a-copy\n",
            "  \n"
          ]
        }
      ]
    },
    {
      "cell_type": "code",
      "source": [
        "# Agora todos os valores que antes eram nulos estão classificados.\n",
        "df_classification['verified'].value_counts()"
      ],
      "metadata": {
        "colab": {
          "base_uri": "https://localhost:8080/"
        },
        "id": "Kqhq2sKLE8NN",
        "outputId": "e7924669-e504-4da1-87bc-cb57407b3912"
      },
      "execution_count": 103,
      "outputs": [
        {
          "output_type": "execute_result",
          "data": {
            "text/plain": [
              "1.0    51511\n",
              "0.0     7456\n",
              "Name: verified, dtype: int64"
            ]
          },
          "metadata": {},
          "execution_count": 103
        }
      ]
    },
    {
      "cell_type": "code",
      "source": [
        "# Unir os dados novamente para ter o dataset final que seguirá para o sistema de recomendação\n",
        "df_reviews_final = pd.concat([df_model, df_classification])\n",
        "print(df_reviews_final.shape)\n",
        "df_reviews_final.head(3)"
      ],
      "metadata": {
        "colab": {
          "base_uri": "https://localhost:8080/",
          "height": 485
        },
        "id": "-ZNnOi8yFFqs",
        "outputId": "8f2ee7dd-8924-4c5b-b181-2008abb907bc"
      },
      "execution_count": 105,
      "outputs": [
        {
          "output_type": "stream",
          "name": "stdout",
          "text": [
            "(374973, 16)\n"
          ]
        },
        {
          "output_type": "execute_result",
          "data": {
            "text/plain": [
              "  reviewTime      reviewerID     reviewerName        asin              title  \\\n",
              "2 2018-01-02  A3ISBEPYLY8IMO            Jimmy  B00000JRSB  Final Fantasy VII   \n",
              "3 2018-01-02  A3ISBEPYLY8IMO            Jimmy  B00000JRSB  Final Fantasy VII   \n",
              "4 2017-12-21  A1RIUB1PZWLOVZ  Amazon Customer  B00000JRSB  Final Fantasy VII   \n",
              "\n",
              "        brand main_category     plataform specific_category  \\\n",
              "2  SquareSoft   Video Games  Retro Gaming       PlayStation   \n",
              "3  SquareSoft   Video Games  Retro Gaming       PlayStation   \n",
              "4  SquareSoft   Video Games  Retro Gaming       PlayStation   \n",
              "\n",
              "                                         description  \\\n",
              "2  Long recognized as role-playing games par exce...   \n",
              "3  Long recognized as role-playing games par exce...   \n",
              "4  Long recognized as role-playing games par exce...   \n",
              "\n",
              "                                             summary   feature  \\\n",
              "2  Received this in perfect condition. Great rese...  1 Player   \n",
              "3  Received this in perfect condition. Great rese...  1 Player   \n",
              "4               I am very pleased with this purchase  1 Player   \n",
              "\n",
              "   unixReviewTime                                         reviewText  \\\n",
              "2      1514851200  Received this in perfect condition. Great rese...   \n",
              "3      1514851200  Received this in perfect condition. Great rese...   \n",
              "4      1513814400  I had a hard time finding this game locally or...   \n",
              "\n",
              "   verified  overall  \n",
              "2       1.0        5  \n",
              "3       1.0        5  \n",
              "4       1.0        5  "
            ],
            "text/html": [
              "\n",
              "  <div id=\"df-8f85087e-8418-46b0-ad37-82aa8675709a\">\n",
              "    <div class=\"colab-df-container\">\n",
              "      <div>\n",
              "<style scoped>\n",
              "    .dataframe tbody tr th:only-of-type {\n",
              "        vertical-align: middle;\n",
              "    }\n",
              "\n",
              "    .dataframe tbody tr th {\n",
              "        vertical-align: top;\n",
              "    }\n",
              "\n",
              "    .dataframe thead th {\n",
              "        text-align: right;\n",
              "    }\n",
              "</style>\n",
              "<table border=\"1\" class=\"dataframe\">\n",
              "  <thead>\n",
              "    <tr style=\"text-align: right;\">\n",
              "      <th></th>\n",
              "      <th>reviewTime</th>\n",
              "      <th>reviewerID</th>\n",
              "      <th>reviewerName</th>\n",
              "      <th>asin</th>\n",
              "      <th>title</th>\n",
              "      <th>brand</th>\n",
              "      <th>main_category</th>\n",
              "      <th>plataform</th>\n",
              "      <th>specific_category</th>\n",
              "      <th>description</th>\n",
              "      <th>summary</th>\n",
              "      <th>feature</th>\n",
              "      <th>unixReviewTime</th>\n",
              "      <th>reviewText</th>\n",
              "      <th>verified</th>\n",
              "      <th>overall</th>\n",
              "    </tr>\n",
              "  </thead>\n",
              "  <tbody>\n",
              "    <tr>\n",
              "      <th>2</th>\n",
              "      <td>2018-01-02</td>\n",
              "      <td>A3ISBEPYLY8IMO</td>\n",
              "      <td>Jimmy</td>\n",
              "      <td>B00000JRSB</td>\n",
              "      <td>Final Fantasy VII</td>\n",
              "      <td>SquareSoft</td>\n",
              "      <td>Video Games</td>\n",
              "      <td>Retro Gaming</td>\n",
              "      <td>PlayStation</td>\n",
              "      <td>Long recognized as role-playing games par exce...</td>\n",
              "      <td>Received this in perfect condition. Great rese...</td>\n",
              "      <td>1 Player</td>\n",
              "      <td>1514851200</td>\n",
              "      <td>Received this in perfect condition. Great rese...</td>\n",
              "      <td>1.0</td>\n",
              "      <td>5</td>\n",
              "    </tr>\n",
              "    <tr>\n",
              "      <th>3</th>\n",
              "      <td>2018-01-02</td>\n",
              "      <td>A3ISBEPYLY8IMO</td>\n",
              "      <td>Jimmy</td>\n",
              "      <td>B00000JRSB</td>\n",
              "      <td>Final Fantasy VII</td>\n",
              "      <td>SquareSoft</td>\n",
              "      <td>Video Games</td>\n",
              "      <td>Retro Gaming</td>\n",
              "      <td>PlayStation</td>\n",
              "      <td>Long recognized as role-playing games par exce...</td>\n",
              "      <td>Received this in perfect condition. Great rese...</td>\n",
              "      <td>1 Player</td>\n",
              "      <td>1514851200</td>\n",
              "      <td>Received this in perfect condition. Great rese...</td>\n",
              "      <td>1.0</td>\n",
              "      <td>5</td>\n",
              "    </tr>\n",
              "    <tr>\n",
              "      <th>4</th>\n",
              "      <td>2017-12-21</td>\n",
              "      <td>A1RIUB1PZWLOVZ</td>\n",
              "      <td>Amazon Customer</td>\n",
              "      <td>B00000JRSB</td>\n",
              "      <td>Final Fantasy VII</td>\n",
              "      <td>SquareSoft</td>\n",
              "      <td>Video Games</td>\n",
              "      <td>Retro Gaming</td>\n",
              "      <td>PlayStation</td>\n",
              "      <td>Long recognized as role-playing games par exce...</td>\n",
              "      <td>I am very pleased with this purchase</td>\n",
              "      <td>1 Player</td>\n",
              "      <td>1513814400</td>\n",
              "      <td>I had a hard time finding this game locally or...</td>\n",
              "      <td>1.0</td>\n",
              "      <td>5</td>\n",
              "    </tr>\n",
              "  </tbody>\n",
              "</table>\n",
              "</div>\n",
              "      <button class=\"colab-df-convert\" onclick=\"convertToInteractive('df-8f85087e-8418-46b0-ad37-82aa8675709a')\"\n",
              "              title=\"Convert this dataframe to an interactive table.\"\n",
              "              style=\"display:none;\">\n",
              "        \n",
              "  <svg xmlns=\"http://www.w3.org/2000/svg\" height=\"24px\"viewBox=\"0 0 24 24\"\n",
              "       width=\"24px\">\n",
              "    <path d=\"M0 0h24v24H0V0z\" fill=\"none\"/>\n",
              "    <path d=\"M18.56 5.44l.94 2.06.94-2.06 2.06-.94-2.06-.94-.94-2.06-.94 2.06-2.06.94zm-11 1L8.5 8.5l.94-2.06 2.06-.94-2.06-.94L8.5 2.5l-.94 2.06-2.06.94zm10 10l.94 2.06.94-2.06 2.06-.94-2.06-.94-.94-2.06-.94 2.06-2.06.94z\"/><path d=\"M17.41 7.96l-1.37-1.37c-.4-.4-.92-.59-1.43-.59-.52 0-1.04.2-1.43.59L10.3 9.45l-7.72 7.72c-.78.78-.78 2.05 0 2.83L4 21.41c.39.39.9.59 1.41.59.51 0 1.02-.2 1.41-.59l7.78-7.78 2.81-2.81c.8-.78.8-2.07 0-2.86zM5.41 20L4 18.59l7.72-7.72 1.47 1.35L5.41 20z\"/>\n",
              "  </svg>\n",
              "      </button>\n",
              "      \n",
              "  <style>\n",
              "    .colab-df-container {\n",
              "      display:flex;\n",
              "      flex-wrap:wrap;\n",
              "      gap: 12px;\n",
              "    }\n",
              "\n",
              "    .colab-df-convert {\n",
              "      background-color: #E8F0FE;\n",
              "      border: none;\n",
              "      border-radius: 50%;\n",
              "      cursor: pointer;\n",
              "      display: none;\n",
              "      fill: #1967D2;\n",
              "      height: 32px;\n",
              "      padding: 0 0 0 0;\n",
              "      width: 32px;\n",
              "    }\n",
              "\n",
              "    .colab-df-convert:hover {\n",
              "      background-color: #E2EBFA;\n",
              "      box-shadow: 0px 1px 2px rgba(60, 64, 67, 0.3), 0px 1px 3px 1px rgba(60, 64, 67, 0.15);\n",
              "      fill: #174EA6;\n",
              "    }\n",
              "\n",
              "    [theme=dark] .colab-df-convert {\n",
              "      background-color: #3B4455;\n",
              "      fill: #D2E3FC;\n",
              "    }\n",
              "\n",
              "    [theme=dark] .colab-df-convert:hover {\n",
              "      background-color: #434B5C;\n",
              "      box-shadow: 0px 1px 3px 1px rgba(0, 0, 0, 0.15);\n",
              "      filter: drop-shadow(0px 1px 2px rgba(0, 0, 0, 0.3));\n",
              "      fill: #FFFFFF;\n",
              "    }\n",
              "  </style>\n",
              "\n",
              "      <script>\n",
              "        const buttonEl =\n",
              "          document.querySelector('#df-8f85087e-8418-46b0-ad37-82aa8675709a button.colab-df-convert');\n",
              "        buttonEl.style.display =\n",
              "          google.colab.kernel.accessAllowed ? 'block' : 'none';\n",
              "\n",
              "        async function convertToInteractive(key) {\n",
              "          const element = document.querySelector('#df-8f85087e-8418-46b0-ad37-82aa8675709a');\n",
              "          const dataTable =\n",
              "            await google.colab.kernel.invokeFunction('convertToInteractive',\n",
              "                                                     [key], {});\n",
              "          if (!dataTable) return;\n",
              "\n",
              "          const docLinkHtml = 'Like what you see? Visit the ' +\n",
              "            '<a target=\"_blank\" href=https://colab.research.google.com/notebooks/data_table.ipynb>data table notebook</a>'\n",
              "            + ' to learn more about interactive tables.';\n",
              "          element.innerHTML = '';\n",
              "          dataTable['output_type'] = 'display_data';\n",
              "          await google.colab.output.renderOutput(dataTable, element);\n",
              "          const docLink = document.createElement('div');\n",
              "          docLink.innerHTML = docLinkHtml;\n",
              "          element.appendChild(docLink);\n",
              "        }\n",
              "      </script>\n",
              "    </div>\n",
              "  </div>\n",
              "  "
            ]
          },
          "metadata": {},
          "execution_count": 105
        }
      ]
    },
    {
      "cell_type": "markdown",
      "source": [
        "Rever a distribuição das avaliações verificadas agora que as nulas foram classificadas"
      ],
      "metadata": {
        "id": "VmyzqhZiG2Pv"
      }
    },
    {
      "cell_type": "code",
      "source": [
        "verifieds_final = df_reviews_final['verified'].value_counts().reset_index()\n",
        "\n",
        "plt.title('Avaliações Verificadas Após a Classificação')\n",
        "sns.barplot(x='index', y='verified', data=verifieds_final)\n",
        "plt.xlabel('Verificados')\n",
        "plt.ylabel('Quantidade')\n",
        "plt.show()"
      ],
      "metadata": {
        "colab": {
          "base_uri": "https://localhost:8080/",
          "height": 538
        },
        "outputId": "3affd079-53ac-4bfa-e048-6bfdfc172468",
        "id": "KzzznT7kGwDS"
      },
      "execution_count": 107,
      "outputs": [
        {
          "output_type": "display_data",
          "data": {
            "text/plain": [
              "<Figure size 864x576 with 1 Axes>"
            ],
            "image/png": "[encoded data removed]"
          },
          "metadata": {}
        }
      ]
    },
    {
      "cell_type": "markdown",
      "source": [
        "# 6 - Sistema de Recomendação"
      ],
      "metadata": {
        "id": "fYBBr-gZGDME"
      }
    },
    {
      "cell_type": "markdown",
      "source": [
        "### 6.1 - Selecionando a matriz de usuários, itens e as respectivas notas"
      ],
      "metadata": {
        "id": "o5wv8ETsVO9K"
      }
    },
    {
      "cell_type": "code",
      "source": [
        "# Filtrando as avaliações verificadas\n",
        "games_reviews = df_reviews_final.loc[df_reviews_final.verified == 1, ['reviewerID', 'asin', 'overall']]\n",
        "\n",
        "games_reviews.head(2)"
      ],
      "metadata": {
        "colab": {
          "base_uri": "https://localhost:8080/",
          "height": 112
        },
        "id": "JIWvDgilMuC4",
        "outputId": "69e929ae-88d4-4dc8-ffa6-d46590d0e2ee"
      },
      "execution_count": 135,
      "outputs": [
        {
          "output_type": "execute_result",
          "data": {
            "text/plain": [
              "       reviewerID        asin  overall\n",
              "2  A3ISBEPYLY8IMO  B00000JRSB        5\n",
              "3  A3ISBEPYLY8IMO  B00000JRSB        5"
            ],
            "text/html": [
              "\n",
              "  <div id=\"df-e651e325-b642-4e0f-94c1-c7abe803c5e7\">\n",
              "    <div class=\"colab-df-container\">\n",
              "      <div>\n",
              "<style scoped>\n",
              "    .dataframe tbody tr th:only-of-type {\n",
              "        vertical-align: middle;\n",
              "    }\n",
              "\n",
              "    .dataframe tbody tr th {\n",
              "        vertical-align: top;\n",
              "    }\n",
              "\n",
              "    .dataframe thead th {\n",
              "        text-align: right;\n",
              "    }\n",
              "</style>\n",
              "<table border=\"1\" class=\"dataframe\">\n",
              "  <thead>\n",
              "    <tr style=\"text-align: right;\">\n",
              "      <th></th>\n",
              "      <th>reviewerID</th>\n",
              "      <th>asin</th>\n",
              "      <th>overall</th>\n",
              "    </tr>\n",
              "  </thead>\n",
              "  <tbody>\n",
              "    <tr>\n",
              "      <th>2</th>\n",
              "      <td>A3ISBEPYLY8IMO</td>\n",
              "      <td>B00000JRSB</td>\n",
              "      <td>5</td>\n",
              "    </tr>\n",
              "    <tr>\n",
              "      <th>3</th>\n",
              "      <td>A3ISBEPYLY8IMO</td>\n",
              "      <td>B00000JRSB</td>\n",
              "      <td>5</td>\n",
              "    </tr>\n",
              "  </tbody>\n",
              "</table>\n",
              "</div>\n",
              "      <button class=\"colab-df-convert\" onclick=\"convertToInteractive('df-e651e325-b642-4e0f-94c1-c7abe803c5e7')\"\n",
              "              title=\"Convert this dataframe to an interactive table.\"\n",
              "              style=\"display:none;\">\n",
              "        \n",
              "  <svg xmlns=\"http://www.w3.org/2000/svg\" height=\"24px\"viewBox=\"0 0 24 24\"\n",
              "       width=\"24px\">\n",
              "    <path d=\"M0 0h24v24H0V0z\" fill=\"none\"/>\n",
              "    <path d=\"M18.56 5.44l.94 2.06.94-2.06 2.06-.94-2.06-.94-.94-2.06-.94 2.06-2.06.94zm-11 1L8.5 8.5l.94-2.06 2.06-.94-2.06-.94L8.5 2.5l-.94 2.06-2.06.94zm10 10l.94 2.06.94-2.06 2.06-.94-2.06-.94-.94-2.06-.94 2.06-2.06.94z\"/><path d=\"M17.41 7.96l-1.37-1.37c-.4-.4-.92-.59-1.43-.59-.52 0-1.04.2-1.43.59L10.3 9.45l-7.72 7.72c-.78.78-.78 2.05 0 2.83L4 21.41c.39.39.9.59 1.41.59.51 0 1.02-.2 1.41-.59l7.78-7.78 2.81-2.81c.8-.78.8-2.07 0-2.86zM5.41 20L4 18.59l7.72-7.72 1.47 1.35L5.41 20z\"/>\n",
              "  </svg>\n",
              "      </button>\n",
              "      \n",
              "  <style>\n",
              "    .colab-df-container {\n",
              "      display:flex;\n",
              "      flex-wrap:wrap;\n",
              "      gap: 12px;\n",
              "    }\n",
              "\n",
              "    .colab-df-convert {\n",
              "      background-color: #E8F0FE;\n",
              "      border: none;\n",
              "      border-radius: 50%;\n",
              "      cursor: pointer;\n",
              "      display: none;\n",
              "      fill: #1967D2;\n",
              "      height: 32px;\n",
              "      padding: 0 0 0 0;\n",
              "      width: 32px;\n",
              "    }\n",
              "\n",
              "    .colab-df-convert:hover {\n",
              "      background-color: #E2EBFA;\n",
              "      box-shadow: 0px 1px 2px rgba(60, 64, 67, 0.3), 0px 1px 3px 1px rgba(60, 64, 67, 0.15);\n",
              "      fill: #174EA6;\n",
              "    }\n",
              "\n",
              "    [theme=dark] .colab-df-convert {\n",
              "      background-color: #3B4455;\n",
              "      fill: #D2E3FC;\n",
              "    }\n",
              "\n",
              "    [theme=dark] .colab-df-convert:hover {\n",
              "      background-color: #434B5C;\n",
              "      box-shadow: 0px 1px 3px 1px rgba(0, 0, 0, 0.15);\n",
              "      filter: drop-shadow(0px 1px 2px rgba(0, 0, 0, 0.3));\n",
              "      fill: #FFFFFF;\n",
              "    }\n",
              "  </style>\n",
              "\n",
              "      <script>\n",
              "        const buttonEl =\n",
              "          document.querySelector('#df-e651e325-b642-4e0f-94c1-c7abe803c5e7 button.colab-df-convert');\n",
              "        buttonEl.style.display =\n",
              "          google.colab.kernel.accessAllowed ? 'block' : 'none';\n",
              "\n",
              "        async function convertToInteractive(key) {\n",
              "          const element = document.querySelector('#df-e651e325-b642-4e0f-94c1-c7abe803c5e7');\n",
              "          const dataTable =\n",
              "            await google.colab.kernel.invokeFunction('convertToInteractive',\n",
              "                                                     [key], {});\n",
              "          if (!dataTable) return;\n",
              "\n",
              "          const docLinkHtml = 'Like what you see? Visit the ' +\n",
              "            '<a target=\"_blank\" href=https://colab.research.google.com/notebooks/data_table.ipynb>data table notebook</a>'\n",
              "            + ' to learn more about interactive tables.';\n",
              "          element.innerHTML = '';\n",
              "          dataTable['output_type'] = 'display_data';\n",
              "          await google.colab.output.renderOutput(dataTable, element);\n",
              "          const docLink = document.createElement('div');\n",
              "          docLink.innerHTML = docLinkHtml;\n",
              "          element.appendChild(docLink);\n",
              "        }\n",
              "      </script>\n",
              "    </div>\n",
              "  </div>\n",
              "  "
            ]
          },
          "metadata": {},
          "execution_count": 135
        }
      ]
    },
    {
      "cell_type": "markdown",
      "source": [
        "### 6.2 - Definindo as Funções para a manipulação do dataframe e criação da matriz de similaridade utilizando o **cosine_similarity** do sklearn."
      ],
      "metadata": {
        "id": "nEbRiWELVN-6"
      }
    },
    {
      "cell_type": "code",
      "source": [
        "def start_pipeline(dataf):\n",
        "  return dataf.copy()\n",
        "\n",
        "\n",
        "def get_itens_counts(dataf):\n",
        "  return dataf.groupby(by='asin', as_index=False) \\\n",
        "    .agg({'reviewerID': pd.Series.nunique}) \\\n",
        "    .rename(columns={'reviewerID': 'reviewerID_count'}) \\\n",
        "    .set_index('asin') \\\n",
        "    .sort_values('reviewerID_count', ascending = False)\n",
        "\n",
        "\n",
        "def get_n_top_values(dataf, n):\n",
        "  return dataf.head(n) \\\n",
        "    .index \\\n",
        "    .tolist()\n",
        "\n",
        "\n",
        "def format_sample(dataf):\n",
        "  return pd.DataFrame({\n",
        "      \"user\": dataf[\"reviewerID\"],\n",
        "      \"iten\": dataf[\"asin\"],\n",
        "      \"action\": dataf[\"overall\"]\n",
        "  })\n",
        "\n",
        "\n",
        "def get_top_itens_ids(dataf, sample_size=1000):\n",
        "  return dataf \\\n",
        "    .pipe(start_pipeline) \\\n",
        "    .pipe(get_itens_counts) \\\n",
        "    .pipe(get_n_top_values, sample_size)\n",
        "\n",
        "\n",
        "def get_item_based_similarity_matrix(data):\n",
        "  top_itens_ids = get_top_itens_ids(data)\n",
        "  itens_sampled_relationship_data = data[data[\"asin\"].isin(top_itens_ids)] \\\n",
        "    .pipe(format_sample) \\\n",
        "    .pivot_table(index=\"user\", columns=\"iten\", values=\"action\").fillna(0)\n",
        "  return cosine_similarity(itens_sampled_relationship_data.T), itens_sampled_relationship_data.T.index\n"
      ],
      "metadata": {
        "id": "JpPBuESrGHVI"
      },
      "execution_count": 115,
      "outputs": []
    },
    {
      "cell_type": "markdown",
      "source": [
        "### 6.3 - Criando a Classe com os métodos responsáveis por devolver os itens recomendados"
      ],
      "metadata": {
        "id": "0kQEV5DPVjKE"
      }
    },
    {
      "cell_type": "code",
      "source": [
        "class ItemBasedRecommender:\n",
        "\n",
        "  def __init__(self, dataf):\n",
        "    self.dataf = dataf\n",
        "\n",
        "  def setup(self):\n",
        "    data = self.dataf\n",
        "    sim_matrix, available_items_index = get_item_based_similarity_matrix(data)\n",
        "    self.available_items_index = available_items_index\n",
        "    self.sim_matrix = sim_matrix\n",
        "\n",
        "  def get_random_item_index(self):\n",
        "    item_id = self.available_items_index[random.randint(0, self.sim_matrix.shape[0])]\n",
        "    return item_id\n",
        "\n",
        "  def get_n_closest(self, item_id, n=10):\n",
        "    if item_id not in self.available_items_index:\n",
        "      raise ValueError('Item is not available on data.')\n",
        "    item_index = self.available_items_index.tolist().index(item_id)\n",
        "    closest_n_iten = np.argsort(-self.sim_matrix[item_index])[1:n]\n",
        "    n_closest = []\n",
        "    for item_data in zip(self.available_items_index[closest_n_iten], self.sim_matrix[item_index][closest_n_iten]):\n",
        "      n_closest.append(item_data)\n",
        "    return tuple(n_closest)"
      ],
      "metadata": {
        "id": "-siHT1IKILZv"
      },
      "execution_count": 116,
      "outputs": []
    },
    {
      "cell_type": "markdown",
      "source": [
        "### 6.4 - Exemplo de utilização do sistema de recomendação"
      ],
      "metadata": {
        "id": "p2v12pjEVuVs"
      }
    },
    {
      "cell_type": "code",
      "source": [
        "item_recommender = ItemBasedRecommender(games_reviews)\n",
        "\n",
        "item_recommender.setup()"
      ],
      "metadata": {
        "id": "wxc5zUtQIYDZ"
      },
      "execution_count": 136,
      "outputs": []
    },
    {
      "cell_type": "code",
      "source": [
        "# Buscando um item aleatório dentro da matriz\n",
        "some_item_id = item_recommender.get_random_item_index()\n",
        "\n",
        "# Fazendo a recomendação\n",
        "item_recommender.get_n_closest(some_item_id)"
      ],
      "metadata": {
        "colab": {
          "base_uri": "https://localhost:8080/"
        },
        "id": "XwuZrXObIZ7X",
        "outputId": "c539c713-480a-42e6-dfac-d38f11cfc20e"
      },
      "execution_count": 137,
      "outputs": [
        {
          "output_type": "execute_result",
          "data": {
            "text/plain": [
              "(('B00BXONG7G', 0.02290532653514634),\n",
              " ('B00009OY9U', 0.007596024356431554),\n",
              " ('B00140P9BA', 0.0057697202299344785),\n",
              " ('B00178630A', 0.005219377140819536),\n",
              " ('B001FY7LBQ', 0.004323361601946442),\n",
              " ('B000ZKA0J6', 0.004294152021348337),\n",
              " ('B00Z0UWWYC', 0.004096632603791174),\n",
              " ('B00BFOEY4I', 0.004014173261898223),\n",
              " ('B000FQ2D5E', 0.0038740170144561147))"
            ]
          },
          "metadata": {},
          "execution_count": 137
        }
      ]
    },
    {
      "cell_type": "code",
      "source": [
        "# Teste com item inexistente na base, retorna um Value Error\n",
        "item_recommender.get_n_closest('ITEM_NAO_EXISTE')"
      ],
      "metadata": {
        "colab": {
          "base_uri": "https://localhost:8080/",
          "height": 304
        },
        "id": "7Zd2FFs9Ib2B",
        "outputId": "ceafc5c0-85be-4ae5-fe38-9235f49356e1"
      },
      "execution_count": 138,
      "outputs": [
        {
          "output_type": "error",
          "ename": "ValueError",
          "evalue": "ignored",
          "traceback": [
            "\u001b[0;31m---------------------------------------------------------------------------\u001b[0m",
            "\u001b[0;31mValueError\u001b[0m                                Traceback (most recent call last)",
            "\u001b[0;32m<ipython-input-138-ac1335d3d08b>\u001b[0m in \u001b[0;36m<module>\u001b[0;34m()\u001b[0m\n\u001b[1;32m      1\u001b[0m \u001b[0;31m# Teste com item inexistente na base, retorna um Value Error\u001b[0m\u001b[0;34m\u001b[0m\u001b[0;34m\u001b[0m\u001b[0;34m\u001b[0m\u001b[0m\n\u001b[0;32m----> 2\u001b[0;31m \u001b[0mitem_recommender\u001b[0m\u001b[0;34m.\u001b[0m\u001b[0mget_n_closest\u001b[0m\u001b[0;34m(\u001b[0m\u001b[0;34m'ITEM_NAO_EXISTE'\u001b[0m\u001b[0;34m)\u001b[0m\u001b[0;34m\u001b[0m\u001b[0;34m\u001b[0m\u001b[0m\n\u001b[0m",
            "\u001b[0;32m<ipython-input-116-3ed701ca138b>\u001b[0m in \u001b[0;36mget_n_closest\u001b[0;34m(self, item_id, n)\u001b[0m\n\u001b[1;32m     16\u001b[0m   \u001b[0;32mdef\u001b[0m \u001b[0mget_n_closest\u001b[0m\u001b[0;34m(\u001b[0m\u001b[0mself\u001b[0m\u001b[0;34m,\u001b[0m \u001b[0mitem_id\u001b[0m\u001b[0;34m,\u001b[0m \u001b[0mn\u001b[0m\u001b[0;34m=\u001b[0m\u001b[0;36m10\u001b[0m\u001b[0;34m)\u001b[0m\u001b[0;34m:\u001b[0m\u001b[0;34m\u001b[0m\u001b[0;34m\u001b[0m\u001b[0m\n\u001b[1;32m     17\u001b[0m     \u001b[0;32mif\u001b[0m \u001b[0mitem_id\u001b[0m \u001b[0;32mnot\u001b[0m \u001b[0;32min\u001b[0m \u001b[0mself\u001b[0m\u001b[0;34m.\u001b[0m\u001b[0mavailable_items_index\u001b[0m\u001b[0;34m:\u001b[0m\u001b[0;34m\u001b[0m\u001b[0;34m\u001b[0m\u001b[0m\n\u001b[0;32m---> 18\u001b[0;31m       \u001b[0;32mraise\u001b[0m \u001b[0mValueError\u001b[0m\u001b[0;34m(\u001b[0m\u001b[0;34m'Item is not available on data.'\u001b[0m\u001b[0;34m)\u001b[0m\u001b[0;34m\u001b[0m\u001b[0;34m\u001b[0m\u001b[0m\n\u001b[0m\u001b[1;32m     19\u001b[0m     \u001b[0mitem_index\u001b[0m \u001b[0;34m=\u001b[0m \u001b[0mself\u001b[0m\u001b[0;34m.\u001b[0m\u001b[0mavailable_items_index\u001b[0m\u001b[0;34m.\u001b[0m\u001b[0mtolist\u001b[0m\u001b[0;34m(\u001b[0m\u001b[0;34m)\u001b[0m\u001b[0;34m.\u001b[0m\u001b[0mindex\u001b[0m\u001b[0;34m(\u001b[0m\u001b[0mitem_id\u001b[0m\u001b[0;34m)\u001b[0m\u001b[0;34m\u001b[0m\u001b[0;34m\u001b[0m\u001b[0m\n\u001b[1;32m     20\u001b[0m     \u001b[0mclosest_n_iten\u001b[0m \u001b[0;34m=\u001b[0m \u001b[0mnp\u001b[0m\u001b[0;34m.\u001b[0m\u001b[0margsort\u001b[0m\u001b[0;34m(\u001b[0m\u001b[0;34m-\u001b[0m\u001b[0mself\u001b[0m\u001b[0;34m.\u001b[0m\u001b[0msim_matrix\u001b[0m\u001b[0;34m[\u001b[0m\u001b[0mitem_index\u001b[0m\u001b[0;34m]\u001b[0m\u001b[0;34m)\u001b[0m\u001b[0;34m[\u001b[0m\u001b[0;36m1\u001b[0m\u001b[0;34m:\u001b[0m\u001b[0mn\u001b[0m\u001b[0;34m]\u001b[0m\u001b[0;34m\u001b[0m\u001b[0;34m\u001b[0m\u001b[0m\n",
            "\u001b[0;31mValueError\u001b[0m: Item is not available on data."
          ]
        }
      ]
    },
    {
      "cell_type": "code",
      "source": [
        "# Pegando uma recomendação simples dos 10 mais avaliados (não leva em consideração a nota)\n",
        "\n",
        "top_10_mais_avaliados = get_itens_counts(games_reviews)[:10].index.tolist()"
      ],
      "metadata": {
        "id": "Dzy0ntfwUiCl"
      },
      "execution_count": 139,
      "outputs": []
    },
    {
      "cell_type": "code",
      "source": [
        "# Tratamento da exceção ValueError, apresentando os top 10 itens mais avaliados\n",
        "\n",
        "try:\n",
        "  item_recommender.get_n_closest('ITEM_NAO_EXISTE')\n",
        "except ValueError:\n",
        "  print(top_10_mais_avaliados)"
      ],
      "metadata": {
        "colab": {
          "base_uri": "https://localhost:8080/"
        },
        "id": "vjYO_ijXUwyH",
        "outputId": "d9f0a1f8-cc15-4ffa-904a-99b338d82646"
      },
      "execution_count": 140,
      "outputs": [
        {
          "output_type": "stream",
          "name": "stdout",
          "text": [
            "['B004RMK57U', 'B00E4MQODC', 'B00DBDPOZ4', 'B000HZFCT2', 'B00CMN0Z0S', 'B00BFOEY4I', 'B00GU8W5AE', 'B00BGA9X9W', 'B00AAS888S', 'B012DFI02O']\n"
          ]
        }
      ]
    }
  ]
}