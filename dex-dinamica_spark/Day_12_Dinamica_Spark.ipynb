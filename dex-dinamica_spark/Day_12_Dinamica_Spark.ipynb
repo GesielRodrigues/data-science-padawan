{
  "nbformat": 4,
  "nbformat_minor": 0,
  "metadata": {
    "colab": {
      "name": "[DEx] Day_12 - Dinâmica_Spark.ipynb",
      "provenance": [],
      "collapsed_sections": [
        "hjE_B03_m9Rt",
        "3hm3CvMdn3Jd",
        "D6PpCkDmnjOv",
        "MS3XUkPRrOzh",
        "GJe0H1AQsL15",
        "qw6Yw6OELil0",
        "qlb1nF-0UTby",
        "ktxA1kpuT1ak",
        "KTKsAT2KUVgZ",
        "Ia7efqBLDCup",
        "sGaTtlhATKJb",
        "LxTa6E2WNOGR",
        "erKQhaWbp9Gk"
      ]
    },
    "kernelspec": {
      "name": "python3",
      "display_name": "Python 3"
    },
    "language_info": {
      "name": "python"
    }
  },
  "cells": [
    {
      "cell_type": "markdown",
      "source": [
        "# **SETUP**"
      ],
      "metadata": {
        "id": "6kQXgVUDm36y"
      }
    },
    {
      "cell_type": "markdown",
      "source": [
        "## Spark UI"
      ],
      "metadata": {
        "id": "hjE_B03_m9Rt"
      }
    },
    {
      "cell_type": "code",
      "source": [
        "!pip install -q pyspark\n",
        "!pip install -q pyngrok"
      ],
      "metadata": {
        "id": "LxWd0qTjmraa",
        "colab": {
          "base_uri": "https://localhost:8080/"
        },
        "outputId": "c6b18ef2-ae26-4402-f49d-46ff601a5b16"
      },
      "execution_count": null,
      "outputs": [
        {
          "output_type": "stream",
          "name": "stdout",
          "text": [
            "\u001b[K     |████████████████████████████████| 281.3 MB 45 kB/s \n",
            "\u001b[K     |████████████████████████████████| 199 kB 48.4 MB/s \n",
            "\u001b[?25h  Building wheel for pyspark (setup.py) ... \u001b[?25l\u001b[?25hdone\n",
            "\u001b[K     |████████████████████████████████| 745 kB 3.2 MB/s \n",
            "\u001b[?25h  Building wheel for pyngrok (setup.py) ... \u001b[?25l\u001b[?25hdone\n"
          ]
        }
      ]
    },
    {
      "cell_type": "code",
      "execution_count": null,
      "metadata": {
        "colab": {
          "base_uri": "https://localhost:8080/",
          "height": 219
        },
        "id": "R3ZdnLL5e2ks",
        "outputId": "614a6407-e340-47eb-9936-0e8e814cbc04"
      },
      "outputs": [
        {
          "output_type": "execute_result",
          "data": {
            "text/plain": [
              "<pyspark.sql.session.SparkSession at 0x7ffa47cc5150>"
            ],
            "text/html": [
              "\n",
              "            <div>\n",
              "                <p><b>SparkSession - in-memory</b></p>\n",
              "                \n",
              "        <div>\n",
              "            <p><b>SparkContext</b></p>\n",
              "\n",
              "            <p><a href=\"http://387cdbe2e037:4050\">Spark UI</a></p>\n",
              "\n",
              "            <dl>\n",
              "              <dt>Version</dt>\n",
              "                <dd><code>v3.3.0</code></dd>\n",
              "              <dt>Master</dt>\n",
              "                <dd><code>local[*]</code></dd>\n",
              "              <dt>AppName</dt>\n",
              "                <dd><code>pyspark-shell</code></dd>\n",
              "            </dl>\n",
              "        </div>\n",
              "        \n",
              "            </div>\n",
              "        "
            ]
          },
          "metadata": {},
          "execution_count": 2
        }
      ],
      "source": [
        "from pyspark.sql import SparkSession\n",
        "spark = SparkSession.builder.config('spark.ui.port', '4050').getOrCreate()\n",
        "spark"
      ]
    },
    {
      "cell_type": "code",
      "source": [
        "# Fazer login no site https://dashboard.ngrok.com/get-started/setup para obter autenticação própria\n",
        "ngrok_token = '2DAVBz1i9lgg7azFruTNntaLMVF_De65LN35iwB4nWkQJnMM'"
      ],
      "metadata": {
        "id": "VK5ksALRlODl"
      },
      "execution_count": null,
      "outputs": []
    },
    {
      "cell_type": "code",
      "source": [
        "get_ipython().system_raw(f'ngrok authtoken {ngrok_token}')\n",
        "get_ipython().system_raw('ngrok http 4050 &')\n",
        "!sleep 3\n",
        "print('URL para interface Spark:')\n",
        "!curl -s http://localhost:4040/api/tunnels | grep -Po 'public_url\":\"(?=https)\\K[^\"]*'"
      ],
      "metadata": {
        "colab": {
          "base_uri": "https://localhost:8080/"
        },
        "id": "gKPmX_f1gV7C",
        "outputId": "ad19312d-c38e-4912-adef-44e8be18f927"
      },
      "execution_count": null,
      "outputs": [
        {
          "output_type": "stream",
          "name": "stdout",
          "text": [
            "URL para interface Spark:\n",
            "https://ff58-104-196-60-87.ngrok.io\n"
          ]
        }
      ]
    },
    {
      "cell_type": "markdown",
      "source": [
        "## Libraries"
      ],
      "metadata": {
        "id": "3hm3CvMdn3Jd"
      }
    },
    {
      "cell_type": "code",
      "source": [
        "import pandas as pd\n",
        "from google.colab import files\n",
        "\n",
        "import pyspark.sql.functions as F\n",
        "from pyspark.sql.window import Window"
      ],
      "metadata": {
        "id": "Yi82wbeZn2jT"
      },
      "execution_count": null,
      "outputs": []
    },
    {
      "cell_type": "markdown",
      "source": [
        "# Load data"
      ],
      "metadata": {
        "id": "D6PpCkDmnjOv"
      }
    },
    {
      "cell_type": "code",
      "source": [
        "# Load file\n",
        "!gdown --id \"1oyiYme7_7Ft44N5wv1NsmIXEr7hlldIv\""
      ],
      "metadata": {
        "colab": {
          "base_uri": "https://localhost:8080/"
        },
        "id": "JOMjC3OennnG",
        "outputId": "3b2b22f9-a7f9-482e-dfaf-52de08c84005"
      },
      "execution_count": null,
      "outputs": [
        {
          "output_type": "stream",
          "name": "stdout",
          "text": [
            "/usr/local/lib/python3.7/dist-packages/gdown/cli.py:131: FutureWarning: Option `--id` was deprecated in version 4.3.1 and will be removed in 5.0. You don't need to pass it anymore to use a file ID.\n",
            "  category=FutureWarning,\n",
            "Downloading...\n",
            "From: https://drive.google.com/uc?id=1oyiYme7_7Ft44N5wv1NsmIXEr7hlldIv\n",
            "To: /content/vgsales.csv\n",
            "100% 1.36M/1.36M [00:00<00:00, 144MB/s]\n"
          ]
        }
      ]
    },
    {
      "cell_type": "markdown",
      "source": [
        "## Data Description\n",
        "\n",
        "This dataset contains records of popular video games in North America, Japan, Europe and other parts of the world. Every video game in this dataset has at least 100k global sales.\n",
        "\n",
        "[Source](https://www.kaggle.com/datasets/gregorut/videogamesales/code?datasetId=284&sortBy=voteCount) of dataset."
      ],
      "metadata": {
        "id": "7Rl5rJY6AaGB"
      }
    },
    {
      "cell_type": "markdown",
      "source": [
        "## Data Dictionary\n",
        "\n",
        "| Column       | Explanation                                               |\n",
        "|:-------------|:----------------------------------------------------------|\n",
        "| Rank         | Ranking of overall sales                                  |\n",
        "| Name         | Name of the game                                          |\n",
        "| Platform     | Platform of the games release (i.e. PC,PS4, etc.)         |\n",
        "| Year         | Year the game was released in                             |\n",
        "| Genre        | Genre of the game                                         |\n",
        "| Publisher    | Publisher of the game                                     |\n",
        "| NA_Sales     | Number of sales in North America (in millions)            |\n",
        "| EU_Sales     | Number of sales in Europe (in millions)                   |\n",
        "| JP_Sales     | Number of sales in Japan (in millions)                    |\n",
        "| Other_Sales  | Number of sales in other parts of the world (in millions) |\n",
        "| Global_Sales | Number of total sales (in millions)                       |"
      ],
      "metadata": {
        "id": "UA1MxT30BH3y"
      }
    },
    {
      "cell_type": "markdown",
      "source": [
        "# Questões"
      ],
      "metadata": {
        "id": "3Da460witUFZ"
      }
    },
    {
      "cell_type": "markdown",
      "source": [
        "## Questão 1\n",
        "\n",
        "Leia os dados com Spark, certificando-se que\n",
        "\n",
        "1. A tabela tenha duas partições e\n",
        "\n",
        "2. As colunas da tabela tenham este respectivo schema:\n",
        "\n",
        "|Column|Data type|\n",
        "|---|---|\n",
        "|Rank|integer|\n",
        "|Name|string|\n",
        "|Platform|string|\n",
        "|Year|integer|\n",
        "|Genre|string|\n",
        "|Publisher|string|\n",
        "|NA_Sales|double|\n",
        "|EU_Sales|double|\n",
        "|JP_Sales|double|\n",
        "|Other_Sales|double|\n",
        "|Global_Sales|double|"
      ],
      "metadata": {
        "id": "MS3XUkPRrOzh"
      }
    },
    {
      "cell_type": "code",
      "source": [
        "# Carrecar dados com Spark\n",
        "df = spark.read.csv('vgsales.csv', header=True, inferSchema=True)"
      ],
      "metadata": {
        "id": "ijg3-iMHr-_C"
      },
      "execution_count": null,
      "outputs": []
    },
    {
      "cell_type": "code",
      "source": [
        "df.show(5)"
      ],
      "metadata": {
        "colab": {
          "base_uri": "https://localhost:8080/"
        },
        "id": "Qqc3gmQKF74t",
        "outputId": "7cd19fba-a141-46fc-a962-af83722e98a4"
      },
      "execution_count": null,
      "outputs": [
        {
          "output_type": "stream",
          "name": "stdout",
          "text": [
            "+----+--------------------+--------+----+------------+--------------+--------+--------+--------+-----------+------------+\n",
            "|Rank|                Name|Platform|Year|       Genre|     Publisher|NA_Sales|EU_Sales|JP_Sales|Other_Sales|Global_Sales|\n",
            "+----+--------------------+--------+----+------------+--------------+--------+--------+--------+-----------+------------+\n",
            "|3296|Dora the Explorer...|     GBA|2004|    Platform|  Gotham Games|    0.44|    0.16|     0.0|       0.01|        0.61|\n",
            "|5695|Dynasty Warriors ...|     PS2|2004|      Action|    Tecmo Koei|     0.0|     0.0|    0.32|        0.0|        0.32|\n",
            "|4986|San Francisco Rus...|      PS|1997|      Racing|GT Interactive|    0.21|    0.15|     0.0|       0.03|        0.38|\n",
            "|1281|WWF WrestleMania ...|     N64|1999|    Fighting|           THQ|     1.2|    0.25|    0.02|       0.02|        1.48|\n",
            "|4877|      Alpha Protocol|    X360|2010|Role-Playing|          Sega|    0.23|    0.13|     0.0|       0.04|         0.4|\n",
            "+----+--------------------+--------+----+------------+--------------+--------+--------+--------+-----------+------------+\n",
            "only showing top 5 rows\n",
            "\n"
          ]
        }
      ]
    },
    {
      "cell_type": "code",
      "source": [
        "# Mostrando num de partições (como são poucos dados, Spark configurou apenas uma)\n",
        "df.rdd.getNumPartitions()"
      ],
      "metadata": {
        "colab": {
          "base_uri": "https://localhost:8080/"
        },
        "id": "8bs1ekO5BLwv",
        "outputId": "bfc4066d-aa5f-4534-9dbf-8fd3da61919f"
      },
      "execution_count": null,
      "outputs": [
        {
          "output_type": "execute_result",
          "data": {
            "text/plain": [
              "1"
            ]
          },
          "metadata": {},
          "execution_count": 8
        }
      ]
    },
    {
      "cell_type": "code",
      "source": [
        "# Reparticionando para duas partições\n",
        "df = df.repartition(2)"
      ],
      "metadata": {
        "id": "M0nI77chDeB6"
      },
      "execution_count": null,
      "outputs": []
    },
    {
      "cell_type": "code",
      "source": [
        "df.rdd.getNumPartitions()"
      ],
      "metadata": {
        "colab": {
          "base_uri": "https://localhost:8080/"
        },
        "id": "3xT6HoIxDgRp",
        "outputId": "aee924d3-ebbd-4eb8-fe08-53a1ed3afbdd"
      },
      "execution_count": null,
      "outputs": [
        {
          "output_type": "execute_result",
          "data": {
            "text/plain": [
              "2"
            ]
          },
          "metadata": {},
          "execution_count": 10
        }
      ]
    },
    {
      "cell_type": "code",
      "source": [
        "df.printSchema()"
      ],
      "metadata": {
        "colab": {
          "base_uri": "https://localhost:8080/"
        },
        "id": "XEnvESw7Feuk",
        "outputId": "83655c26-d035-4c35-db04-3ca178f2f397"
      },
      "execution_count": null,
      "outputs": [
        {
          "output_type": "stream",
          "name": "stdout",
          "text": [
            "root\n",
            " |-- Rank: integer (nullable = true)\n",
            " |-- Name: string (nullable = true)\n",
            " |-- Platform: string (nullable = true)\n",
            " |-- Year: string (nullable = true)\n",
            " |-- Genre: string (nullable = true)\n",
            " |-- Publisher: string (nullable = true)\n",
            " |-- NA_Sales: double (nullable = true)\n",
            " |-- EU_Sales: double (nullable = true)\n",
            " |-- JP_Sales: double (nullable = true)\n",
            " |-- Other_Sales: double (nullable = true)\n",
            " |-- Global_Sales: double (nullable = true)\n",
            "\n"
          ]
        }
      ]
    },
    {
      "cell_type": "code",
      "source": [
        "df = df.withColumn('Year', F.col('Year').cast('integer'))"
      ],
      "metadata": {
        "id": "qXTQlHusFjeN"
      },
      "execution_count": null,
      "outputs": []
    },
    {
      "cell_type": "code",
      "source": [
        "df.printSchema()"
      ],
      "metadata": {
        "colab": {
          "base_uri": "https://localhost:8080/"
        },
        "id": "vuigqAKgF5DY",
        "outputId": "ea4d9f19-4a69-4a69-edb2-68cad051570b"
      },
      "execution_count": null,
      "outputs": [
        {
          "output_type": "stream",
          "name": "stdout",
          "text": [
            "root\n",
            " |-- Rank: integer (nullable = true)\n",
            " |-- Name: string (nullable = true)\n",
            " |-- Platform: string (nullable = true)\n",
            " |-- Year: integer (nullable = true)\n",
            " |-- Genre: string (nullable = true)\n",
            " |-- Publisher: string (nullable = true)\n",
            " |-- NA_Sales: double (nullable = true)\n",
            " |-- EU_Sales: double (nullable = true)\n",
            " |-- JP_Sales: double (nullable = true)\n",
            " |-- Other_Sales: double (nullable = true)\n",
            " |-- Global_Sales: double (nullable = true)\n",
            "\n"
          ]
        }
      ]
    },
    {
      "cell_type": "markdown",
      "source": [
        "## Questão 2\n",
        "\n",
        "Construa uma tabela com:\n",
        "- contagem das observações\n",
        "- média\n",
        "- desvio padrão\n",
        "- valor mínimo\n",
        "- valor máximo\n",
        "\n",
        "para todas as coluna de vendas (que possuem \"Sales\" no nome).\n",
        "\n",
        "**Dica:** uma **única função** consegue calcular todos estes valores."
      ],
      "metadata": {
        "id": "GJe0H1AQsL15"
      }
    },
    {
      "cell_type": "code",
      "source": [
        "df.columns"
      ],
      "metadata": {
        "id": "CLGOCHisRt_m",
        "colab": {
          "base_uri": "https://localhost:8080/"
        },
        "outputId": "08207218-aba6-4da3-b682-0e16bde9c64a"
      },
      "execution_count": null,
      "outputs": [
        {
          "output_type": "execute_result",
          "data": {
            "text/plain": [
              "['Rank',\n",
              " 'Name',\n",
              " 'Platform',\n",
              " 'Year',\n",
              " 'Genre',\n",
              " 'Publisher',\n",
              " 'NA_Sales',\n",
              " 'EU_Sales',\n",
              " 'JP_Sales',\n",
              " 'Other_Sales',\n",
              " 'Global_Sales']"
            ]
          },
          "metadata": {},
          "execution_count": 15
        }
      ]
    },
    {
      "cell_type": "code",
      "source": [
        "sales_columns = ['NA_Sales', 'EU_Sales', 'JP_Sales', 'Other_Sales', 'Global_Sales']\n",
        "\n",
        "df.describe(sales_columns).show()"
      ],
      "metadata": {
        "colab": {
          "base_uri": "https://localhost:8080/"
        },
        "id": "zc89A-TAGV8n",
        "outputId": "8705fd2f-688b-4f60-914d-2f7d1b278180"
      },
      "execution_count": null,
      "outputs": [
        {
          "output_type": "stream",
          "name": "stdout",
          "text": [
            "+-------+------------------+-------------------+-------------------+--------------------+------------------+\n",
            "|summary|          NA_Sales|           EU_Sales|           JP_Sales|         Other_Sales|      Global_Sales|\n",
            "+-------+------------------+-------------------+-------------------+--------------------+------------------+\n",
            "|  count|             16598|              16598|              16598|               16598|             16598|\n",
            "|   mean|0.2646674298108155|0.14665200626581024|0.07778166044101428|0.048063019640918934|0.5374406555006714|\n",
            "| stddev|0.8166830292988791| 0.5053512312869121| 0.3092906480822032| 0.18858840291271461|1.5550279355699124|\n",
            "|    min|               0.0|                0.0|                0.0|                 0.0|              0.01|\n",
            "|    max|             41.49|              29.02|              10.22|               10.57|             82.74|\n",
            "+-------+------------------+-------------------+-------------------+--------------------+------------------+\n",
            "\n"
          ]
        }
      ]
    },
    {
      "cell_type": "markdown",
      "source": [
        "## Questão 3\n",
        "\n",
        "Para cada variável categórica do tipo string, calcule quantas categorias distintas estão presentes."
      ],
      "metadata": {
        "id": "qw6Yw6OELil0"
      }
    },
    {
      "cell_type": "code",
      "source": [
        "for tipo in df.dtypes:\n",
        "  if tipo[1] == 'string':\n",
        "    df.select(F.countDistinct(tipo[0])).distinct().show(truncate=False)"
      ],
      "metadata": {
        "colab": {
          "base_uri": "https://localhost:8080/"
        },
        "id": "eDu8Zg5DMUg4",
        "outputId": "5412184a-6fc0-44af-a6de-0a615c5a3c81"
      },
      "execution_count": null,
      "outputs": [
        {
          "output_type": "stream",
          "name": "stdout",
          "text": [
            "+--------------------+\n",
            "|count(DISTINCT Name)|\n",
            "+--------------------+\n",
            "|11493               |\n",
            "+--------------------+\n",
            "\n",
            "+------------------------+\n",
            "|count(DISTINCT Platform)|\n",
            "+------------------------+\n",
            "|31                      |\n",
            "+------------------------+\n",
            "\n",
            "+---------------------+\n",
            "|count(DISTINCT Genre)|\n",
            "+---------------------+\n",
            "|12                   |\n",
            "+---------------------+\n",
            "\n",
            "+-------------------------+\n",
            "|count(DISTINCT Publisher)|\n",
            "+-------------------------+\n",
            "|579                      |\n",
            "+-------------------------+\n",
            "\n"
          ]
        }
      ]
    },
    {
      "cell_type": "code",
      "source": [
        "cols_cat = ['Platform', 'Genre', 'Publisher']\n",
        "\n",
        "df.select(*[F.count_distinct(col) for col in cols_cat]).show()"
      ],
      "metadata": {
        "id": "MXxCgIl7Rvze",
        "colab": {
          "base_uri": "https://localhost:8080/"
        },
        "outputId": "d61ec13c-bef3-46d9-b047-cf3fb54164ab"
      },
      "execution_count": null,
      "outputs": [
        {
          "output_type": "stream",
          "name": "stdout",
          "text": [
            "+------------------------+---------------------+-------------------------+\n",
            "|count(DISTINCT Platform)|count(DISTINCT Genre)|count(DISTINCT Publisher)|\n",
            "+------------------------+---------------------+-------------------------+\n",
            "|                      31|                   12|                      579|\n",
            "+------------------------+---------------------+-------------------------+\n",
            "\n"
          ]
        }
      ]
    },
    {
      "cell_type": "markdown",
      "source": [
        "## Questão 4\n",
        "\n",
        "Qual plataforma vendeu mais, mundialmente, considerando todo o período histórico diponível dos dados?  \n",
        "Mostre as top 10 plataformas em vendas."
      ],
      "metadata": {
        "id": "qlb1nF-0UTby"
      }
    },
    {
      "cell_type": "code",
      "source": [
        "df.show(5)"
      ],
      "metadata": {
        "id": "viv9CMtVRw1I",
        "colab": {
          "base_uri": "https://localhost:8080/"
        },
        "outputId": "18ababa9-af69-453a-8465-67114f67eed7"
      },
      "execution_count": null,
      "outputs": [
        {
          "output_type": "stream",
          "name": "stdout",
          "text": [
            "+----+--------------------+--------+----+------------+--------------+--------+--------+--------+-----------+------------+\n",
            "|Rank|                Name|Platform|Year|       Genre|     Publisher|NA_Sales|EU_Sales|JP_Sales|Other_Sales|Global_Sales|\n",
            "+----+--------------------+--------+----+------------+--------------+--------+--------+--------+-----------+------------+\n",
            "|3296|Dora the Explorer...|     GBA|2004|    Platform|  Gotham Games|    0.44|    0.16|     0.0|       0.01|        0.61|\n",
            "|5695|Dynasty Warriors ...|     PS2|2004|      Action|    Tecmo Koei|     0.0|     0.0|    0.32|        0.0|        0.32|\n",
            "|4986|San Francisco Rus...|      PS|1997|      Racing|GT Interactive|    0.21|    0.15|     0.0|       0.03|        0.38|\n",
            "|1281|WWF WrestleMania ...|     N64|1999|    Fighting|           THQ|     1.2|    0.25|    0.02|       0.02|        1.48|\n",
            "|4877|      Alpha Protocol|    X360|2010|Role-Playing|          Sega|    0.23|    0.13|     0.0|       0.04|         0.4|\n",
            "+----+--------------------+--------+----+------------+--------------+--------+--------+--------+-----------+------------+\n",
            "only showing top 5 rows\n",
            "\n"
          ]
        }
      ]
    },
    {
      "cell_type": "code",
      "source": [
        "(\n",
        "  df\n",
        " .groupby('Name')\n",
        " .agg(\n",
        "    F.count_distinct('Platform').alias('Numero_plataforma'),\n",
        "  )\n",
        " .orderBy(F.desc('Numero_plataforma'))\n",
        " .show(10, truncate=False)\n",
        ")"
      ],
      "metadata": {
        "colab": {
          "base_uri": "https://localhost:8080/"
        },
        "id": "a5B_pc6-O4Ak",
        "outputId": "5e564c23-c81a-4abe-a994-957fafe88771"
      },
      "execution_count": null,
      "outputs": [
        {
          "output_type": "stream",
          "name": "stdout",
          "text": [
            "+------------+-----------------+\n",
            "|Global_Sales|Numero_plataforma|\n",
            "+------------+-----------------+\n",
            "|0.07        |26               |\n",
            "|0.14        |26               |\n",
            "|0.06        |25               |\n",
            "|0.08        |23               |\n",
            "|0.02        |23               |\n",
            "|0.12        |23               |\n",
            "|0.03        |23               |\n",
            "|0.28        |23               |\n",
            "|0.04        |23               |\n",
            "|0.05        |22               |\n",
            "+------------+-----------------+\n",
            "only showing top 10 rows\n",
            "\n"
          ]
        }
      ]
    },
    {
      "cell_type": "markdown",
      "source": [
        "## Questão 5\n",
        "\n",
        "Faça uma tabela com os jogos que aparecem em múltiplas plataformas, ordene de forma que os jogos com mais plataformas apareçam primeiro e responda:\n",
        "- Qual jogo aparece em mais plataformas? Em quantas plataformas?"
      ],
      "metadata": {
        "id": "ktxA1kpuT1ak"
      }
    },
    {
      "cell_type": "code",
      "source": [
        "(\n",
        "  df\n",
        "  .groupby('Name')\n",
        "  .agg(\n",
        "    F.count_distinct('Platform').alias('Numero_plataforma'),\n",
        "  )\n",
        " .orderBy(F.desc('Numero_plataforma'))\n",
        " .show(20, truncate=False)\n",
        ")"
      ],
      "metadata": {
        "id": "cf7mFwYORx7K",
        "colab": {
          "base_uri": "https://localhost:8080/"
        },
        "outputId": "8aef748a-b6df-4c1d-dd9e-46214fd7304e"
      },
      "execution_count": null,
      "outputs": [
        {
          "output_type": "stream",
          "name": "stdout",
          "text": [
            "+---------------------------------------+-----------------+\n",
            "|Name                                   |Numero_plataforma|\n",
            "+---------------------------------------+-----------------+\n",
            "|Need for Speed: Most Wanted            |10               |\n",
            "|Madden NFL 07                          |9                |\n",
            "|LEGO Marvel Super Heroes               |9                |\n",
            "|Ratatouille                            |9                |\n",
            "|FIFA 14                                |9                |\n",
            "|Terraria                               |8                |\n",
            "|Monopoly                               |8                |\n",
            "|FIFA Soccer 13                         |8                |\n",
            "|LEGO Harry Potter: Years 5-7           |8                |\n",
            "|Angry Birds Star Wars                  |8                |\n",
            "|LEGO The Hobbit                        |8                |\n",
            "|FIFA 15                                |8                |\n",
            "|Madden NFL 08                          |8                |\n",
            "|Lego Batman 3: Beyond Gotham           |8                |\n",
            "|LEGO Star Wars II: The Original Trilogy|8                |\n",
            "|Cars                                   |8                |\n",
            "|The LEGO Movie Videogame               |8                |\n",
            "|LEGO Jurassic World                    |8                |\n",
            "|FIFA Soccer 08                         |7                |\n",
            "|Spider-Man 3                           |7                |\n",
            "+---------------------------------------+-----------------+\n",
            "only showing top 20 rows\n",
            "\n"
          ]
        }
      ]
    },
    {
      "cell_type": "markdown",
      "source": [
        "**Resposta:** Need for Speed: Most Wanted. Aparece em 10 plataformas."
      ],
      "metadata": {
        "id": "0jxfWN5sVPy0"
      }
    },
    {
      "cell_type": "markdown",
      "source": [
        "## Questão 6\n",
        "\n",
        "Utilize a API do Pandas no Spark para calcular a soma das vendas globais para cada ano e gênro de jogo. Faça então um gráfico de linhas com os anos no eixo `x`, as vendas no eixo `y`, de forma que cada linha corresponda a um gênero de jogo.\n",
        "\n",
        "**Dica:** após o cálculo, passar os dados para Pandas antes da plotagem, ou plotar diretamente aproveitando os métodos da classe `pyspark.pandas.DataFrame`.\n",
        "\n",
        "Analise o gráfico e responda:\n",
        "- Entre 1980 e 1990, quais gêneros mais venderam?\n",
        "- Entre 2000 e 2015, quais gêneros mais venderam?"
      ],
      "metadata": {
        "id": "KTKsAT2KUVgZ"
      }
    },
    {
      "cell_type": "code",
      "source": [
        "(\n",
        "  df\n",
        "  .groupby('Year', 'Genre')\n",
        "  .agg(\n",
        "    F.sum('Global_sales').alias('Sales'),\n",
        "  )\n",
        " .orderBy(F.desc('Year'))\n",
        ") \\\n",
        ".pandas_api() \\\n",
        ".plot.line(x='Year', y='Sales', color='Genre' )"
      ],
      "metadata": {
        "id": "zO39_am_Ry3W",
        "colab": {
          "base_uri": "https://localhost:8080/",
          "height": 542
        },
        "outputId": "660b2c82-345f-42ec-b32a-232c1ffc722f"
      },
      "execution_count": null,
      "outputs": [
        {
          "output_type": "display_data",
          "data": {
            "text/html": [
              "<html>\n",
              "<head><meta charset=\"utf-8\" /></head>\n",
              "<body>\n",
              "    <div>            <script src=\"https://cdnjs.cloudflare.com/ajax/libs/mathjax/2.7.5/MathJax.js?config=TeX-AMS-MML_SVG\"></script><script type=\"text/javascript\">if (window.MathJax) {MathJax.Hub.Config({SVG: {font: \"STIX-Web\"}});}</script>                <script type=\"text/javascript\">window.PlotlyConfig = {MathJaxConfig: 'local'};</script>\n",
              "        <script src=\"https://cdn.plot.ly/plotly-2.8.3.min.js\"></script>                <div id=\"81c7d501-16c4-43a2-acb2-2164fb772c83\" class=\"plotly-graph-div\" style=\"height:525px; width:100%;\"></div>            <script type=\"text/javascript\">                                    window.PLOTLYENV=window.PLOTLYENV || {};                                    if (document.getElementById(\"81c7d501-16c4-43a2-acb2-2164fb772c83\")) {                    Plotly.newPlot(                        \"81c7d501-16c4-43a2-acb2-2164fb772c83\",                        [{\"hovertemplate\":\"Genre=Simulation<br>Year=%{x}<br>Sales=%{y}<extra></extra>\",\"legendgroup\":\"Simulation\",\"line\":{\"color\":\"#636efa\",\"dash\":\"solid\"},\"marker\":{\"symbol\":\"circle\"},\"mode\":\"lines\",\"name\":\"Simulation\",\"orientation\":\"v\",\"showlegend\":true,\"x\":[2020.0,2016.0,2015.0,2014.0,2013.0,2012.0,2011.0,2010.0,2009.0,2008.0,2007.0,2006.0,2005.0,2004.0,2003.0,2002.0,2001.0,2000.0,1999.0,1998.0,1997.0,1996.0,1995.0,1994.0,1993.0,1992.0,1991.0,1990.0,1988.0,1985.0,1981.0,null],\"xaxis\":\"x\",\"y\":[0.29,0.39,5.619999999999999,5.550000000000001,8.67,13.38,15.279999999999996,22.14999999999999,33.70999999999998,46.760000000000005,48.97000000000001,21.769999999999992,49.269999999999996,10.849999999999998,21.21,10.81,19.54,3.38,11.439999999999998,7.109999999999999,9.65,11.329999999999998,4.18,2.73,0.19,2.14,2.14,1.14,0.03,0.03,0.45,2.04],\"yaxis\":\"y\",\"type\":\"scatter\"},{\"hovertemplate\":\"Genre=Role-Playing<br>Year=%{x}<br>Sales=%{y}<extra></extra>\",\"legendgroup\":\"Role-Playing\",\"line\":{\"color\":\"#EF553B\",\"dash\":\"solid\"},\"marker\":{\"symbol\":\"circle\"},\"mode\":\"lines\",\"name\":\"Role-Playing\",\"orientation\":\"v\",\"showlegend\":true,\"x\":[2017.0,2016.0,2015.0,2014.0,2013.0,2012.0,2011.0,2010.0,2009.0,2008.0,2007.0,2006.0,2005.0,2004.0,2003.0,2002.0,2001.0,2000.0,1999.0,1998.0,1997.0,1996.0,1995.0,1994.0,1993.0,1992.0,1991.0,1990.0,1989.0,1988.0,1987.0,1986.0,null],\"xaxis\":\"x\",\"y\":[0.04,6.760000000000001,36.440000000000005,45.859999999999985,44.92,47.809999999999995,53.36999999999999,70.52000000000001,47.89999999999999,59.829999999999984,43.88999999999999,57.72999999999998,28.550000000000004,53.95,30.28,45.129999999999995,22.060000000000002,29.03,49.09,28.090000000000003,21.790000000000003,43.96,14.26,7.11,5.59,6.86,3.25,4.52,2.2,5.88,4.65,2.52,3.5300000000000002],\"yaxis\":\"y\",\"type\":\"scatter\"},{\"hovertemplate\":\"Genre=Action<br>Year=%{x}<br>Sales=%{y}<extra></extra>\",\"legendgroup\":\"Action\",\"line\":{\"color\":\"#00cc96\",\"dash\":\"solid\"},\"marker\":{\"symbol\":\"circle\"},\"mode\":\"lines\",\"name\":\"Action\",\"orientation\":\"v\",\"showlegend\":true,\"x\":[2017.0,2016.0,2015.0,2014.0,2013.0,2012.0,2011.0,2010.0,2009.0,2008.0,2007.0,2006.0,2005.0,2004.0,2003.0,2002.0,2001.0,2000.0,1999.0,1998.0,1997.0,1996.0,1995.0,1994.0,1993.0,1992.0,1991.0,1990.0,1989.0,1988.0,1987.0,1986.0,1985.0,1984.0,1983.0,1982.0,1981.0,1980.0,null],\"xaxis\":\"x\",\"y\":[0.01,19.90999999999999,70.69999999999996,99.02000000000001,125.22,122.04,118.95999999999995,117.63999999999999,139.36000000000007,136.39000000000004,106.5,66.57999999999998,85.69000000000003,76.25999999999999,67.92999999999999,86.77000000000002,59.39,34.04,27.78,39.44,27.58,20.580000000000002,3.5700000000000003,1.55,1.81,3.83,6.76,6.390000000000001,4.64,1.75,1.12,13.739999999999998,3.52,1.85,2.8600000000000003,6.52,14.84,0.34,28.299999999999997],\"yaxis\":\"y\",\"type\":\"scatter\"},{\"hovertemplate\":\"Genre=Shooter<br>Year=%{x}<br>Sales=%{y}<extra></extra>\",\"legendgroup\":\"Shooter\",\"line\":{\"color\":\"#ab63fa\",\"dash\":\"solid\"},\"marker\":{\"symbol\":\"circle\"},\"mode\":\"lines\",\"name\":\"Shooter\",\"orientation\":\"v\",\"showlegend\":true,\"x\":[2016.0,2015.0,2014.0,2013.0,2012.0,2011.0,2010.0,2009.0,2008.0,2007.0,2006.0,2005.0,2004.0,2003.0,2002.0,2001.0,2000.0,1999.0,1998.0,1997.0,1996.0,1995.0,1994.0,1993.0,1992.0,1991.0,1989.0,1988.0,1987.0,1986.0,1985.0,1984.0,1983.0,1982.0,1981.0,1980.0,null],\"xaxis\":\"x\",\"y\":[18.22,66.15,66.0,62.79999999999999,72.86,99.35999999999999,77.41,69.89000000000001,59.510000000000005,71.03999999999999,38.370000000000005,41.599999999999994,46.94999999999999,27.139999999999997,48.58,24.770000000000003,6.8100000000000005,12.25,9.8,22.17,6.909999999999998,4.15,8.3,3.08,0.29000000000000004,2.0,1.2,0.51,0.71,3.8899999999999997,1.0,31.099999999999998,0.48,3.79,10.04,7.069999999999999,11.17],\"yaxis\":\"y\",\"type\":\"scatter\"},{\"hovertemplate\":\"Genre=Racing<br>Year=%{x}<br>Sales=%{y}<extra></extra>\",\"legendgroup\":\"Racing\",\"line\":{\"color\":\"#FFA15A\",\"dash\":\"solid\"},\"marker\":{\"symbol\":\"circle\"},\"mode\":\"lines\",\"name\":\"Racing\",\"orientation\":\"v\",\"showlegend\":true,\"x\":[2016.0,2015.0,2014.0,2013.0,2012.0,2011.0,2010.0,2009.0,2008.0,2007.0,2006.0,2005.0,2004.0,2003.0,2002.0,2001.0,2000.0,1999.0,1998.0,1997.0,1996.0,1995.0,1994.0,1993.0,1992.0,1991.0,1990.0,1988.0,1986.0,1984.0,1982.0,1981.0,null],\"xaxis\":\"x\",\"y\":[1.6400000000000001,7.92,16.69,13.04,14.46,35.01,34.93,34.19,70.66000000000001,39.16999999999999,34.08999999999999,56.42,47.86,52.19,30.199999999999996,55.80999999999999,19.990000000000002,37.269999999999996,27.9,31.91,28.24,6.09,2.1900000000000004,0.36,9.04,1.14,6.26,2.14,1.96,5.95,1.5699999999999998,0.48,5.2700000000000005],\"yaxis\":\"y\",\"type\":\"scatter\"},{\"hovertemplate\":\"Genre=Platform<br>Year=%{x}<br>Sales=%{y}<extra></extra>\",\"legendgroup\":\"Platform\",\"line\":{\"color\":\"#19d3f3\",\"dash\":\"solid\"},\"marker\":{\"symbol\":\"circle\"},\"mode\":\"lines\",\"name\":\"Platform\",\"orientation\":\"v\",\"showlegend\":true,\"x\":[2016.0,2015.0,2014.0,2013.0,2012.0,2011.0,2010.0,2009.0,2008.0,2007.0,2006.0,2005.0,2004.0,2003.0,2002.0,2001.0,2000.0,1999.0,1998.0,1997.0,1996.0,1995.0,1994.0,1993.0,1992.0,1991.0,1990.0,1989.0,1988.0,1987.0,1986.0,1985.0,1984.0,1983.0,1982.0,1981.0,null],\"xaxis\":\"x\",\"y\":[2.07,6.050000000000001,8.89,25.119999999999997,18.55,28.109999999999996,31.9,41.09,35.699999999999996,35.589999999999996,49.8,23.56,47.339999999999996,42.89,45.97000000000001,39.28,16.06,20.82,29.88,21.849999999999998,28.23,16.689999999999998,28.740000000000002,18.67,13.42,7.64,22.97,20.660000000000004,27.730000000000004,1.7400000000000002,9.39,43.17,0.69,6.93,5.03,6.93,2.22],\"yaxis\":\"y\",\"type\":\"scatter\"},{\"hovertemplate\":\"Genre=Fighting<br>Year=%{x}<br>Sales=%{y}<extra></extra>\",\"legendgroup\":\"Fighting\",\"line\":{\"color\":\"#FF6692\",\"dash\":\"solid\"},\"marker\":{\"symbol\":\"circle\"},\"mode\":\"lines\",\"name\":\"Fighting\",\"orientation\":\"v\",\"showlegend\":true,\"x\":[2016.0,2015.0,2014.0,2013.0,2012.0,2011.0,2010.0,2009.0,2008.0,2007.0,2006.0,2005.0,2004.0,2003.0,2002.0,2001.0,2000.0,1999.0,1998.0,1997.0,1996.0,1995.0,1994.0,1993.0,1992.0,1991.0,1987.0,1985.0,1980.0,null],\"xaxis\":\"x\",\"y\":[3.8600000000000003,7.779999999999999,16.15,7.210000000000001,9.51,22.68,14.89,32.15,35.379999999999995,17.609999999999996,22.549999999999997,19.72,16.78,23.73,25.020000000000007,18.12,20.22,14.259999999999998,31.660000000000004,11.76,18.06,14.850000000000001,8.47,8.75,15.25,0.39,5.42,1.05,0.77,4.859999999999999],\"yaxis\":\"y\",\"type\":\"scatter\"},{\"hovertemplate\":\"Genre=Misc<br>Year=%{x}<br>Sales=%{y}<extra></extra>\",\"legendgroup\":\"Misc\",\"line\":{\"color\":\"#B6E880\",\"dash\":\"solid\"},\"marker\":{\"symbol\":\"circle\"},\"mode\":\"lines\",\"name\":\"Misc\",\"orientation\":\"v\",\"showlegend\":true,\"x\":[2016.0,2015.0,2014.0,2013.0,2012.0,2011.0,2010.0,2009.0,2008.0,2007.0,2006.0,2005.0,2004.0,2003.0,2002.0,2001.0,2000.0,1999.0,1998.0,1997.0,1996.0,1995.0,1994.0,1993.0,1992.0,1991.0,1989.0,1984.0,1983.0,1982.0,1980.0,null],\"xaxis\":\"x\",\"y\":[1.17,11.69,23.680000000000003,25.65,22.92,56.080000000000005,96.85999999999999,76.94,87.02999999999999,92.27000000000001,67.35,61.24000000000001,31.32,23.820000000000004,15.67,16.4,15.54,20.65,11.940000000000001,5.69,10.68,6.4,2.86,0.3,4.9399999999999995,0.08,1.28,1.45,2.14,0.87,2.71,12.340000000000002],\"yaxis\":\"y\",\"type\":\"scatter\"},{\"hovertemplate\":\"Genre=Strategy<br>Year=%{x}<br>Sales=%{y}<extra></extra>\",\"legendgroup\":\"Strategy\",\"line\":{\"color\":\"#FF97FF\",\"dash\":\"solid\"},\"marker\":{\"symbol\":\"circle\"},\"mode\":\"lines\",\"name\":\"Strategy\",\"orientation\":\"v\",\"showlegend\":true,\"x\":[2016.0,2015.0,2014.0,2013.0,2012.0,2011.0,2010.0,2009.0,2008.0,2007.0,2006.0,2005.0,2004.0,2003.0,2002.0,2001.0,2000.0,1999.0,1998.0,1997.0,1996.0,1995.0,1994.0,1993.0,1992.0,1991.0,null],\"xaxis\":\"x\",\"y\":[0.5,1.82,0.99,6.330000000000001,3.33,9.059999999999999,13.87,12.559999999999995,11.689999999999998,9.419999999999998,4.2700000000000005,5.369999999999999,7.1899999999999995,7.990000000000001,5.559999999999999,7.549999999999999,8.5,18.46,13.470000000000002,7.71,5.609999999999999,6.51,3.5600000000000005,0.81,0.36,0.94,1.69],\"yaxis\":\"y\",\"type\":\"scatter\"},{\"hovertemplate\":\"Genre=Adventure<br>Year=%{x}<br>Sales=%{y}<extra></extra>\",\"legendgroup\":\"Adventure\",\"line\":{\"color\":\"#FECB52\",\"dash\":\"solid\"},\"marker\":{\"symbol\":\"circle\"},\"mode\":\"lines\",\"name\":\"Adventure\",\"orientation\":\"v\",\"showlegend\":true,\"x\":[2016.0,2015.0,2014.0,2013.0,2012.0,2011.0,2010.0,2009.0,2008.0,2007.0,2006.0,2005.0,2004.0,2003.0,2002.0,2001.0,2000.0,1999.0,1998.0,1997.0,1996.0,1995.0,1994.0,1993.0,1992.0,1991.0,1987.0,1983.0,null],\"xaxis\":\"x\",\"y\":[1.8100000000000003,8.029999999999998,6.059999999999996,6.609999999999998,5.989999999999997,15.979999999999997,16.569999999999993,20.679999999999986,25.019999999999975,24.46999999999999,11.469999999999992,8.53,8.7,2.1399999999999997,11.049999999999999,9.120000000000001,2.98,7.599999999999998,9.05,4.96,4.1899999999999995,0.72,3.74,0.07,12.239999999999998,2.24,4.38,0.4,4.24],\"yaxis\":\"y\",\"type\":\"scatter\"},{\"hovertemplate\":\"Genre=Sports<br>Year=%{x}<br>Sales=%{y}<extra></extra>\",\"legendgroup\":\"Sports\",\"line\":{\"color\":\"#636efa\",\"dash\":\"solid\"},\"marker\":{\"symbol\":\"circle\"},\"mode\":\"lines\",\"name\":\"Sports\",\"orientation\":\"v\",\"showlegend\":true,\"x\":[2016.0,2015.0,2014.0,2013.0,2012.0,2011.0,2010.0,2009.0,2008.0,2007.0,2006.0,2005.0,2004.0,2003.0,2002.0,2001.0,2000.0,1999.0,1998.0,1997.0,1996.0,1995.0,1994.0,1993.0,1992.0,1991.0,1990.0,1989.0,1988.0,1987.0,1986.0,1985.0,1984.0,1983.0,1982.0,1981.0,1980.0,null],\"xaxis\":\"x\",\"y\":[14.6,41.54,46.66,41.550000000000004,30.93,56.98999999999999,92.53000000000002,138.51999999999992,95.34000000000003,98.20000000000005,136.16000000000003,59.540000000000006,63.67999999999999,56.11,65.42,51.429999999999986,41.18999999999998,30.29,41.79,30.020000000000007,17.45,7.980000000000001,8.39,3.1799999999999997,2.95,2.41,2.11,5.720000000000001,3.5999999999999996,3.7199999999999998,5.57,1.96,6.18,3.2,1.05,0.79,0.49,21.689999999999998],\"yaxis\":\"y\",\"type\":\"scatter\"},{\"hovertemplate\":\"Genre=Puzzle<br>Year=%{x}<br>Sales=%{y}<extra></extra>\",\"legendgroup\":\"Puzzle\",\"line\":{\"color\":\"#EF553B\",\"dash\":\"solid\"},\"marker\":{\"symbol\":\"circle\"},\"mode\":\"lines\",\"name\":\"Puzzle\",\"orientation\":\"v\",\"showlegend\":true,\"x\":[2015.0,2014.0,2013.0,2012.0,2011.0,2010.0,2009.0,2008.0,2007.0,2006.0,2005.0,2004.0,2003.0,2002.0,2001.0,2000.0,1999.0,1998.0,1997.0,1996.0,1995.0,1994.0,1993.0,1992.0,1991.0,1990.0,1989.0,1988.0,1985.0,1984.0,1983.0,1982.0,1981.0,null],\"xaxis\":\"x\",\"y\":[0.7,1.5000000000000002,0.99,1.7600000000000002,5.109999999999999,11.179999999999996,20.310000000000002,15.589999999999998,23.999999999999996,10.899999999999999,20.449999999999996,8.43,2.42,5.34,8.0,3.8200000000000003,1.3599999999999999,6.34,5.890000000000001,3.9099999999999997,2.71,1.53,3.17,4.84,3.2399999999999998,6.0,37.75,5.58,3.21,3.14,0.78,10.03,2.2399999999999998,2.73],\"yaxis\":\"y\",\"type\":\"scatter\"}],                        {\"template\":{\"data\":{\"bar\":[{\"error_x\":{\"color\":\"#2a3f5f\"},\"error_y\":{\"color\":\"#2a3f5f\"},\"marker\":{\"line\":{\"color\":\"#E5ECF6\",\"width\":0.5},\"pattern\":{\"fillmode\":\"overlay\",\"size\":10,\"solidity\":0.2}},\"type\":\"bar\"}],\"barpolar\":[{\"marker\":{\"line\":{\"color\":\"#E5ECF6\",\"width\":0.5},\"pattern\":{\"fillmode\":\"overlay\",\"size\":10,\"solidity\":0.2}},\"type\":\"barpolar\"}],\"carpet\":[{\"aaxis\":{\"endlinecolor\":\"#2a3f5f\",\"gridcolor\":\"white\",\"linecolor\":\"white\",\"minorgridcolor\":\"white\",\"startlinecolor\":\"#2a3f5f\"},\"baxis\":{\"endlinecolor\":\"#2a3f5f\",\"gridcolor\":\"white\",\"linecolor\":\"white\",\"minorgridcolor\":\"white\",\"startlinecolor\":\"#2a3f5f\"},\"type\":\"carpet\"}],\"choropleth\":[{\"colorbar\":{\"outlinewidth\":0,\"ticks\":\"\"},\"type\":\"choropleth\"}],\"contour\":[{\"colorbar\":{\"outlinewidth\":0,\"ticks\":\"\"},\"colorscale\":[[0.0,\"#0d0887\"],[0.1111111111111111,\"#46039f\"],[0.2222222222222222,\"#7201a8\"],[0.3333333333333333,\"#9c179e\"],[0.4444444444444444,\"#bd3786\"],[0.5555555555555556,\"#d8576b\"],[0.6666666666666666,\"#ed7953\"],[0.7777777777777778,\"#fb9f3a\"],[0.8888888888888888,\"#fdca26\"],[1.0,\"#f0f921\"]],\"type\":\"contour\"}],\"contourcarpet\":[{\"colorbar\":{\"outlinewidth\":0,\"ticks\":\"\"},\"type\":\"contourcarpet\"}],\"heatmap\":[{\"colorbar\":{\"outlinewidth\":0,\"ticks\":\"\"},\"colorscale\":[[0.0,\"#0d0887\"],[0.1111111111111111,\"#46039f\"],[0.2222222222222222,\"#7201a8\"],[0.3333333333333333,\"#9c179e\"],[0.4444444444444444,\"#bd3786\"],[0.5555555555555556,\"#d8576b\"],[0.6666666666666666,\"#ed7953\"],[0.7777777777777778,\"#fb9f3a\"],[0.8888888888888888,\"#fdca26\"],[1.0,\"#f0f921\"]],\"type\":\"heatmap\"}],\"heatmapgl\":[{\"colorbar\":{\"outlinewidth\":0,\"ticks\":\"\"},\"colorscale\":[[0.0,\"#0d0887\"],[0.1111111111111111,\"#46039f\"],[0.2222222222222222,\"#7201a8\"],[0.3333333333333333,\"#9c179e\"],[0.4444444444444444,\"#bd3786\"],[0.5555555555555556,\"#d8576b\"],[0.6666666666666666,\"#ed7953\"],[0.7777777777777778,\"#fb9f3a\"],[0.8888888888888888,\"#fdca26\"],[1.0,\"#f0f921\"]],\"type\":\"heatmapgl\"}],\"histogram\":[{\"marker\":{\"pattern\":{\"fillmode\":\"overlay\",\"size\":10,\"solidity\":0.2}},\"type\":\"histogram\"}],\"histogram2d\":[{\"colorbar\":{\"outlinewidth\":0,\"ticks\":\"\"},\"colorscale\":[[0.0,\"#0d0887\"],[0.1111111111111111,\"#46039f\"],[0.2222222222222222,\"#7201a8\"],[0.3333333333333333,\"#9c179e\"],[0.4444444444444444,\"#bd3786\"],[0.5555555555555556,\"#d8576b\"],[0.6666666666666666,\"#ed7953\"],[0.7777777777777778,\"#fb9f3a\"],[0.8888888888888888,\"#fdca26\"],[1.0,\"#f0f921\"]],\"type\":\"histogram2d\"}],\"histogram2dcontour\":[{\"colorbar\":{\"outlinewidth\":0,\"ticks\":\"\"},\"colorscale\":[[0.0,\"#0d0887\"],[0.1111111111111111,\"#46039f\"],[0.2222222222222222,\"#7201a8\"],[0.3333333333333333,\"#9c179e\"],[0.4444444444444444,\"#bd3786\"],[0.5555555555555556,\"#d8576b\"],[0.6666666666666666,\"#ed7953\"],[0.7777777777777778,\"#fb9f3a\"],[0.8888888888888888,\"#fdca26\"],[1.0,\"#f0f921\"]],\"type\":\"histogram2dcontour\"}],\"mesh3d\":[{\"colorbar\":{\"outlinewidth\":0,\"ticks\":\"\"},\"type\":\"mesh3d\"}],\"parcoords\":[{\"line\":{\"colorbar\":{\"outlinewidth\":0,\"ticks\":\"\"}},\"type\":\"parcoords\"}],\"pie\":[{\"automargin\":true,\"type\":\"pie\"}],\"scatter\":[{\"marker\":{\"colorbar\":{\"outlinewidth\":0,\"ticks\":\"\"}},\"type\":\"scatter\"}],\"scatter3d\":[{\"line\":{\"colorbar\":{\"outlinewidth\":0,\"ticks\":\"\"}},\"marker\":{\"colorbar\":{\"outlinewidth\":0,\"ticks\":\"\"}},\"type\":\"scatter3d\"}],\"scattercarpet\":[{\"marker\":{\"colorbar\":{\"outlinewidth\":0,\"ticks\":\"\"}},\"type\":\"scattercarpet\"}],\"scattergeo\":[{\"marker\":{\"colorbar\":{\"outlinewidth\":0,\"ticks\":\"\"}},\"type\":\"scattergeo\"}],\"scattergl\":[{\"marker\":{\"colorbar\":{\"outlinewidth\":0,\"ticks\":\"\"}},\"type\":\"scattergl\"}],\"scattermapbox\":[{\"marker\":{\"colorbar\":{\"outlinewidth\":0,\"ticks\":\"\"}},\"type\":\"scattermapbox\"}],\"scatterpolar\":[{\"marker\":{\"colorbar\":{\"outlinewidth\":0,\"ticks\":\"\"}},\"type\":\"scatterpolar\"}],\"scatterpolargl\":[{\"marker\":{\"colorbar\":{\"outlinewidth\":0,\"ticks\":\"\"}},\"type\":\"scatterpolargl\"}],\"scatterternary\":[{\"marker\":{\"colorbar\":{\"outlinewidth\":0,\"ticks\":\"\"}},\"type\":\"scatterternary\"}],\"surface\":[{\"colorbar\":{\"outlinewidth\":0,\"ticks\":\"\"},\"colorscale\":[[0.0,\"#0d0887\"],[0.1111111111111111,\"#46039f\"],[0.2222222222222222,\"#7201a8\"],[0.3333333333333333,\"#9c179e\"],[0.4444444444444444,\"#bd3786\"],[0.5555555555555556,\"#d8576b\"],[0.6666666666666666,\"#ed7953\"],[0.7777777777777778,\"#fb9f3a\"],[0.8888888888888888,\"#fdca26\"],[1.0,\"#f0f921\"]],\"type\":\"surface\"}],\"table\":[{\"cells\":{\"fill\":{\"color\":\"#EBF0F8\"},\"line\":{\"color\":\"white\"}},\"header\":{\"fill\":{\"color\":\"#C8D4E3\"},\"line\":{\"color\":\"white\"}},\"type\":\"table\"}]},\"layout\":{\"annotationdefaults\":{\"arrowcolor\":\"#2a3f5f\",\"arrowhead\":0,\"arrowwidth\":1},\"autotypenumbers\":\"strict\",\"coloraxis\":{\"colorbar\":{\"outlinewidth\":0,\"ticks\":\"\"}},\"colorscale\":{\"diverging\":[[0,\"#8e0152\"],[0.1,\"#c51b7d\"],[0.2,\"#de77ae\"],[0.3,\"#f1b6da\"],[0.4,\"#fde0ef\"],[0.5,\"#f7f7f7\"],[0.6,\"#e6f5d0\"],[0.7,\"#b8e186\"],[0.8,\"#7fbc41\"],[0.9,\"#4d9221\"],[1,\"#276419\"]],\"sequential\":[[0.0,\"#0d0887\"],[0.1111111111111111,\"#46039f\"],[0.2222222222222222,\"#7201a8\"],[0.3333333333333333,\"#9c179e\"],[0.4444444444444444,\"#bd3786\"],[0.5555555555555556,\"#d8576b\"],[0.6666666666666666,\"#ed7953\"],[0.7777777777777778,\"#fb9f3a\"],[0.8888888888888888,\"#fdca26\"],[1.0,\"#f0f921\"]],\"sequentialminus\":[[0.0,\"#0d0887\"],[0.1111111111111111,\"#46039f\"],[0.2222222222222222,\"#7201a8\"],[0.3333333333333333,\"#9c179e\"],[0.4444444444444444,\"#bd3786\"],[0.5555555555555556,\"#d8576b\"],[0.6666666666666666,\"#ed7953\"],[0.7777777777777778,\"#fb9f3a\"],[0.8888888888888888,\"#fdca26\"],[1.0,\"#f0f921\"]]},\"colorway\":[\"#636efa\",\"#EF553B\",\"#00cc96\",\"#ab63fa\",\"#FFA15A\",\"#19d3f3\",\"#FF6692\",\"#B6E880\",\"#FF97FF\",\"#FECB52\"],\"font\":{\"color\":\"#2a3f5f\"},\"geo\":{\"bgcolor\":\"white\",\"lakecolor\":\"white\",\"landcolor\":\"#E5ECF6\",\"showlakes\":true,\"showland\":true,\"subunitcolor\":\"white\"},\"hoverlabel\":{\"align\":\"left\"},\"hovermode\":\"closest\",\"mapbox\":{\"style\":\"light\"},\"paper_bgcolor\":\"white\",\"plot_bgcolor\":\"#E5ECF6\",\"polar\":{\"angularaxis\":{\"gridcolor\":\"white\",\"linecolor\":\"white\",\"ticks\":\"\"},\"bgcolor\":\"#E5ECF6\",\"radialaxis\":{\"gridcolor\":\"white\",\"linecolor\":\"white\",\"ticks\":\"\"}},\"scene\":{\"xaxis\":{\"backgroundcolor\":\"#E5ECF6\",\"gridcolor\":\"white\",\"gridwidth\":2,\"linecolor\":\"white\",\"showbackground\":true,\"ticks\":\"\",\"zerolinecolor\":\"white\"},\"yaxis\":{\"backgroundcolor\":\"#E5ECF6\",\"gridcolor\":\"white\",\"gridwidth\":2,\"linecolor\":\"white\",\"showbackground\":true,\"ticks\":\"\",\"zerolinecolor\":\"white\"},\"zaxis\":{\"backgroundcolor\":\"#E5ECF6\",\"gridcolor\":\"white\",\"gridwidth\":2,\"linecolor\":\"white\",\"showbackground\":true,\"ticks\":\"\",\"zerolinecolor\":\"white\"}},\"shapedefaults\":{\"line\":{\"color\":\"#2a3f5f\"}},\"ternary\":{\"aaxis\":{\"gridcolor\":\"white\",\"linecolor\":\"white\",\"ticks\":\"\"},\"baxis\":{\"gridcolor\":\"white\",\"linecolor\":\"white\",\"ticks\":\"\"},\"bgcolor\":\"#E5ECF6\",\"caxis\":{\"gridcolor\":\"white\",\"linecolor\":\"white\",\"ticks\":\"\"}},\"title\":{\"x\":0.05},\"xaxis\":{\"automargin\":true,\"gridcolor\":\"white\",\"linecolor\":\"white\",\"ticks\":\"\",\"title\":{\"standoff\":15},\"zerolinecolor\":\"white\",\"zerolinewidth\":2},\"yaxis\":{\"automargin\":true,\"gridcolor\":\"white\",\"linecolor\":\"white\",\"ticks\":\"\",\"title\":{\"standoff\":15},\"zerolinecolor\":\"white\",\"zerolinewidth\":2}}},\"xaxis\":{\"anchor\":\"y\",\"domain\":[0.0,1.0],\"title\":{\"text\":\"Year\"}},\"yaxis\":{\"anchor\":\"x\",\"domain\":[0.0,1.0],\"title\":{\"text\":\"Sales\"}},\"legend\":{\"title\":{\"text\":\"Genre\"},\"tracegroupgap\":0},\"margin\":{\"t\":60}},                        {\"responsive\": true}                    ).then(function(){\n",
              "                            \n",
              "var gd = document.getElementById('81c7d501-16c4-43a2-acb2-2164fb772c83');\n",
              "var x = new MutationObserver(function (mutations, observer) {{\n",
              "        var display = window.getComputedStyle(gd).display;\n",
              "        if (!display || display === 'none') {{\n",
              "            console.log([gd, 'removed!']);\n",
              "            Plotly.purge(gd);\n",
              "            observer.disconnect();\n",
              "        }}\n",
              "}});\n",
              "\n",
              "// Listen for the removal of the full notebook cells\n",
              "var notebookContainer = gd.closest('#notebook-container');\n",
              "if (notebookContainer) {{\n",
              "    x.observe(notebookContainer, {childList: true});\n",
              "}}\n",
              "\n",
              "// Listen for the clearing of the current output cell\n",
              "var outputEl = gd.closest('.output');\n",
              "if (outputEl) {{\n",
              "    x.observe(outputEl, {childList: true});\n",
              "}}\n",
              "\n",
              "                        })                };                            </script>        </div>\n",
              "</body>\n",
              "</html>"
            ]
          },
          "metadata": {}
        }
      ]
    },
    {
      "cell_type": "code",
      "source": [
        "df.pandas_api().groupby(['Year', 'Genre'])[['Global_Sales']].sum().sort_index().reset_index().plot.line(x='Year', y='Global_Sales', color='Genre' ) "
      ],
      "metadata": {
        "colab": {
          "base_uri": "https://localhost:8080/",
          "height": 542
        },
        "id": "lspMJg67SHwA",
        "outputId": "80b44819-d5da-4091-d799-c12fd816aa12"
      },
      "execution_count": null,
      "outputs": [
        {
          "output_type": "display_data",
          "data": {
            "text/html": [
              "<html>\n",
              "<head><meta charset=\"utf-8\" /></head>\n",
              "<body>\n",
              "    <div>            <script src=\"https://cdnjs.cloudflare.com/ajax/libs/mathjax/2.7.5/MathJax.js?config=TeX-AMS-MML_SVG\"></script><script type=\"text/javascript\">if (window.MathJax) {MathJax.Hub.Config({SVG: {font: \"STIX-Web\"}});}</script>                <script type=\"text/javascript\">window.PlotlyConfig = {MathJaxConfig: 'local'};</script>\n",
              "        <script src=\"https://cdn.plot.ly/plotly-2.8.3.min.js\"></script>                <div id=\"bd0e4330-e4c2-4717-bb09-426c8fbcf782\" class=\"plotly-graph-div\" style=\"height:525px; width:100%;\"></div>            <script type=\"text/javascript\">                                    window.PLOTLYENV=window.PLOTLYENV || {};                                    if (document.getElementById(\"bd0e4330-e4c2-4717-bb09-426c8fbcf782\")) {                    Plotly.newPlot(                        \"bd0e4330-e4c2-4717-bb09-426c8fbcf782\",                        [{\"hovertemplate\":\"Genre=Action<br>Year=%{x}<br>Global_Sales=%{y}<extra></extra>\",\"legendgroup\":\"Action\",\"line\":{\"color\":\"#636efa\",\"dash\":\"solid\"},\"marker\":{\"symbol\":\"circle\"},\"mode\":\"lines\",\"name\":\"Action\",\"orientation\":\"v\",\"showlegend\":true,\"x\":[1980,1981,1982,1983,1984,1985,1986,1987,1988,1989,1990,1991,1992,1993,1994,1995,1996,1997,1998,1999,2000,2001,2002,2003,2004,2005,2006,2007,2008,2009,2010,2011,2012,2013,2014,2015,2016,2017],\"xaxis\":\"x\",\"y\":[0.34,14.84,6.5200000000000005,2.8600000000000003,1.85,3.52,13.739999999999998,1.12,1.75,4.64,6.390000000000001,6.760000000000001,3.83,1.81,1.55,3.5700000000000003,20.580000000000002,27.58,39.44,27.78,34.040000000000006,59.38999999999999,86.77000000000005,67.92999999999998,76.25999999999999,85.68999999999998,66.57999999999998,106.5,136.39,139.36000000000007,117.63999999999999,118.96000000000002,122.04000000000002,125.21999999999997,99.02000000000001,70.7,19.90999999999999,0.01],\"yaxis\":\"y\",\"type\":\"scatter\"},{\"hovertemplate\":\"Genre=Fighting<br>Year=%{x}<br>Global_Sales=%{y}<extra></extra>\",\"legendgroup\":\"Fighting\",\"line\":{\"color\":\"#EF553B\",\"dash\":\"solid\"},\"marker\":{\"symbol\":\"circle\"},\"mode\":\"lines\",\"name\":\"Fighting\",\"orientation\":\"v\",\"showlegend\":true,\"x\":[1980,1985,1987,1991,1992,1993,1994,1995,1996,1997,1998,1999,2000,2001,2002,2003,2004,2005,2006,2007,2008,2009,2010,2011,2012,2013,2014,2015,2016],\"xaxis\":\"x\",\"y\":[0.77,1.05,5.42,0.39,15.249999999999998,8.75,8.47,14.850000000000001,18.060000000000002,11.76,31.66,14.260000000000002,20.22,18.119999999999997,25.02,23.73,16.78,19.72,22.549999999999997,17.61,35.37999999999999,32.15,14.889999999999999,22.68,9.509999999999998,7.21,16.15,7.78,3.8600000000000003],\"yaxis\":\"y\",\"type\":\"scatter\"},{\"hovertemplate\":\"Genre=Misc<br>Year=%{x}<br>Global_Sales=%{y}<extra></extra>\",\"legendgroup\":\"Misc\",\"line\":{\"color\":\"#00cc96\",\"dash\":\"solid\"},\"marker\":{\"symbol\":\"circle\"},\"mode\":\"lines\",\"name\":\"Misc\",\"orientation\":\"v\",\"showlegend\":true,\"x\":[1980,1982,1983,1984,1989,1991,1992,1993,1994,1995,1996,1997,1998,1999,2000,2001,2002,2003,2004,2005,2006,2007,2008,2009,2010,2011,2012,2013,2014,2015,2016],\"xaxis\":\"x\",\"y\":[2.71,0.87,2.14,1.45,1.28,0.08,4.9399999999999995,0.3,2.86,6.3999999999999995,10.68,5.6899999999999995,11.939999999999998,20.65,15.540000000000001,16.400000000000002,15.669999999999998,23.820000000000004,31.32,61.23999999999999,67.35,92.26999999999997,87.02999999999997,76.93999999999997,96.85999999999999,56.08000000000001,22.92,25.65,23.679999999999993,11.689999999999998,1.17],\"yaxis\":\"y\",\"type\":\"scatter\"},{\"hovertemplate\":\"Genre=Shooter<br>Year=%{x}<br>Global_Sales=%{y}<extra></extra>\",\"legendgroup\":\"Shooter\",\"line\":{\"color\":\"#ab63fa\",\"dash\":\"solid\"},\"marker\":{\"symbol\":\"circle\"},\"mode\":\"lines\",\"name\":\"Shooter\",\"orientation\":\"v\",\"showlegend\":true,\"x\":[1980,1981,1982,1983,1984,1985,1986,1987,1988,1989,1991,1992,1993,1994,1995,1996,1997,1998,1999,2000,2001,2002,2003,2004,2005,2006,2007,2008,2009,2010,2011,2012,2013,2014,2015,2016],\"xaxis\":\"x\",\"y\":[7.069999999999999,10.040000000000001,3.79,0.48,31.099999999999998,1.0,3.8899999999999997,0.71,0.51,1.2,2.0,0.29000000000000004,3.08,8.3,4.15,6.909999999999998,22.17,9.8,12.25,6.81,24.770000000000003,48.57999999999999,27.14,46.95,41.6,38.370000000000005,71.04,59.50999999999998,69.89000000000001,77.41000000000001,99.35999999999999,72.86,62.80000000000001,66.00000000000001,66.15,18.22],\"yaxis\":\"y\",\"type\":\"scatter\"},{\"hovertemplate\":\"Genre=Sports<br>Year=%{x}<br>Global_Sales=%{y}<extra></extra>\",\"legendgroup\":\"Sports\",\"line\":{\"color\":\"#FFA15A\",\"dash\":\"solid\"},\"marker\":{\"symbol\":\"circle\"},\"mode\":\"lines\",\"name\":\"Sports\",\"orientation\":\"v\",\"showlegend\":true,\"x\":[1980,1981,1982,1983,1984,1985,1986,1987,1988,1989,1990,1991,1992,1993,1994,1995,1996,1997,1998,1999,2000,2001,2002,2003,2004,2005,2006,2007,2008,2009,2010,2011,2012,2013,2014,2015,2016],\"xaxis\":\"x\",\"y\":[0.49,0.79,1.05,3.2,6.18,1.96,5.57,3.7199999999999998,3.5999999999999996,5.720000000000001,2.11,2.41,2.95,3.1799999999999997,8.389999999999999,7.9799999999999995,17.450000000000003,30.02,41.790000000000006,30.289999999999996,41.18999999999998,51.42999999999998,65.42000000000002,56.11,63.67999999999999,59.539999999999985,136.16,98.19999999999996,95.34000000000003,138.51999999999998,92.53000000000003,56.98999999999998,30.929999999999996,41.55,46.660000000000004,41.53999999999999,14.600000000000001],\"yaxis\":\"y\",\"type\":\"scatter\"},{\"hovertemplate\":\"Genre=Platform<br>Year=%{x}<br>Global_Sales=%{y}<extra></extra>\",\"legendgroup\":\"Platform\",\"line\":{\"color\":\"#19d3f3\",\"dash\":\"solid\"},\"marker\":{\"symbol\":\"circle\"},\"mode\":\"lines\",\"name\":\"Platform\",\"orientation\":\"v\",\"showlegend\":true,\"x\":[1981,1982,1983,1984,1985,1986,1987,1988,1989,1990,1991,1992,1993,1994,1995,1996,1997,1998,1999,2000,2001,2002,2003,2004,2005,2006,2007,2008,2009,2010,2011,2012,2013,2014,2015,2016],\"xaxis\":\"x\",\"y\":[6.93,5.03,6.93,0.69,43.17,9.389999999999999,1.7400000000000002,27.73,20.66,22.970000000000002,7.64,13.419999999999998,18.67,28.740000000000002,16.69,28.23,21.85,29.879999999999995,20.82,16.06,39.28,45.97,42.89,47.33999999999999,23.56,49.79999999999999,35.59,35.69999999999999,41.09,31.9,28.11,18.55,25.120000000000005,8.89,6.05,2.07],\"yaxis\":\"y\",\"type\":\"scatter\"},{\"hovertemplate\":\"Genre=Puzzle<br>Year=%{x}<br>Global_Sales=%{y}<extra></extra>\",\"legendgroup\":\"Puzzle\",\"line\":{\"color\":\"#FF6692\",\"dash\":\"solid\"},\"marker\":{\"symbol\":\"circle\"},\"mode\":\"lines\",\"name\":\"Puzzle\",\"orientation\":\"v\",\"showlegend\":true,\"x\":[1981,1982,1983,1984,1985,1988,1989,1990,1991,1992,1993,1994,1995,1996,1997,1998,1999,2000,2001,2002,2003,2004,2005,2006,2007,2008,2009,2010,2011,2012,2013,2014,2015],\"xaxis\":\"x\",\"y\":[2.2399999999999998,10.03,0.78,3.1399999999999997,3.21,5.58,37.75,6.0,3.24,4.84,3.17,1.53,2.71,3.91,5.89,6.34,1.3599999999999999,3.82,8.0,5.34,2.42,8.43,20.449999999999992,10.9,23.999999999999996,15.589999999999996,20.309999999999995,11.18,5.109999999999999,1.7600000000000005,0.99,1.5,0.7],\"yaxis\":\"y\",\"type\":\"scatter\"},{\"hovertemplate\":\"Genre=Racing<br>Year=%{x}<br>Global_Sales=%{y}<extra></extra>\",\"legendgroup\":\"Racing\",\"line\":{\"color\":\"#B6E880\",\"dash\":\"solid\"},\"marker\":{\"symbol\":\"circle\"},\"mode\":\"lines\",\"name\":\"Racing\",\"orientation\":\"v\",\"showlegend\":true,\"x\":[1981,1982,1984,1986,1988,1990,1991,1992,1993,1994,1995,1996,1997,1998,1999,2000,2001,2002,2003,2004,2005,2006,2007,2008,2009,2010,2011,2012,2013,2014,2015,2016],\"xaxis\":\"x\",\"y\":[0.48,1.5699999999999998,5.949999999999999,1.96,2.14,6.26,1.14,9.04,0.36,2.1900000000000004,6.09,28.240000000000002,31.909999999999993,27.9,37.27,19.990000000000002,55.81,30.19999999999999,52.19,47.86,56.42000000000001,34.09,39.16999999999999,70.66,34.19,34.92999999999999,35.00999999999999,14.46,13.04,16.689999999999998,7.92,1.6400000000000001],\"yaxis\":\"y\",\"type\":\"scatter\"},{\"hovertemplate\":\"Genre=Simulation<br>Year=%{x}<br>Global_Sales=%{y}<extra></extra>\",\"legendgroup\":\"Simulation\",\"line\":{\"color\":\"#FF97FF\",\"dash\":\"solid\"},\"marker\":{\"symbol\":\"circle\"},\"mode\":\"lines\",\"name\":\"Simulation\",\"orientation\":\"v\",\"showlegend\":true,\"x\":[1981,1985,1988,1990,1991,1992,1993,1994,1995,1996,1997,1998,1999,2000,2001,2002,2003,2004,2005,2006,2007,2008,2009,2010,2011,2012,2013,2014,2015,2016,2020],\"xaxis\":\"x\",\"y\":[0.45,0.03,0.03,1.14,2.14,2.14,0.19,2.7300000000000004,4.18,11.329999999999998,9.65,7.110000000000001,11.440000000000001,3.38,19.54,10.809999999999997,21.21,10.85,49.27,21.769999999999996,48.97000000000001,46.760000000000005,33.70999999999999,22.14999999999999,15.279999999999998,13.379999999999999,8.670000000000002,5.55,5.620000000000001,0.39,0.29],\"yaxis\":\"y\",\"type\":\"scatter\"},{\"hovertemplate\":\"Genre=Adventure<br>Year=%{x}<br>Global_Sales=%{y}<extra></extra>\",\"legendgroup\":\"Adventure\",\"line\":{\"color\":\"#FECB52\",\"dash\":\"solid\"},\"marker\":{\"symbol\":\"circle\"},\"mode\":\"lines\",\"name\":\"Adventure\",\"orientation\":\"v\",\"showlegend\":true,\"x\":[1983,1987,1991,1992,1993,1994,1995,1996,1997,1998,1999,2000,2001,2002,2003,2004,2005,2006,2007,2008,2009,2010,2011,2012,2013,2014,2015,2016],\"xaxis\":\"x\",\"y\":[0.4,4.38,2.24,12.24,0.07,3.74,0.72,4.19,4.960000000000001,9.050000000000002,7.6,2.98,9.120000000000001,11.05,2.14,8.7,8.53,11.469999999999995,24.469999999999995,25.019999999999975,20.679999999999986,16.569999999999993,15.979999999999992,5.9899999999999975,6.609999999999997,6.059999999999997,8.029999999999998,1.81],\"yaxis\":\"y\",\"type\":\"scatter\"},{\"hovertemplate\":\"Genre=Role-Playing<br>Year=%{x}<br>Global_Sales=%{y}<extra></extra>\",\"legendgroup\":\"Role-Playing\",\"line\":{\"color\":\"#636efa\",\"dash\":\"solid\"},\"marker\":{\"symbol\":\"circle\"},\"mode\":\"lines\",\"name\":\"Role-Playing\",\"orientation\":\"v\",\"showlegend\":true,\"x\":[1986,1987,1988,1989,1990,1991,1992,1993,1994,1995,1996,1997,1998,1999,2000,2001,2002,2003,2004,2005,2006,2007,2008,2009,2010,2011,2012,2013,2014,2015,2016,2017],\"xaxis\":\"x\",\"y\":[2.52,4.65,5.88,2.2,4.52,3.25,6.86,5.59,7.109999999999999,14.260000000000002,43.96,21.790000000000003,28.090000000000003,49.09,29.029999999999998,22.060000000000006,45.129999999999995,30.28,53.95,28.549999999999997,57.72999999999999,43.89,59.83,47.89999999999998,70.52000000000002,53.37,47.81,44.92,45.859999999999985,36.44,6.76,0.04],\"yaxis\":\"y\",\"type\":\"scatter\"},{\"hovertemplate\":\"Genre=Strategy<br>Year=%{x}<br>Global_Sales=%{y}<extra></extra>\",\"legendgroup\":\"Strategy\",\"line\":{\"color\":\"#EF553B\",\"dash\":\"solid\"},\"marker\":{\"symbol\":\"circle\"},\"mode\":\"lines\",\"name\":\"Strategy\",\"orientation\":\"v\",\"showlegend\":true,\"x\":[1991,1992,1993,1994,1995,1996,1997,1998,1999,2000,2001,2002,2003,2004,2005,2006,2007,2008,2009,2010,2011,2012,2013,2014,2015,2016],\"xaxis\":\"x\",\"y\":[0.94,0.36,0.81,3.5600000000000005,6.510000000000001,5.609999999999999,7.710000000000001,13.469999999999999,18.46,8.5,7.549999999999999,5.5600000000000005,7.99,7.190000000000001,5.37,4.2700000000000005,9.419999999999998,11.689999999999998,12.559999999999997,13.870000000000001,9.06,3.33,6.33,0.9900000000000001,1.8200000000000003,0.5],\"yaxis\":\"y\",\"type\":\"scatter\"}],                        {\"template\":{\"data\":{\"bar\":[{\"error_x\":{\"color\":\"#2a3f5f\"},\"error_y\":{\"color\":\"#2a3f5f\"},\"marker\":{\"line\":{\"color\":\"#E5ECF6\",\"width\":0.5},\"pattern\":{\"fillmode\":\"overlay\",\"size\":10,\"solidity\":0.2}},\"type\":\"bar\"}],\"barpolar\":[{\"marker\":{\"line\":{\"color\":\"#E5ECF6\",\"width\":0.5},\"pattern\":{\"fillmode\":\"overlay\",\"size\":10,\"solidity\":0.2}},\"type\":\"barpolar\"}],\"carpet\":[{\"aaxis\":{\"endlinecolor\":\"#2a3f5f\",\"gridcolor\":\"white\",\"linecolor\":\"white\",\"minorgridcolor\":\"white\",\"startlinecolor\":\"#2a3f5f\"},\"baxis\":{\"endlinecolor\":\"#2a3f5f\",\"gridcolor\":\"white\",\"linecolor\":\"white\",\"minorgridcolor\":\"white\",\"startlinecolor\":\"#2a3f5f\"},\"type\":\"carpet\"}],\"choropleth\":[{\"colorbar\":{\"outlinewidth\":0,\"ticks\":\"\"},\"type\":\"choropleth\"}],\"contour\":[{\"colorbar\":{\"outlinewidth\":0,\"ticks\":\"\"},\"colorscale\":[[0.0,\"#0d0887\"],[0.1111111111111111,\"#46039f\"],[0.2222222222222222,\"#7201a8\"],[0.3333333333333333,\"#9c179e\"],[0.4444444444444444,\"#bd3786\"],[0.5555555555555556,\"#d8576b\"],[0.6666666666666666,\"#ed7953\"],[0.7777777777777778,\"#fb9f3a\"],[0.8888888888888888,\"#fdca26\"],[1.0,\"#f0f921\"]],\"type\":\"contour\"}],\"contourcarpet\":[{\"colorbar\":{\"outlinewidth\":0,\"ticks\":\"\"},\"type\":\"contourcarpet\"}],\"heatmap\":[{\"colorbar\":{\"outlinewidth\":0,\"ticks\":\"\"},\"colorscale\":[[0.0,\"#0d0887\"],[0.1111111111111111,\"#46039f\"],[0.2222222222222222,\"#7201a8\"],[0.3333333333333333,\"#9c179e\"],[0.4444444444444444,\"#bd3786\"],[0.5555555555555556,\"#d8576b\"],[0.6666666666666666,\"#ed7953\"],[0.7777777777777778,\"#fb9f3a\"],[0.8888888888888888,\"#fdca26\"],[1.0,\"#f0f921\"]],\"type\":\"heatmap\"}],\"heatmapgl\":[{\"colorbar\":{\"outlinewidth\":0,\"ticks\":\"\"},\"colorscale\":[[0.0,\"#0d0887\"],[0.1111111111111111,\"#46039f\"],[0.2222222222222222,\"#7201a8\"],[0.3333333333333333,\"#9c179e\"],[0.4444444444444444,\"#bd3786\"],[0.5555555555555556,\"#d8576b\"],[0.6666666666666666,\"#ed7953\"],[0.7777777777777778,\"#fb9f3a\"],[0.8888888888888888,\"#fdca26\"],[1.0,\"#f0f921\"]],\"type\":\"heatmapgl\"}],\"histogram\":[{\"marker\":{\"pattern\":{\"fillmode\":\"overlay\",\"size\":10,\"solidity\":0.2}},\"type\":\"histogram\"}],\"histogram2d\":[{\"colorbar\":{\"outlinewidth\":0,\"ticks\":\"\"},\"colorscale\":[[0.0,\"#0d0887\"],[0.1111111111111111,\"#46039f\"],[0.2222222222222222,\"#7201a8\"],[0.3333333333333333,\"#9c179e\"],[0.4444444444444444,\"#bd3786\"],[0.5555555555555556,\"#d8576b\"],[0.6666666666666666,\"#ed7953\"],[0.7777777777777778,\"#fb9f3a\"],[0.8888888888888888,\"#fdca26\"],[1.0,\"#f0f921\"]],\"type\":\"histogram2d\"}],\"histogram2dcontour\":[{\"colorbar\":{\"outlinewidth\":0,\"ticks\":\"\"},\"colorscale\":[[0.0,\"#0d0887\"],[0.1111111111111111,\"#46039f\"],[0.2222222222222222,\"#7201a8\"],[0.3333333333333333,\"#9c179e\"],[0.4444444444444444,\"#bd3786\"],[0.5555555555555556,\"#d8576b\"],[0.6666666666666666,\"#ed7953\"],[0.7777777777777778,\"#fb9f3a\"],[0.8888888888888888,\"#fdca26\"],[1.0,\"#f0f921\"]],\"type\":\"histogram2dcontour\"}],\"mesh3d\":[{\"colorbar\":{\"outlinewidth\":0,\"ticks\":\"\"},\"type\":\"mesh3d\"}],\"parcoords\":[{\"line\":{\"colorbar\":{\"outlinewidth\":0,\"ticks\":\"\"}},\"type\":\"parcoords\"}],\"pie\":[{\"automargin\":true,\"type\":\"pie\"}],\"scatter\":[{\"marker\":{\"colorbar\":{\"outlinewidth\":0,\"ticks\":\"\"}},\"type\":\"scatter\"}],\"scatter3d\":[{\"line\":{\"colorbar\":{\"outlinewidth\":0,\"ticks\":\"\"}},\"marker\":{\"colorbar\":{\"outlinewidth\":0,\"ticks\":\"\"}},\"type\":\"scatter3d\"}],\"scattercarpet\":[{\"marker\":{\"colorbar\":{\"outlinewidth\":0,\"ticks\":\"\"}},\"type\":\"scattercarpet\"}],\"scattergeo\":[{\"marker\":{\"colorbar\":{\"outlinewidth\":0,\"ticks\":\"\"}},\"type\":\"scattergeo\"}],\"scattergl\":[{\"marker\":{\"colorbar\":{\"outlinewidth\":0,\"ticks\":\"\"}},\"type\":\"scattergl\"}],\"scattermapbox\":[{\"marker\":{\"colorbar\":{\"outlinewidth\":0,\"ticks\":\"\"}},\"type\":\"scattermapbox\"}],\"scatterpolar\":[{\"marker\":{\"colorbar\":{\"outlinewidth\":0,\"ticks\":\"\"}},\"type\":\"scatterpolar\"}],\"scatterpolargl\":[{\"marker\":{\"colorbar\":{\"outlinewidth\":0,\"ticks\":\"\"}},\"type\":\"scatterpolargl\"}],\"scatterternary\":[{\"marker\":{\"colorbar\":{\"outlinewidth\":0,\"ticks\":\"\"}},\"type\":\"scatterternary\"}],\"surface\":[{\"colorbar\":{\"outlinewidth\":0,\"ticks\":\"\"},\"colorscale\":[[0.0,\"#0d0887\"],[0.1111111111111111,\"#46039f\"],[0.2222222222222222,\"#7201a8\"],[0.3333333333333333,\"#9c179e\"],[0.4444444444444444,\"#bd3786\"],[0.5555555555555556,\"#d8576b\"],[0.6666666666666666,\"#ed7953\"],[0.7777777777777778,\"#fb9f3a\"],[0.8888888888888888,\"#fdca26\"],[1.0,\"#f0f921\"]],\"type\":\"surface\"}],\"table\":[{\"cells\":{\"fill\":{\"color\":\"#EBF0F8\"},\"line\":{\"color\":\"white\"}},\"header\":{\"fill\":{\"color\":\"#C8D4E3\"},\"line\":{\"color\":\"white\"}},\"type\":\"table\"}]},\"layout\":{\"annotationdefaults\":{\"arrowcolor\":\"#2a3f5f\",\"arrowhead\":0,\"arrowwidth\":1},\"autotypenumbers\":\"strict\",\"coloraxis\":{\"colorbar\":{\"outlinewidth\":0,\"ticks\":\"\"}},\"colorscale\":{\"diverging\":[[0,\"#8e0152\"],[0.1,\"#c51b7d\"],[0.2,\"#de77ae\"],[0.3,\"#f1b6da\"],[0.4,\"#fde0ef\"],[0.5,\"#f7f7f7\"],[0.6,\"#e6f5d0\"],[0.7,\"#b8e186\"],[0.8,\"#7fbc41\"],[0.9,\"#4d9221\"],[1,\"#276419\"]],\"sequential\":[[0.0,\"#0d0887\"],[0.1111111111111111,\"#46039f\"],[0.2222222222222222,\"#7201a8\"],[0.3333333333333333,\"#9c179e\"],[0.4444444444444444,\"#bd3786\"],[0.5555555555555556,\"#d8576b\"],[0.6666666666666666,\"#ed7953\"],[0.7777777777777778,\"#fb9f3a\"],[0.8888888888888888,\"#fdca26\"],[1.0,\"#f0f921\"]],\"sequentialminus\":[[0.0,\"#0d0887\"],[0.1111111111111111,\"#46039f\"],[0.2222222222222222,\"#7201a8\"],[0.3333333333333333,\"#9c179e\"],[0.4444444444444444,\"#bd3786\"],[0.5555555555555556,\"#d8576b\"],[0.6666666666666666,\"#ed7953\"],[0.7777777777777778,\"#fb9f3a\"],[0.8888888888888888,\"#fdca26\"],[1.0,\"#f0f921\"]]},\"colorway\":[\"#636efa\",\"#EF553B\",\"#00cc96\",\"#ab63fa\",\"#FFA15A\",\"#19d3f3\",\"#FF6692\",\"#B6E880\",\"#FF97FF\",\"#FECB52\"],\"font\":{\"color\":\"#2a3f5f\"},\"geo\":{\"bgcolor\":\"white\",\"lakecolor\":\"white\",\"landcolor\":\"#E5ECF6\",\"showlakes\":true,\"showland\":true,\"subunitcolor\":\"white\"},\"hoverlabel\":{\"align\":\"left\"},\"hovermode\":\"closest\",\"mapbox\":{\"style\":\"light\"},\"paper_bgcolor\":\"white\",\"plot_bgcolor\":\"#E5ECF6\",\"polar\":{\"angularaxis\":{\"gridcolor\":\"white\",\"linecolor\":\"white\",\"ticks\":\"\"},\"bgcolor\":\"#E5ECF6\",\"radialaxis\":{\"gridcolor\":\"white\",\"linecolor\":\"white\",\"ticks\":\"\"}},\"scene\":{\"xaxis\":{\"backgroundcolor\":\"#E5ECF6\",\"gridcolor\":\"white\",\"gridwidth\":2,\"linecolor\":\"white\",\"showbackground\":true,\"ticks\":\"\",\"zerolinecolor\":\"white\"},\"yaxis\":{\"backgroundcolor\":\"#E5ECF6\",\"gridcolor\":\"white\",\"gridwidth\":2,\"linecolor\":\"white\",\"showbackground\":true,\"ticks\":\"\",\"zerolinecolor\":\"white\"},\"zaxis\":{\"backgroundcolor\":\"#E5ECF6\",\"gridcolor\":\"white\",\"gridwidth\":2,\"linecolor\":\"white\",\"showbackground\":true,\"ticks\":\"\",\"zerolinecolor\":\"white\"}},\"shapedefaults\":{\"line\":{\"color\":\"#2a3f5f\"}},\"ternary\":{\"aaxis\":{\"gridcolor\":\"white\",\"linecolor\":\"white\",\"ticks\":\"\"},\"baxis\":{\"gridcolor\":\"white\",\"linecolor\":\"white\",\"ticks\":\"\"},\"bgcolor\":\"#E5ECF6\",\"caxis\":{\"gridcolor\":\"white\",\"linecolor\":\"white\",\"ticks\":\"\"}},\"title\":{\"x\":0.05},\"xaxis\":{\"automargin\":true,\"gridcolor\":\"white\",\"linecolor\":\"white\",\"ticks\":\"\",\"title\":{\"standoff\":15},\"zerolinecolor\":\"white\",\"zerolinewidth\":2},\"yaxis\":{\"automargin\":true,\"gridcolor\":\"white\",\"linecolor\":\"white\",\"ticks\":\"\",\"title\":{\"standoff\":15},\"zerolinecolor\":\"white\",\"zerolinewidth\":2}}},\"xaxis\":{\"anchor\":\"y\",\"domain\":[0.0,1.0],\"title\":{\"text\":\"Year\"}},\"yaxis\":{\"anchor\":\"x\",\"domain\":[0.0,1.0],\"title\":{\"text\":\"Global_Sales\"}},\"legend\":{\"title\":{\"text\":\"Genre\"},\"tracegroupgap\":0},\"margin\":{\"t\":60}},                        {\"responsive\": true}                    ).then(function(){\n",
              "                            \n",
              "var gd = document.getElementById('bd0e4330-e4c2-4717-bb09-426c8fbcf782');\n",
              "var x = new MutationObserver(function (mutations, observer) {{\n",
              "        var display = window.getComputedStyle(gd).display;\n",
              "        if (!display || display === 'none') {{\n",
              "            console.log([gd, 'removed!']);\n",
              "            Plotly.purge(gd);\n",
              "            observer.disconnect();\n",
              "        }}\n",
              "}});\n",
              "\n",
              "// Listen for the removal of the full notebook cells\n",
              "var notebookContainer = gd.closest('#notebook-container');\n",
              "if (notebookContainer) {{\n",
              "    x.observe(notebookContainer, {childList: true});\n",
              "}}\n",
              "\n",
              "// Listen for the clearing of the current output cell\n",
              "var outputEl = gd.closest('.output');\n",
              "if (outputEl) {{\n",
              "    x.observe(outputEl, {childList: true});\n",
              "}}\n",
              "\n",
              "                        })                };                            </script>        </div>\n",
              "</body>\n",
              "</html>"
            ]
          },
          "metadata": {}
        }
      ]
    },
    {
      "cell_type": "markdown",
      "source": [
        "**Resposta:**\n",
        "- Entre 1980 e 1990 sobressaíram as vendas de plataforma, tiro (shooter) e puzzle.\n",
        "- Entre 2000 e 2015 teve vendas elevadas de jogos de ação e esporte."
      ],
      "metadata": {
        "id": "913L3sI7esdU"
      }
    },
    {
      "cell_type": "markdown",
      "source": [
        "## Questão 7\n",
        "\n",
        "Registre a tabela usando `createOrReplaceTempView` e faça uso da linguagem SQL criar uma tabela que:\n",
        "- Considere apenas os anos da década de 90 e \n",
        "- Agrupe por ano para responder quantos % cada região teve do total de vendas (vendas globais).\n",
        "\n",
        "Salve o resultado desta query em uma variável chamada `df_questao7`.\n",
        "\n",
        "Após isso, execute o seguinte comando `df_questao7.pandas_api().set_index('YEAR').style.background_gradient(cmap='Oranges')` e responda:\n",
        "- Qual/quais regiões tiveram, relativamente (comparado às vendas globais), mais vendas no fim da década de noventa do que no início?\n",
        "\n",
        "\n",
        "\n",
        "\n",
        "\n",
        "\n"
      ],
      "metadata": {
        "id": "Ia7efqBLDCup"
      }
    },
    {
      "cell_type": "code",
      "source": [
        "df.createOrReplaceTempView('vgsales')"
      ],
      "metadata": {
        "id": "rLZUoc2GRzx5"
      },
      "execution_count": null,
      "outputs": []
    },
    {
      "cell_type": "code",
      "source": [
        "query = \"\"\"\n",
        "SELECT\n",
        "  Year,\n",
        "  ROUND(SUM(NA_Sales) / SUM(Global_Sales) * 100, 2) as NA_Sales_Percent,\n",
        "  ROUND(SUM(EU_Sales) / SUM(Global_Sales) * 100, 2) as EU_Sales_Percent,\n",
        "  ROUND(SUM(JP_Sales) / SUM(Global_Sales) * 100, 2) as JP_Sales_Percent,\n",
        "  ROUND(SUM(Other_Sales) / SUM(Global_Sales) * 100, 2) as Other_Sales_Percent,\n",
        "  SUM(Global_Sales) as Global_Sales\n",
        "FROM\n",
        "  vgsales\n",
        "WHERE\n",
        "  Year BETWEEN 1990 AND 2000\n",
        "GROUP BY\n",
        "  Year\n",
        "ORDER BY \n",
        "  Year\n",
        "\"\"\"\n",
        "\n",
        "df_questao7 = spark.sql(query)\n",
        "df_questao7.show(truncate=False)"
      ],
      "metadata": {
        "colab": {
          "base_uri": "https://localhost:8080/"
        },
        "id": "UxAwB-8ET-pC",
        "outputId": "628a7028-309c-468b-e02a-ecc71f346db8"
      },
      "execution_count": null,
      "outputs": [
        {
          "output_type": "stream",
          "name": "stdout",
          "text": [
            "+----+----------------+----------------+----------------+-------------------+------------------+\n",
            "|Year|NA_Sales_Percent|EU_Sales_Percent|JP_Sales_Percent|Other_Sales_Percent|Global_Sales      |\n",
            "+----+----------------+----------------+----------------+-------------------+------------------+\n",
            "|1990|51.55           |15.45           |30.13           |2.83               |49.39             |\n",
            "|1991|39.59           |12.26           |45.86           |2.3                |32.230000000000004|\n",
            "|1992|44.47           |15.38           |37.96           |2.17               |76.16             |\n",
            "|1993|32.88           |10.11           |55.09           |1.94               |45.98             |\n",
            "|1994|35.56           |18.79           |42.93           |2.78               |79.16999999999996 |\n",
            "|1995|28.17           |16.91           |51.92           |3.0                |88.11             |\n",
            "|1996|43.57           |23.73           |28.84           |3.86               |199.15000000000003|\n",
            "|1997|47.14           |24.04           |24.32           |4.54               |200.98            |\n",
            "|1998|50.05           |26.08           |19.51           |4.3                |256.47000000000014|\n",
            "|1999|50.17           |24.94           |20.83           |4.0                |251.27000000000004|\n",
            "|2000|46.88           |26.17           |21.22           |5.77               |201.56            |\n",
            "+----+----------------+----------------+----------------+-------------------+------------------+\n",
            "\n"
          ]
        }
      ]
    },
    {
      "cell_type": "code",
      "source": [
        "df_questao7.pandas_api().set_index('Year').style.background_gradient(cmap='Oranges')"
      ],
      "metadata": {
        "colab": {
          "base_uri": "https://localhost:8080/",
          "height": 426
        },
        "id": "cVLQnp0LUIPI",
        "outputId": "df157126-e696-45e1-e484-a09385eab207"
      },
      "execution_count": null,
      "outputs": [
        {
          "output_type": "execute_result",
          "data": {
            "text/plain": [
              "<pandas.io.formats.style.Styler at 0x7ffa36447b10>"
            ],
            "text/html": [
              "<style type=\"text/css\">\n",
              "#T_64503_row0_col0, #T_64503_row3_col2, #T_64503_row8_col4, #T_64503_row10_col1, #T_64503_row10_col3 {\n",
              "  background-color: #7f2704;\n",
              "  color: #f1f1f1;\n",
              "}\n",
              "#T_64503_row0_col1 {\n",
              "  background-color: #fdb97d;\n",
              "  color: #000000;\n",
              "}\n",
              "#T_64503_row0_col2 {\n",
              "  background-color: #fdc38d;\n",
              "  color: #000000;\n",
              "}\n",
              "#T_64503_row0_col3 {\n",
              "  background-color: #fdd3a9;\n",
              "  color: #000000;\n",
              "}\n",
              "#T_64503_row0_col4 {\n",
              "  background-color: #feecda;\n",
              "  color: #000000;\n",
              "}\n",
              "#T_64503_row1_col0 {\n",
              "  background-color: #fd9040;\n",
              "  color: #000000;\n",
              "}\n",
              "#T_64503_row1_col1, #T_64503_row7_col2 {\n",
              "  background-color: #fee5cb;\n",
              "  color: #000000;\n",
              "}\n",
              "#T_64503_row1_col2 {\n",
              "  background-color: #db4a02;\n",
              "  color: #f1f1f1;\n",
              "}\n",
              "#T_64503_row1_col3 {\n",
              "  background-color: #feead5;\n",
              "  color: #000000;\n",
              "}\n",
              "#T_64503_row1_col4, #T_64503_row3_col1, #T_64503_row3_col3, #T_64503_row5_col0, #T_64503_row8_col2 {\n",
              "  background-color: #fff5eb;\n",
              "  color: #000000;\n",
              "}\n",
              "#T_64503_row2_col0 {\n",
              "  background-color: #e35608;\n",
              "  color: #f1f1f1;\n",
              "}\n",
              "#T_64503_row2_col1 {\n",
              "  background-color: #fdba7f;\n",
              "  color: #000000;\n",
              "}\n",
              "#T_64503_row2_col2 {\n",
              "  background-color: #fb8836;\n",
              "  color: #f1f1f1;\n",
              "}\n",
              "#T_64503_row2_col3, #T_64503_row3_col4 {\n",
              "  background-color: #ffeedd;\n",
              "  color: #000000;\n",
              "}\n",
              "#T_64503_row2_col4 {\n",
              "  background-color: #fdd9b5;\n",
              "  color: #000000;\n",
              "}\n",
              "#T_64503_row3_col0 {\n",
              "  background-color: #fdd9b4;\n",
              "  color: #000000;\n",
              "}\n",
              "#T_64503_row4_col0 {\n",
              "  background-color: #fdbf86;\n",
              "  color: #000000;\n",
              "}\n",
              "#T_64503_row4_col1 {\n",
              "  background-color: #f9812e;\n",
              "  color: #f1f1f1;\n",
              "}\n",
              "#T_64503_row4_col2, #T_64503_row6_col0 {\n",
              "  background-color: #eb600e;\n",
              "  color: #f1f1f1;\n",
              "}\n",
              "#T_64503_row4_col3 {\n",
              "  background-color: #fdd5ad;\n",
              "  color: #000000;\n",
              "}\n",
              "#T_64503_row4_col4 {\n",
              "  background-color: #fdd7b1;\n",
              "  color: #000000;\n",
              "}\n",
              "#T_64503_row5_col1 {\n",
              "  background-color: #fda159;\n",
              "  color: #000000;\n",
              "}\n",
              "#T_64503_row5_col2 {\n",
              "  background-color: #9a3103;\n",
              "  color: #f1f1f1;\n",
              "}\n",
              "#T_64503_row5_col3 {\n",
              "  background-color: #fdc997;\n",
              "  color: #000000;\n",
              "}\n",
              "#T_64503_row5_col4 {\n",
              "  background-color: #fdd1a3;\n",
              "  color: #000000;\n",
              "}\n",
              "#T_64503_row6_col1 {\n",
              "  background-color: #b03903;\n",
              "  color: #f1f1f1;\n",
              "}\n",
              "#T_64503_row6_col2 {\n",
              "  background-color: #fdcd9c;\n",
              "  color: #000000;\n",
              "}\n",
              "#T_64503_row6_col3 {\n",
              "  background-color: #fd8c3b;\n",
              "  color: #f1f1f1;\n",
              "}\n",
              "#T_64503_row6_col4 {\n",
              "  background-color: #da4902;\n",
              "  color: #f1f1f1;\n",
              "}\n",
              "#T_64503_row7_col0 {\n",
              "  background-color: #c03f02;\n",
              "  color: #f1f1f1;\n",
              "}\n",
              "#T_64503_row7_col1 {\n",
              "  background-color: #a83703;\n",
              "  color: #f1f1f1;\n",
              "}\n",
              "#T_64503_row7_col3 {\n",
              "  background-color: #e75b0b;\n",
              "  color: #f1f1f1;\n",
              "}\n",
              "#T_64503_row7_col4 {\n",
              "  background-color: #d84801;\n",
              "  color: #f1f1f1;\n",
              "}\n",
              "#T_64503_row8_col0 {\n",
              "  background-color: #932f03;\n",
              "  color: #f1f1f1;\n",
              "}\n",
              "#T_64503_row8_col1 {\n",
              "  background-color: #802704;\n",
              "  color: #f1f1f1;\n",
              "}\n",
              "#T_64503_row8_col3 {\n",
              "  background-color: #f26c16;\n",
              "  color: #f1f1f1;\n",
              "}\n",
              "#T_64503_row9_col0 {\n",
              "  background-color: #912e04;\n",
              "  color: #f1f1f1;\n",
              "}\n",
              "#T_64503_row9_col1 {\n",
              "  background-color: #963003;\n",
              "  color: #f1f1f1;\n",
              "}\n",
              "#T_64503_row9_col2 {\n",
              "  background-color: #fff1e3;\n",
              "  color: #000000;\n",
              "}\n",
              "#T_64503_row9_col3 {\n",
              "  background-color: #f98230;\n",
              "  color: #f1f1f1;\n",
              "}\n",
              "#T_64503_row9_col4 {\n",
              "  background-color: #852904;\n",
              "  color: #f1f1f1;\n",
              "}\n",
              "#T_64503_row10_col0 {\n",
              "  background-color: #c54102;\n",
              "  color: #f1f1f1;\n",
              "}\n",
              "#T_64503_row10_col2 {\n",
              "  background-color: #ffefe0;\n",
              "  color: #000000;\n",
              "}\n",
              "#T_64503_row10_col4 {\n",
              "  background-color: #d64701;\n",
              "  color: #f1f1f1;\n",
              "}\n",
              "</style>\n",
              "<table id=\"T_64503_\" class=\"dataframe\">\n",
              "  <thead>\n",
              "    <tr>\n",
              "      <th class=\"blank level0\" >&nbsp;</th>\n",
              "      <th class=\"col_heading level0 col0\" >NA_Sales_Percent</th>\n",
              "      <th class=\"col_heading level0 col1\" >EU_Sales_Percent</th>\n",
              "      <th class=\"col_heading level0 col2\" >JP_Sales_Percent</th>\n",
              "      <th class=\"col_heading level0 col3\" >Other_Sales_Percent</th>\n",
              "      <th class=\"col_heading level0 col4\" >Global_Sales</th>\n",
              "    </tr>\n",
              "    <tr>\n",
              "      <th class=\"index_name level0\" >Year</th>\n",
              "      <th class=\"blank col0\" >&nbsp;</th>\n",
              "      <th class=\"blank col1\" >&nbsp;</th>\n",
              "      <th class=\"blank col2\" >&nbsp;</th>\n",
              "      <th class=\"blank col3\" >&nbsp;</th>\n",
              "      <th class=\"blank col4\" >&nbsp;</th>\n",
              "    </tr>\n",
              "  </thead>\n",
              "  <tbody>\n",
              "    <tr>\n",
              "      <th id=\"T_64503_level0_row0\" class=\"row_heading level0 row0\" >1990</th>\n",
              "      <td id=\"T_64503_row0_col0\" class=\"data row0 col0\" >51.550000</td>\n",
              "      <td id=\"T_64503_row0_col1\" class=\"data row0 col1\" >15.450000</td>\n",
              "      <td id=\"T_64503_row0_col2\" class=\"data row0 col2\" >30.130000</td>\n",
              "      <td id=\"T_64503_row0_col3\" class=\"data row0 col3\" >2.830000</td>\n",
              "      <td id=\"T_64503_row0_col4\" class=\"data row0 col4\" >49.390000</td>\n",
              "    </tr>\n",
              "    <tr>\n",
              "      <th id=\"T_64503_level0_row1\" class=\"row_heading level0 row1\" >1991</th>\n",
              "      <td id=\"T_64503_row1_col0\" class=\"data row1 col0\" >39.590000</td>\n",
              "      <td id=\"T_64503_row1_col1\" class=\"data row1 col1\" >12.260000</td>\n",
              "      <td id=\"T_64503_row1_col2\" class=\"data row1 col2\" >45.860000</td>\n",
              "      <td id=\"T_64503_row1_col3\" class=\"data row1 col3\" >2.300000</td>\n",
              "      <td id=\"T_64503_row1_col4\" class=\"data row1 col4\" >32.230000</td>\n",
              "    </tr>\n",
              "    <tr>\n",
              "      <th id=\"T_64503_level0_row2\" class=\"row_heading level0 row2\" >1992</th>\n",
              "      <td id=\"T_64503_row2_col0\" class=\"data row2 col0\" >44.470000</td>\n",
              "      <td id=\"T_64503_row2_col1\" class=\"data row2 col1\" >15.380000</td>\n",
              "      <td id=\"T_64503_row2_col2\" class=\"data row2 col2\" >37.960000</td>\n",
              "      <td id=\"T_64503_row2_col3\" class=\"data row2 col3\" >2.170000</td>\n",
              "      <td id=\"T_64503_row2_col4\" class=\"data row2 col4\" >76.160000</td>\n",
              "    </tr>\n",
              "    <tr>\n",
              "      <th id=\"T_64503_level0_row3\" class=\"row_heading level0 row3\" >1993</th>\n",
              "      <td id=\"T_64503_row3_col0\" class=\"data row3 col0\" >32.880000</td>\n",
              "      <td id=\"T_64503_row3_col1\" class=\"data row3 col1\" >10.110000</td>\n",
              "      <td id=\"T_64503_row3_col2\" class=\"data row3 col2\" >55.090000</td>\n",
              "      <td id=\"T_64503_row3_col3\" class=\"data row3 col3\" >1.940000</td>\n",
              "      <td id=\"T_64503_row3_col4\" class=\"data row3 col4\" >45.980000</td>\n",
              "    </tr>\n",
              "    <tr>\n",
              "      <th id=\"T_64503_level0_row4\" class=\"row_heading level0 row4\" >1994</th>\n",
              "      <td id=\"T_64503_row4_col0\" class=\"data row4 col0\" >35.560000</td>\n",
              "      <td id=\"T_64503_row4_col1\" class=\"data row4 col1\" >18.790000</td>\n",
              "      <td id=\"T_64503_row4_col2\" class=\"data row4 col2\" >42.930000</td>\n",
              "      <td id=\"T_64503_row4_col3\" class=\"data row4 col3\" >2.780000</td>\n",
              "      <td id=\"T_64503_row4_col4\" class=\"data row4 col4\" >79.170000</td>\n",
              "    </tr>\n",
              "    <tr>\n",
              "      <th id=\"T_64503_level0_row5\" class=\"row_heading level0 row5\" >1995</th>\n",
              "      <td id=\"T_64503_row5_col0\" class=\"data row5 col0\" >28.170000</td>\n",
              "      <td id=\"T_64503_row5_col1\" class=\"data row5 col1\" >16.910000</td>\n",
              "      <td id=\"T_64503_row5_col2\" class=\"data row5 col2\" >51.920000</td>\n",
              "      <td id=\"T_64503_row5_col3\" class=\"data row5 col3\" >3.000000</td>\n",
              "      <td id=\"T_64503_row5_col4\" class=\"data row5 col4\" >88.110000</td>\n",
              "    </tr>\n",
              "    <tr>\n",
              "      <th id=\"T_64503_level0_row6\" class=\"row_heading level0 row6\" >1996</th>\n",
              "      <td id=\"T_64503_row6_col0\" class=\"data row6 col0\" >43.570000</td>\n",
              "      <td id=\"T_64503_row6_col1\" class=\"data row6 col1\" >23.730000</td>\n",
              "      <td id=\"T_64503_row6_col2\" class=\"data row6 col2\" >28.840000</td>\n",
              "      <td id=\"T_64503_row6_col3\" class=\"data row6 col3\" >3.860000</td>\n",
              "      <td id=\"T_64503_row6_col4\" class=\"data row6 col4\" >199.150000</td>\n",
              "    </tr>\n",
              "    <tr>\n",
              "      <th id=\"T_64503_level0_row7\" class=\"row_heading level0 row7\" >1997</th>\n",
              "      <td id=\"T_64503_row7_col0\" class=\"data row7 col0\" >47.140000</td>\n",
              "      <td id=\"T_64503_row7_col1\" class=\"data row7 col1\" >24.040000</td>\n",
              "      <td id=\"T_64503_row7_col2\" class=\"data row7 col2\" >24.320000</td>\n",
              "      <td id=\"T_64503_row7_col3\" class=\"data row7 col3\" >4.540000</td>\n",
              "      <td id=\"T_64503_row7_col4\" class=\"data row7 col4\" >200.980000</td>\n",
              "    </tr>\n",
              "    <tr>\n",
              "      <th id=\"T_64503_level0_row8\" class=\"row_heading level0 row8\" >1998</th>\n",
              "      <td id=\"T_64503_row8_col0\" class=\"data row8 col0\" >50.050000</td>\n",
              "      <td id=\"T_64503_row8_col1\" class=\"data row8 col1\" >26.080000</td>\n",
              "      <td id=\"T_64503_row8_col2\" class=\"data row8 col2\" >19.510000</td>\n",
              "      <td id=\"T_64503_row8_col3\" class=\"data row8 col3\" >4.300000</td>\n",
              "      <td id=\"T_64503_row8_col4\" class=\"data row8 col4\" >256.470000</td>\n",
              "    </tr>\n",
              "    <tr>\n",
              "      <th id=\"T_64503_level0_row9\" class=\"row_heading level0 row9\" >1999</th>\n",
              "      <td id=\"T_64503_row9_col0\" class=\"data row9 col0\" >50.170000</td>\n",
              "      <td id=\"T_64503_row9_col1\" class=\"data row9 col1\" >24.940000</td>\n",
              "      <td id=\"T_64503_row9_col2\" class=\"data row9 col2\" >20.830000</td>\n",
              "      <td id=\"T_64503_row9_col3\" class=\"data row9 col3\" >4.000000</td>\n",
              "      <td id=\"T_64503_row9_col4\" class=\"data row9 col4\" >251.270000</td>\n",
              "    </tr>\n",
              "    <tr>\n",
              "      <th id=\"T_64503_level0_row10\" class=\"row_heading level0 row10\" >2000</th>\n",
              "      <td id=\"T_64503_row10_col0\" class=\"data row10 col0\" >46.880000</td>\n",
              "      <td id=\"T_64503_row10_col1\" class=\"data row10 col1\" >26.170000</td>\n",
              "      <td id=\"T_64503_row10_col2\" class=\"data row10 col2\" >21.220000</td>\n",
              "      <td id=\"T_64503_row10_col3\" class=\"data row10 col3\" >5.770000</td>\n",
              "      <td id=\"T_64503_row10_col4\" class=\"data row10 col4\" >201.560000</td>\n",
              "    </tr>\n",
              "  </tbody>\n",
              "</table>\n"
            ]
          },
          "metadata": {},
          "execution_count": 92
        }
      ]
    },
    {
      "cell_type": "markdown",
      "source": [
        "**Resposta:** A região da Europa e \"Outras regiões\" tiverem um aumento notável quando comparado ao ínicio da década de 90."
      ],
      "metadata": {
        "id": "L6nphScqOFEd"
      }
    },
    {
      "cell_type": "markdown",
      "source": [
        "## Questão 8\n",
        "\n",
        "Calcule quantas vezes cada região teve vendas superiores às demais."
      ],
      "metadata": {
        "id": "sGaTtlhATKJb"
      }
    },
    {
      "cell_type": "code",
      "source": [
        "regions = ['NA_Sales', 'EU_Sales', 'JP_Sales', 'Other_Sales']\n",
        "\n",
        "\n",
        "df_max_sale = \\\n",
        "(\n",
        "  df\n",
        "  .withColumn('max_sale', F.greatest(*regions))\n",
        "  .withColumn(\n",
        "    'Regiao_Maior_Venda',\n",
        "    F.when(F.col('NA_Sales') == F.col('max_sale'), 'NA_Sales')\n",
        "    .when(F.col('EU_Sales') == F.col('max_sale'), 'EU_Sales')\n",
        "    .when(F.col('JP_Sales') == F.col('max_sale'), 'JP_Sales')\n",
        "    .otherwise('Other_Sales')\n",
        "  )\n",
        ")\n",
        "\n",
        "df_max_sale.show()"
      ],
      "metadata": {
        "colab": {
          "base_uri": "https://localhost:8080/"
        },
        "id": "yh4PWfqZZ35n",
        "outputId": "7b96c836-4e92-4ec1-fa48-f95d4577f295"
      },
      "execution_count": null,
      "outputs": [
        {
          "output_type": "stream",
          "name": "stdout",
          "text": [
            "+-----+--------------------+--------+----+------------+--------------------+--------+--------+--------+-----------+------------+--------+------------------+\n",
            "| Rank|                Name|Platform|Year|       Genre|           Publisher|NA_Sales|EU_Sales|JP_Sales|Other_Sales|Global_Sales|max_sale|Regiao_Maior_Venda|\n",
            "+-----+--------------------+--------+----+------------+--------------------+--------+--------+--------+-----------+------------+--------+------------------+\n",
            "| 3296|Dora the Explorer...|     GBA|2004|    Platform|        Gotham Games|    0.44|    0.16|     0.0|       0.01|        0.61|    0.44|          NA_Sales|\n",
            "| 5695|Dynasty Warriors ...|     PS2|2004|      Action|          Tecmo Koei|     0.0|     0.0|    0.32|        0.0|        0.32|    0.32|          JP_Sales|\n",
            "| 4986|San Francisco Rus...|      PS|1997|      Racing|      GT Interactive|    0.21|    0.15|     0.0|       0.03|        0.38|    0.21|          NA_Sales|\n",
            "| 1281|WWF WrestleMania ...|     N64|1999|    Fighting|                 THQ|     1.2|    0.25|    0.02|       0.02|        1.48|     1.2|          NA_Sales|\n",
            "| 4877|      Alpha Protocol|    X360|2010|Role-Playing|                Sega|    0.23|    0.13|     0.0|       0.04|         0.4|    0.23|          NA_Sales|\n",
            "|13565|Need for Speed: P...|      PC|2007|      Racing|     Electronic Arts|     0.0|    0.04|     0.0|       0.01|        0.04|    0.04|          EU_Sales|\n",
            "|11123|World Soccer Winn...|      XB|2004|      Sports|Konami Digital En...|    0.07|    0.02|     0.0|        0.0|        0.09|    0.07|          NA_Sales|\n",
            "| 2795|The Sims 2: Castaway|      DS|2007|  Simulation|     Electronic Arts|    0.63|    0.05|     0.0|       0.06|        0.73|    0.63|          NA_Sales|\n",
            "| 2614|Dance Dance Revol...|     PS2|2007|  Simulation|Konami Digital En...|    0.64|    0.03|    0.02|        0.1|        0.79|    0.64|          NA_Sales|\n",
            "| 6485|Phantasy Star Uni...|     PS2|2007|Role-Playing|                Sega|     0.1|    0.08|    0.05|       0.03|        0.26|     0.1|          NA_Sales|\n",
            "|  989|Metroid II: Retur...|      GB|1991|   Adventure|            Nintendo|    0.85|    0.31|    0.56|       0.04|        1.76|    0.85|          NA_Sales|\n",
            "| 4218|Kong: The 8th Won...|     GBA|2005|      Action|             Ubisoft|    0.33|    0.12|     0.0|       0.01|        0.47|    0.33|          NA_Sales|\n",
            "|11025|Jimmie Johnson's ...|    X360|2011|      Racing|Konami Digital En...|    0.08|     0.0|     0.0|       0.01|        0.09|    0.08|          NA_Sales|\n",
            "| 1286|Tom Clancy's Spli...|      XB|2004|      Action|             Ubisoft|    0.82|    0.59|     0.0|       0.07|        1.48|    0.82|          NA_Sales|\n",
            "| 1526|Rise of the Tomb ...|    XOne|2015|   Adventure|         Square Enix|    0.53|    0.64|    0.02|        0.1|         1.3|    0.64|          EU_Sales|\n",
            "| 7979|Magical Starsign ...|      DS|2006|Role-Playing|            Nintendo|    0.16|    0.03|     0.0|        0.0|        0.19|    0.16|          NA_Sales|\n",
            "| 1913|Ready 2 Rumble Bo...|      PS|1998|      Sports|        Midway Games|     0.6|    0.41|     0.0|       0.07|        1.08|     0.6|          NA_Sales|\n",
            "|11543|Yuu Yuu Hakusho: ...|     GEN|1994|    Fighting|                Sega|     0.0|     0.0|    0.08|        0.0|        0.08|    0.08|          JP_Sales|\n",
            "| 1760|LEGO Star Wars: T...|      XB|2005|      Action|   Eidos Interactive|    0.83|    0.28|     0.0|       0.05|        1.16|    0.83|          NA_Sales|\n",
            "| 1952|    Worms Armageddon|      PS|1999|    Strategy|          Microprose|    0.18|    0.81|     0.0|       0.08|        1.06|    0.81|          EU_Sales|\n",
            "+-----+--------------------+--------+----+------------+--------------------+--------+--------+--------+-----------+------------+--------+------------------+\n",
            "only showing top 20 rows\n",
            "\n"
          ]
        }
      ]
    },
    {
      "cell_type": "code",
      "source": [
        "df_max_sale \\\n",
        ".groupBy('Regiao_Maior_Venda') \\\n",
        ".count() \\\n",
        "df.show()"
      ],
      "metadata": {
        "colab": {
          "base_uri": "https://localhost:8080/"
        },
        "id": "kkG1EUEtehfg",
        "outputId": "37e0bc99-c64d-48d8-dc7c-0246fe8f0bf5"
      },
      "execution_count": null,
      "outputs": [
        {
          "output_type": "stream",
          "name": "stdout",
          "text": [
            "+------------------+-----+\n",
            "|Regiao_Maior_Venda|count|\n",
            "+------------------+-----+\n",
            "|          EU_Sales| 2380|\n",
            "|          JP_Sales| 4029|\n",
            "|          NA_Sales|10113|\n",
            "|       Other_Sales|   76|\n",
            "+------------------+-----+\n",
            "\n"
          ]
        }
      ]
    },
    {
      "cell_type": "markdown",
      "source": [
        "## Questão 9\n",
        "\n",
        "Construe uma tabela que mostre a diferença do total de vendas em um década com a década anterior e responda:\n",
        "- Qual década apresentou a **menor diferença** comparada à década anterior?"
      ],
      "metadata": {
        "id": "LxTa6E2WNOGR"
      }
    },
    {
      "cell_type": "code",
      "source": [
        "# df = (\n",
        "#   df\n",
        "#   .withColumn('decade',\n",
        "#     F.when(F.col('Year') < 1990, '80')\n",
        "#     .when(F.col('Year') < 2000, '90')\n",
        "#     .when(F.col('Year') < 2010, '2000')\n",
        "#     .otherwise('2010')\n",
        "#   )\n",
        "# )\n",
        "\n",
        "# df.show()"
      ],
      "metadata": {
        "id": "FpkdFnwaR1tI"
      },
      "execution_count": null,
      "outputs": []
    },
    {
      "cell_type": "code",
      "source": [
        "df = df.where('Year is not null').withColumn('decade', F.floor(F.col('Year')/10)*10) \n",
        "df.show()"
      ],
      "metadata": {
        "colab": {
          "base_uri": "https://localhost:8080/"
        },
        "id": "vZq8FlflgUfO",
        "outputId": "5e4d4dea-a4a0-4e1c-e853-260081357b5f"
      },
      "execution_count": null,
      "outputs": [
        {
          "output_type": "stream",
          "name": "stdout",
          "text": [
            "+-----+--------------------+--------+----+------------+--------------------+--------+--------+--------+-----------+------------+------+\n",
            "| Rank|                Name|Platform|Year|       Genre|           Publisher|NA_Sales|EU_Sales|JP_Sales|Other_Sales|Global_Sales|decade|\n",
            "+-----+--------------------+--------+----+------------+--------------------+--------+--------+--------+-----------+------------+------+\n",
            "| 3296|Dora the Explorer...|     GBA|2004|    Platform|        Gotham Games|    0.44|    0.16|     0.0|       0.01|        0.61|  2000|\n",
            "| 5695|Dynasty Warriors ...|     PS2|2004|      Action|          Tecmo Koei|     0.0|     0.0|    0.32|        0.0|        0.32|  2000|\n",
            "| 4986|San Francisco Rus...|      PS|1997|      Racing|      GT Interactive|    0.21|    0.15|     0.0|       0.03|        0.38|  1990|\n",
            "| 1281|WWF WrestleMania ...|     N64|1999|    Fighting|                 THQ|     1.2|    0.25|    0.02|       0.02|        1.48|  1990|\n",
            "| 4877|      Alpha Protocol|    X360|2010|Role-Playing|                Sega|    0.23|    0.13|     0.0|       0.04|         0.4|  2010|\n",
            "|13565|Need for Speed: P...|      PC|2007|      Racing|     Electronic Arts|     0.0|    0.04|     0.0|       0.01|        0.04|  2000|\n",
            "|11123|World Soccer Winn...|      XB|2004|      Sports|Konami Digital En...|    0.07|    0.02|     0.0|        0.0|        0.09|  2000|\n",
            "| 2795|The Sims 2: Castaway|      DS|2007|  Simulation|     Electronic Arts|    0.63|    0.05|     0.0|       0.06|        0.73|  2000|\n",
            "| 2614|Dance Dance Revol...|     PS2|2007|  Simulation|Konami Digital En...|    0.64|    0.03|    0.02|        0.1|        0.79|  2000|\n",
            "| 6485|Phantasy Star Uni...|     PS2|2007|Role-Playing|                Sega|     0.1|    0.08|    0.05|       0.03|        0.26|  2000|\n",
            "|  989|Metroid II: Retur...|      GB|1991|   Adventure|            Nintendo|    0.85|    0.31|    0.56|       0.04|        1.76|  1990|\n",
            "| 4218|Kong: The 8th Won...|     GBA|2005|      Action|             Ubisoft|    0.33|    0.12|     0.0|       0.01|        0.47|  2000|\n",
            "|11025|Jimmie Johnson's ...|    X360|2011|      Racing|Konami Digital En...|    0.08|     0.0|     0.0|       0.01|        0.09|  2010|\n",
            "| 1286|Tom Clancy's Spli...|      XB|2004|      Action|             Ubisoft|    0.82|    0.59|     0.0|       0.07|        1.48|  2000|\n",
            "| 1526|Rise of the Tomb ...|    XOne|2015|   Adventure|         Square Enix|    0.53|    0.64|    0.02|        0.1|         1.3|  2010|\n",
            "| 7979|Magical Starsign ...|      DS|2006|Role-Playing|            Nintendo|    0.16|    0.03|     0.0|        0.0|        0.19|  2000|\n",
            "| 1913|Ready 2 Rumble Bo...|      PS|1998|      Sports|        Midway Games|     0.6|    0.41|     0.0|       0.07|        1.08|  1990|\n",
            "|11543|Yuu Yuu Hakusho: ...|     GEN|1994|    Fighting|                Sega|     0.0|     0.0|    0.08|        0.0|        0.08|  1990|\n",
            "| 1760|LEGO Star Wars: T...|      XB|2005|      Action|   Eidos Interactive|    0.83|    0.28|     0.0|       0.05|        1.16|  2000|\n",
            "| 1952|    Worms Armageddon|      PS|1999|    Strategy|          Microprose|    0.18|    0.81|     0.0|       0.08|        1.06|  1990|\n",
            "+-----+--------------------+--------+----+------------+--------------------+--------+--------+--------+-----------+------------+------+\n",
            "only showing top 20 rows\n",
            "\n"
          ]
        }
      ]
    },
    {
      "cell_type": "code",
      "source": [
        "w = Window().orderBy('Decade')\n",
        "\n",
        "(\n",
        "  df\n",
        " .groupby('Decade')\n",
        " .agg(F.mean('Global_Sales').alias('global_sales_mean'))\n",
        " .withColumn('global_sales_mean_lag', F.lag('global_sales_mean').over(w))\n",
        " .withColumn('Delta_global_sales_mean', F.col('global_sales_mean') - F.col('global_sales_mean_lag'))\n",
        " .orderBy('Decade')\n",
        " .show()\n",
        ") "
      ],
      "metadata": {
        "colab": {
          "base_uri": "https://localhost:8080/"
        },
        "id": "3I3_oMM1jkH-",
        "outputId": "3bb5e6da-23c0-4b8f-80c1-5432edad2121"
      },
      "execution_count": null,
      "outputs": [
        {
          "output_type": "stream",
          "name": "stdout",
          "text": [
            "+------+-------------------+---------------------+-----------------------+\n",
            "|Decade|  global_sales_mean|global_sales_mean_lag|Delta_global_sales_mean|\n",
            "+------+-------------------+---------------------+-----------------------+\n",
            "|  1980| 1.8369756097560979|                 null|                   null|\n",
            "|  1990|   0.72295647258338|   1.8369756097560979|     -1.114019137172718|\n",
            "|  2000| 0.5043462206776683|     0.72295647258338|    -0.2186102519057117|\n",
            "|  2010|0.48999999999999744|   0.5043462206776683|   -0.01434622067767...|\n",
            "|  2020|               0.29|  0.48999999999999744|   -0.19999999999999746|\n",
            "+------+-------------------+---------------------+-----------------------+\n",
            "\n"
          ]
        }
      ]
    },
    {
      "cell_type": "markdown",
      "source": [
        "## Questão 10 - PLUS\n",
        "\n",
        "Utilizando apenas a sintaxe do pyspark, faça uma função que calcule a moda do dataframe para um grupo de colunas que o usuário vai especificar. Além da moda, o dataframe de saída deve conter a quantidade de vezes que a moda aparece, e tambem se é multimodal.\n",
        "\n",
        "Sua função deve receber como entrada:\n",
        "- O pyspark dataframe\n",
        "- A coluna-alvo que desejamos saber a moda e\n",
        "- Os grupos (colunas do dataframe) que iremos considerar para calcular a moda \n",
        "\n",
        "O resultado será uma linha por grupo, contendo a identificação do grupo, a moda, a quantidade de vezes que apareceu, e se é um caso multimodal.\n",
        "\n",
        "Por exemplo, considerando o seguinte dataframe:\n",
        "\n",
        "```\n",
        "df_test = spark.createDataFrame([\n",
        "  (2.4,'A','A1'), (2.4,'A','A1'), (2.5,'A','A1'), (2.6,'A','A1'), (2.7,'A','A1'),\n",
        "  (2.4,'B','A1'), (2.5,'B','A1'), (2.5,'B','A1'), (2.6,'B','A1'), (2.4,'B','A1')\n",
        "], ('values','inner_group', 'main_group')).select('main_group', 'inner_group', 'values')\n",
        "\n",
        "df_test.show()\n",
        "```\n",
        "\n",
        "```\n",
        "+----------+-----------+------+\n",
        "|main_group|inner_group|values|\n",
        "+----------+-----------+------+\n",
        "|        A1|          A|   2.4|\n",
        "|        A1|          A|   2.4|\n",
        "|        A1|          A|   2.5|\n",
        "|        A1|          A|   2.6|\n",
        "|        A1|          A|   2.7|\n",
        "|        A1|          B|   2.4|\n",
        "|        A1|          B|   2.5|\n",
        "|        A1|          B|   2.5|\n",
        "|        A1|          B|   2.6|\n",
        "|        A1|          B|   2.4|\n",
        "+----------+-----------+------+\n",
        "```\n",
        "\n",
        "Ao aplicar a função:  \n",
        "`calculate_mode(df=df_test, target_col='values', group_cols=['main_group','inner_group']).show()`\n",
        "\n",
        "o retorno deve ser:\n",
        "\n",
        "```\n",
        "+----------+-----------+----+-----------+----------+\n",
        "|main_group|inner_group|mode|mode_counts|multimodal|\n",
        "+----------+-----------+----+-----------+----------+\n",
        "|        A1|          A| 2.4|          2|     false|\n",
        "|        A1|          B| 2.4|          2|      true|\n",
        "+----------+-----------+----+-----------+----------+\n",
        "```\n",
        "\n",
        "pois no grupo `A1-A` o valor 2.4 é o que mais aparece (2x), e nenhum outro valor aparece duas vezes também. Já no grupo `A1-B` o valor 2.4 também é o que mais aparece (2X), porém em conjunto com o 2.5, que também aparece duas 2X. Neste caso, devemos reportar apenas uma das modas e informar que é multimodal."
      ],
      "metadata": {
        "id": "erKQhaWbp9Gk"
      }
    },
    {
      "cell_type": "code",
      "source": [
        "df_test = spark.createDataFrame([\n",
        "  (2.4,'A','A1'), (2.4,'A','A1'), (2.5,'A','A1'), (2.6,'A','A1'), (2.7,'A','A1'),\n",
        "  (2.4,'B','A1'), (2.5,'B','A1'), (2.5,'B','A1'), (2.6,'B','A1'), (2.4,'B','A1')\n",
        "], ('values','inner_group', 'main_group')).select('main_group', 'inner_group', 'values')\n",
        "\n",
        "df_test.show()"
      ],
      "metadata": {
        "colab": {
          "base_uri": "https://localhost:8080/"
        },
        "id": "R2woTVI7xHVu",
        "outputId": "9ef079a8-c9b1-4614-9af2-a9e6be36ea99"
      },
      "execution_count": null,
      "outputs": [
        {
          "output_type": "stream",
          "name": "stdout",
          "text": [
            "+----------+-----------+------+\n",
            "|main_group|inner_group|values|\n",
            "+----------+-----------+------+\n",
            "|        A1|          A|   2.4|\n",
            "|        A1|          A|   2.4|\n",
            "|        A1|          A|   2.5|\n",
            "|        A1|          A|   2.6|\n",
            "|        A1|          A|   2.7|\n",
            "|        A1|          B|   2.4|\n",
            "|        A1|          B|   2.5|\n",
            "|        A1|          B|   2.5|\n",
            "|        A1|          B|   2.6|\n",
            "|        A1|          B|   2.4|\n",
            "+----------+-----------+------+\n",
            "\n"
          ]
        }
      ]
    },
    {
      "cell_type": "code",
      "source": [
        "def calculate_mode(df, target_col, group_cols=None):\n",
        "  \"\"\"Calculate mode\n",
        "\n",
        "  Parameters\n",
        "  ----------\n",
        "  df : pyspark.DataFrame\n",
        "    The dataframe in which the function will be applied\n",
        "  target_col : str\n",
        "    Column name in which the mode will be calculated from\n",
        "  group_cols : list\n",
        "    List column names to make the group. If None, no grouping will be considered.\n",
        "\n",
        "  Returns\n",
        "  -------\n",
        "  output: pyspark.DataFrame\n",
        "    Dataframe with group identification (one per line), the mode, value counts,\n",
        "    and a column specifying if the group has more than one mode.\n",
        "  \"\"\"\n",
        "\n",
        "  if group_cols is None:\n",
        "    window_vals = Window.partitionBy('count')\n",
        "    df_mode = df.groupby(target_col).count()\n",
        "    max_count = df_mode.select(F.max('count')).collect()[0][0]\n",
        "\n",
        "    df_mode = df_mode.filter(F.col('count')==max_count)\n",
        "    nrows = df_mode.count()\n",
        "\n",
        "    df_mode = df_mode.select(F.col(target_col).alias('mode'), F.col('count').alias('mode_counts'), (F.lit(nrows)>1).alias('multimodal'))\n",
        "\n",
        "  else:\n",
        "    window_grp = Window.partitionBy(*group_cols)\n",
        "    window_grp_vals = Window.partitionBy(*group_cols, target_col)\n",
        "\n",
        "    df_mode = (\n",
        "      df\n",
        "      .withColumn('counts', F.count(F.col(target_col)).over(window_grp_vals))\n",
        "      .withColumn('counts_max', F.max('counts').over(window_grp))\n",
        "      .filter(f'counts = counts_max')\n",
        "      .dropDuplicates(subset=[*group_cols, target_col])\n",
        "      .withColumn('multimodal', F.count(target_col).over(window_grp)>1)\n",
        "      .withColumnRenamed(target_col, 'mode')\n",
        "      .withColumnRenamed('counts_max', 'mode_counts')\n",
        "      .dropDuplicates(subset=[*group_cols])\n",
        "      .select(*group_cols, 'mode', 'mode_counts', 'multimodal')\n",
        "    )\n",
        "  return df_mode"
      ],
      "metadata": {
        "id": "X9YYFppAjrFs"
      },
      "execution_count": null,
      "outputs": []
    },
    {
      "cell_type": "code",
      "source": [
        "calculate_mode(df_test, 'values', ['main_group','inner_group']).show()"
      ],
      "metadata": {
        "colab": {
          "base_uri": "https://localhost:8080/"
        },
        "id": "EDEEyvf4sDtR",
        "outputId": "a95e9d70-5021-4351-f599-fa767ba90a21"
      },
      "execution_count": null,
      "outputs": [
        {
          "output_type": "stream",
          "name": "stdout",
          "text": [
            "+----------+-----------+----+-----------+----------+\n",
            "|main_group|inner_group|mode|mode_counts|multimodal|\n",
            "+----------+-----------+----+-----------+----------+\n",
            "|        A1|          A| 2.4|          2|     false|\n",
            "|        A1|          B| 2.4|          2|      true|\n",
            "+----------+-----------+----+-----------+----------+\n",
            "\n"
          ]
        }
      ]
    }
  ]
}